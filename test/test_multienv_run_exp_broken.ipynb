{
 "cells": [
  {
   "cell_type": "code",
   "execution_count": 1,
   "metadata": {},
   "outputs": [],
   "source": [
    "import gymnasium\n",
    "import ale_py\n",
    "import argparse\n",
    "from tensorboardX import SummaryWriter\n",
    "import cv2\n",
    "import numpy as np\n",
    "from einops import rearrange\n",
    "import torch\n",
    "import torch.nn as nn\n",
    "import torch.nn.functional as F\n",
    "from collections import deque\n",
    "from tqdm import tqdm\n",
    "import copy\n",
    "import colorama\n",
    "import random\n",
    "import json\n",
    "import shutil\n",
    "import pickle\n",
    "import os\n",
    "import wandb\n",
    "import importlib"
   ]
  },
  {
   "cell_type": "code",
   "execution_count": 2,
   "metadata": {},
   "outputs": [
    {
     "name": "stderr",
     "output_type": "stream",
     "text": [
      "/home/I6347325/miniconda3/envs/env_RL/lib/python3.13/site-packages/torchrl/data/replay_buffers/samplers.py:34: UserWarning: Failed to import torchrl C++ binaries. Some modules (eg, prioritized replay buffers) may not work with your installation. This is likely due to a discrepancy between your package version and the PyTorch version. Make sure both are compatible. Usually, torchrl majors follow the pytorch majors within a few days around the release. For instance, TorchRL 0.5 requires PyTorch 2.4.0, and TorchRL 0.6 requires PyTorch 2.5.0.\n",
      "  warnings.warn(EXTENSION_WARNING)\n"
     ]
    },
    {
     "name": "stdout",
     "output_type": "stream",
     "text": [
      "cuda:0 cuda\n"
     ]
    }
   ],
   "source": [
    "import sys\n",
    "sys.path.append(os.path.abspath(\"/data/I6347325/work_space/STORM\"))# Dynamically reload the modules to reflect any changes\n",
    "\n",
    "import utils\n",
    "import sub_models.replay_buffer\n",
    "import env_wrapper\n",
    "# import agents\n",
    "import sub_models.director_agents\n",
    "import sub_models.functions_losses\n",
    "import sub_models.world_models\n",
    "import sub_models.constants\n",
    "import train\n",
    "\n",
    "importlib.reload(utils)\n",
    "importlib.reload(sub_models.replay_buffer)\n",
    "importlib.reload(env_wrapper)\n",
    "importlib.reload(sub_models.director_agents)\n",
    "importlib.reload(sub_models.functions_losses)\n",
    "importlib.reload(sub_models.world_models)\n",
    "importlib.reload(sub_models.constants)\n",
    "importlib.reload(train)\n",
    "\n",
    "from utils import seed_np_torch, Logger, load_config\n",
    "from sub_models.replay_buffer import ReplayBuffer\n",
    "from train import (\n",
    "    build_single_env,\n",
    "    build_vec_env,\n",
    "    build_world_model,\n",
    "    build_agent,\n",
    "    joint_train_world_model_agent,\n",
    ")\n",
    "from sub_models.constants import DEVICE\n",
    "print(DEVICE, DEVICE.type)\n",
    "\n",
    "# ignore warnings\n",
    "import warnings\n",
    "\n",
    "warnings.filterwarnings(\"ignore\")\n",
    "if torch.cuda.is_available():\n",
    "    torch.cuda.set_device(DEVICE)\n",
    "    torch.backends.cuda.matmul.allow_tf32 = True\n",
    "    torch.backends.cudnn.allow_tf32 = True"
   ]
  },
  {
   "cell_type": "code",
   "execution_count": 3,
   "metadata": {},
   "outputs": [
    {
     "name": "stdout",
     "output_type": "stream",
     "text": [
      "\u001b[32mArguments:\u001b[0m\n",
      "\u001b[32m-----------------\u001b[0m\n",
      "\u001b[32mexp_name: \u001b[0mSTORM-Director-2\n",
      "\u001b[32mseed: \u001b[0m1\n",
      "\u001b[32menv_name: \u001b[0m\n",
      "['MiniGrid-Empty-8x8-v0', 'MiniGrid-SimpleCrossingS9N3-v0', 'MiniGrid-DoorKey-8x8-v0', 'MiniGrid-FourRooms-v0']\n",
      "\u001b[32m-----------------\u001b[0m\n"
     ]
    }
   ],
   "source": [
    "class RunParams:\n",
    "    def __init__(self, env_names, exp_name = \"STORM-Director\"):\n",
    "        # self._env_name = env_name\n",
    "        self.exp_name = exp_name\n",
    "        self.seed = 1\n",
    "        self.config_path = \"../config_files/STORM.yaml\"\n",
    "        # self.trajectory_path = f\"D_TRAJ/{self._env_name}.pkl\"\n",
    "        self.env_names = env_names\n",
    "\n",
    "        self.conf = load_config(self.config_path)\n",
    "        self.print_args()\n",
    "    def print_args(self):\n",
    "        print(colorama.Fore.GREEN + \"Arguments:\" + colorama.Style.RESET_ALL)\n",
    "        print(colorama.Fore.GREEN + \"-----------------\" + colorama.Style.RESET_ALL)\n",
    "        print(colorama.Fore.GREEN + \"exp_name: \" + colorama.Style.RESET_ALL + self.exp_name)\n",
    "        print(colorama.Fore.GREEN + \"seed: \" + colorama.Style.RESET_ALL + str(self.seed))\n",
    "        # print(colorama.Fore.GREEN + \"config_path: \" + colorama.Style.RESET_ALL + self.config_path)\n",
    "        print(colorama.Fore.GREEN + \"env_name: \" + colorama.Style.RESET_ALL)\n",
    "        print(self.env_names)\n",
    "        print(colorama.Fore.GREEN + \"-----------------\" + colorama.Style.RESET_ALL)\n",
    "\n",
    "env_names = [\"MiniGrid-Empty-8x8-v0\", \"MiniGrid-SimpleCrossingS9N3-v0\", \"MiniGrid-DoorKey-8x8-v0\", \"MiniGrid-FourRooms-v0\"] \n",
    "run_params = RunParams(env_names, exp_name = \"STORM-Director-2\")\n",
    "# set seed\n",
    "seed_np_torch(seed=run_params.seed)\n",
    "# tensorboard writer\n",
    "logger = Logger(path=f\"runs/{run_params.exp_name}\")"
   ]
  },
  {
   "cell_type": "code",
   "execution_count": 8,
   "metadata": {},
   "outputs": [
    {
     "data": {
      "text/plain": [
       "['MiniGrid-Empty-8x8-v0',\n",
       " 'MiniGrid-SimpleCrossingS9N3-v0',\n",
       " 'MiniGrid-DoorKey-8x8-v0',\n",
       " 'MiniGrid-FourRooms-v0']"
      ]
     },
     "execution_count": 8,
     "metadata": {},
     "output_type": "execute_result"
    }
   ],
   "source": [
    "run_params.env_names"
   ]
  },
  {
   "cell_type": "code",
   "execution_count": 4,
   "metadata": {},
   "outputs": [
    {
     "name": "stdout",
     "output_type": "stream",
     "text": [
      "Train Steps: 25000\n",
      "Train Batch Size: 128\n",
      "Train Buffer Max Length: 50000\n",
      "Number of Environments: 4\n",
      "World model transformer: StochasticTransformerKVCache\n"
     ]
    }
   ],
   "source": [
    "print(f\"Train Steps: {run_params.conf.JointTrainAgent.SampleMaxSteps}\")\n",
    "print(f\"Train Batch Size: {run_params.conf.JointTrainAgent.BatchSize}\")\n",
    "print(f\"Train Buffer Max Length: {run_params.conf.JointTrainAgent.BufferMaxLength}\")\n",
    "print(f\"Number of Environments: {len(run_params.env_names)}\")\n",
    "# Setuop env, models, replay buffer\n",
    "# getting action_dim with dummy env\n",
    "dummy_env = build_single_env(\n",
    "    run_params.env_names[0], run_params.conf.BasicSettings.ImageSize)\n",
    "action_dim = dummy_env.action_space.n\n",
    "\n",
    "# build world model and agent\n",
    "world_model = build_world_model(run_params.conf, action_dim)\n",
    "agent = build_agent(run_params.conf, action_dim)\n",
    "print(f\"World model transformer: {world_model.storm_transformer.__class__.__name__}\")\n",
    "# Log the number of parameters for both models\n",
    "world_model_params = sum(p.numel() for p in world_model.parameters() if p.requires_grad)\n",
    "agent_params = sum(p.numel() for p in agent.parameters() if p.requires_grad)\n",
    "\n",
    "# build replay buffer\n",
    "replay_buffer = ReplayBuffer(\n",
    "    obs_shape=(run_params.conf.BasicSettings.ImageSize, run_params.conf.BasicSettings.ImageSize, 3),\n",
    "    num_envs=len(run_params.env_names),\n",
    "    max_length=run_params.conf.JointTrainAgent.BufferMaxLength,\n",
    "    warmup_length=run_params.conf.JointTrainAgent.BufferWarmUp,\n",
    "    store_on_gpu=run_params.conf.BasicSettings.ReplayBufferOnGPU,\n",
    ")\n",
    "# judge whether to load demonstration trajectory\n",
    "if run_params.conf.JointTrainAgent.UseDemonstration:\n",
    "    print(\n",
    "        colorama.Fore.MAGENTA\n",
    "        + f\"loading demonstration trajectory from {run_params.trajectory_path}\"\n",
    "        + colorama.Style.RESET_ALL\n",
    "    )\n",
    "    replay_buffer.load_trajectory(path=run_params.trajectory_path)"
   ]
  },
  {
   "cell_type": "markdown",
   "metadata": {},
   "source": [
    "## Breakdown: joint_train_world_model_agent()"
   ]
  },
  {
   "cell_type": "code",
   "execution_count": 10,
   "metadata": {},
   "outputs": [
    {
     "name": "stdout",
     "output_type": "stream",
     "text": [
      "Current env: \u001b[33m4 parallel envs\u001b[0m\n"
     ]
    },
    {
     "name": "stderr",
     "output_type": "stream",
     "text": [
      "/home/I6347325/miniconda3/envs/env_RL/lib/python3.13/site-packages/torchrl/data/replay_buffers/samplers.py:34: UserWarning: Failed to import torchrl C++ binaries. Some modules (eg, prioritized replay buffers) may not work with your installation. This is likely due to a discrepancy between your package version and the PyTorch version. Make sure both are compatible. Usually, torchrl majors follow the pytorch majors within a few days around the release. For instance, TorchRL 0.5 requires PyTorch 2.4.0, and TorchRL 0.6 requires PyTorch 2.5.0.\n",
      "  warnings.warn(EXTENSION_WARNING)\n",
      "/home/I6347325/miniconda3/envs/env_RL/lib/python3.13/site-packages/torchrl/data/replay_buffers/samplers.py:34: UserWarning: Failed to import torchrl C++ binaries. Some modules (eg, prioritized replay buffers) may not work with your installation. This is likely due to a discrepancy between your package version and the PyTorch version. Make sure both are compatible. Usually, torchrl majors follow the pytorch majors within a few days around the release. For instance, TorchRL 0.5 requires PyTorch 2.4.0, and TorchRL 0.6 requires PyTorch 2.5.0.\n",
      "  warnings.warn(EXTENSION_WARNING)\n",
      "/home/I6347325/miniconda3/envs/env_RL/lib/python3.13/site-packages/torchrl/data/replay_buffers/samplers.py:34: UserWarning: Failed to import torchrl C++ binaries. Some modules (eg, prioritized replay buffers) may not work with your installation. This is likely due to a discrepancy between your package version and the PyTorch version. Make sure both are compatible. Usually, torchrl majors follow the pytorch majors within a few days around the release. For instance, TorchRL 0.5 requires PyTorch 2.4.0, and TorchRL 0.6 requires PyTorch 2.5.0.\n",
      "  warnings.warn(EXTENSION_WARNING)\n",
      "/home/I6347325/miniconda3/envs/env_RL/lib/python3.13/site-packages/torchrl/data/replay_buffers/samplers.py:34: UserWarning: Failed to import torchrl C++ binaries. Some modules (eg, prioritized replay buffers) may not work with your installation. This is likely due to a discrepancy between your package version and the PyTorch version. Make sure both are compatible. Usually, torchrl majors follow the pytorch majors within a few days around the release. For instance, TorchRL 0.5 requires PyTorch 2.4.0, and TorchRL 0.6 requires PyTorch 2.5.0.\n",
      "  warnings.warn(EXTENSION_WARNING)\n"
     ]
    }
   ],
   "source": [
    "## setup variable names for breakdown\n",
    "env_names=run_params.env_names\n",
    "num_envs=len(run_params.env_names)\n",
    "max_steps=run_params.conf.JointTrainAgent.SampleMaxSteps\n",
    "image_size=run_params.conf.BasicSettings.ImageSize\n",
    "train_dynamics_every_steps=run_params.conf.JointTrainAgent.TrainDynamicsEverySteps\n",
    "train_agent_every_steps=run_params.conf.JointTrainAgent.TrainAgentEverySteps\n",
    "batch_size=3 #FIXME: run_params.conf.JointTrainAgent.BatchSize\n",
    "demonstration_batch_size=(\n",
    "    run_params.conf.JointTrainAgent.DemonstrationBatchSize\n",
    "    if run_params.conf.JointTrainAgent.UseDemonstration\n",
    "    else 0\n",
    ")\n",
    "batch_length=16 #FIXME: run_params.conf.JointTrainAgent.BatchLength\n",
    "imagine_batch_size=run_params.conf.JointTrainAgent.ImagineBatchSize\n",
    "imagine_demonstration_batch_size=(\n",
    "    run_params.conf.JointTrainAgent.ImagineDemonstrationBatchSize\n",
    "    if run_params.conf.JointTrainAgent.UseDemonstration\n",
    "    else 0\n",
    ")\n",
    "imagine_context_length=run_params.conf.JointTrainAgent.ImagineContextLength\n",
    "imagine_batch_length=16 #FIXME: run_params.conf.JointTrainAgent.ImagineBatchLength\n",
    "save_every_steps=run_params.conf.JointTrainAgent.SaveEverySteps\n",
    "seed=run_params.seed\n",
    "args=run_params\n",
    "\n",
    "vec_env = build_vec_env(env_names, image_size)\n",
    "print(\n",
    "    \"Current env: \"\n",
    "    + colorama.Fore.YELLOW\n",
    "    + f\"{len(env_names)} parallel envs\"\n",
    "    + colorama.Style.RESET_ALL\n",
    ")\n",
    "\n",
    "# reset envs and variables\n",
    "sum_reward = np.zeros(num_envs)\n",
    "current_obs, current_info = vec_env.reset()\n",
    "context_obs = deque(maxlen=16)\n",
    "context_action = deque(maxlen=16)"
   ]
  },
  {
   "cell_type": "markdown",
   "metadata": {},
   "source": [
    "### Sample from env part"
   ]
  },
  {
   "cell_type": "code",
   "execution_count": 38,
   "metadata": {},
   "outputs": [
    {
     "name": "stderr",
     "output_type": "stream",
     "text": [
      "100%|██████████| 32/32 [00:00<00:00, 643.16it/s]\n"
     ]
    }
   ],
   "source": [
    "metrics ={}\n",
    "for total_steps in tqdm(range(32)):\n",
    "    # sample part >>>\n",
    "    if replay_buffer.ready:  # ready only after warmpup\n",
    "        # WM and Agent are in eval mode\n",
    "        world_model.eval()\n",
    "        agent.eval()\n",
    "        with torch.no_grad():\n",
    "            if len(context_action) == 0:\n",
    "                # this is the case in the first step\n",
    "                action = vec_env.action_space.sample()  # [E]\n",
    "            else:\n",
    "                context_latent = world_model.encode_obs(\n",
    "                    torch.cat(list(context_obs), dim=1)\n",
    "                )\n",
    "                model_context_action = np.stack(list(context_action), axis=1)\n",
    "                model_context_action = torch.Tensor(model_context_action).to(DEVICE)\n",
    "                prior_flattened_sample, last_dist_feat = (\n",
    "                    world_model.calc_last_dist_feat(\n",
    "                        context_latent, model_context_action\n",
    "                    )\n",
    "                )  # [E,n,1024], [E,n,512]\n",
    "                action = agent.sample_as_env_action(\n",
    "                    torch.cat([prior_flattened_sample, last_dist_feat], dim=-1),\n",
    "                    greedy=False,\n",
    "                )  # [E]\n",
    "        # [E, H, W, C] -> [E, 1, C, H, W]\n",
    "        context_obs.append(\n",
    "            torch.permute(\n",
    "                torch.tensor(current_obs, device=DEVICE), (0, 3, 1, 2)\n",
    "            ).unsqueeze(1)\n",
    "            / 255\n",
    "        )\n",
    "        context_action.append(action)\n",
    "    else:\n",
    "        # sample single random action\n",
    "        action = vec_env.action_space.sample()  # [E]\n",
    "\n",
    "    # Perform action in the env and observe the next state, reward, done, truncated\n",
    "    # Single Unbatched instances: # ((4, 64, 64, 3), (4,), (4,), (4,), (4,)); E=4\n",
    "    obs, reward, done, truncated, info = vec_env.step(action)\n",
    "\n",
    "    # Append the transition to the replay buffer\n",
    "    replay_buffer.append(current_obs, action, reward, done)\n",
    "\n",
    "    done_flag = np.logical_or(done, truncated)\n",
    "    if done_flag.any():  # end of episode\n",
    "        for i in range(num_envs):\n",
    "            if done_flag[i]:\n",
    "                env_id = env_names[i][:16]\n",
    "                # Log reward for this environment\n",
    "                metrics[f\"sample/{env_id}_reward\"] = sum_reward[i]\n",
    "                metrics[f\"sample/{env_id}_episode_steps\"] = step_counters[i]\n",
    "                metrics[\"replay_buffer/length\"] = len(replay_buffer)\n",
    "                # Reset reward tracker and step counter\n",
    "                sum_reward[i] = 0\n",
    "                step_counters[i] = 0\n",
    "\n",
    "    # Update current_obs, current_info and sum_reward\n",
    "    sum_reward += reward  # [E]\n",
    "    current_obs = obs\n",
    "    current_info = info\n",
    "    step_counters += 1"
   ]
  },
  {
   "cell_type": "code",
   "execution_count": 26,
   "metadata": {},
   "outputs": [],
   "source": [
    "obs, reward, done, truncated, info = vec_env.step(action)"
   ]
  },
  {
   "cell_type": "code",
   "execution_count": 39,
   "metadata": {},
   "outputs": [
    {
     "data": {
      "text/plain": [
       "32"
      ]
     },
     "execution_count": 39,
     "metadata": {},
     "output_type": "execute_result"
    }
   ],
   "source": [
    "replay_buffer.length"
   ]
  },
  {
   "cell_type": "code",
   "execution_count": 45,
   "metadata": {},
   "outputs": [
    {
     "data": {
      "text/plain": [
       "(torch.Size([64, 16, 3, 64, 64]), torch.Size([64, 16]), torch.Size([64, 16]))"
      ]
     },
     "execution_count": 45,
     "metadata": {},
     "output_type": "execute_result"
    }
   ],
   "source": [
    "buffer_sample = replay_buffer.sample(batch_size=64, external_batch_size=0, batch_length=16)\n",
    "buffer_sample[\"obs\"].shape, buffer_sample[\"action\"].shape, buffer_sample[\"reward\"].shape"
   ]
  },
  {
   "cell_type": "code",
   "execution_count": 44,
   "metadata": {},
   "outputs": [
    {
     "data": {
      "text/plain": [
       "torch.Size([64, 16, 3, 64, 64])"
      ]
     },
     "execution_count": 44,
     "metadata": {},
     "output_type": "execute_result"
    }
   ],
   "source": [
    "buffer_sample[\"obs\"].shape"
   ]
  },
  {
   "cell_type": "code",
   "execution_count": null,
   "metadata": {},
   "outputs": [
    {
     "data": {
      "text/plain": [
       "torch.Size([12500, 4, 64, 64, 3])"
      ]
     },
     "execution_count": 46,
     "metadata": {},
     "output_type": "execute_result"
    },
    {
     "ename": "",
     "evalue": "",
     "output_type": "error",
     "traceback": [
      "\u001b[1;31mThe Kernel crashed while executing code in the current cell or a previous cell. \n",
      "\u001b[1;31mPlease review the code in the cell(s) to identify a possible cause of the failure. \n",
      "\u001b[1;31mClick <a href='https://aka.ms/vscodeJupyterKernelCrash'>here</a> for more info. \n",
      "\u001b[1;31mView Jupyter <a href='command:jupyter.viewOutput'>log</a> for further details."
     ]
    }
   ],
   "source": [
    "replay_buffer.buffer[\"obs\"].shape "
   ]
  },
  {
   "cell_type": "markdown",
   "metadata": {},
   "source": [
    "### Train world model part"
   ]
  },
  {
   "cell_type": "code",
   "execution_count": 27,
   "metadata": {},
   "outputs": [],
   "source": [
    "##Train world model part >>>\n",
    "wm_metrics = train_world_model(\n",
    "    replay_buffer=replay_buffer,\n",
    "    world_model=world_model,\n",
    "    batch_size=batch_size,\n",
    "    demonstration_batch_size=demonstration_batch_size,\n",
    "    batch_length=batch_length,\n",
    "    # logger=logger,\n",
    ")\n",
    "##<<< Train world model part\n",
    "## Breakdown of the above code\n",
    "# Sample from replay buffer\n",
    "# buffer_sample = replay_buffer.sample(\n",
    "#     batch_size, demonstration_batch_size, batch_length\n",
    "# )\n",
    "# for key, value in buffer_sample.items():\n",
    "#     print(f\"{key}, Value shape: {value.shape}\")\n",
    "# obs, Value shape: torch.Size([3, 16, 3, 64, 64])\n",
    "# action, Value shape: torch.Size([3, 16])\n",
    "# reward, Value shape: torch.Size([3, 16])\n",
    "# termination, Value shape: torch.Size([3, 16])\n",
    "# goal, Value shape: torch.Size([3, 16])\n",
    "# skill, Value shape: torch.Size([3, 16])\n",
    "# print(f\"Shapes of obs: {obs.shape}, action: {action.shape}, reward: {reward.shape}, termination: {termination.shape}\")\n",
    "\n",
    "## Train world model with the sampled data\n",
    "# world_model.update(buffer_sample[\"obs\"], buffer_sample[\"action\"], buffer_sample[\"reward\"], buffer_sample[\"termination\"], logger=logger)\n"
   ]
  },
  {
   "cell_type": "markdown",
   "metadata": {},
   "source": [
    "### Train agent part"
   ]
  },
  {
   "cell_type": "code",
   "execution_count": 28,
   "metadata": {},
   "outputs": [
    {
     "name": "stdout",
     "output_type": "stream",
     "text": [
      "init_imagine_buffer: 1024x16@torch.float32\n",
      "Shape of sample: torch.Size([1024, 16, 1024])\n",
      "Shape of hidden: torch.Size([1024, 16, 512])\n",
      "Shape of action: torch.Size([1024, 16])\n",
      "Shape of reward: torch.Size([1024, 16])\n",
      "Shape of termination: torch.Size([1024, 16])\n",
      "Shape of goal: torch.Size([1024, 16, 1024])\n",
      "Shape of skill: torch.Size([1024, 16, 8, 8])\n"
     ]
    }
   ],
   "source": [
    "# Train agent part >>>\n",
    "# print(\"Training Agent...\")\n",
    "log_video = False\n",
    "imagined_rollout = world_model_imagine_data(\n",
    "    replay_buffer=replay_buffer,\n",
    "    world_model=world_model,\n",
    "    agent=agent,\n",
    "    imagine_batch_size=imagine_batch_size,\n",
    "    imagine_demonstration_batch_size=imagine_demonstration_batch_size,\n",
    "    imagine_context_length=imagine_context_length,\n",
    "    imagine_batch_length=imagine_batch_length,\n",
    "    log_video=log_video,\n",
    "    # logger=logger,\n",
    ")\n",
    "for k, v  in imagined_rollout.items():\n",
    "    print(f\"Shape of {k}: {v.shape}\")\n",
    "\n",
    "## breakdown : world_model_imagine_data\n",
    "# imagine_batch_size = 3\n",
    "# world_model.eval()\n",
    "# agent.eval()\n",
    "\n",
    "# buffer_sample = replay_buffer.sample(\n",
    "#     imagine_batch_size, imagine_demonstration_batch_size, imagine_context_length\n",
    "# )\n",
    "# print(f\"Buffer sample items:\")\n",
    "# for k, v  in buffer_sample.items():\n",
    "#     print(f\"Shape of {k}: {v.shape}\")\n",
    "\n",
    "# imagined_rollout = world_model.imagine_data(\n",
    "#     agent,\n",
    "#     buffer_sample,\n",
    "#     imagine_batch_size=imagine_batch_size + imagine_demonstration_batch_size,\n",
    "#     imagine_batch_length=imagine_batch_length,\n",
    "#     log_video=log_video,\n",
    "#     logger=logger,\n",
    "# )\n",
    "# print(f\"\\n\\nImagine rollout items:\")\n",
    "# for k, v  in imagined_rollout.items():\n",
    "#     print(f\"{k}: {v.shape}\")"
   ]
  },
  {
   "cell_type": "code",
   "execution_count": 29,
   "metadata": {},
   "outputs": [
    {
     "ename": "TypeError",
     "evalue": "can't convert cuda:1 device type tensor to numpy. Use Tensor.cpu() to copy the tensor to host memory first.",
     "output_type": "error",
     "traceback": [
      "\u001b[31m---------------------------------------------------------------------------\u001b[39m",
      "\u001b[31mTypeError\u001b[39m                                 Traceback (most recent call last)",
      "\u001b[36mFile \u001b[39m\u001b[32m~/miniconda3/envs/env_RL/lib/python3.13/site-packages/numpy/_core/fromnumeric.py:57\u001b[39m, in \u001b[36m_wrapfunc\u001b[39m\u001b[34m(obj, method, *args, **kwds)\u001b[39m\n\u001b[32m     56\u001b[39m \u001b[38;5;28;01mtry\u001b[39;00m:\n\u001b[32m---> \u001b[39m\u001b[32m57\u001b[39m     \u001b[38;5;28;01mreturn\u001b[39;00m \u001b[43mbound\u001b[49m\u001b[43m(\u001b[49m\u001b[43m*\u001b[49m\u001b[43margs\u001b[49m\u001b[43m,\u001b[49m\u001b[43m \u001b[49m\u001b[43m*\u001b[49m\u001b[43m*\u001b[49m\u001b[43mkwds\u001b[49m\u001b[43m)\u001b[49m\n\u001b[32m     58\u001b[39m \u001b[38;5;28;01mexcept\u001b[39;00m \u001b[38;5;167;01mTypeError\u001b[39;00m:\n\u001b[32m     59\u001b[39m     \u001b[38;5;66;03m# A TypeError occurs if the object does have such a method in its\u001b[39;00m\n\u001b[32m     60\u001b[39m     \u001b[38;5;66;03m# class, but its signature is not identical to that of NumPy's. This\u001b[39;00m\n\u001b[32m   (...)\u001b[39m\u001b[32m     64\u001b[39m     \u001b[38;5;66;03m# Call _wrapit from within the except clause to ensure a potential\u001b[39;00m\n\u001b[32m     65\u001b[39m     \u001b[38;5;66;03m# exception has a traceback chain.\u001b[39;00m\n",
      "\u001b[31mTypeError\u001b[39m: clip() received an invalid combination of arguments - got (float, float, out=NoneType), but expected one of:\n * (Tensor min = None, Tensor max = None)\n * (Number min = None, Number max = None)\n",
      "\nDuring handling of the above exception, another exception occurred:\n",
      "\u001b[31mTypeError\u001b[39m                                 Traceback (most recent call last)",
      "\u001b[36mCell\u001b[39m\u001b[36m \u001b[39m\u001b[32mIn[29]\u001b[39m\u001b[32m, line 2\u001b[39m\n\u001b[32m      1\u001b[39m \u001b[38;5;66;03m# Update agent with imagined data\u001b[39;00m\n\u001b[32m----> \u001b[39m\u001b[32m2\u001b[39m metrics = \u001b[43magent\u001b[49m\u001b[43m.\u001b[49m\u001b[43mupdate\u001b[49m\u001b[43m(\u001b[49m\u001b[43mimagined_rollout\u001b[49m\u001b[43m)\u001b[49m\n\u001b[32m      3\u001b[39m \u001b[38;5;66;03m# <<< Train agent part\u001b[39;00m\n",
      "\u001b[36mFile \u001b[39m\u001b[32m/data/I6347325/work_space/STORM/sub_models/director_agents.py:806\u001b[39m, in \u001b[36mDirectorAgent.update\u001b[39m\u001b[34m(self, imagine_rollout)\u001b[39m\n\u001b[32m    802\u001b[39m \u001b[38;5;66;03m# --- Train VAE only (GoalEncoder + GoalDecoder) ---\u001b[39;00m\n\u001b[32m    803\u001b[39m \u001b[38;5;28;01mwith\u001b[39;00m torch.autocast(\n\u001b[32m    804\u001b[39m     device_type=DEVICE.type, dtype=DTYPE_16, enabled=\u001b[38;5;28mself\u001b[39m.use_amp\n\u001b[32m    805\u001b[39m ):\n\u001b[32m--> \u001b[39m\u001b[32m806\u001b[39m     vae_metrics = \u001b[38;5;28;43mself\u001b[39;49m\u001b[43m.\u001b[49m\u001b[43mtrain_goal_vae_step\u001b[49m\u001b[43m(\u001b[49m\u001b[43mimagine_rollout\u001b[49m\u001b[43m)\u001b[49m\n\u001b[32m    808\u001b[39m metrics.update(vae_metrics)\n\u001b[32m    810\u001b[39m \u001b[38;5;66;03m# --- Train manager and worker independently ---\u001b[39;00m\n",
      "\u001b[36mFile \u001b[39m\u001b[32m/data/I6347325/work_space/STORM/sub_models/director_agents.py:676\u001b[39m, in \u001b[36mDirectorAgent.train_goal_vae_step\u001b[39m\u001b[34m(self, imagine_rollout)\u001b[39m\n\u001b[32m    671\u001b[39m \u001b[38;5;66;03m# KL divergence\u001b[39;00m\n\u001b[32m    672\u001b[39m \u001b[38;5;66;03m# [B, L] -> [B]\u001b[39;00m\n\u001b[32m    673\u001b[39m kl_loss = torch.distributions.kl_divergence(\n\u001b[32m    674\u001b[39m     encoded_dist, \u001b[38;5;28mself\u001b[39m.skill_prior\n\u001b[32m    675\u001b[39m ).mean((-\u001b[32m2\u001b[39m, -\u001b[32m1\u001b[39m))\n\u001b[32m--> \u001b[39m\u001b[32m676\u001b[39m kl_coef = \u001b[38;5;28;43mself\u001b[39;49m\u001b[43m.\u001b[49m\u001b[43mkl_controller\u001b[49m\u001b[43m.\u001b[49m\u001b[43mupdate\u001b[49m\u001b[43m(\u001b[49m\u001b[43mkl_loss\u001b[49m\u001b[43m.\u001b[49m\u001b[43mdetach\u001b[49m\u001b[43m(\u001b[49m\u001b[43m)\u001b[49m\u001b[43m)\u001b[49m\n\u001b[32m    678\u001b[39m vae_loss = (recon_loss + kl_coef * kl_loss).mean()  \u001b[38;5;66;03m# [B] -> scalar\u001b[39;00m\n\u001b[32m    680\u001b[39m \u001b[38;5;66;03m# --- Backward pass for VAE only ---\u001b[39;00m\n",
      "\u001b[36mFile \u001b[39m\u001b[32m~/miniconda3/envs/env_RL/lib/python3.13/site-packages/torchrl/data/llm/utils.py:122\u001b[39m, in \u001b[36mAdaptiveKLController.update\u001b[39m\u001b[34m(self, kl_values)\u001b[39m\n\u001b[32m    120\u001b[39m \u001b[38;5;66;03m# renormalize kls\u001b[39;00m\n\u001b[32m    121\u001b[39m kl_value = -torch.as_tensor(kl_values).mean() / \u001b[38;5;28mself\u001b[39m.coef\n\u001b[32m--> \u001b[39m\u001b[32m122\u001b[39m proportional_error = \u001b[43mnp\u001b[49m\u001b[43m.\u001b[49m\u001b[43mclip\u001b[49m\u001b[43m(\u001b[49m\u001b[43mkl_value\u001b[49m\u001b[43m \u001b[49m\u001b[43m/\u001b[49m\u001b[43m \u001b[49m\u001b[38;5;28;43mself\u001b[39;49m\u001b[43m.\u001b[49m\u001b[43mtarget\u001b[49m\u001b[43m \u001b[49m\u001b[43m-\u001b[49m\u001b[43m \u001b[49m\u001b[32;43m1\u001b[39;49m\u001b[43m,\u001b[49m\u001b[43m \u001b[49m\u001b[43m-\u001b[49m\u001b[32;43m0.2\u001b[39;49m\u001b[43m,\u001b[49m\u001b[43m \u001b[49m\u001b[32;43m0.2\u001b[39;49m\u001b[43m)\u001b[49m  \u001b[38;5;66;03m# ϵₜ\u001b[39;00m\n\u001b[32m    123\u001b[39m mult = \u001b[32m1\u001b[39m + proportional_error * n_steps / \u001b[38;5;28mself\u001b[39m.horizon\n\u001b[32m    124\u001b[39m \u001b[38;5;28mself\u001b[39m.coef *= mult  \u001b[38;5;66;03m# βₜ₊₁\u001b[39;00m\n",
      "\u001b[36mFile \u001b[39m\u001b[32m~/miniconda3/envs/env_RL/lib/python3.13/site-packages/numpy/_core/fromnumeric.py:2330\u001b[39m, in \u001b[36mclip\u001b[39m\u001b[34m(a, a_min, a_max, out, min, max, **kwargs)\u001b[39m\n\u001b[32m   2326\u001b[39m \u001b[38;5;28;01melif\u001b[39;00m \u001b[38;5;28mmin\u001b[39m \u001b[38;5;129;01mis\u001b[39;00m \u001b[38;5;129;01mnot\u001b[39;00m np._NoValue \u001b[38;5;129;01mor\u001b[39;00m \u001b[38;5;28mmax\u001b[39m \u001b[38;5;129;01mis\u001b[39;00m \u001b[38;5;129;01mnot\u001b[39;00m np._NoValue:\n\u001b[32m   2327\u001b[39m     \u001b[38;5;28;01mraise\u001b[39;00m \u001b[38;5;167;01mValueError\u001b[39;00m(\u001b[33m\"\u001b[39m\u001b[33mPassing `min` or `max` keyword argument when \u001b[39m\u001b[33m\"\u001b[39m\n\u001b[32m   2328\u001b[39m                      \u001b[33m\"\u001b[39m\u001b[33m`a_min` and `a_max` are provided is forbidden.\u001b[39m\u001b[33m\"\u001b[39m)\n\u001b[32m-> \u001b[39m\u001b[32m2330\u001b[39m \u001b[38;5;28;01mreturn\u001b[39;00m \u001b[43m_wrapfunc\u001b[49m\u001b[43m(\u001b[49m\u001b[43ma\u001b[49m\u001b[43m,\u001b[49m\u001b[43m \u001b[49m\u001b[33;43m'\u001b[39;49m\u001b[33;43mclip\u001b[39;49m\u001b[33;43m'\u001b[39;49m\u001b[43m,\u001b[49m\u001b[43m \u001b[49m\u001b[43ma_min\u001b[49m\u001b[43m,\u001b[49m\u001b[43m \u001b[49m\u001b[43ma_max\u001b[49m\u001b[43m,\u001b[49m\u001b[43m \u001b[49m\u001b[43mout\u001b[49m\u001b[43m=\u001b[49m\u001b[43mout\u001b[49m\u001b[43m,\u001b[49m\u001b[43m \u001b[49m\u001b[43m*\u001b[49m\u001b[43m*\u001b[49m\u001b[43mkwargs\u001b[49m\u001b[43m)\u001b[49m\n",
      "\u001b[36mFile \u001b[39m\u001b[32m~/miniconda3/envs/env_RL/lib/python3.13/site-packages/numpy/_core/fromnumeric.py:66\u001b[39m, in \u001b[36m_wrapfunc\u001b[39m\u001b[34m(obj, method, *args, **kwds)\u001b[39m\n\u001b[32m     57\u001b[39m     \u001b[38;5;28;01mreturn\u001b[39;00m bound(*args, **kwds)\n\u001b[32m     58\u001b[39m \u001b[38;5;28;01mexcept\u001b[39;00m \u001b[38;5;167;01mTypeError\u001b[39;00m:\n\u001b[32m     59\u001b[39m     \u001b[38;5;66;03m# A TypeError occurs if the object does have such a method in its\u001b[39;00m\n\u001b[32m     60\u001b[39m     \u001b[38;5;66;03m# class, but its signature is not identical to that of NumPy's. This\u001b[39;00m\n\u001b[32m   (...)\u001b[39m\u001b[32m     64\u001b[39m     \u001b[38;5;66;03m# Call _wrapit from within the except clause to ensure a potential\u001b[39;00m\n\u001b[32m     65\u001b[39m     \u001b[38;5;66;03m# exception has a traceback chain.\u001b[39;00m\n\u001b[32m---> \u001b[39m\u001b[32m66\u001b[39m     \u001b[38;5;28;01mreturn\u001b[39;00m \u001b[43m_wrapit\u001b[49m\u001b[43m(\u001b[49m\u001b[43mobj\u001b[49m\u001b[43m,\u001b[49m\u001b[43m \u001b[49m\u001b[43mmethod\u001b[49m\u001b[43m,\u001b[49m\u001b[43m \u001b[49m\u001b[43m*\u001b[49m\u001b[43margs\u001b[49m\u001b[43m,\u001b[49m\u001b[43m \u001b[49m\u001b[43m*\u001b[49m\u001b[43m*\u001b[49m\u001b[43mkwds\u001b[49m\u001b[43m)\u001b[49m\n",
      "\u001b[36mFile \u001b[39m\u001b[32m~/miniconda3/envs/env_RL/lib/python3.13/site-packages/numpy/_core/fromnumeric.py:42\u001b[39m, in \u001b[36m_wrapit\u001b[39m\u001b[34m(obj, method, *args, **kwds)\u001b[39m\n\u001b[32m     41\u001b[39m \u001b[38;5;28;01mdef\u001b[39;00m\u001b[38;5;250m \u001b[39m\u001b[34m_wrapit\u001b[39m(obj, method, *args, **kwds):\n\u001b[32m---> \u001b[39m\u001b[32m42\u001b[39m     conv = \u001b[43m_array_converter\u001b[49m\u001b[43m(\u001b[49m\u001b[43mobj\u001b[49m\u001b[43m)\u001b[49m\n\u001b[32m     43\u001b[39m     \u001b[38;5;66;03m# As this already tried the method, subok is maybe quite reasonable here\u001b[39;00m\n\u001b[32m     44\u001b[39m     \u001b[38;5;66;03m# but this follows what was done before. TODO: revisit this.\u001b[39;00m\n\u001b[32m     45\u001b[39m     arr, = conv.as_arrays(subok=\u001b[38;5;28;01mFalse\u001b[39;00m)\n",
      "\u001b[36mFile \u001b[39m\u001b[32m~/miniconda3/envs/env_RL/lib/python3.13/site-packages/torch/_tensor.py:1194\u001b[39m, in \u001b[36mTensor.__array__\u001b[39m\u001b[34m(self, dtype)\u001b[39m\n\u001b[32m   1192\u001b[39m     \u001b[38;5;28;01mreturn\u001b[39;00m handle_torch_function(Tensor.__array__, (\u001b[38;5;28mself\u001b[39m,), \u001b[38;5;28mself\u001b[39m, dtype=dtype)\n\u001b[32m   1193\u001b[39m \u001b[38;5;28;01mif\u001b[39;00m dtype \u001b[38;5;129;01mis\u001b[39;00m \u001b[38;5;28;01mNone\u001b[39;00m:\n\u001b[32m-> \u001b[39m\u001b[32m1194\u001b[39m     \u001b[38;5;28;01mreturn\u001b[39;00m \u001b[38;5;28;43mself\u001b[39;49m\u001b[43m.\u001b[49m\u001b[43mnumpy\u001b[49m\u001b[43m(\u001b[49m\u001b[43m)\u001b[49m\n\u001b[32m   1195\u001b[39m \u001b[38;5;28;01melse\u001b[39;00m:\n\u001b[32m   1196\u001b[39m     \u001b[38;5;28;01mreturn\u001b[39;00m \u001b[38;5;28mself\u001b[39m.numpy().astype(dtype, copy=\u001b[38;5;28;01mFalse\u001b[39;00m)\n",
      "\u001b[31mTypeError\u001b[39m: can't convert cuda:1 device type tensor to numpy. Use Tensor.cpu() to copy the tensor to host memory first."
     ]
    }
   ],
   "source": [
    "# Update agent with imagined data\n",
    "metrics = agent.update(imagined_rollout)\n",
    "# <<< Train agent part"
   ]
  },
  {
   "cell_type": "code",
   "execution_count": 26,
   "metadata": {},
   "outputs": [
    {
     "name": "stdout",
     "output_type": "stream",
     "text": [
      "{'goal_VAE_loss': -685.745361328125,\n",
      " 'goal_kl_loss': 0.2932986617088318,\n",
      " 'goal_recon_loss': -685.745361328125,\n",
      " 'manager_ActorCritic/S': 0.040681224316358566,\n",
      " 'manager_ActorCritic/critic_loss': 12.936750411987305,\n",
      " 'manager_ActorCritic/entropy_loss': 1.984375,\n",
      " 'manager_ActorCritic/norm_ratio': 1.0,\n",
      " 'manager_ActorCritic/policy_loss': 1.179916501045227,\n",
      " 'manager_ActorCritic/total_loss': 12.233854293823242,\n",
      " 'success_manager': 0.0,\n",
      " 'worker_ActorCritic/S': 0.021855171769857407,\n",
      " 'worker_ActorCritic/critic_loss': 11.247394561767578,\n",
      " 'worker_ActorCritic/entropy_loss': 2.140625,\n",
      " 'worker_ActorCritic/norm_ratio': 1.0,\n",
      " 'worker_ActorCritic/policy_loss': -0.05270551145076752,\n",
      " 'worker_ActorCritic/total_loss': 9.16343879699707}\n"
     ]
    }
   ],
   "source": [
    "from pprint import pprint\n",
    "# Print the metrics\n",
    "pprint(metrics)"
   ]
  },
  {
   "cell_type": "markdown",
   "metadata": {},
   "source": [
    "### Final full call"
   ]
  },
  {
   "cell_type": "code",
   "execution_count": null,
   "metadata": {},
   "outputs": [
    {
     "name": "stderr",
     "output_type": "stream",
     "text": [
      "\u001b[34m\u001b[1mwandb\u001b[0m: Using wandb-core as the SDK backend.  Please refer to https://wandb.me/wandb-core for more information.\n"
     ]
    },
    {
     "name": "stderr",
     "output_type": "stream",
     "text": [
      "\u001b[34m\u001b[1mwandb\u001b[0m: Currently logged in as: \u001b[33mriju11-mukherjee\u001b[0m (\u001b[33mrm_ai\u001b[0m) to \u001b[32mhttps://api.wandb.ai\u001b[0m. Use \u001b[1m`wandb login --relogin`\u001b[0m to force relogin\n"
     ]
    },
    {
     "data": {
      "text/html": [
       "Tracking run with wandb version 0.19.9"
      ],
      "text/plain": [
       "<IPython.core.display.HTML object>"
      ]
     },
     "metadata": {},
     "output_type": "display_data"
    },
    {
     "data": {
      "text/html": [
       "Run data is saved locally in <code>/data/I6347325/work_space/STORM/wandb/run-20250406_155037-5a8u907f</code>"
      ],
      "text/plain": [
       "<IPython.core.display.HTML object>"
      ]
     },
     "metadata": {},
     "output_type": "display_data"
    },
    {
     "data": {
      "text/html": [
       "Syncing run <strong><a href='https://wandb.ai/rm_ai/WMBRL/runs/5a8u907f' target=\"_blank\">TEM-Transformer_1</a></strong> to <a href='https://wandb.ai/rm_ai/WMBRL' target=\"_blank\">Weights & Biases</a> (<a href='https://wandb.me/developer-guide' target=\"_blank\">docs</a>)<br>"
      ],
      "text/plain": [
       "<IPython.core.display.HTML object>"
      ]
     },
     "metadata": {},
     "output_type": "display_data"
    },
    {
     "data": {
      "text/html": [
       " View project at <a href='https://wandb.ai/rm_ai/WMBRL' target=\"_blank\">https://wandb.ai/rm_ai/WMBRL</a>"
      ],
      "text/plain": [
       "<IPython.core.display.HTML object>"
      ]
     },
     "metadata": {},
     "output_type": "display_data"
    },
    {
     "data": {
      "text/html": [
       " View run at <a href='https://wandb.ai/rm_ai/WMBRL/runs/5a8u907f' target=\"_blank\">https://wandb.ai/rm_ai/WMBRL/runs/5a8u907f</a>"
      ],
      "text/plain": [
       "<IPython.core.display.HTML object>"
      ]
     },
     "metadata": {},
     "output_type": "display_data"
    },
    {
     "name": "stdout",
     "output_type": "stream",
     "text": [
      "Current env: \u001b[33mALE/MsPacman-v5\u001b[0m\n"
     ]
    },
    {
     "name": "stderr",
     "output_type": "stream",
     "text": [
      "  0%|          | 0/15000 [00:00<?, ?it/s]"
     ]
    },
    {
     "name": "stdout",
     "output_type": "stream",
     "text": [
      "\u001b[32mSaving model at total steps 0\u001b[0m\n"
     ]
    },
    {
     "name": "stderr",
     "output_type": "stream",
     "text": [
      "  6%|▌         | 931/15000 [00:01<00:16, 870.59it/s]"
     ]
    },
    {
     "name": "stdout",
     "output_type": "stream",
     "text": [
      "init_imagine_buffer: 1024x16@torch.float16\n"
     ]
    },
    {
     "name": "stderr",
     "output_type": "stream",
     "text": [
      "  8%|▊         | 1155/15000 [01:39<2:22:26,  1.62it/s]"
     ]
    }
   ],
   "source": [
    "# Initialize wandb\n",
    "# with wandb.init(\n",
    "#     project=\"WMBRL\",  # Replace with your project name\n",
    "#     name=run_params.exp_name,   # Use the experiment name from RunParam\n",
    "#     config = {\n",
    "#         \"env_name\": run_params.env_name,\n",
    "#         \"seed\": run_params.seed,\n",
    "#     }\n",
    "# ) as run:\n",
    "    # Log the configuration to wandb\n",
    "    # run.config.update(run_params.conf)\n",
    "    # run.log({\"WM_params\": f\"{world_model_params:.2e}\", \"Agent_params\": f\"{agent_params:.2e}\"})\n",
    "    # logger = WandbLogger(run)\n",
    "    # train\n",
    "joint_train_world_model_agent(\n",
    "    env_name=run_params.env_name,\n",
    "    num_envs=run_params.conf.JointTrainAgent.NumEnvs,\n",
    "    max_steps=run_params.conf.JointTrainAgent.SampleMaxSteps,\n",
    "    image_size=run_params.conf.BasicSettings.ImageSize,\n",
    "    replay_buffer=replay_buffer,\n",
    "    world_model=world_model,\n",
    "    agent=agent,\n",
    "    train_dynamics_every_steps=run_params.conf.JointTrainAgent.TrainDynamicsEverySteps,\n",
    "    train_agent_every_steps=run_params.conf.JointTrainAgent.TrainAgentEverySteps,\n",
    "    batch_size=run_params.conf.JointTrainAgent.BatchSize,\n",
    "    demonstration_batch_size=(\n",
    "        run_params.conf.JointTrainAgent.DemonstrationBatchSize\n",
    "        if run_params.conf.JointTrainAgent.UseDemonstration\n",
    "        else 0\n",
    "    ),\n",
    "    batch_length=run_params.conf.JointTrainAgent.BatchLength,\n",
    "    imagine_batch_size=run_params.conf.JointTrainAgent.ImagineBatchSize,\n",
    "    imagine_demonstration_batch_size=(\n",
    "        run_params.conf.JointTrainAgent.ImagineDemonstrationBatchSize\n",
    "        if run_params.conf.JointTrainAgent.UseDemonstration\n",
    "        else 0\n",
    "    ),\n",
    "    imagine_context_length=run_params.conf.JointTrainAgent.ImagineContextLength,\n",
    "    imagine_batch_length=run_params.conf.JointTrainAgent.ImagineBatchLength,\n",
    "    save_every_steps=run_params.conf.JointTrainAgent.SaveEverySteps,\n",
    "    seed=run_params.seed,\n",
    "    logger=logger,\n",
    "    args=run_params,\n",
    ")\n",
    "\n"
   ]
  },
  {
   "cell_type": "code",
   "execution_count": null,
   "metadata": {},
   "outputs": [],
   "source": []
  }
 ],
 "metadata": {
  "kernelspec": {
   "display_name": "env_RL",
   "language": "python",
   "name": "python3"
  },
  "language_info": {
   "codemirror_mode": {
    "name": "ipython",
    "version": 3
   },
   "file_extension": ".py",
   "mimetype": "text/x-python",
   "name": "python",
   "nbconvert_exporter": "python",
   "pygments_lexer": "ipython3",
   "version": "3.13.2"
  }
 },
 "nbformat": 4,
 "nbformat_minor": 2
}
