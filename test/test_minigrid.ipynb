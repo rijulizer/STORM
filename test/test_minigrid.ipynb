{
 "cells": [
  {
   "cell_type": "code",
   "execution_count": 1,
   "id": "dd6c1991",
   "metadata": {},
   "outputs": [],
   "source": [
    "import gymnasium\n",
    "import minigrid\n",
    "from minigrid.wrappers import RGBImgObsWrapper, RGBImgPartialObsWrapper, ImgObsWrapper\n",
    "from gymnasium.wrappers import ResizeObservation\n",
    "# import env_wrapper\n",
    "from pprint import pprint\n",
    "envs = [env_id for env_id in gymnasium.envs.registry.keys() if \"MiniGrid\" in env_id]\n",
    "\n"
   ]
  },
  {
   "cell_type": "code",
   "execution_count": 2,
   "id": "5f7925d1",
   "metadata": {},
   "outputs": [],
   "source": [
    "env_names = [\"MiniGrid-Empty-8x8-v0\", \"MiniGrid-SimpleCrossingS9N3-v0\", \"MiniGrid-DoorKey-8x8-v0\", \"MiniGrid-FourRooms-v0\"] "
   ]
  },
  {
   "cell_type": "markdown",
   "id": "7ba95905",
   "metadata": {},
   "source": [
    "# Single Env"
   ]
  },
  {
   "cell_type": "code",
   "execution_count": 13,
   "id": "a7fe34ed",
   "metadata": {},
   "outputs": [],
   "source": [
    "env = gymnasium.make(\"MiniGrid-FourRooms-v0\")\n",
    "# env = RGBImgPartialObsWrapper(env)  # Adds an \"rgb\" key to the obs\n",
    "env = RGBImgObsWrapper(env)  # Adds an \"rgb\" key to the obs\n",
    "env = ImgObsWrapper(env)     # Sets obs = obs[\"rgb\"], discards others\n",
    "env = ResizeObservation(env, shape=(64,64))"
   ]
  },
  {
   "cell_type": "code",
   "execution_count": 14,
   "id": "7caf9456",
   "metadata": {},
   "outputs": [
    {
     "data": {
      "text/plain": [
       "((64, 64, 3), {})"
      ]
     },
     "execution_count": 14,
     "metadata": {},
     "output_type": "execute_result"
    }
   ],
   "source": [
    "obs, info = env.reset()\n",
    "obs.shape, info\n",
    "# env.render()"
   ]
  },
  {
   "cell_type": "code",
   "execution_count": 15,
   "id": "38fe9478",
   "metadata": {},
   "outputs": [
    {
     "data": {
      "image/png": "[encoded data removed]",
      "text/plain": [
       "<Figure size 640x480 with 1 Axes>"
      ]
     },
     "metadata": {},
     "output_type": "display_data"
    }
   ],
   "source": [
    "import matplotlib.pyplot as plt\n",
    "\n",
    "plt.imshow(obs)\n",
    "plt.axis('off')\n",
    "plt.show()"
   ]
  },
  {
   "cell_type": "code",
   "execution_count": 15,
   "id": "e8b680b8",
   "metadata": {},
   "outputs": [
    {
     "ename": "IndexError",
     "evalue": "only integers, slices (`:`), ellipsis (`...`), numpy.newaxis (`None`) and integer or boolean arrays are valid indices",
     "output_type": "error",
     "traceback": [
      "\u001b[31m---------------------------------------------------------------------------\u001b[39m",
      "\u001b[31mIndexError\u001b[39m                                Traceback (most recent call last)",
      "\u001b[36mCell\u001b[39m\u001b[36m \u001b[39m\u001b[32mIn[15]\u001b[39m\u001b[32m, line 1\u001b[39m\n\u001b[32m----> \u001b[39m\u001b[32m1\u001b[39m \u001b[43mobs\u001b[49m\u001b[43m[\u001b[49m\u001b[33;43m\"\u001b[39;49m\u001b[33;43mimage\u001b[39;49m\u001b[33;43m\"\u001b[39;49m\u001b[43m]\u001b[49m.shape\n",
      "\u001b[31mIndexError\u001b[39m: only integers, slices (`:`), ellipsis (`...`), numpy.newaxis (`None`) and integer or boolean arrays are valid indices"
     ]
    }
   ],
   "source": [
    "obs[\"image\"].shape"
   ]
  },
  {
   "cell_type": "markdown",
   "id": "61499817",
   "metadata": {},
   "source": [
    "# Multi-Envs"
   ]
  },
  {
   "cell_type": "code",
   "execution_count": 38,
   "id": "efb70aa7",
   "metadata": {},
   "outputs": [],
   "source": [
    "# import env_wrapper\n",
    "def build_single_env(env_name: str, image_size: int):\n",
    "    \"\"\"\n",
    "    Build a single env with wrappers and preprocesses env.\n",
    "    \"\"\"\n",
    "    env = gymnasium.make(\n",
    "        env_name, render_mode=\"rgb_array\")\n",
    "    # Convert int to tuple as gymnasium.wrappers.ResizeObservation requires tuple\n",
    "    if isinstance(image_size, int):\n",
    "        image_size = (image_size, image_size)\n",
    "    env = minigrid.wrappers.RGBImgPartialObsWrapper(env)  # Adds an \"rgb\" key to the obs\n",
    "    env = minigrid.wrappers.ImgObsWrapper(env)  # Sets obs = obs[\"rgb\"], discards others\n",
    "    env = gymnasium.wrappers.ResizeObservation(env, shape=image_size)\n",
    "    # env = env_wrapper.LifeLossInfo(env)\n",
    "\n",
    "    return env"
   ]
  },
  {
   "cell_type": "code",
   "execution_count": 39,
   "id": "17a66d3b",
   "metadata": {},
   "outputs": [],
   "source": [
    "from functools import partial\n",
    "def build_vec_env(env_names: list[str], image_size: int):\n",
    "    \"\"\"\n",
    "    Build a vectorized env with n=num_envs parallel envs.\n",
    "    \"\"\"\n",
    "    env_fns = [\n",
    "        partial(build_single_env, env_name, image_size) for env_name in env_names\n",
    "    ]\n",
    "    vec_env = gymnasium.vector.AsyncVectorEnv(env_fns=env_fns)\n",
    "    return vec_env"
   ]
  },
  {
   "cell_type": "code",
   "execution_count": 40,
   "id": "ec19bbd4",
   "metadata": {},
   "outputs": [],
   "source": [
    "env_names = [\"MiniGrid-Empty-8x8-v0\", \"MiniGrid-SimpleCrossingS9N3-v0\", \"MiniGrid-DoorKey-8x8-v0\", \"MiniGrid-FourRooms-v0\"] \n",
    "env = build_single_env(env_names[0], image_size=64)\n",
    "vec_env = build_vec_env(env_names, image_size=64)"
   ]
  },
  {
   "cell_type": "code",
   "execution_count": 41,
   "id": "756bdd2d",
   "metadata": {},
   "outputs": [
    {
     "data": {
      "text/plain": [
       "((4, 64, 64, 3), {})"
      ]
     },
     "execution_count": 41,
     "metadata": {},
     "output_type": "execute_result"
    }
   ],
   "source": [
    "current_obs, current_info = vec_env.reset()\n",
    "current_obs.shape, current_info"
   ]
  },
  {
   "cell_type": "code",
   "execution_count": 7,
   "id": "5f20ef21",
   "metadata": {},
   "outputs": [
    {
     "name": "stdout",
     "output_type": "stream",
     "text": [
      "All info keys seen: set()\n"
     ]
    }
   ],
   "source": [
    "info_keys = set()\n",
    "for _ in range(100):\n",
    "    obs, info = vec_env.reset()\n",
    "    info_keys.update(info.keys())\n",
    "    for _ in range(50):\n",
    "        _, _, terminated, truncated, info = vec_env.step(vec_env.action_space.sample())\n",
    "        info_keys.update(info.keys())\n",
    "        if terminated.any() or truncated.any():\n",
    "            break\n",
    "print(\"All info keys seen:\", info_keys)"
   ]
  },
  {
   "cell_type": "code",
   "execution_count": 32,
   "id": "d76907b6",
   "metadata": {},
   "outputs": [
    {
     "data": {
      "text/plain": [
       "array([5, 5, 4, 4])"
      ]
     },
     "execution_count": 32,
     "metadata": {},
     "output_type": "execute_result"
    }
   ],
   "source": [
    "action = vec_env.action_space.sample()\n",
    "action"
   ]
  },
  {
   "cell_type": "code",
   "execution_count": 35,
   "id": "aa24b15a",
   "metadata": {},
   "outputs": [
    {
     "name": "stderr",
     "output_type": "stream",
     "text": [
      "/home/I6347325/miniconda3/envs/env_RL/lib/python3.13/site-packages/gymnasium/vector/async_vector_env.py:457: UserWarning: \u001b[31mERROR: Received the following error from Worker-1 - Shutting it down\u001b[0m\n",
      "  self._raise_if_errors(successes)\n",
      "/home/I6347325/miniconda3/envs/env_RL/lib/python3.13/site-packages/gymnasium/vector/async_vector_env.py:457: UserWarning: \u001b[31mERROR: Traceback (most recent call last):\n",
      "  File \"/home/I6347325/miniconda3/envs/env_RL/lib/python3.13/site-packages/gymnasium/vector/async_vector_env.py\", line 763, in _async_worker\n",
      "    ) = env.step(data)\n",
      "        ~~~~~~~~^^^^^^\n",
      "  File \"/home/I6347325/miniconda3/envs/env_RL/lib/python3.13/site-packages/gymnasium/core.py\", line 560, in step\n",
      "    observation, reward, terminated, truncated, info = self.env.step(action)\n",
      "                                                       ~~~~~~~~~~~~~^^^^^^^^\n",
      "  File \"/home/I6347325/miniconda3/envs/env_RL/lib/python3.13/site-packages/gymnasium/core.py\", line 560, in step\n",
      "    observation, reward, terminated, truncated, info = self.env.step(action)\n",
      "                                                       ~~~~~~~~~~~~~^^^^^^^^\n",
      "  File \"/home/I6347325/miniconda3/envs/env_RL/lib/python3.13/site-packages/gymnasium/core.py\", line 560, in step\n",
      "    observation, reward, terminated, truncated, info = self.env.step(action)\n",
      "                                                       ~~~~~~~~~~~~~^^^^^^^^\n",
      "  File \"/home/I6347325/miniconda3/envs/env_RL/lib/python3.13/site-packages/gymnasium/wrappers/common.py\", line 392, in step\n",
      "    raise ResetNeeded(\"Cannot call env.step() before calling env.reset()\")\n",
      "gymnasium.error.ResetNeeded: Cannot call env.step() before calling env.reset()\n",
      "\u001b[0m\n",
      "  self._raise_if_errors(successes)\n",
      "/home/I6347325/miniconda3/envs/env_RL/lib/python3.13/site-packages/gymnasium/vector/async_vector_env.py:457: UserWarning: \u001b[31mERROR: Received the following error from Worker-2 - Shutting it down\u001b[0m\n",
      "  self._raise_if_errors(successes)\n",
      "/home/I6347325/miniconda3/envs/env_RL/lib/python3.13/site-packages/gymnasium/vector/async_vector_env.py:457: UserWarning: \u001b[31mERROR: Received the following error from Worker-0 - Shutting it down\u001b[0m\n",
      "  self._raise_if_errors(successes)\n",
      "/home/I6347325/miniconda3/envs/env_RL/lib/python3.13/site-packages/gymnasium/vector/async_vector_env.py:457: UserWarning: \u001b[31mERROR: Received the following error from Worker-3 - Shutting it down\u001b[0m\n",
      "  self._raise_if_errors(successes)\n",
      "/home/I6347325/miniconda3/envs/env_RL/lib/python3.13/site-packages/gymnasium/vector/async_vector_env.py:457: UserWarning: \u001b[31mERROR: Raising the last exception back to the main process.\u001b[0m\n",
      "  self._raise_if_errors(successes)\n"
     ]
    },
    {
     "ename": "ResetNeeded",
     "evalue": "Cannot call env.step() before calling env.reset()",
     "output_type": "error",
     "traceback": [
      "\u001b[31m---------------------------------------------------------------------------\u001b[39m",
      "\u001b[31mResetNeeded\u001b[39m                               Traceback (most recent call last)",
      "\u001b[36mCell\u001b[39m\u001b[36m \u001b[39m\u001b[32mIn[35]\u001b[39m\u001b[32m, line 1\u001b[39m\n\u001b[32m----> \u001b[39m\u001b[32m1\u001b[39m obs, reward, done, truncated, info = \u001b[43mvec_env\u001b[49m\u001b[43m.\u001b[49m\u001b[43mstep\u001b[49m\u001b[43m(\u001b[49m\u001b[43m[\u001b[49m\u001b[32;43m2\u001b[39;49m\u001b[43m,\u001b[49m\u001b[32;43m3\u001b[39;49m\u001b[43m,\u001b[49m\u001b[32;43m4\u001b[39;49m\u001b[43m,\u001b[49m\u001b[32;43m1\u001b[39;49m\u001b[43m]\u001b[49m\u001b[43m)\u001b[49m\n",
      "\u001b[36mFile \u001b[39m\u001b[32m~/miniconda3/envs/env_RL/lib/python3.13/site-packages/gymnasium/vector/async_vector_env.py:388\u001b[39m, in \u001b[36mAsyncVectorEnv.step\u001b[39m\u001b[34m(self, actions)\u001b[39m\n\u001b[32m    379\u001b[39m \u001b[38;5;250m\u001b[39m\u001b[33;03m\"\"\"Take an action for each parallel environment.\u001b[39;00m\n\u001b[32m    380\u001b[39m \n\u001b[32m    381\u001b[39m \u001b[33;03mArgs:\u001b[39;00m\n\u001b[32m   (...)\u001b[39m\u001b[32m    385\u001b[39m \u001b[33;03m    Batch of (observations, rewards, terminations, truncations, infos)\u001b[39;00m\n\u001b[32m    386\u001b[39m \u001b[33;03m\"\"\"\u001b[39;00m\n\u001b[32m    387\u001b[39m \u001b[38;5;28mself\u001b[39m.step_async(actions)\n\u001b[32m--> \u001b[39m\u001b[32m388\u001b[39m \u001b[38;5;28;01mreturn\u001b[39;00m \u001b[38;5;28;43mself\u001b[39;49m\u001b[43m.\u001b[49m\u001b[43mstep_wait\u001b[49m\u001b[43m(\u001b[49m\u001b[43m)\u001b[49m\n",
      "\u001b[36mFile \u001b[39m\u001b[32m~/miniconda3/envs/env_RL/lib/python3.13/site-packages/gymnasium/vector/async_vector_env.py:457\u001b[39m, in \u001b[36mAsyncVectorEnv.step_wait\u001b[39m\u001b[34m(self, timeout)\u001b[39m\n\u001b[32m    454\u001b[39m         truncations.append(env_step_return[\u001b[32m3\u001b[39m])\n\u001b[32m    455\u001b[39m         infos = \u001b[38;5;28mself\u001b[39m._add_info(infos, env_step_return[\u001b[32m4\u001b[39m], env_idx)\n\u001b[32m--> \u001b[39m\u001b[32m457\u001b[39m \u001b[38;5;28;43mself\u001b[39;49m\u001b[43m.\u001b[49m\u001b[43m_raise_if_errors\u001b[49m\u001b[43m(\u001b[49m\u001b[43msuccesses\u001b[49m\u001b[43m)\u001b[49m\n\u001b[32m    459\u001b[39m \u001b[38;5;28;01mif\u001b[39;00m \u001b[38;5;129;01mnot\u001b[39;00m \u001b[38;5;28mself\u001b[39m.shared_memory:\n\u001b[32m    460\u001b[39m     \u001b[38;5;28mself\u001b[39m.observations = concatenate(\n\u001b[32m    461\u001b[39m         \u001b[38;5;28mself\u001b[39m.single_observation_space,\n\u001b[32m    462\u001b[39m         observations,\n\u001b[32m    463\u001b[39m         \u001b[38;5;28mself\u001b[39m.observations,\n\u001b[32m    464\u001b[39m     )\n",
      "\u001b[36mFile \u001b[39m\u001b[32m~/miniconda3/envs/env_RL/lib/python3.13/site-packages/gymnasium/vector/async_vector_env.py:711\u001b[39m, in \u001b[36mAsyncVectorEnv._raise_if_errors\u001b[39m\u001b[34m(self, successes)\u001b[39m\n\u001b[32m    709\u001b[39m logger.error(\u001b[33m\"\u001b[39m\u001b[33mRaising the last exception back to the main process.\u001b[39m\u001b[33m\"\u001b[39m)\n\u001b[32m    710\u001b[39m \u001b[38;5;28mself\u001b[39m._state = AsyncState.DEFAULT\n\u001b[32m--> \u001b[39m\u001b[32m711\u001b[39m \u001b[38;5;28;01mraise\u001b[39;00m exctype(value)\n",
      "\u001b[31mResetNeeded\u001b[39m: Cannot call env.step() before calling env.reset()"
     ]
    }
   ],
   "source": [
    "obs, reward, done, truncated, info = vec_env.step([2,3,4,1])"
   ]
  },
  {
   "cell_type": "code",
   "execution_count": null,
   "id": "610456d1",
   "metadata": {},
   "outputs": [],
   "source": []
  }
 ],
 "metadata": {
  "kernelspec": {
   "display_name": "env_RL",
   "language": "python",
   "name": "python3"
  },
  "language_info": {
   "codemirror_mode": {
    "name": "ipython",
    "version": 3
   },
   "file_extension": ".py",
   "mimetype": "text/x-python",
   "name": "python",
   "nbconvert_exporter": "python",
   "pygments_lexer": "ipython3",
   "version": "3.13.2"
  }
 },
 "nbformat": 4,
 "nbformat_minor": 5
}
