{
 "cells": [
  {
   "cell_type": "code",
   "execution_count": null,
   "id": "dd6c1991",
   "metadata": {},
   "outputs": [
    {
     "ename": "ModuleNotFoundError",
     "evalue": "No module named 'env_wrapper'",
     "output_type": "error",
     "traceback": [
      "\u001b[31m---------------------------------------------------------------------------\u001b[39m",
      "\u001b[31mModuleNotFoundError\u001b[39m                       Traceback (most recent call last)",
      "\u001b[36mCell\u001b[39m\u001b[36m \u001b[39m\u001b[32mIn[27]\u001b[39m\u001b[32m, line 5\u001b[39m\n\u001b[32m      3\u001b[39m \u001b[38;5;28;01mfrom\u001b[39;00m\u001b[38;5;250m \u001b[39m\u001b[34;01mminigrid\u001b[39;00m\u001b[34;01m.\u001b[39;00m\u001b[34;01mwrappers\u001b[39;00m\u001b[38;5;250m \u001b[39m\u001b[38;5;28;01mimport\u001b[39;00m RGBImgObsWrapper, RGBImgPartialObsWrapper, ImgObsWrapper\n\u001b[32m      4\u001b[39m \u001b[38;5;28;01mfrom\u001b[39;00m\u001b[38;5;250m \u001b[39m\u001b[34;01mgymnasium\u001b[39;00m\u001b[34;01m.\u001b[39;00m\u001b[34;01mwrappers\u001b[39;00m\u001b[38;5;250m \u001b[39m\u001b[38;5;28;01mimport\u001b[39;00m ResizeObservation\n\u001b[32m----> \u001b[39m\u001b[32m5\u001b[39m \u001b[38;5;28;01mimport\u001b[39;00m\u001b[38;5;250m \u001b[39m\u001b[34;01menv_wrapper\u001b[39;00m\n\u001b[32m      6\u001b[39m \u001b[38;5;28;01mfrom\u001b[39;00m\u001b[38;5;250m \u001b[39m\u001b[34;01mpprint\u001b[39;00m\u001b[38;5;250m \u001b[39m\u001b[38;5;28;01mimport\u001b[39;00m pprint\n\u001b[32m      7\u001b[39m envs = [env_id \u001b[38;5;28;01mfor\u001b[39;00m env_id \u001b[38;5;129;01min\u001b[39;00m gymnasium.envs.registry.keys() \u001b[38;5;28;01mif\u001b[39;00m \u001b[33m\"\u001b[39m\u001b[33mMiniGrid\u001b[39m\u001b[33m\"\u001b[39m \u001b[38;5;129;01min\u001b[39;00m env_id]\n",
      "\u001b[31mModuleNotFoundError\u001b[39m: No module named 'env_wrapper'"
     ]
    }
   ],
   "source": [
    "import gymnasium\n",
    "import minigrid\n",
    "from minigrid.wrappers import RGBImgObsWrapper, RGBImgPartialObsWrapper, ImgObsWrapper\n",
    "from gymnasium.wrappers import ResizeObservation\n",
    "# import env_wrapper\n",
    "from pprint import pprint\n",
    "envs = [env_id for env_id in gymnasium.envs.registry.keys() if \"MiniGrid\" in env_id]\n",
    "pprint(sorted(envs)[:10])\n"
   ]
  },
  {
   "cell_type": "code",
   "execution_count": null,
   "id": "5f7925d1",
   "metadata": {},
   "outputs": [],
   "source": [
    "env_names = [\"MiniGrid-Empty-8x8-v0\", \"MiniGrid-SimpleCrossingS9N3-v0\", \"MiniGrid-DoorKey-8x8-v0\", \"MiniGrid-FourRooms-v0\"] "
   ]
  },
  {
   "cell_type": "code",
   "execution_count": 21,
   "id": "a7fe34ed",
   "metadata": {},
   "outputs": [],
   "source": [
    "env = gym.make(\"MiniGrid-DoorKey-16x16-v0\")\n",
    "env = RGBImgPartialObsWrapper(env)  # Adds an \"rgb\" key to the obs\n",
    "env = ImgObsWrapper(env)     # Sets obs = obs[\"rgb\"], discards others\n",
    "env = ResizeObservation(env, shape=(64,64))"
   ]
  },
  {
   "cell_type": "code",
   "execution_count": 35,
   "id": "7caf9456",
   "metadata": {},
   "outputs": [
    {
     "data": {
      "text/plain": [
       "((64, 64, 3), {})"
      ]
     },
     "execution_count": 35,
     "metadata": {},
     "output_type": "execute_result"
    }
   ],
   "source": [
    "obs, info = env.reset()\n",
    "obs.shape, info\n",
    "# env.render()"
   ]
  },
  {
   "cell_type": "code",
   "execution_count": 36,
   "id": "38fe9478",
   "metadata": {},
   "outputs": [
    {
     "data": {
      "image/png": "[encoded data removed]",
      "text/plain": [
       "<Figure size 640x480 with 1 Axes>"
      ]
     },
     "metadata": {},
     "output_type": "display_data"
    }
   ],
   "source": [
    "import matplotlib.pyplot as plt\n",
    "\n",
    "plt.imshow(obs)\n",
    "plt.axis('off')\n",
    "plt.show()"
   ]
  },
  {
   "cell_type": "code",
   "execution_count": 14,
   "id": "e8b680b8",
   "metadata": {},
   "outputs": [
    {
     "data": {
      "text/plain": [
       "(7, 7, 3)"
      ]
     },
     "execution_count": 14,
     "metadata": {},
     "output_type": "execute_result"
    }
   ],
   "source": [
    "obs[\"image\"].shape"
   ]
  },
  {
   "cell_type": "code",
   "execution_count": null,
   "id": "100b6908",
   "metadata": {},
   "outputs": [],
   "source": [
    "import gymnasium as gym\n",
    "env = gym.make(\"MiniGrid-Empty-5x5-v0\", render_mode=\"human\")\n",
    "observation, info = env.reset(seed=42)\n",
    "for _ in range(1000):\n",
    "   action = policy(observation)  # User-defined policy function\n",
    "   observation, reward, terminated, truncated, info = env.step(action)\n",
    "\n",
    "   if terminated or truncated:\n",
    "      observation, info = env.reset()\n",
    "env.close()"
   ]
  },
  {
   "cell_type": "code",
   "execution_count": 33,
   "id": "efb70aa7",
   "metadata": {},
   "outputs": [],
   "source": [
    "def build_single_env(env_name: str, image_size: int, seed: int = 0):\n",
    "    \"\"\"\n",
    "    Build a single env with wrappers and preprocesses env.\n",
    "    \"\"\"\n",
    "    env = gymnasium.make(\n",
    "        env_name, render_mode=\"rgb_array\")\n",
    "    # Convert int to tuple as gymnasium.wrappers.ResizeObservation requires tuple\n",
    "    if isinstance(image_size, int):\n",
    "        image_size = (image_size, image_size)\n",
    "    env = minigrid.wrappers.RGBImgPartialObsWrapper(env)  # Adds an \"rgb\" key to the obs\n",
    "    env = minigrid.wrappers.ImgObsWrapper(env)  # Sets obs = obs[\"rgb\"], discards others\n",
    "    env = gymnasium.wrappers.ResizeObservation(env, shape=image_size)\n",
    "    # env = env_wrapper.LifeLossInfo(env)\n",
    "\n",
    "    return env"
   ]
  },
  {
   "cell_type": "code",
   "execution_count": 34,
   "id": "ae3db3ea",
   "metadata": {},
   "outputs": [],
   "source": [
    "env_names = [\"MiniGrid-Empty-8x8-v0\", \"MiniGrid-SimpleCrossingS9N3-v0\", \"MiniGrid-DoorKey-8x8-v0\", \"MiniGrid-FourRooms-v0\"] \n",
    "env = build_single_env(env_names[0], image_size=64)"
   ]
  },
  {
   "cell_type": "code",
   "execution_count": 41,
   "id": "17a66d3b",
   "metadata": {},
   "outputs": [],
   "source": [
    "def build_vec_env(env_names: list[str], image_size: int):\n",
    "    \"\"\"\n",
    "    Build a vectorized env with n=num_envs parallel envs.\n",
    "    \"\"\"\n",
    "\n",
    "    # lambda pitfall refs to: https://python.plainenglish.io/python-pitfalls-with-variable-capture-dcfc113f39b7\n",
    "    def lambda_generator(env_name, image_size):\n",
    "        return lambda: build_single_env(env_name, image_size)\n",
    "\n",
    "    env_fns = []\n",
    "    env_fns = [lambda_generator(env_name, image_size) for env_name in env_names]\n",
    "    vec_env = gymnasium.vector.AsyncVectorEnv(env_fns=env_fns)\n",
    "    return vec_env\n"
   ]
  },
  {
   "cell_type": "code",
   "execution_count": null,
   "id": "ec19bbd4",
   "metadata": {},
   "outputs": [],
   "source": []
  }
 ],
 "metadata": {
  "kernelspec": {
   "display_name": "env_RL",
   "language": "python",
   "name": "python3"
  },
  "language_info": {
   "codemirror_mode": {
    "name": "ipython",
    "version": 3
   },
   "file_extension": ".py",
   "mimetype": "text/x-python",
   "name": "python",
   "nbconvert_exporter": "python",
   "pygments_lexer": "ipython3",
   "version": "3.13.2"
  }
 },
 "nbformat": 4,
 "nbformat_minor": 5
}
