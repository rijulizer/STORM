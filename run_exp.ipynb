{
 "cells": [
  {
   "cell_type": "code",
   "execution_count": 1,
   "metadata": {},
   "outputs": [],
   "source": [
    "import gymnasium\n",
    "import ale_py\n",
    "import argparse\n",
    "from tensorboardX import SummaryWriter\n",
    "import cv2\n",
    "import numpy as np\n",
    "from einops import rearrange\n",
    "import torch\n",
    "import torch.nn as nn\n",
    "import torch.nn.functional as F\n",
    "from collections import deque\n",
    "from tqdm import tqdm\n",
    "import copy\n",
    "import colorama\n",
    "import random\n",
    "import json\n",
    "import shutil\n",
    "import pickle\n",
    "import os\n",
    "import wandb\n",
    "import importlib"
   ]
  },
  {
   "cell_type": "code",
   "execution_count": null,
   "metadata": {},
   "outputs": [
    {
     "name": "stdout",
     "output_type": "stream",
     "text": [
      "cuda:1 cuda\n"
     ]
    },
    {
     "name": "stderr",
     "output_type": "stream",
     "text": [
      "/home/I6347325/miniconda3/envs/env_RL/lib/python3.13/site-packages/torchrl/data/replay_buffers/samplers.py:34: UserWarning: Failed to import torchrl C++ binaries. Some modules (eg, prioritized replay buffers) may not work with your installation. This is likely due to a discrepancy between your package version and the PyTorch version. Make sure both are compatible. Usually, torchrl majors follow the pytorch majors within a few days around the release. For instance, TorchRL 0.5 requires PyTorch 2.4.0, and TorchRL 0.6 requires PyTorch 2.5.0.\n",
      "  warnings.warn(EXTENSION_WARNING)\n"
     ]
    }
   ],
   "source": [
    "import sys\n",
    "sys.path.append(os.path.abspath(\"/data/I6347325/work_space/STORM\"))# Dynamically reload the modules to reflect any changes\n",
    "\n",
    "import utils\n",
    "import sub_models.replay_buffer\n",
    "import env_wrapper\n",
    "# import agents\n",
    "import sub_models.director_agents\n",
    "import sub_models.functions_losses\n",
    "import sub_models.world_models\n",
    "import sub_models.constants\n",
    "import train\n",
    "\n",
    "importlib.reload(utils)\n",
    "importlib.reload(sub_models.replay_buffer)\n",
    "importlib.reload(env_wrapper)\n",
    "importlib.reload(sub_models.director_agents)\n",
    "importlib.reload(sub_models.functions_losses)\n",
    "importlib.reload(sub_models.world_models)\n",
    "importlib.reload(sub_models.constants)\n",
    "importlib.reload(train)\n",
    "\n",
    "from utils import seed_np_torch, Logger, load_config\n",
    "from sub_models.replay_buffer import ReplayBuffer\n",
    "from train import (\n",
    "    build_single_env,\n",
    "    build_world_model,\n",
    "    build_agent,\n",
    "    joint_train_world_model_agent,\n",
    ")\n",
    "from sub_models.constants import DEVICE\n",
    "print(DEVICE, DEVICE.type)"
   ]
  },
  {
   "cell_type": "code",
   "execution_count": 3,
   "metadata": {},
   "outputs": [],
   "source": [
    "torch.cuda.set_device(DEVICE)\n",
    "torch.cuda.empty_cache()\n",
    "torch.cuda.ipc_collect()"
   ]
  },
  {
   "cell_type": "code",
   "execution_count": 4,
   "metadata": {},
   "outputs": [],
   "source": [
    "# ignore warnings\n",
    "import warnings\n",
    "\n",
    "warnings.filterwarnings(\"ignore\")\n",
    "if torch.cuda.is_available():\n",
    "    torch.cuda.set_device(DEVICE)\n",
    "    torch.backends.cuda.matmul.allow_tf32 = True\n",
    "    torch.backends.cudnn.allow_tf32 = True\n",
    "\n",
    "class WandbLogger:\n",
    "    def __init__(self, run):\n",
    "        self.run = run\n",
    "\n",
    "    def log(self, key, value, step=None):\n",
    "        \"\"\"Log a key-value pair to wandb with optional step.\"\"\"\n",
    "        log_dict = {key: value}\n",
    "        if step is not None:\n",
    "            self.run.log(log_dict, step=step)\n",
    "        else:\n",
    "            self.run.log(log_dict)"
   ]
  },
  {
   "cell_type": "code",
   "execution_count": 5,
   "metadata": {},
   "outputs": [
    {
     "name": "stdout",
     "output_type": "stream",
     "text": [
      "\u001b[32mArguments:\u001b[0m\n",
      "\u001b[32m-----------------\u001b[0m\n",
      "\u001b[32mexp_name: \u001b[0mSTORM-Director-1\n",
      "\u001b[32mseed: \u001b[0m1\n",
      "\u001b[32mconfig_path: \u001b[0mconfig_files/STORM.yaml\n",
      "\u001b[32mtrajectory_path: \u001b[0mD_TRAJ/MsPacman.pkl\n",
      "\u001b[32menv_name: \u001b[0mALE/MsPacman-v5\n",
      "\u001b[32m-----------------\u001b[0m\n"
     ]
    },
    {
     "data": {
      "text/plain": [
       "'runs/STORM-Director-1/config.yaml'"
      ]
     },
     "execution_count": 5,
     "metadata": {},
     "output_type": "execute_result"
    }
   ],
   "source": [
    "class RunParams:\n",
    "    def __init__(self, env_name=\"MsPacman\", exp_name = \"STORM-Director\"):\n",
    "        self._env_name = env_name\n",
    "        self.exp_name = exp_name\n",
    "        self.seed = 1\n",
    "        self.config_path = \"config_files/STORM.yaml\"\n",
    "        self.trajectory_path = f\"D_TRAJ/{self._env_name}.pkl\"\n",
    "        self.env_name = f\"ALE/{self._env_name}-v5\"\n",
    "\n",
    "        self.conf = load_config(self.config_path)\n",
    "        self.print_args()\n",
    "    def print_args(self):\n",
    "        print(colorama.Fore.GREEN + \"Arguments:\" + colorama.Style.RESET_ALL)\n",
    "        print(colorama.Fore.GREEN + \"-----------------\" + colorama.Style.RESET_ALL)\n",
    "        print(colorama.Fore.GREEN + \"exp_name: \" + colorama.Style.RESET_ALL + self.exp_name)\n",
    "        print(colorama.Fore.GREEN + \"seed: \" + colorama.Style.RESET_ALL + str(self.seed))\n",
    "        print(colorama.Fore.GREEN + \"config_path: \" + colorama.Style.RESET_ALL + self.config_path)\n",
    "        print(colorama.Fore.GREEN + \"trajectory_path: \" + colorama.Style.RESET_ALL + self.trajectory_path)\n",
    "        print(colorama.Fore.GREEN + \"env_name: \" + colorama.Style.RESET_ALL + self.env_name)\n",
    "        print(colorama.Fore.GREEN + \"-----------------\" + colorama.Style.RESET_ALL)\n",
    "    \n",
    "run_params = RunParams(env_name=\"MsPacman\", exp_name = \"STORM-Director-1\")\n",
    "# set seed\n",
    "seed_np_torch(seed=run_params.seed)\n",
    "# tensorboard writer\n",
    "logger = Logger(path=f\"runs/{run_params.exp_name}\")\n",
    "# copy config file\n",
    "shutil.copy(run_params.config_path, f\"runs/{run_params.exp_name}/config.yaml\")"
   ]
  },
  {
   "cell_type": "code",
   "execution_count": 6,
   "metadata": {},
   "outputs": [
    {
     "name": "stdout",
     "output_type": "stream",
     "text": [
      "Train Steps: 25000\n",
      "Train Batch Size: 128\n",
      "Train Buffer Max Length: 50000\n"
     ]
    },
    {
     "name": "stderr",
     "output_type": "stream",
     "text": [
      "A.L.E: Arcade Learning Environment (version 0.10.2+c9d4b19)\n",
      "[Powered by Stella]\n"
     ]
    },
    {
     "name": "stdout",
     "output_type": "stream",
     "text": [
      "World model transformer: StochasticTransformerKVCache\n"
     ]
    }
   ],
   "source": [
    "print(f\"Train Steps: {run_params.conf.JointTrainAgent.SampleMaxSteps}\")\n",
    "print(f\"Train Batch Size: {run_params.conf.JointTrainAgent.BatchSize}\")\n",
    "print(f\"Train Buffer Max Length: {run_params.conf.JointTrainAgent.BufferMaxLength}\")\n",
    "# Setuop env, models, replay buffer\n",
    "# getting action_dim with dummy env\n",
    "dummy_env = build_single_env(\n",
    "    run_params.env_name, run_params.conf.BasicSettings.ImageSize, seed=0\n",
    ")\n",
    "action_dim = dummy_env.action_space.n\n",
    "\n",
    "# build world model and agent\n",
    "world_model = build_world_model(run_params.conf, action_dim)\n",
    "agent = build_agent(run_params.conf, action_dim)\n",
    "print(f\"World model transformer: {world_model.storm_transformer.__class__.__name__}\")\n",
    "# Log the number of parameters for both models\n",
    "world_model_params = sum(p.numel() for p in world_model.parameters() if p.requires_grad)\n",
    "agent_params = sum(p.numel() for p in agent.parameters() if p.requires_grad)\n",
    "\n",
    "# build replay buffer\n",
    "replay_buffer = ReplayBuffer(\n",
    "    obs_shape=(run_params.conf.BasicSettings.ImageSize, run_params.conf.BasicSettings.ImageSize, 3),\n",
    "    num_envs=run_params.conf.JointTrainAgent.NumEnvs,\n",
    "    max_length=run_params.conf.JointTrainAgent.BufferMaxLength,\n",
    "    warmup_length=run_params.conf.JointTrainAgent.BufferWarmUp,\n",
    "    store_on_gpu=run_params.conf.BasicSettings.ReplayBufferOnGPU,\n",
    ")\n",
    "# judge whether to load demonstration trajectory\n",
    "if run_params.conf.JointTrainAgent.UseDemonstration:\n",
    "    print(\n",
    "        colorama.Fore.MAGENTA\n",
    "        + f\"loading demonstration trajectory from {run_params.trajectory_path}\"\n",
    "        + colorama.Style.RESET_ALL\n",
    "    )\n",
    "    replay_buffer.load_trajectory(path=run_params.trajectory_path)\n"
   ]
  },
  {
   "cell_type": "code",
   "execution_count": 7,
   "metadata": {},
   "outputs": [
    {
     "name": "stderr",
     "output_type": "stream",
     "text": [
      "\u001b[34m\u001b[1mwandb\u001b[0m: Using wandb-core as the SDK backend.  Please refer to https://wandb.me/wandb-core for more information.\n"
     ]
    },
    {
     "name": "stderr",
     "output_type": "stream",
     "text": [
      "\u001b[34m\u001b[1mwandb\u001b[0m: Currently logged in as: \u001b[33mriju11-mukherjee\u001b[0m (\u001b[33mrm_ai\u001b[0m) to \u001b[32mhttps://api.wandb.ai\u001b[0m. Use \u001b[1m`wandb login --relogin`\u001b[0m to force relogin\n"
     ]
    },
    {
     "data": {
      "text/html": [
       "Tracking run with wandb version 0.19.9"
      ],
      "text/plain": [
       "<IPython.core.display.HTML object>"
      ]
     },
     "metadata": {},
     "output_type": "display_data"
    },
    {
     "data": {
      "text/html": [
       "Run data is saved locally in <code>/data/I6347325/work_space/STORM/wandb/run-20250517_151758-zjnlk0t0</code>"
      ],
      "text/plain": [
       "<IPython.core.display.HTML object>"
      ]
     },
     "metadata": {},
     "output_type": "display_data"
    },
    {
     "data": {
      "text/html": [
       "Syncing run <strong><a href='https://wandb.ai/rm_ai/Director/runs/zjnlk0t0' target=\"_blank\">STORM-Director-1</a></strong> to <a href='https://wandb.ai/rm_ai/Director' target=\"_blank\">Weights & Biases</a> (<a href='https://wandb.me/developer-guide' target=\"_blank\">docs</a>)<br>"
      ],
      "text/plain": [
       "<IPython.core.display.HTML object>"
      ]
     },
     "metadata": {},
     "output_type": "display_data"
    },
    {
     "data": {
      "text/html": [
       " View project at <a href='https://wandb.ai/rm_ai/Director' target=\"_blank\">https://wandb.ai/rm_ai/Director</a>"
      ],
      "text/plain": [
       "<IPython.core.display.HTML object>"
      ]
     },
     "metadata": {},
     "output_type": "display_data"
    },
    {
     "data": {
      "text/html": [
       " View run at <a href='https://wandb.ai/rm_ai/Director/runs/zjnlk0t0' target=\"_blank\">https://wandb.ai/rm_ai/Director/runs/zjnlk0t0</a>"
      ],
      "text/plain": [
       "<IPython.core.display.HTML object>"
      ]
     },
     "metadata": {},
     "output_type": "display_data"
    },
    {
     "name": "stderr",
     "output_type": "stream",
     "text": [
      "/home/I6347325/miniconda3/envs/env_RL/lib/python3.13/site-packages/torchrl/data/replay_buffers/samplers.py:34: UserWarning: Failed to import torchrl C++ binaries. Some modules (eg, prioritized replay buffers) may not work with your installation. This is likely due to a discrepancy between your package version and the PyTorch version. Make sure both are compatible. Usually, torchrl majors follow the pytorch majors within a few days around the release. For instance, TorchRL 0.5 requires PyTorch 2.4.0, and TorchRL 0.6 requires PyTorch 2.5.0.\n",
      "  warnings.warn(EXTENSION_WARNING)\n",
      "A.L.E: Arcade Learning Environment (version 0.10.2+c9d4b19)\n",
      "[Powered by Stella]\n"
     ]
    },
    {
     "name": "stdout",
     "output_type": "stream",
     "text": [
      "Current env: \u001b[33mALE/MsPacman-v5\u001b[0m\n"
     ]
    },
    {
     "name": "stderr",
     "output_type": "stream",
     "text": [
      "  0%|          | 0/25000 [00:00<?, ?it/s]"
     ]
    },
    {
     "name": "stdout",
     "output_type": "stream",
     "text": [
      "\u001b[32mSaving model at total steps 0\u001b[0m\n"
     ]
    },
    {
     "name": "stderr",
     "output_type": "stream",
     "text": [
      "  4%|▍         | 1003/25000 [00:01<00:35, 668.74it/s]"
     ]
    },
    {
     "name": "stdout",
     "output_type": "stream",
     "text": [
      "Training World Model...\n",
      "Training Agent...\n",
      "init_imagine_buffer: 1024x16@torch.float32\n",
      "Training World Model...\n",
      "Training Agent...\n",
      "init_imagine_buffer: 1024x16@torch.float32\n",
      "Training World Model...\n",
      "Training Agent...\n",
      "init_imagine_buffer: 1024x16@torch.float32\n",
      "Training World Model...\n",
      "Training Agent...\n",
      "init_imagine_buffer: 1024x16@torch.float32\n",
      "Training World Model...\n",
      "Training Agent...\n",
      "init_imagine_buffer: 1024x16@torch.float32\n",
      "Training World Model...\n",
      "Training Agent...\n",
      "init_imagine_buffer: 1024x16@torch.float32\n",
      "Training World Model...\n",
      "Training Agent...\n",
      "init_imagine_buffer: 1024x16@torch.float32\n",
      "Training World Model...\n",
      "Training Agent...\n",
      "init_imagine_buffer: 1024x16@torch.float32\n",
      "Training World Model...\n",
      "Training Agent...\n",
      "init_imagine_buffer: 1024x16@torch.float32\n",
      "Training World Model...\n",
      "Training Agent...\n",
      "init_imagine_buffer: 1024x16@torch.float32\n",
      "Training World Model...\n",
      "Training Agent...\n",
      "init_imagine_buffer: 1024x16@torch.float32\n",
      "Training World Model...\n",
      "Training Agent...\n",
      "init_imagine_buffer: 1024x16@torch.float32\n",
      "Training World Model...\n",
      "Training Agent...\n",
      "init_imagine_buffer: 1024x16@torch.float32\n",
      "Training World Model...\n",
      "Training Agent...\n",
      "init_imagine_buffer: 1024x16@torch.float32\n",
      "Training World Model...\n",
      "Training Agent...\n",
      "init_imagine_buffer: 1024x16@torch.float32\n",
      "Training World Model...\n",
      "Training Agent...\n",
      "init_imagine_buffer: 1024x16@torch.float32\n",
      "Training World Model...\n",
      "Training Agent...\n",
      "init_imagine_buffer: 1024x16@torch.float32\n",
      "Training World Model...\n",
      "Training Agent...\n",
      "init_imagine_buffer: 1024x16@torch.float32\n",
      "Training World Model...\n",
      "Training Agent...\n",
      "init_imagine_buffer: 1024x16@torch.float32\n",
      "Training World Model...\n",
      "Training Agent...\n",
      "init_imagine_buffer: 1024x16@torch.float32\n",
      "Training World Model...\n",
      "Training Agent...\n",
      "init_imagine_buffer: 1024x16@torch.float32\n",
      "Training World Model...\n",
      "Training Agent...\n",
      "init_imagine_buffer: 1024x16@torch.float32\n",
      "Training World Model...\n",
      "Training Agent...\n",
      "init_imagine_buffer: 1024x16@torch.float32\n",
      "Training World Model...\n",
      "Training Agent...\n",
      "init_imagine_buffer: 1024x16@torch.float32\n",
      "Training World Model...\n",
      "Training Agent...\n",
      "init_imagine_buffer: 1024x16@torch.float32\n",
      "Training World Model...\n",
      "Training Agent...\n",
      "init_imagine_buffer: 1024x16@torch.float32\n",
      "Training World Model...\n",
      "Training Agent...\n",
      "init_imagine_buffer: 1024x16@torch.float32\n",
      "Training World Model...\n",
      "Training Agent...\n",
      "init_imagine_buffer: 1024x16@torch.float32\n",
      "Training World Model...\n",
      "Training Agent...\n",
      "init_imagine_buffer: 1024x16@torch.float32\n"
     ]
    },
    {
     "name": "stderr",
     "output_type": "stream",
     "text": [
      "  4%|▍         | 1003/25000 [00:19<00:35, 668.74it/s]"
     ]
    },
    {
     "name": "stdout",
     "output_type": "stream",
     "text": [
      "Training World Model...\n",
      "Training Agent...\n",
      "init_imagine_buffer: 1024x16@torch.float32\n"
     ]
    },
    {
     "name": "stderr",
     "output_type": "stream",
     "text": [
      "  4%|▍         | 1054/25000 [00:20<33:54, 11.77it/s] "
     ]
    },
    {
     "name": "stdout",
     "output_type": "stream",
     "text": [
      "Training World Model...\n",
      "Training Agent...\n",
      "init_imagine_buffer: 1024x16@torch.float32\n"
     ]
    },
    {
     "name": "stderr",
     "output_type": "stream",
     "text": [
      "  4%|▍         | 1055/25000 [00:21<35:15, 11.32it/s]"
     ]
    },
    {
     "name": "stdout",
     "output_type": "stream",
     "text": [
      "Training World Model...\n",
      "Training Agent...\n",
      "init_imagine_buffer: 1024x16@torch.float32\n",
      "Training World Model...\n",
      "Training Agent...\n",
      "init_imagine_buffer: 1024x16@torch.float32\n",
      "Training World Model...\n",
      "Training Agent...\n",
      "init_imagine_buffer: 1024x16@torch.float32\n",
      "Training World Model...\n",
      "Training Agent...\n",
      "init_imagine_buffer: 1024x16@torch.float32\n",
      "Training World Model...\n",
      "Training Agent...\n",
      "init_imagine_buffer: 1024x16@torch.float32\n",
      "Training World Model...\n",
      "Training Agent...\n",
      "init_imagine_buffer: 1024x16@torch.float32\n",
      "Training World Model...\n",
      "Training Agent...\n",
      "init_imagine_buffer: 1024x16@torch.float32\n",
      "Training World Model...\n",
      "Training Agent...\n",
      "init_imagine_buffer: 1024x16@torch.float32\n",
      "Training World Model...\n",
      "Training Agent...\n",
      "init_imagine_buffer: 1024x16@torch.float32\n",
      "Training World Model...\n",
      "Training Agent...\n",
      "init_imagine_buffer: 1024x16@torch.float32\n",
      "Training World Model...\n",
      "Training Agent...\n",
      "init_imagine_buffer: 1024x16@torch.float32\n",
      "Training World Model...\n",
      "Training Agent...\n",
      "init_imagine_buffer: 1024x16@torch.float32\n",
      "Training World Model...\n",
      "Training Agent...\n",
      "init_imagine_buffer: 1024x16@torch.float32\n",
      "Training World Model...\n",
      "Training Agent...\n",
      "init_imagine_buffer: 1024x16@torch.float32\n",
      "Training World Model...\n",
      "Training Agent...\n",
      "init_imagine_buffer: 1024x16@torch.float32\n",
      "Training World Model...\n",
      "Training Agent...\n",
      "init_imagine_buffer: 1024x16@torch.float32\n",
      "Training World Model...\n",
      "Training Agent...\n",
      "init_imagine_buffer: 1024x16@torch.float32\n",
      "Training World Model...\n",
      "Training Agent...\n",
      "init_imagine_buffer: 1024x16@torch.float32\n",
      "Training World Model...\n",
      "Training Agent...\n",
      "init_imagine_buffer: 1024x16@torch.float32\n",
      "Training World Model...\n",
      "Training Agent...\n",
      "init_imagine_buffer: 1024x16@torch.float32\n",
      "Training World Model...\n",
      "Training Agent...\n",
      "init_imagine_buffer: 1024x16@torch.float32\n",
      "Training World Model...\n",
      "Training Agent...\n",
      "init_imagine_buffer: 1024x16@torch.float32\n",
      "Training World Model...\n",
      "Training Agent...\n",
      "init_imagine_buffer: 1024x16@torch.float32\n",
      "Training World Model...\n",
      "Training Agent...\n",
      "init_imagine_buffer: 1024x16@torch.float32\n",
      "Training World Model...\n",
      "Training Agent...\n",
      "init_imagine_buffer: 1024x16@torch.float32\n",
      "Training World Model...\n",
      "Training Agent...\n",
      "init_imagine_buffer: 1024x16@torch.float32\n",
      "Training World Model...\n",
      "Training Agent...\n",
      "init_imagine_buffer: 1024x16@torch.float32\n",
      "Training World Model...\n",
      "Training Agent...\n",
      "init_imagine_buffer: 1024x16@torch.float32\n",
      "Training World Model...\n",
      "Training Agent...\n",
      "init_imagine_buffer: 1024x16@torch.float32\n",
      "Training World Model...\n",
      "Training Agent...\n",
      "init_imagine_buffer: 1024x16@torch.float32\n",
      "Training World Model...\n"
     ]
    },
    {
     "name": "stderr",
     "output_type": "stream",
     "text": [
      "  4%|▍         | 1055/25000 [00:40<35:15, 11.32it/s]"
     ]
    },
    {
     "name": "stdout",
     "output_type": "stream",
     "text": [
      "Training Agent...\n",
      "init_imagine_buffer: 1024x16@torch.float32\n"
     ]
    },
    {
     "name": "stderr",
     "output_type": "stream",
     "text": [
      "  4%|▍         | 1086/25000 [00:40<1:21:02,  4.92it/s]"
     ]
    },
    {
     "name": "stdout",
     "output_type": "stream",
     "text": [
      "Training World Model...\n",
      "Training Agent...\n",
      "init_imagine_buffer: 1024x16@torch.float32\n"
     ]
    },
    {
     "name": "stderr",
     "output_type": "stream",
     "text": [
      "  4%|▍         | 1087/25000 [00:40<1:22:41,  4.82it/s]"
     ]
    },
    {
     "name": "stdout",
     "output_type": "stream",
     "text": [
      "Training World Model...\n",
      "Training Agent...\n",
      "init_imagine_buffer: 1024x16@torch.float32\n",
      "Training World Model...\n",
      "Training Agent...\n",
      "init_imagine_buffer: 1024x16@torch.float32\n",
      "Training World Model...\n",
      "Training Agent...\n",
      "init_imagine_buffer: 1024x16@torch.float32\n",
      "Training World Model...\n",
      "Training Agent...\n",
      "init_imagine_buffer: 1024x16@torch.float32\n",
      "Training World Model...\n",
      "Training Agent...\n",
      "init_imagine_buffer: 1024x16@torch.float32\n",
      "Training World Model...\n",
      "Training Agent...\n",
      "init_imagine_buffer: 1024x16@torch.float32\n",
      "Training World Model...\n",
      "Training Agent...\n",
      "init_imagine_buffer: 1024x16@torch.float32\n",
      "Training World Model...\n",
      "Training Agent...\n",
      "init_imagine_buffer: 1024x16@torch.float32\n",
      "Training World Model...\n",
      "Training Agent...\n",
      "init_imagine_buffer: 1024x16@torch.float32\n",
      "Training World Model...\n",
      "Training Agent...\n",
      "init_imagine_buffer: 1024x16@torch.float32\n",
      "Training World Model...\n",
      "Training Agent...\n",
      "init_imagine_buffer: 1024x16@torch.float32\n",
      "Training World Model...\n",
      "Training Agent...\n",
      "init_imagine_buffer: 1024x16@torch.float32\n",
      "Training World Model...\n",
      "Training Agent...\n",
      "init_imagine_buffer: 1024x16@torch.float32\n",
      "Training World Model...\n",
      "Training Agent...\n",
      "init_imagine_buffer: 1024x16@torch.float32\n",
      "Training World Model...\n",
      "Training Agent...\n",
      "init_imagine_buffer: 1024x16@torch.float32\n",
      "Training World Model...\n",
      "Training Agent...\n",
      "init_imagine_buffer: 1024x16@torch.float32\n",
      "Training World Model...\n",
      "Training Agent...\n",
      "init_imagine_buffer: 1024x16@torch.float32\n",
      "Training World Model...\n",
      "Training Agent...\n",
      "init_imagine_buffer: 1024x16@torch.float32\n",
      "Training World Model...\n",
      "Training Agent...\n",
      "init_imagine_buffer: 1024x16@torch.float32\n",
      "Training World Model...\n",
      "Training Agent...\n",
      "init_imagine_buffer: 1024x16@torch.float32\n",
      "Training World Model...\n",
      "Training Agent...\n",
      "init_imagine_buffer: 1024x16@torch.float32\n",
      "Training World Model...\n",
      "Training Agent...\n",
      "init_imagine_buffer: 1024x16@torch.float32\n",
      "Training World Model...\n",
      "Training Agent...\n",
      "init_imagine_buffer: 1024x16@torch.float32\n",
      "Training World Model...\n",
      "Training Agent...\n",
      "init_imagine_buffer: 1024x16@torch.float32\n",
      "Training World Model...\n",
      "Training Agent...\n",
      "init_imagine_buffer: 1024x16@torch.float32\n",
      "Training World Model...\n",
      "Training Agent...\n",
      "init_imagine_buffer: 1024x16@torch.float32\n",
      "Training World Model...\n",
      "Training Agent...\n",
      "init_imagine_buffer: 1024x16@torch.float32\n",
      "Training World Model...\n",
      "Training Agent...\n",
      "init_imagine_buffer: 1024x16@torch.float32\n",
      "Training World Model...\n",
      "Training Agent...\n",
      "init_imagine_buffer: 1024x16@torch.float32\n",
      "Training World Model...\n",
      "Training Agent...\n",
      "init_imagine_buffer: 1024x16@torch.float32\n",
      "Training World Model...\n",
      "Training Agent...\n",
      "init_imagine_buffer: 1024x16@torch.float32\n",
      "Training World Model...\n"
     ]
    },
    {
     "name": "stderr",
     "output_type": "stream",
     "text": [
      "  4%|▍         | 1087/25000 [01:00<1:22:41,  4.82it/s]"
     ]
    },
    {
     "name": "stdout",
     "output_type": "stream",
     "text": [
      "Training Agent...\n",
      "init_imagine_buffer: 1024x16@torch.float32\n"
     ]
    },
    {
     "name": "stderr",
     "output_type": "stream",
     "text": [
      "  4%|▍         | 1119/25000 [01:00<2:12:42,  3.00it/s]"
     ]
    },
    {
     "name": "stdout",
     "output_type": "stream",
     "text": [
      "Training World Model...\n",
      "Training Agent...\n",
      "init_imagine_buffer: 1024x16@torch.float32\n"
     ]
    },
    {
     "name": "stderr",
     "output_type": "stream",
     "text": [
      "  4%|▍         | 1120/25000 [01:00<2:14:13,  2.97it/s]"
     ]
    },
    {
     "name": "stdout",
     "output_type": "stream",
     "text": [
      "Training World Model...\n",
      "Training Agent...\n",
      "init_imagine_buffer: 1024x16@torch.float32\n",
      "Training World Model...\n",
      "Training Agent...\n",
      "init_imagine_buffer: 1024x16@torch.float32\n",
      "Training World Model...\n",
      "Training Agent...\n",
      "init_imagine_buffer: 1024x16@torch.float32\n",
      "Training World Model...\n",
      "Training Agent...\n",
      "init_imagine_buffer: 1024x16@torch.float32\n",
      "Training World Model...\n",
      "Training Agent...\n",
      "init_imagine_buffer: 1024x16@torch.float32\n",
      "Training World Model...\n",
      "Training Agent...\n",
      "init_imagine_buffer: 1024x16@torch.float32\n",
      "Training World Model...\n",
      "Training Agent...\n",
      "init_imagine_buffer: 1024x16@torch.float32\n",
      "Training World Model...\n",
      "Training Agent...\n",
      "init_imagine_buffer: 1024x16@torch.float32\n",
      "Training World Model...\n",
      "Training Agent...\n",
      "init_imagine_buffer: 1024x16@torch.float32\n",
      "Training World Model...\n",
      "Training Agent...\n",
      "init_imagine_buffer: 1024x16@torch.float32\n",
      "Training World Model...\n",
      "Training Agent...\n",
      "init_imagine_buffer: 1024x16@torch.float32\n",
      "Training World Model...\n",
      "Training Agent...\n",
      "init_imagine_buffer: 1024x16@torch.float32\n",
      "Training World Model...\n",
      "Training Agent...\n",
      "init_imagine_buffer: 1024x16@torch.float32\n",
      "Training World Model...\n",
      "Training Agent...\n",
      "init_imagine_buffer: 1024x16@torch.float32\n",
      "Training World Model...\n",
      "Training Agent...\n",
      "init_imagine_buffer: 1024x16@torch.float32\n",
      "Training World Model...\n",
      "Training Agent...\n",
      "init_imagine_buffer: 1024x16@torch.float32\n",
      "Training World Model...\n",
      "Training Agent...\n",
      "init_imagine_buffer: 1024x16@torch.float32\n",
      "Training World Model...\n",
      "Training Agent...\n",
      "init_imagine_buffer: 1024x16@torch.float32\n",
      "Training World Model...\n",
      "Training Agent...\n",
      "init_imagine_buffer: 1024x16@torch.float32\n",
      "Training World Model...\n",
      "Training Agent...\n",
      "init_imagine_buffer: 1024x16@torch.float32\n",
      "Training World Model...\n",
      "Training Agent...\n",
      "init_imagine_buffer: 1024x16@torch.float32\n",
      "Training World Model...\n",
      "Training Agent...\n",
      "init_imagine_buffer: 1024x16@torch.float32\n",
      "Training World Model...\n",
      "Training Agent...\n",
      "init_imagine_buffer: 1024x16@torch.float32\n",
      "Training World Model...\n",
      "Training Agent...\n",
      "init_imagine_buffer: 1024x16@torch.float32\n"
     ]
    },
    {
     "name": "stderr",
     "output_type": "stream",
     "text": [
      "  5%|▍         | 1144/25000 [01:15<2:48:52,  2.35it/s]"
     ]
    },
    {
     "name": "stdout",
     "output_type": "stream",
     "text": [
      "Training World Model...\n",
      "Training Agent...\n",
      "init_imagine_buffer: 1024x16@torch.float32\n"
     ]
    },
    {
     "name": "stderr",
     "output_type": "stream",
     "text": [
      "  5%|▍         | 1145/25000 [01:16<2:50:15,  2.34it/s]"
     ]
    },
    {
     "name": "stdout",
     "output_type": "stream",
     "text": [
      "Training World Model...\n",
      "Training Agent...\n",
      "init_imagine_buffer: 1024x16@torch.float32\n",
      "Training World Model...\n",
      "Training Agent...\n",
      "init_imagine_buffer: 1024x16@torch.float32\n",
      "Training World Model...\n",
      "Training Agent...\n",
      "init_imagine_buffer: 1024x16@torch.float32\n",
      "Training World Model...\n",
      "Training Agent...\n",
      "init_imagine_buffer: 1024x16@torch.float32\n",
      "Training World Model...\n",
      "Training Agent...\n",
      "init_imagine_buffer: 1024x16@torch.float32\n",
      "Training World Model...\n",
      "Training Agent...\n",
      "init_imagine_buffer: 1024x16@torch.float32\n",
      "Training World Model...\n",
      "Training Agent...\n",
      "init_imagine_buffer: 1024x16@torch.float32\n",
      "Training World Model...\n",
      "Training Agent...\n",
      "init_imagine_buffer: 1024x16@torch.float32\n",
      "Training World Model...\n",
      "Training Agent...\n",
      "init_imagine_buffer: 1024x16@torch.float32\n",
      "Training World Model...\n",
      "Training Agent...\n",
      "init_imagine_buffer: 1024x16@torch.float32\n",
      "Training World Model...\n",
      "Training Agent...\n",
      "init_imagine_buffer: 1024x16@torch.float32\n",
      "Training World Model...\n",
      "Training Agent...\n",
      "init_imagine_buffer: 1024x16@torch.float32\n",
      "Training World Model...\n",
      "Training Agent...\n",
      "init_imagine_buffer: 1024x16@torch.float32\n",
      "Training World Model...\n",
      "Training Agent...\n",
      "init_imagine_buffer: 1024x16@torch.float32\n",
      "Training World Model...\n",
      "Training Agent...\n",
      "init_imagine_buffer: 1024x16@torch.float32\n",
      "Training World Model...\n",
      "Training Agent...\n",
      "init_imagine_buffer: 1024x16@torch.float32\n",
      "Training World Model...\n",
      "Training Agent...\n",
      "init_imagine_buffer: 1024x16@torch.float32\n"
     ]
    },
    {
     "name": "stderr",
     "output_type": "stream",
     "text": [
      "  5%|▍         | 1162/25000 [01:26<3:12:24,  2.06it/s]"
     ]
    },
    {
     "name": "stdout",
     "output_type": "stream",
     "text": [
      "Training World Model...\n",
      "Training Agent...\n",
      "init_imagine_buffer: 1024x16@torch.float32\n"
     ]
    },
    {
     "name": "stderr",
     "output_type": "stream",
     "text": [
      "  5%|▍         | 1163/25000 [01:26<3:13:43,  2.05it/s]"
     ]
    },
    {
     "name": "stdout",
     "output_type": "stream",
     "text": [
      "Training World Model...\n",
      "Training Agent...\n",
      "init_imagine_buffer: 1024x16@torch.float32\n",
      "Training World Model...\n",
      "Training Agent...\n",
      "init_imagine_buffer: 1024x16@torch.float32\n",
      "Training World Model...\n",
      "Training Agent...\n",
      "init_imagine_buffer: 1024x16@torch.float32\n",
      "Training World Model...\n",
      "Training Agent...\n",
      "init_imagine_buffer: 1024x16@torch.float32\n",
      "Training World Model...\n",
      "Training Agent...\n",
      "init_imagine_buffer: 1024x16@torch.float32\n",
      "Training World Model...\n",
      "Training Agent...\n",
      "init_imagine_buffer: 1024x16@torch.float32\n",
      "Training World Model...\n",
      "Training Agent...\n",
      "init_imagine_buffer: 1024x16@torch.float32\n",
      "Training World Model...\n",
      "Training Agent...\n",
      "init_imagine_buffer: 1024x16@torch.float32\n",
      "Training World Model...\n",
      "Training Agent...\n",
      "init_imagine_buffer: 1024x16@torch.float32\n",
      "Training World Model...\n",
      "Training Agent...\n",
      "init_imagine_buffer: 1024x16@torch.float32\n",
      "Training World Model...\n",
      "Training Agent...\n",
      "init_imagine_buffer: 1024x16@torch.float32\n",
      "Training World Model...\n",
      "Training Agent...\n",
      "init_imagine_buffer: 1024x16@torch.float32\n"
     ]
    },
    {
     "name": "stderr",
     "output_type": "stream",
     "text": [
      "  5%|▍         | 1175/25000 [01:34<3:28:31,  1.90it/s]"
     ]
    },
    {
     "name": "stdout",
     "output_type": "stream",
     "text": [
      "Training World Model...\n",
      "Training Agent...\n",
      "init_imagine_buffer: 1024x16@torch.float32\n",
      "Training World Model...\n",
      "Training Agent...\n",
      "init_imagine_buffer: 1024x16@torch.float32\n",
      "Training World Model...\n",
      "Training Agent...\n",
      "init_imagine_buffer: 1024x16@torch.float32\n",
      "Training World Model...\n",
      "Training Agent...\n",
      "init_imagine_buffer: 1024x16@torch.float32\n",
      "Training World Model...\n",
      "Training Agent...\n",
      "init_imagine_buffer: 1024x16@torch.float32\n",
      "Training World Model...\n",
      "Training Agent...\n",
      "init_imagine_buffer: 1024x16@torch.float32\n",
      "Training World Model...\n",
      "Training Agent...\n",
      "init_imagine_buffer: 1024x16@torch.float32\n",
      "Training World Model...\n",
      "Training Agent...\n",
      "init_imagine_buffer: 1024x16@torch.float32\n",
      "Training World Model...\n",
      "Training Agent...\n",
      "init_imagine_buffer: 1024x16@torch.float32\n"
     ]
    },
    {
     "name": "stderr",
     "output_type": "stream",
     "text": [
      "  5%|▍         | 1184/25000 [01:39<3:36:29,  1.83it/s]"
     ]
    },
    {
     "name": "stdout",
     "output_type": "stream",
     "text": [
      "Training World Model...\n",
      "Training Agent...\n",
      "init_imagine_buffer: 1024x16@torch.float32\n",
      "Training World Model...\n",
      "Training Agent...\n",
      "init_imagine_buffer: 1024x16@torch.float32\n",
      "Training World Model...\n",
      "Training Agent...\n",
      "init_imagine_buffer: 1024x16@torch.float32\n",
      "Training World Model...\n",
      "Training Agent...\n",
      "init_imagine_buffer: 1024x16@torch.float32\n",
      "Training World Model...\n",
      "Training Agent...\n",
      "init_imagine_buffer: 1024x16@torch.float32\n",
      "Training World Model...\n",
      "Training Agent...\n",
      "init_imagine_buffer: 1024x16@torch.float32\n"
     ]
    },
    {
     "name": "stderr",
     "output_type": "stream",
     "text": [
      "  5%|▍         | 1190/25000 [01:43<3:41:16,  1.79it/s]"
     ]
    },
    {
     "name": "stdout",
     "output_type": "stream",
     "text": [
      "Training World Model...\n",
      "Training Agent...\n",
      "init_imagine_buffer: 1024x16@torch.float32\n",
      "Training World Model...\n",
      "Training Agent...\n",
      "init_imagine_buffer: 1024x16@torch.float32\n",
      "Training World Model...\n",
      "Training Agent...\n",
      "init_imagine_buffer: 1024x16@torch.float32\n",
      "Training World Model...\n",
      "Training Agent...\n",
      "init_imagine_buffer: 1024x16@torch.float32\n",
      "Training World Model...\n",
      "Training Agent...\n",
      "init_imagine_buffer: 1024x16@torch.float32\n"
     ]
    },
    {
     "name": "stderr",
     "output_type": "stream",
     "text": [
      "  5%|▍         | 1195/25000 [01:46<3:45:00,  1.76it/s]"
     ]
    },
    {
     "name": "stdout",
     "output_type": "stream",
     "text": [
      "Training World Model...\n",
      "Training Agent...\n",
      "init_imagine_buffer: 1024x16@torch.float32\n",
      "Training World Model...\n",
      "Training Agent...\n",
      "init_imagine_buffer: 1024x16@torch.float32\n",
      "Training World Model...\n",
      "Training Agent...\n",
      "init_imagine_buffer: 1024x16@torch.float32\n"
     ]
    },
    {
     "name": "stderr",
     "output_type": "stream",
     "text": [
      "  5%|▍         | 1198/25000 [01:48<3:47:25,  1.74it/s]"
     ]
    },
    {
     "name": "stdout",
     "output_type": "stream",
     "text": [
      "Training World Model...\n",
      "Training Agent...\n",
      "init_imagine_buffer: 1024x16@torch.float32\n",
      "Training World Model...\n",
      "Training Agent...\n",
      "init_imagine_buffer: 1024x16@torch.float32\n",
      "Training World Model...\n",
      "Training Agent...\n",
      "init_imagine_buffer: 1024x16@torch.float32\n"
     ]
    },
    {
     "name": "stderr",
     "output_type": "stream",
     "text": [
      "  5%|▍         | 1201/25000 [01:50<3:49:35,  1.73it/s]"
     ]
    },
    {
     "name": "stdout",
     "output_type": "stream",
     "text": [
      "Training World Model...\n",
      "Training Agent...\n",
      "init_imagine_buffer: 1024x16@torch.float32\n",
      "Training World Model...\n",
      "Training Agent...\n",
      "init_imagine_buffer: 1024x16@torch.float32\n"
     ]
    },
    {
     "name": "stderr",
     "output_type": "stream",
     "text": [
      "  5%|▍         | 1203/25000 [01:51<3:50:46,  1.72it/s]"
     ]
    },
    {
     "name": "stdout",
     "output_type": "stream",
     "text": [
      "Training World Model...\n",
      "Training Agent...\n",
      "init_imagine_buffer: 1024x16@torch.float32\n",
      "Training World Model...\n",
      "Training Agent...\n",
      "init_imagine_buffer: 1024x16@torch.float32\n"
     ]
    },
    {
     "name": "stderr",
     "output_type": "stream",
     "text": [
      "  5%|▍         | 1205/25000 [01:52<3:52:34,  1.71it/s]"
     ]
    },
    {
     "name": "stdout",
     "output_type": "stream",
     "text": [
      "Training World Model...\n",
      "Training Agent...\n",
      "init_imagine_buffer: 1024x16@torch.float32\n"
     ]
    },
    {
     "name": "stderr",
     "output_type": "stream",
     "text": [
      "  5%|▍         | 1206/25000 [01:53<3:53:35,  1.70it/s]"
     ]
    },
    {
     "name": "stdout",
     "output_type": "stream",
     "text": [
      "Training World Model...\n",
      "Training Agent...\n",
      "init_imagine_buffer: 1024x16@torch.float32\n"
     ]
    },
    {
     "name": "stderr",
     "output_type": "stream",
     "text": [
      "  5%|▍         | 1207/25000 [01:53<3:54:48,  1.69it/s]"
     ]
    },
    {
     "name": "stdout",
     "output_type": "stream",
     "text": [
      "Training World Model...\n",
      "Training Agent...\n",
      "init_imagine_buffer: 1024x16@torch.float32\n"
     ]
    },
    {
     "name": "stderr",
     "output_type": "stream",
     "text": [
      "  5%|▍         | 1208/25000 [01:54<3:56:13,  1.68it/s]"
     ]
    },
    {
     "name": "stdout",
     "output_type": "stream",
     "text": [
      "Training World Model...\n",
      "Training Agent...\n",
      "init_imagine_buffer: 1024x16@torch.float32\n"
     ]
    },
    {
     "name": "stderr",
     "output_type": "stream",
     "text": [
      "  5%|▍         | 1209/25000 [01:54<3:57:16,  1.67it/s]"
     ]
    },
    {
     "name": "stdout",
     "output_type": "stream",
     "text": [
      "Training World Model...\n",
      "Training Agent...\n",
      "init_imagine_buffer: 1024x16@torch.float32\n"
     ]
    },
    {
     "name": "stderr",
     "output_type": "stream",
     "text": [
      "  5%|▍         | 1210/25000 [01:55<3:58:08,  1.66it/s]"
     ]
    },
    {
     "name": "stdout",
     "output_type": "stream",
     "text": [
      "Training World Model...\n",
      "Training Agent...\n",
      "init_imagine_buffer: 1024x16@torch.float32\n"
     ]
    },
    {
     "name": "stderr",
     "output_type": "stream",
     "text": [
      "  5%|▍         | 1211/25000 [01:56<3:59:00,  1.66it/s]"
     ]
    },
    {
     "name": "stdout",
     "output_type": "stream",
     "text": [
      "Training World Model...\n",
      "Training Agent...\n",
      "init_imagine_buffer: 1024x16@torch.float32\n"
     ]
    },
    {
     "name": "stderr",
     "output_type": "stream",
     "text": [
      "  5%|▍         | 1212/25000 [01:56<3:59:42,  1.65it/s]"
     ]
    },
    {
     "name": "stdout",
     "output_type": "stream",
     "text": [
      "Training World Model...\n",
      "Training Agent...\n",
      "init_imagine_buffer: 1024x16@torch.float32\n"
     ]
    },
    {
     "name": "stderr",
     "output_type": "stream",
     "text": [
      "  5%|▍         | 1213/25000 [01:57<3:59:53,  1.65it/s]"
     ]
    },
    {
     "name": "stdout",
     "output_type": "stream",
     "text": [
      "Training World Model...\n",
      "Training Agent...\n",
      "init_imagine_buffer: 1024x16@torch.float32\n"
     ]
    },
    {
     "name": "stderr",
     "output_type": "stream",
     "text": [
      "  5%|▍         | 1214/25000 [01:58<4:00:39,  1.65it/s]"
     ]
    },
    {
     "name": "stdout",
     "output_type": "stream",
     "text": [
      "Training World Model...\n",
      "Training Agent...\n",
      "init_imagine_buffer: 1024x16@torch.float32\n"
     ]
    },
    {
     "name": "stderr",
     "output_type": "stream",
     "text": [
      "  5%|▍         | 1215/25000 [01:58<4:00:45,  1.65it/s]"
     ]
    },
    {
     "name": "stdout",
     "output_type": "stream",
     "text": [
      "Training World Model...\n",
      "Training Agent...\n",
      "init_imagine_buffer: 1024x16@torch.float32\n"
     ]
    },
    {
     "name": "stderr",
     "output_type": "stream",
     "text": [
      "  5%|▍         | 1216/25000 [01:59<4:00:54,  1.65it/s]"
     ]
    },
    {
     "name": "stdout",
     "output_type": "stream",
     "text": [
      "Training World Model...\n",
      "Training Agent...\n",
      "init_imagine_buffer: 1024x16@torch.float32\n"
     ]
    },
    {
     "name": "stderr",
     "output_type": "stream",
     "text": [
      "  5%|▍         | 1217/25000 [01:59<4:01:44,  1.64it/s]"
     ]
    },
    {
     "name": "stdout",
     "output_type": "stream",
     "text": [
      "Training World Model...\n",
      "Training Agent...\n",
      "init_imagine_buffer: 1024x16@torch.float32\n"
     ]
    },
    {
     "name": "stderr",
     "output_type": "stream",
     "text": [
      "  5%|▍         | 1218/25000 [02:00<4:01:58,  1.64it/s]"
     ]
    },
    {
     "name": "stdout",
     "output_type": "stream",
     "text": [
      "Training World Model...\n",
      "Training Agent...\n",
      "init_imagine_buffer: 1024x16@torch.float32\n"
     ]
    },
    {
     "name": "stderr",
     "output_type": "stream",
     "text": [
      "  5%|▍         | 1219/25000 [02:01<4:02:15,  1.64it/s]"
     ]
    },
    {
     "name": "stdout",
     "output_type": "stream",
     "text": [
      "Training World Model...\n",
      "Training Agent...\n",
      "init_imagine_buffer: 1024x16@torch.float32\n"
     ]
    },
    {
     "name": "stderr",
     "output_type": "stream",
     "text": [
      "  5%|▍         | 1220/25000 [02:01<4:02:20,  1.64it/s]"
     ]
    },
    {
     "name": "stdout",
     "output_type": "stream",
     "text": [
      "Training World Model...\n",
      "Training Agent...\n",
      "init_imagine_buffer: 1024x16@torch.float32\n"
     ]
    },
    {
     "name": "stderr",
     "output_type": "stream",
     "text": [
      "  5%|▍         | 1221/25000 [02:02<4:02:02,  1.64it/s]"
     ]
    },
    {
     "name": "stdout",
     "output_type": "stream",
     "text": [
      "Training World Model...\n",
      "Training Agent...\n",
      "init_imagine_buffer: 1024x16@torch.float32\n"
     ]
    },
    {
     "name": "stderr",
     "output_type": "stream",
     "text": [
      "  5%|▍         | 1222/25000 [02:02<4:01:06,  1.64it/s]"
     ]
    },
    {
     "name": "stdout",
     "output_type": "stream",
     "text": [
      "Training World Model...\n",
      "Training Agent...\n",
      "init_imagine_buffer: 1024x16@torch.float32\n"
     ]
    },
    {
     "name": "stderr",
     "output_type": "stream",
     "text": [
      "  5%|▍         | 1223/25000 [02:03<4:00:15,  1.65it/s]"
     ]
    },
    {
     "name": "stdout",
     "output_type": "stream",
     "text": [
      "Training World Model...\n",
      "Training Agent...\n",
      "init_imagine_buffer: 1024x16@torch.float32\n"
     ]
    },
    {
     "name": "stderr",
     "output_type": "stream",
     "text": [
      "  5%|▍         | 1224/25000 [02:04<3:59:48,  1.65it/s]"
     ]
    },
    {
     "name": "stdout",
     "output_type": "stream",
     "text": [
      "Training World Model...\n",
      "Training Agent...\n",
      "init_imagine_buffer: 1024x16@torch.float32\n"
     ]
    },
    {
     "name": "stderr",
     "output_type": "stream",
     "text": [
      "  5%|▍         | 1225/25000 [02:04<3:59:44,  1.65it/s]"
     ]
    },
    {
     "name": "stdout",
     "output_type": "stream",
     "text": [
      "Training World Model...\n",
      "Training Agent...\n",
      "init_imagine_buffer: 1024x16@torch.float32\n"
     ]
    },
    {
     "name": "stderr",
     "output_type": "stream",
     "text": [
      "  5%|▍         | 1226/25000 [02:05<4:00:24,  1.65it/s]"
     ]
    },
    {
     "name": "stdout",
     "output_type": "stream",
     "text": [
      "Training World Model...\n",
      "Training Agent...\n",
      "init_imagine_buffer: 1024x16@torch.float32\n"
     ]
    },
    {
     "name": "stderr",
     "output_type": "stream",
     "text": [
      "  5%|▍         | 1227/25000 [02:05<4:01:09,  1.64it/s]"
     ]
    },
    {
     "name": "stdout",
     "output_type": "stream",
     "text": [
      "Training World Model...\n",
      "Training Agent...\n",
      "init_imagine_buffer: 1024x16@torch.float32\n"
     ]
    },
    {
     "name": "stderr",
     "output_type": "stream",
     "text": [
      "  5%|▍         | 1228/25000 [02:06<4:01:32,  1.64it/s]"
     ]
    },
    {
     "name": "stdout",
     "output_type": "stream",
     "text": [
      "Training World Model...\n",
      "Training Agent...\n",
      "init_imagine_buffer: 1024x16@torch.float32\n"
     ]
    },
    {
     "name": "stderr",
     "output_type": "stream",
     "text": [
      "  5%|▍         | 1229/25000 [02:07<4:01:51,  1.64it/s]"
     ]
    },
    {
     "name": "stdout",
     "output_type": "stream",
     "text": [
      "Training World Model...\n",
      "Training Agent...\n",
      "init_imagine_buffer: 1024x16@torch.float32\n"
     ]
    },
    {
     "name": "stderr",
     "output_type": "stream",
     "text": [
      "  5%|▍         | 1230/25000 [02:07<4:01:49,  1.64it/s]"
     ]
    },
    {
     "name": "stdout",
     "output_type": "stream",
     "text": [
      "Training World Model...\n",
      "Training Agent...\n",
      "init_imagine_buffer: 1024x16@torch.float32\n"
     ]
    },
    {
     "name": "stderr",
     "output_type": "stream",
     "text": [
      "  5%|▍         | 1231/25000 [02:08<4:02:11,  1.64it/s]"
     ]
    },
    {
     "name": "stdout",
     "output_type": "stream",
     "text": [
      "Training World Model...\n",
      "Training Agent...\n",
      "init_imagine_buffer: 1024x16@torch.float32\n"
     ]
    },
    {
     "name": "stderr",
     "output_type": "stream",
     "text": [
      "  5%|▍         | 1232/25000 [02:09<4:02:00,  1.64it/s]"
     ]
    },
    {
     "name": "stdout",
     "output_type": "stream",
     "text": [
      "Training World Model...\n",
      "Training Agent...\n",
      "init_imagine_buffer: 1024x16@torch.float32\n"
     ]
    },
    {
     "name": "stderr",
     "output_type": "stream",
     "text": [
      "  5%|▍         | 1233/25000 [02:09<4:01:28,  1.64it/s]"
     ]
    },
    {
     "name": "stdout",
     "output_type": "stream",
     "text": [
      "Training World Model...\n",
      "Training Agent...\n",
      "init_imagine_buffer: 1024x16@torch.float32\n"
     ]
    },
    {
     "name": "stderr",
     "output_type": "stream",
     "text": [
      "  5%|▍         | 1234/25000 [02:10<4:02:21,  1.63it/s]"
     ]
    },
    {
     "name": "stdout",
     "output_type": "stream",
     "text": [
      "Training World Model...\n",
      "Training Agent...\n",
      "init_imagine_buffer: 1024x16@torch.float32\n"
     ]
    },
    {
     "name": "stderr",
     "output_type": "stream",
     "text": [
      "  5%|▍         | 1235/25000 [02:10<4:01:45,  1.64it/s]"
     ]
    },
    {
     "name": "stdout",
     "output_type": "stream",
     "text": [
      "Training World Model...\n",
      "Training Agent...\n",
      "init_imagine_buffer: 1024x16@torch.float32\n"
     ]
    },
    {
     "name": "stderr",
     "output_type": "stream",
     "text": [
      "  5%|▍         | 1236/25000 [02:11<4:02:03,  1.64it/s]"
     ]
    },
    {
     "name": "stdout",
     "output_type": "stream",
     "text": [
      "Training World Model...\n",
      "Training Agent...\n",
      "init_imagine_buffer: 1024x16@torch.float32\n"
     ]
    },
    {
     "name": "stderr",
     "output_type": "stream",
     "text": [
      "  5%|▍         | 1237/25000 [02:12<4:02:32,  1.63it/s]"
     ]
    },
    {
     "name": "stdout",
     "output_type": "stream",
     "text": [
      "Training World Model...\n",
      "Training Agent...\n",
      "init_imagine_buffer: 1024x16@torch.float32\n"
     ]
    },
    {
     "name": "stderr",
     "output_type": "stream",
     "text": [
      "  5%|▍         | 1238/25000 [02:12<4:03:26,  1.63it/s]"
     ]
    },
    {
     "name": "stdout",
     "output_type": "stream",
     "text": [
      "Training World Model...\n",
      "Training Agent...\n",
      "init_imagine_buffer: 1024x16@torch.float32\n"
     ]
    },
    {
     "name": "stderr",
     "output_type": "stream",
     "text": [
      "  5%|▍         | 1239/25000 [02:13<4:02:39,  1.63it/s]"
     ]
    },
    {
     "name": "stdout",
     "output_type": "stream",
     "text": [
      "Training World Model...\n",
      "Training Agent...\n",
      "init_imagine_buffer: 1024x16@torch.float32\n"
     ]
    },
    {
     "name": "stderr",
     "output_type": "stream",
     "text": [
      "  5%|▍         | 1240/25000 [02:13<4:02:03,  1.64it/s]"
     ]
    },
    {
     "name": "stdout",
     "output_type": "stream",
     "text": [
      "Training World Model...\n",
      "Training Agent...\n",
      "init_imagine_buffer: 1024x16@torch.float32\n"
     ]
    },
    {
     "name": "stderr",
     "output_type": "stream",
     "text": [
      "  5%|▍         | 1241/25000 [02:14<4:02:04,  1.64it/s]"
     ]
    },
    {
     "name": "stdout",
     "output_type": "stream",
     "text": [
      "Training World Model...\n",
      "Training Agent...\n",
      "init_imagine_buffer: 1024x16@torch.float32\n"
     ]
    },
    {
     "name": "stderr",
     "output_type": "stream",
     "text": [
      "  5%|▍         | 1242/25000 [02:15<4:02:35,  1.63it/s]"
     ]
    },
    {
     "name": "stdout",
     "output_type": "stream",
     "text": [
      "Training World Model...\n",
      "Training Agent...\n",
      "init_imagine_buffer: 1024x16@torch.float32\n"
     ]
    },
    {
     "name": "stderr",
     "output_type": "stream",
     "text": [
      "  5%|▍         | 1243/25000 [02:15<4:01:49,  1.64it/s]"
     ]
    },
    {
     "name": "stdout",
     "output_type": "stream",
     "text": [
      "Training World Model...\n",
      "Training Agent...\n",
      "init_imagine_buffer: 1024x16@torch.float32\n"
     ]
    },
    {
     "name": "stderr",
     "output_type": "stream",
     "text": [
      "  5%|▍         | 1244/25000 [02:16<4:00:52,  1.64it/s]"
     ]
    },
    {
     "name": "stdout",
     "output_type": "stream",
     "text": [
      "Training World Model...\n",
      "Training Agent...\n",
      "init_imagine_buffer: 1024x16@torch.float32\n"
     ]
    },
    {
     "name": "stderr",
     "output_type": "stream",
     "text": [
      "  5%|▍         | 1245/25000 [02:16<4:00:17,  1.65it/s]"
     ]
    },
    {
     "name": "stdout",
     "output_type": "stream",
     "text": [
      "Training World Model...\n",
      "Training Agent...\n",
      "init_imagine_buffer: 1024x16@torch.float32\n"
     ]
    },
    {
     "name": "stderr",
     "output_type": "stream",
     "text": [
      "  5%|▍         | 1246/25000 [02:17<3:59:35,  1.65it/s]"
     ]
    },
    {
     "name": "stdout",
     "output_type": "stream",
     "text": [
      "Training World Model...\n",
      "Training Agent...\n",
      "init_imagine_buffer: 1024x16@torch.float32\n"
     ]
    },
    {
     "name": "stderr",
     "output_type": "stream",
     "text": [
      "  5%|▍         | 1247/25000 [02:18<3:59:36,  1.65it/s]"
     ]
    },
    {
     "name": "stdout",
     "output_type": "stream",
     "text": [
      "Training World Model...\n",
      "Training Agent...\n",
      "init_imagine_buffer: 1024x16@torch.float32\n"
     ]
    },
    {
     "name": "stderr",
     "output_type": "stream",
     "text": [
      "  5%|▍         | 1248/25000 [02:18<4:00:01,  1.65it/s]"
     ]
    },
    {
     "name": "stdout",
     "output_type": "stream",
     "text": [
      "Training World Model...\n",
      "Training Agent...\n",
      "init_imagine_buffer: 1024x16@torch.float32\n"
     ]
    },
    {
     "name": "stderr",
     "output_type": "stream",
     "text": [
      "  5%|▍         | 1249/25000 [02:19<4:00:21,  1.65it/s]"
     ]
    },
    {
     "name": "stdout",
     "output_type": "stream",
     "text": [
      "Training World Model...\n",
      "Training Agent...\n",
      "init_imagine_buffer: 1024x16@torch.float32\n"
     ]
    },
    {
     "name": "stderr",
     "output_type": "stream",
     "text": [
      "  5%|▌         | 1250/25000 [02:19<4:01:20,  1.64it/s]"
     ]
    },
    {
     "name": "stdout",
     "output_type": "stream",
     "text": [
      "Training World Model...\n",
      "Training Agent...\n",
      "init_imagine_buffer: 1024x16@torch.float32\n"
     ]
    },
    {
     "name": "stderr",
     "output_type": "stream",
     "text": [
      "  5%|▌         | 1251/25000 [02:20<4:01:34,  1.64it/s]"
     ]
    },
    {
     "name": "stdout",
     "output_type": "stream",
     "text": [
      "Training World Model...\n",
      "Training Agent...\n",
      "init_imagine_buffer: 1024x16@torch.float32\n"
     ]
    },
    {
     "name": "stderr",
     "output_type": "stream",
     "text": [
      "  5%|▌         | 1252/25000 [02:21<4:01:20,  1.64it/s]"
     ]
    },
    {
     "name": "stdout",
     "output_type": "stream",
     "text": [
      "Training World Model...\n",
      "Training Agent...\n",
      "init_imagine_buffer: 1024x16@torch.float32\n"
     ]
    },
    {
     "name": "stderr",
     "output_type": "stream",
     "text": [
      "  5%|▌         | 1253/25000 [02:21<4:01:31,  1.64it/s]"
     ]
    },
    {
     "name": "stdout",
     "output_type": "stream",
     "text": [
      "Training World Model...\n",
      "Training Agent...\n",
      "init_imagine_buffer: 1024x16@torch.float32\n"
     ]
    },
    {
     "name": "stderr",
     "output_type": "stream",
     "text": [
      "  5%|▌         | 1254/25000 [02:22<4:01:10,  1.64it/s]"
     ]
    },
    {
     "name": "stdout",
     "output_type": "stream",
     "text": [
      "Training World Model...\n",
      "Training Agent...\n",
      "init_imagine_buffer: 1024x16@torch.float32\n"
     ]
    },
    {
     "name": "stderr",
     "output_type": "stream",
     "text": [
      "  5%|▌         | 1255/25000 [02:23<4:01:25,  1.64it/s]"
     ]
    },
    {
     "name": "stdout",
     "output_type": "stream",
     "text": [
      "Training World Model...\n",
      "Training Agent...\n",
      "init_imagine_buffer: 1024x16@torch.float32\n"
     ]
    },
    {
     "name": "stderr",
     "output_type": "stream",
     "text": [
      "  5%|▌         | 1256/25000 [02:23<4:01:21,  1.64it/s]"
     ]
    },
    {
     "name": "stdout",
     "output_type": "stream",
     "text": [
      "Training World Model...\n",
      "Training Agent...\n",
      "init_imagine_buffer: 1024x16@torch.float32\n"
     ]
    },
    {
     "name": "stderr",
     "output_type": "stream",
     "text": [
      "  5%|▌         | 1257/25000 [02:24<4:01:18,  1.64it/s]"
     ]
    },
    {
     "name": "stdout",
     "output_type": "stream",
     "text": [
      "Training World Model...\n",
      "Training Agent...\n",
      "init_imagine_buffer: 1024x16@torch.float32\n"
     ]
    },
    {
     "name": "stderr",
     "output_type": "stream",
     "text": [
      "  5%|▌         | 1258/25000 [02:24<4:01:00,  1.64it/s]"
     ]
    },
    {
     "name": "stdout",
     "output_type": "stream",
     "text": [
      "Training World Model...\n",
      "Training Agent...\n",
      "init_imagine_buffer: 1024x16@torch.float32\n"
     ]
    },
    {
     "name": "stderr",
     "output_type": "stream",
     "text": [
      "  5%|▌         | 1259/25000 [02:25<4:00:32,  1.64it/s]"
     ]
    },
    {
     "name": "stdout",
     "output_type": "stream",
     "text": [
      "Training World Model...\n",
      "Training Agent...\n",
      "init_imagine_buffer: 1024x16@torch.float32\n"
     ]
    },
    {
     "name": "stderr",
     "output_type": "stream",
     "text": [
      "  5%|▌         | 1260/25000 [02:26<4:01:14,  1.64it/s]"
     ]
    },
    {
     "name": "stdout",
     "output_type": "stream",
     "text": [
      "Training World Model...\n",
      "Training Agent...\n",
      "init_imagine_buffer: 1024x16@torch.float32\n"
     ]
    },
    {
     "name": "stderr",
     "output_type": "stream",
     "text": [
      "  5%|▌         | 1261/25000 [02:26<4:01:27,  1.64it/s]"
     ]
    },
    {
     "name": "stdout",
     "output_type": "stream",
     "text": [
      "Training World Model...\n",
      "Training Agent...\n",
      "init_imagine_buffer: 1024x16@torch.float32\n"
     ]
    },
    {
     "name": "stderr",
     "output_type": "stream",
     "text": [
      "  5%|▌         | 1262/25000 [02:27<4:01:49,  1.64it/s]"
     ]
    },
    {
     "name": "stdout",
     "output_type": "stream",
     "text": [
      "Training World Model...\n",
      "Training Agent...\n",
      "init_imagine_buffer: 1024x16@torch.float32\n"
     ]
    },
    {
     "name": "stderr",
     "output_type": "stream",
     "text": [
      "  5%|▌         | 1263/25000 [02:27<4:01:51,  1.64it/s]"
     ]
    },
    {
     "name": "stdout",
     "output_type": "stream",
     "text": [
      "Training World Model...\n",
      "Training Agent...\n",
      "init_imagine_buffer: 1024x16@torch.float32\n"
     ]
    },
    {
     "name": "stderr",
     "output_type": "stream",
     "text": [
      "  5%|▌         | 1264/25000 [02:28<4:01:55,  1.64it/s]"
     ]
    },
    {
     "name": "stdout",
     "output_type": "stream",
     "text": [
      "Training World Model...\n",
      "Training Agent...\n",
      "init_imagine_buffer: 1024x16@torch.float32\n"
     ]
    },
    {
     "name": "stderr",
     "output_type": "stream",
     "text": [
      "  5%|▌         | 1265/25000 [02:29<4:01:01,  1.64it/s]"
     ]
    },
    {
     "name": "stdout",
     "output_type": "stream",
     "text": [
      "Training World Model...\n",
      "Training Agent...\n",
      "init_imagine_buffer: 1024x16@torch.float32\n"
     ]
    },
    {
     "name": "stderr",
     "output_type": "stream",
     "text": [
      "  5%|▌         | 1266/25000 [02:29<3:59:51,  1.65it/s]"
     ]
    },
    {
     "name": "stdout",
     "output_type": "stream",
     "text": [
      "Training World Model...\n",
      "Training Agent...\n",
      "init_imagine_buffer: 1024x16@torch.float32\n"
     ]
    },
    {
     "name": "stderr",
     "output_type": "stream",
     "text": [
      "  5%|▌         | 1267/25000 [02:30<3:59:02,  1.65it/s]"
     ]
    },
    {
     "name": "stdout",
     "output_type": "stream",
     "text": [
      "Training World Model...\n",
      "Training Agent...\n",
      "init_imagine_buffer: 1024x16@torch.float32\n"
     ]
    },
    {
     "name": "stderr",
     "output_type": "stream",
     "text": [
      "  5%|▌         | 1268/25000 [02:30<3:59:19,  1.65it/s]"
     ]
    },
    {
     "name": "stdout",
     "output_type": "stream",
     "text": [
      "Training World Model...\n",
      "Training Agent...\n",
      "init_imagine_buffer: 1024x16@torch.float32\n"
     ]
    },
    {
     "name": "stderr",
     "output_type": "stream",
     "text": [
      "  5%|▌         | 1269/25000 [02:31<4:00:48,  1.64it/s]"
     ]
    },
    {
     "name": "stdout",
     "output_type": "stream",
     "text": [
      "Training World Model...\n",
      "Training Agent...\n",
      "init_imagine_buffer: 1024x16@torch.float32\n"
     ]
    },
    {
     "name": "stderr",
     "output_type": "stream",
     "text": [
      "  5%|▌         | 1270/25000 [02:32<4:00:55,  1.64it/s]"
     ]
    },
    {
     "name": "stdout",
     "output_type": "stream",
     "text": [
      "Training World Model...\n",
      "Training Agent...\n",
      "init_imagine_buffer: 1024x16@torch.float32\n"
     ]
    },
    {
     "name": "stderr",
     "output_type": "stream",
     "text": [
      "  5%|▌         | 1271/25000 [02:32<4:01:11,  1.64it/s]"
     ]
    },
    {
     "name": "stdout",
     "output_type": "stream",
     "text": [
      "Training World Model...\n",
      "Training Agent...\n",
      "init_imagine_buffer: 1024x16@torch.float32\n"
     ]
    },
    {
     "name": "stderr",
     "output_type": "stream",
     "text": [
      "  5%|▌         | 1272/25000 [02:33<4:01:49,  1.64it/s]"
     ]
    },
    {
     "name": "stdout",
     "output_type": "stream",
     "text": [
      "Training World Model...\n",
      "Training Agent...\n",
      "init_imagine_buffer: 1024x16@torch.float32\n"
     ]
    },
    {
     "name": "stderr",
     "output_type": "stream",
     "text": [
      "  5%|▌         | 1273/25000 [02:34<4:01:32,  1.64it/s]"
     ]
    },
    {
     "name": "stdout",
     "output_type": "stream",
     "text": [
      "Training World Model...\n",
      "Training Agent...\n",
      "init_imagine_buffer: 1024x16@torch.float32\n"
     ]
    },
    {
     "name": "stderr",
     "output_type": "stream",
     "text": [
      "  5%|▌         | 1274/25000 [02:34<4:01:44,  1.64it/s]"
     ]
    },
    {
     "name": "stdout",
     "output_type": "stream",
     "text": [
      "Training World Model...\n",
      "Training Agent...\n",
      "init_imagine_buffer: 1024x16@torch.float32\n"
     ]
    },
    {
     "name": "stderr",
     "output_type": "stream",
     "text": [
      "  5%|▌         | 1275/25000 [02:35<4:01:52,  1.63it/s]"
     ]
    },
    {
     "name": "stdout",
     "output_type": "stream",
     "text": [
      "Training World Model...\n",
      "Training Agent...\n",
      "init_imagine_buffer: 1024x16@torch.float32\n"
     ]
    },
    {
     "name": "stderr",
     "output_type": "stream",
     "text": [
      "  5%|▌         | 1276/25000 [02:35<4:01:58,  1.63it/s]"
     ]
    },
    {
     "name": "stdout",
     "output_type": "stream",
     "text": [
      "Training World Model...\n",
      "Training Agent...\n",
      "init_imagine_buffer: 1024x16@torch.float32\n"
     ]
    },
    {
     "name": "stderr",
     "output_type": "stream",
     "text": [
      "  5%|▌         | 1277/25000 [02:36<4:01:52,  1.63it/s]"
     ]
    },
    {
     "name": "stdout",
     "output_type": "stream",
     "text": [
      "Training World Model...\n",
      "Training Agent...\n",
      "init_imagine_buffer: 1024x16@torch.float32\n"
     ]
    },
    {
     "name": "stderr",
     "output_type": "stream",
     "text": [
      "  5%|▌         | 1278/25000 [02:37<4:02:50,  1.63it/s]"
     ]
    },
    {
     "name": "stdout",
     "output_type": "stream",
     "text": [
      "Training World Model...\n",
      "Training Agent...\n",
      "init_imagine_buffer: 1024x16@torch.float32\n"
     ]
    },
    {
     "name": "stderr",
     "output_type": "stream",
     "text": [
      "  5%|▌         | 1279/25000 [02:37<4:02:31,  1.63it/s]"
     ]
    },
    {
     "name": "stdout",
     "output_type": "stream",
     "text": [
      "Training World Model...\n",
      "Training Agent...\n",
      "init_imagine_buffer: 1024x16@torch.float32\n"
     ]
    },
    {
     "name": "stderr",
     "output_type": "stream",
     "text": [
      "  5%|▌         | 1280/25000 [02:38<4:01:27,  1.64it/s]"
     ]
    },
    {
     "name": "stdout",
     "output_type": "stream",
     "text": [
      "Training World Model...\n",
      "Training Agent...\n",
      "init_imagine_buffer: 1024x16@torch.float32\n"
     ]
    },
    {
     "name": "stderr",
     "output_type": "stream",
     "text": [
      "  5%|▌         | 1281/25000 [02:38<4:00:57,  1.64it/s]"
     ]
    },
    {
     "name": "stdout",
     "output_type": "stream",
     "text": [
      "Training World Model...\n",
      "Training Agent...\n",
      "init_imagine_buffer: 1024x16@torch.float32\n"
     ]
    },
    {
     "name": "stderr",
     "output_type": "stream",
     "text": [
      "  5%|▌         | 1282/25000 [02:39<4:01:18,  1.64it/s]"
     ]
    },
    {
     "name": "stdout",
     "output_type": "stream",
     "text": [
      "Training World Model...\n",
      "Training Agent...\n",
      "init_imagine_buffer: 1024x16@torch.float32\n"
     ]
    },
    {
     "name": "stderr",
     "output_type": "stream",
     "text": [
      "  5%|▌         | 1283/25000 [02:40<4:01:45,  1.64it/s]"
     ]
    },
    {
     "name": "stdout",
     "output_type": "stream",
     "text": [
      "Training World Model...\n",
      "Training Agent...\n",
      "init_imagine_buffer: 1024x16@torch.float32\n"
     ]
    },
    {
     "name": "stderr",
     "output_type": "stream",
     "text": [
      "  5%|▌         | 1284/25000 [02:40<4:02:40,  1.63it/s]"
     ]
    },
    {
     "name": "stdout",
     "output_type": "stream",
     "text": [
      "Training World Model...\n",
      "Training Agent...\n",
      "init_imagine_buffer: 1024x16@torch.float32\n"
     ]
    },
    {
     "name": "stderr",
     "output_type": "stream",
     "text": [
      "  5%|▌         | 1285/25000 [02:41<4:02:44,  1.63it/s]"
     ]
    },
    {
     "name": "stdout",
     "output_type": "stream",
     "text": [
      "Training World Model...\n",
      "Training Agent...\n",
      "init_imagine_buffer: 1024x16@torch.float32\n"
     ]
    },
    {
     "name": "stderr",
     "output_type": "stream",
     "text": [
      "  5%|▌         | 1286/25000 [02:41<4:01:30,  1.64it/s]"
     ]
    },
    {
     "name": "stdout",
     "output_type": "stream",
     "text": [
      "Training World Model...\n",
      "Training Agent...\n",
      "init_imagine_buffer: 1024x16@torch.float32\n"
     ]
    },
    {
     "name": "stderr",
     "output_type": "stream",
     "text": [
      "  5%|▌         | 1287/25000 [02:42<4:00:21,  1.64it/s]"
     ]
    },
    {
     "name": "stdout",
     "output_type": "stream",
     "text": [
      "Training World Model...\n",
      "Training Agent...\n",
      "init_imagine_buffer: 1024x16@torch.float32\n"
     ]
    },
    {
     "name": "stderr",
     "output_type": "stream",
     "text": [
      "  5%|▌         | 1288/25000 [02:43<3:59:32,  1.65it/s]"
     ]
    },
    {
     "name": "stdout",
     "output_type": "stream",
     "text": [
      "Training World Model...\n",
      "Training Agent...\n",
      "init_imagine_buffer: 1024x16@torch.float32\n"
     ]
    },
    {
     "name": "stderr",
     "output_type": "stream",
     "text": [
      "  5%|▌         | 1289/25000 [02:43<3:58:58,  1.65it/s]"
     ]
    },
    {
     "name": "stdout",
     "output_type": "stream",
     "text": [
      "Training World Model...\n",
      "Training Agent...\n",
      "init_imagine_buffer: 1024x16@torch.float32\n"
     ]
    },
    {
     "name": "stderr",
     "output_type": "stream",
     "text": [
      "  5%|▌         | 1290/25000 [02:44<3:59:11,  1.65it/s]"
     ]
    },
    {
     "name": "stdout",
     "output_type": "stream",
     "text": [
      "Training World Model...\n",
      "Training Agent...\n",
      "init_imagine_buffer: 1024x16@torch.float32\n"
     ]
    },
    {
     "name": "stderr",
     "output_type": "stream",
     "text": [
      "  5%|▌         | 1291/25000 [02:44<4:00:11,  1.65it/s]"
     ]
    },
    {
     "name": "stdout",
     "output_type": "stream",
     "text": [
      "Training World Model...\n",
      "Training Agent...\n",
      "init_imagine_buffer: 1024x16@torch.float32\n"
     ]
    },
    {
     "name": "stderr",
     "output_type": "stream",
     "text": [
      "  5%|▌         | 1292/25000 [02:45<4:00:18,  1.64it/s]"
     ]
    },
    {
     "name": "stdout",
     "output_type": "stream",
     "text": [
      "Training World Model...\n",
      "Training Agent...\n",
      "init_imagine_buffer: 1024x16@torch.float32\n"
     ]
    },
    {
     "name": "stderr",
     "output_type": "stream",
     "text": [
      "  5%|▌         | 1293/25000 [02:46<4:00:21,  1.64it/s]"
     ]
    },
    {
     "name": "stdout",
     "output_type": "stream",
     "text": [
      "Training World Model...\n",
      "Training Agent...\n",
      "init_imagine_buffer: 1024x16@torch.float32\n"
     ]
    },
    {
     "name": "stderr",
     "output_type": "stream",
     "text": [
      "  5%|▌         | 1294/25000 [02:46<4:01:27,  1.64it/s]"
     ]
    },
    {
     "name": "stdout",
     "output_type": "stream",
     "text": [
      "Training World Model...\n",
      "Training Agent...\n",
      "init_imagine_buffer: 1024x16@torch.float32\n"
     ]
    },
    {
     "name": "stderr",
     "output_type": "stream",
     "text": [
      "  5%|▌         | 1295/25000 [02:47<4:01:09,  1.64it/s]"
     ]
    },
    {
     "name": "stdout",
     "output_type": "stream",
     "text": [
      "Training World Model...\n",
      "Training Agent...\n",
      "init_imagine_buffer: 1024x16@torch.float32\n"
     ]
    },
    {
     "name": "stderr",
     "output_type": "stream",
     "text": [
      "  5%|▌         | 1296/25000 [02:48<4:00:41,  1.64it/s]"
     ]
    },
    {
     "name": "stdout",
     "output_type": "stream",
     "text": [
      "Training World Model...\n",
      "Training Agent...\n",
      "init_imagine_buffer: 1024x16@torch.float32\n"
     ]
    },
    {
     "name": "stderr",
     "output_type": "stream",
     "text": [
      "  5%|▌         | 1297/25000 [02:48<4:00:19,  1.64it/s]"
     ]
    },
    {
     "name": "stdout",
     "output_type": "stream",
     "text": [
      "Training World Model...\n",
      "Training Agent...\n",
      "init_imagine_buffer: 1024x16@torch.float32\n"
     ]
    },
    {
     "name": "stderr",
     "output_type": "stream",
     "text": [
      "  5%|▌         | 1298/25000 [02:49<4:00:23,  1.64it/s]"
     ]
    },
    {
     "name": "stdout",
     "output_type": "stream",
     "text": [
      "Training World Model...\n",
      "Training Agent...\n",
      "init_imagine_buffer: 1024x16@torch.float32\n"
     ]
    },
    {
     "name": "stderr",
     "output_type": "stream",
     "text": [
      "  5%|▌         | 1299/25000 [02:49<4:01:06,  1.64it/s]"
     ]
    },
    {
     "name": "stdout",
     "output_type": "stream",
     "text": [
      "Training World Model...\n",
      "Training Agent...\n",
      "init_imagine_buffer: 1024x16@torch.float32\n"
     ]
    },
    {
     "name": "stderr",
     "output_type": "stream",
     "text": [
      "  5%|▌         | 1300/25000 [02:50<4:01:07,  1.64it/s]"
     ]
    },
    {
     "name": "stdout",
     "output_type": "stream",
     "text": [
      "Training World Model...\n",
      "Training Agent...\n",
      "init_imagine_buffer: 1024x16@torch.float32\n"
     ]
    },
    {
     "name": "stderr",
     "output_type": "stream",
     "text": [
      "  5%|▌         | 1301/25000 [02:51<4:01:03,  1.64it/s]"
     ]
    },
    {
     "name": "stdout",
     "output_type": "stream",
     "text": [
      "Training World Model...\n",
      "Training Agent...\n",
      "init_imagine_buffer: 1024x16@torch.float32\n"
     ]
    },
    {
     "name": "stderr",
     "output_type": "stream",
     "text": [
      "  5%|▌         | 1302/25000 [02:51<4:00:53,  1.64it/s]"
     ]
    },
    {
     "name": "stdout",
     "output_type": "stream",
     "text": [
      "Training World Model...\n",
      "Training Agent...\n",
      "init_imagine_buffer: 1024x16@torch.float32\n"
     ]
    },
    {
     "name": "stderr",
     "output_type": "stream",
     "text": [
      "  5%|▌         | 1303/25000 [02:52<4:00:17,  1.64it/s]"
     ]
    },
    {
     "name": "stdout",
     "output_type": "stream",
     "text": [
      "Training World Model...\n",
      "Training Agent...\n",
      "init_imagine_buffer: 1024x16@torch.float32\n"
     ]
    },
    {
     "name": "stderr",
     "output_type": "stream",
     "text": [
      "  5%|▌         | 1304/25000 [02:52<4:01:17,  1.64it/s]"
     ]
    },
    {
     "name": "stdout",
     "output_type": "stream",
     "text": [
      "Training World Model...\n",
      "Training Agent...\n",
      "init_imagine_buffer: 1024x16@torch.float32\n"
     ]
    },
    {
     "name": "stderr",
     "output_type": "stream",
     "text": [
      "  5%|▌         | 1305/25000 [02:53<4:01:17,  1.64it/s]"
     ]
    },
    {
     "name": "stdout",
     "output_type": "stream",
     "text": [
      "Training World Model...\n",
      "Training Agent...\n",
      "init_imagine_buffer: 1024x16@torch.float32\n"
     ]
    },
    {
     "name": "stderr",
     "output_type": "stream",
     "text": [
      "  5%|▌         | 1306/25000 [02:54<4:01:14,  1.64it/s]"
     ]
    },
    {
     "name": "stdout",
     "output_type": "stream",
     "text": [
      "Training World Model...\n",
      "Training Agent...\n",
      "init_imagine_buffer: 1024x16@torch.float32\n"
     ]
    },
    {
     "name": "stderr",
     "output_type": "stream",
     "text": [
      "  5%|▌         | 1307/25000 [02:54<4:00:53,  1.64it/s]"
     ]
    },
    {
     "name": "stdout",
     "output_type": "stream",
     "text": [
      "Training World Model...\n",
      "Training Agent...\n",
      "init_imagine_buffer: 1024x16@torch.float32\n"
     ]
    },
    {
     "name": "stderr",
     "output_type": "stream",
     "text": [
      "  5%|▌         | 1308/25000 [02:55<3:59:49,  1.65it/s]"
     ]
    },
    {
     "name": "stdout",
     "output_type": "stream",
     "text": [
      "Training World Model...\n",
      "Training Agent...\n",
      "init_imagine_buffer: 1024x16@torch.float32\n"
     ]
    },
    {
     "name": "stderr",
     "output_type": "stream",
     "text": [
      "  5%|▌         | 1309/25000 [02:55<3:58:57,  1.65it/s]"
     ]
    },
    {
     "name": "stdout",
     "output_type": "stream",
     "text": [
      "Training World Model...\n",
      "Training Agent...\n",
      "init_imagine_buffer: 1024x16@torch.float32\n"
     ]
    },
    {
     "name": "stderr",
     "output_type": "stream",
     "text": [
      "  5%|▌         | 1310/25000 [02:56<3:58:22,  1.66it/s]"
     ]
    },
    {
     "name": "stdout",
     "output_type": "stream",
     "text": [
      "Training World Model...\n",
      "Training Agent...\n",
      "init_imagine_buffer: 1024x16@torch.float32\n"
     ]
    },
    {
     "name": "stderr",
     "output_type": "stream",
     "text": [
      "  5%|▌         | 1311/25000 [02:57<3:58:24,  1.66it/s]"
     ]
    },
    {
     "name": "stdout",
     "output_type": "stream",
     "text": [
      "Training World Model...\n",
      "Training Agent...\n",
      "init_imagine_buffer: 1024x16@torch.float32\n"
     ]
    },
    {
     "name": "stderr",
     "output_type": "stream",
     "text": [
      "  5%|▌         | 1312/25000 [02:57<3:59:14,  1.65it/s]"
     ]
    },
    {
     "name": "stdout",
     "output_type": "stream",
     "text": [
      "Training World Model...\n",
      "Training Agent...\n",
      "init_imagine_buffer: 1024x16@torch.float32\n"
     ]
    },
    {
     "name": "stderr",
     "output_type": "stream",
     "text": [
      "  5%|▌         | 1313/25000 [02:58<4:00:11,  1.64it/s]"
     ]
    },
    {
     "name": "stdout",
     "output_type": "stream",
     "text": [
      "Training World Model...\n",
      "Training Agent...\n",
      "init_imagine_buffer: 1024x16@torch.float32\n"
     ]
    },
    {
     "name": "stderr",
     "output_type": "stream",
     "text": [
      "  5%|▌         | 1314/25000 [02:58<4:00:01,  1.64it/s]"
     ]
    },
    {
     "name": "stdout",
     "output_type": "stream",
     "text": [
      "Training World Model...\n",
      "Training Agent...\n",
      "init_imagine_buffer: 1024x16@torch.float32\n"
     ]
    },
    {
     "name": "stderr",
     "output_type": "stream",
     "text": [
      "  5%|▌         | 1315/25000 [02:59<4:00:31,  1.64it/s]"
     ]
    },
    {
     "name": "stdout",
     "output_type": "stream",
     "text": [
      "Training World Model...\n",
      "Training Agent...\n",
      "init_imagine_buffer: 1024x16@torch.float32\n"
     ]
    },
    {
     "name": "stderr",
     "output_type": "stream",
     "text": [
      "  5%|▌         | 1316/25000 [03:00<4:00:33,  1.64it/s]"
     ]
    },
    {
     "name": "stdout",
     "output_type": "stream",
     "text": [
      "Training World Model...\n",
      "Training Agent...\n",
      "init_imagine_buffer: 1024x16@torch.float32\n"
     ]
    },
    {
     "name": "stderr",
     "output_type": "stream",
     "text": [
      "  5%|▌         | 1317/25000 [03:00<4:00:46,  1.64it/s]"
     ]
    },
    {
     "name": "stdout",
     "output_type": "stream",
     "text": [
      "Training World Model...\n",
      "Training Agent...\n",
      "init_imagine_buffer: 1024x16@torch.float32\n"
     ]
    },
    {
     "name": "stderr",
     "output_type": "stream",
     "text": [
      "  5%|▌         | 1318/25000 [03:01<4:00:31,  1.64it/s]"
     ]
    },
    {
     "name": "stdout",
     "output_type": "stream",
     "text": [
      "Training World Model...\n",
      "Training Agent...\n",
      "init_imagine_buffer: 1024x16@torch.float32\n"
     ]
    },
    {
     "name": "stderr",
     "output_type": "stream",
     "text": [
      "  5%|▌         | 1319/25000 [03:02<4:00:54,  1.64it/s]"
     ]
    },
    {
     "name": "stdout",
     "output_type": "stream",
     "text": [
      "Training World Model...\n",
      "Training Agent...\n",
      "init_imagine_buffer: 1024x16@torch.float32\n"
     ]
    },
    {
     "name": "stderr",
     "output_type": "stream",
     "text": [
      "  5%|▌         | 1320/25000 [03:02<4:01:04,  1.64it/s]"
     ]
    },
    {
     "name": "stdout",
     "output_type": "stream",
     "text": [
      "Training World Model...\n",
      "Training Agent...\n",
      "init_imagine_buffer: 1024x16@torch.float32\n"
     ]
    },
    {
     "name": "stderr",
     "output_type": "stream",
     "text": [
      "  5%|▌         | 1321/25000 [03:03<4:00:56,  1.64it/s]"
     ]
    },
    {
     "name": "stdout",
     "output_type": "stream",
     "text": [
      "Training World Model...\n",
      "Training Agent...\n",
      "init_imagine_buffer: 1024x16@torch.float32\n"
     ]
    },
    {
     "name": "stderr",
     "output_type": "stream",
     "text": [
      "  5%|▌         | 1322/25000 [03:03<4:00:18,  1.64it/s]"
     ]
    },
    {
     "name": "stdout",
     "output_type": "stream",
     "text": [
      "Training World Model...\n",
      "Training Agent...\n",
      "init_imagine_buffer: 1024x16@torch.float32\n"
     ]
    },
    {
     "name": "stderr",
     "output_type": "stream",
     "text": [
      "  5%|▌         | 1323/25000 [03:04<4:00:51,  1.64it/s]"
     ]
    },
    {
     "name": "stdout",
     "output_type": "stream",
     "text": [
      "Training World Model...\n",
      "Training Agent...\n",
      "init_imagine_buffer: 1024x16@torch.float32\n"
     ]
    },
    {
     "name": "stderr",
     "output_type": "stream",
     "text": [
      "  5%|▌         | 1324/25000 [03:05<4:00:18,  1.64it/s]"
     ]
    },
    {
     "name": "stdout",
     "output_type": "stream",
     "text": [
      "Training World Model...\n",
      "Training Agent...\n",
      "init_imagine_buffer: 1024x16@torch.float32\n"
     ]
    },
    {
     "name": "stderr",
     "output_type": "stream",
     "text": [
      "  5%|▌         | 1325/25000 [03:05<4:00:11,  1.64it/s]"
     ]
    },
    {
     "name": "stdout",
     "output_type": "stream",
     "text": [
      "Training World Model...\n",
      "Training Agent...\n",
      "init_imagine_buffer: 1024x16@torch.float32\n"
     ]
    },
    {
     "name": "stderr",
     "output_type": "stream",
     "text": [
      "  5%|▌         | 1326/25000 [03:06<4:01:04,  1.64it/s]"
     ]
    },
    {
     "name": "stdout",
     "output_type": "stream",
     "text": [
      "Training World Model...\n",
      "Training Agent...\n",
      "init_imagine_buffer: 1024x16@torch.float32\n"
     ]
    },
    {
     "name": "stderr",
     "output_type": "stream",
     "text": [
      "  5%|▌         | 1327/25000 [03:06<4:01:04,  1.64it/s]"
     ]
    },
    {
     "name": "stdout",
     "output_type": "stream",
     "text": [
      "Training World Model...\n",
      "Training Agent...\n",
      "init_imagine_buffer: 1024x16@torch.float32\n"
     ]
    },
    {
     "name": "stderr",
     "output_type": "stream",
     "text": [
      "  5%|▌         | 1328/25000 [03:07<4:01:01,  1.64it/s]"
     ]
    },
    {
     "name": "stdout",
     "output_type": "stream",
     "text": [
      "Training World Model...\n",
      "Training Agent...\n",
      "init_imagine_buffer: 1024x16@torch.float32\n"
     ]
    },
    {
     "name": "stderr",
     "output_type": "stream",
     "text": [
      "  5%|▌         | 1329/25000 [03:08<4:00:58,  1.64it/s]"
     ]
    },
    {
     "name": "stdout",
     "output_type": "stream",
     "text": [
      "Training World Model...\n",
      "Training Agent...\n",
      "init_imagine_buffer: 1024x16@torch.float32\n"
     ]
    },
    {
     "name": "stderr",
     "output_type": "stream",
     "text": [
      "  5%|▌         | 1330/25000 [03:08<3:59:46,  1.65it/s]"
     ]
    },
    {
     "name": "stdout",
     "output_type": "stream",
     "text": [
      "Training World Model...\n",
      "Training Agent...\n",
      "init_imagine_buffer: 1024x16@torch.float32\n"
     ]
    },
    {
     "name": "stderr",
     "output_type": "stream",
     "text": [
      "  5%|▌         | 1331/25000 [03:09<3:58:55,  1.65it/s]"
     ]
    },
    {
     "name": "stdout",
     "output_type": "stream",
     "text": [
      "Training World Model...\n",
      "Training Agent...\n",
      "init_imagine_buffer: 1024x16@torch.float32\n"
     ]
    },
    {
     "name": "stderr",
     "output_type": "stream",
     "text": [
      "  5%|▌         | 1332/25000 [03:09<3:58:16,  1.66it/s]"
     ]
    },
    {
     "name": "stdout",
     "output_type": "stream",
     "text": [
      "Training World Model...\n",
      "Training Agent...\n",
      "init_imagine_buffer: 1024x16@torch.float32\n"
     ]
    },
    {
     "name": "stderr",
     "output_type": "stream",
     "text": [
      "  5%|▌         | 1333/25000 [03:10<3:58:51,  1.65it/s]"
     ]
    },
    {
     "name": "stdout",
     "output_type": "stream",
     "text": [
      "Training World Model...\n",
      "Training Agent...\n",
      "init_imagine_buffer: 1024x16@torch.float32\n"
     ]
    },
    {
     "name": "stderr",
     "output_type": "stream",
     "text": [
      "  5%|▌         | 1334/25000 [03:11<3:59:09,  1.65it/s]"
     ]
    },
    {
     "name": "stdout",
     "output_type": "stream",
     "text": [
      "Training World Model...\n",
      "Training Agent...\n",
      "init_imagine_buffer: 1024x16@torch.float32\n"
     ]
    },
    {
     "name": "stderr",
     "output_type": "stream",
     "text": [
      "  5%|▌         | 1335/25000 [03:11<3:59:59,  1.64it/s]"
     ]
    },
    {
     "name": "stdout",
     "output_type": "stream",
     "text": [
      "Training World Model...\n",
      "Training Agent...\n",
      "init_imagine_buffer: 1024x16@torch.float32\n"
     ]
    },
    {
     "name": "stderr",
     "output_type": "stream",
     "text": [
      "  5%|▌         | 1336/25000 [03:12<4:00:51,  1.64it/s]"
     ]
    },
    {
     "name": "stdout",
     "output_type": "stream",
     "text": [
      "Training World Model...\n",
      "Training Agent...\n",
      "init_imagine_buffer: 1024x16@torch.float32\n"
     ]
    },
    {
     "name": "stderr",
     "output_type": "stream",
     "text": [
      "  5%|▌         | 1337/25000 [03:13<4:00:54,  1.64it/s]"
     ]
    },
    {
     "name": "stdout",
     "output_type": "stream",
     "text": [
      "Training World Model...\n",
      "Training Agent...\n",
      "init_imagine_buffer: 1024x16@torch.float32\n"
     ]
    },
    {
     "name": "stderr",
     "output_type": "stream",
     "text": [
      "  5%|▌         | 1338/25000 [03:13<4:00:40,  1.64it/s]"
     ]
    },
    {
     "name": "stdout",
     "output_type": "stream",
     "text": [
      "Training World Model...\n",
      "Training Agent...\n",
      "init_imagine_buffer: 1024x16@torch.float32\n"
     ]
    },
    {
     "name": "stderr",
     "output_type": "stream",
     "text": [
      "  5%|▌         | 1339/25000 [03:14<4:00:26,  1.64it/s]"
     ]
    },
    {
     "name": "stdout",
     "output_type": "stream",
     "text": [
      "Training World Model...\n",
      "Training Agent...\n",
      "init_imagine_buffer: 1024x16@torch.float32\n"
     ]
    },
    {
     "name": "stderr",
     "output_type": "stream",
     "text": [
      "  5%|▌         | 1340/25000 [03:14<4:00:41,  1.64it/s]"
     ]
    },
    {
     "name": "stdout",
     "output_type": "stream",
     "text": [
      "Training World Model...\n",
      "Training Agent...\n",
      "init_imagine_buffer: 1024x16@torch.float32\n"
     ]
    },
    {
     "name": "stderr",
     "output_type": "stream",
     "text": [
      "  5%|▌         | 1341/25000 [03:15<4:00:50,  1.64it/s]"
     ]
    },
    {
     "name": "stdout",
     "output_type": "stream",
     "text": [
      "Training World Model...\n",
      "Training Agent...\n",
      "init_imagine_buffer: 1024x16@torch.float32\n"
     ]
    },
    {
     "name": "stderr",
     "output_type": "stream",
     "text": [
      "  5%|▌         | 1342/25000 [03:16<4:01:30,  1.63it/s]"
     ]
    },
    {
     "name": "stdout",
     "output_type": "stream",
     "text": [
      "Training World Model...\n",
      "Training Agent...\n",
      "init_imagine_buffer: 1024x16@torch.float32\n"
     ]
    },
    {
     "name": "stderr",
     "output_type": "stream",
     "text": [
      "  5%|▌         | 1343/25000 [03:16<4:01:36,  1.63it/s]"
     ]
    },
    {
     "name": "stdout",
     "output_type": "stream",
     "text": [
      "Training World Model...\n",
      "Training Agent...\n",
      "init_imagine_buffer: 1024x16@torch.float32\n"
     ]
    },
    {
     "name": "stderr",
     "output_type": "stream",
     "text": [
      "  5%|▌         | 1344/25000 [03:17<4:01:37,  1.63it/s]"
     ]
    },
    {
     "name": "stdout",
     "output_type": "stream",
     "text": [
      "Training World Model...\n",
      "Training Agent...\n",
      "init_imagine_buffer: 1024x16@torch.float32\n"
     ]
    },
    {
     "name": "stderr",
     "output_type": "stream",
     "text": [
      "  5%|▌         | 1345/25000 [03:17<4:02:04,  1.63it/s]"
     ]
    },
    {
     "name": "stdout",
     "output_type": "stream",
     "text": [
      "Training World Model...\n",
      "Training Agent...\n",
      "init_imagine_buffer: 1024x16@torch.float32\n"
     ]
    },
    {
     "name": "stderr",
     "output_type": "stream",
     "text": [
      "  5%|▌         | 1346/25000 [03:18<4:02:16,  1.63it/s]"
     ]
    },
    {
     "name": "stdout",
     "output_type": "stream",
     "text": [
      "Training World Model...\n",
      "Training Agent...\n",
      "init_imagine_buffer: 1024x16@torch.float32\n"
     ]
    },
    {
     "name": "stderr",
     "output_type": "stream",
     "text": [
      "  5%|▌         | 1347/25000 [03:19<4:02:06,  1.63it/s]"
     ]
    },
    {
     "name": "stdout",
     "output_type": "stream",
     "text": [
      "Training World Model...\n",
      "Training Agent...\n",
      "init_imagine_buffer: 1024x16@torch.float32\n"
     ]
    },
    {
     "name": "stderr",
     "output_type": "stream",
     "text": [
      "  5%|▌         | 1348/25000 [03:19<4:02:18,  1.63it/s]"
     ]
    },
    {
     "name": "stdout",
     "output_type": "stream",
     "text": [
      "Training World Model...\n",
      "Training Agent...\n",
      "init_imagine_buffer: 1024x16@torch.float32\n"
     ]
    },
    {
     "name": "stderr",
     "output_type": "stream",
     "text": [
      "  5%|▌         | 1349/25000 [03:20<4:02:13,  1.63it/s]"
     ]
    },
    {
     "name": "stdout",
     "output_type": "stream",
     "text": [
      "Training World Model...\n",
      "Training Agent...\n",
      "init_imagine_buffer: 1024x16@torch.float32\n"
     ]
    },
    {
     "name": "stderr",
     "output_type": "stream",
     "text": [
      "  5%|▌         | 1350/25000 [03:20<4:01:58,  1.63it/s]"
     ]
    },
    {
     "name": "stdout",
     "output_type": "stream",
     "text": [
      "Training World Model...\n",
      "Training Agent...\n",
      "init_imagine_buffer: 1024x16@torch.float32\n"
     ]
    },
    {
     "name": "stderr",
     "output_type": "stream",
     "text": [
      "  5%|▌         | 1351/25000 [03:21<4:00:44,  1.64it/s]"
     ]
    },
    {
     "name": "stdout",
     "output_type": "stream",
     "text": [
      "Training World Model...\n",
      "Training Agent...\n",
      "init_imagine_buffer: 1024x16@torch.float32\n"
     ]
    },
    {
     "name": "stderr",
     "output_type": "stream",
     "text": [
      "  5%|▌         | 1352/25000 [03:22<3:59:44,  1.64it/s]"
     ]
    },
    {
     "name": "stdout",
     "output_type": "stream",
     "text": [
      "Training World Model...\n",
      "Training Agent...\n",
      "init_imagine_buffer: 1024x16@torch.float32\n"
     ]
    },
    {
     "name": "stderr",
     "output_type": "stream",
     "text": [
      "  5%|▌         | 1353/25000 [03:22<3:59:05,  1.65it/s]"
     ]
    },
    {
     "name": "stdout",
     "output_type": "stream",
     "text": [
      "Training World Model...\n",
      "Training Agent...\n",
      "init_imagine_buffer: 1024x16@torch.float32\n"
     ]
    },
    {
     "name": "stderr",
     "output_type": "stream",
     "text": [
      "  5%|▌         | 1354/25000 [03:23<3:58:36,  1.65it/s]"
     ]
    },
    {
     "name": "stdout",
     "output_type": "stream",
     "text": [
      "Training World Model...\n",
      "Training Agent...\n",
      "init_imagine_buffer: 1024x16@torch.float32\n"
     ]
    },
    {
     "name": "stderr",
     "output_type": "stream",
     "text": [
      "  5%|▌         | 1355/25000 [03:24<3:59:19,  1.65it/s]"
     ]
    },
    {
     "name": "stdout",
     "output_type": "stream",
     "text": [
      "Training World Model...\n",
      "Training Agent...\n",
      "init_imagine_buffer: 1024x16@torch.float32\n"
     ]
    },
    {
     "name": "stderr",
     "output_type": "stream",
     "text": [
      "  5%|▌         | 1356/25000 [03:24<3:59:36,  1.64it/s]"
     ]
    },
    {
     "name": "stdout",
     "output_type": "stream",
     "text": [
      "Training World Model...\n",
      "Training Agent...\n",
      "init_imagine_buffer: 1024x16@torch.float32\n"
     ]
    },
    {
     "name": "stderr",
     "output_type": "stream",
     "text": [
      "  5%|▌         | 1357/25000 [03:25<4:00:03,  1.64it/s]"
     ]
    },
    {
     "name": "stdout",
     "output_type": "stream",
     "text": [
      "Training World Model...\n",
      "Training Agent...\n",
      "init_imagine_buffer: 1024x16@torch.float32\n"
     ]
    },
    {
     "name": "stderr",
     "output_type": "stream",
     "text": [
      "  5%|▌         | 1358/25000 [03:25<3:59:44,  1.64it/s]"
     ]
    },
    {
     "name": "stdout",
     "output_type": "stream",
     "text": [
      "Training World Model...\n",
      "Training Agent...\n",
      "init_imagine_buffer: 1024x16@torch.float32\n"
     ]
    },
    {
     "name": "stderr",
     "output_type": "stream",
     "text": [
      "  5%|▌         | 1359/25000 [03:26<4:00:03,  1.64it/s]"
     ]
    },
    {
     "name": "stdout",
     "output_type": "stream",
     "text": [
      "Training World Model...\n",
      "Training Agent...\n",
      "init_imagine_buffer: 1024x16@torch.float32\n"
     ]
    },
    {
     "name": "stderr",
     "output_type": "stream",
     "text": [
      "  5%|▌         | 1360/25000 [03:27<3:59:54,  1.64it/s]"
     ]
    },
    {
     "name": "stdout",
     "output_type": "stream",
     "text": [
      "Training World Model...\n",
      "Training Agent...\n",
      "init_imagine_buffer: 1024x16@torch.float32\n"
     ]
    },
    {
     "name": "stderr",
     "output_type": "stream",
     "text": [
      "  5%|▌         | 1361/25000 [03:27<4:00:06,  1.64it/s]"
     ]
    },
    {
     "name": "stdout",
     "output_type": "stream",
     "text": [
      "Training World Model...\n",
      "Training Agent...\n",
      "init_imagine_buffer: 1024x16@torch.float32\n"
     ]
    },
    {
     "name": "stderr",
     "output_type": "stream",
     "text": [
      "  5%|▌         | 1362/25000 [03:28<4:00:24,  1.64it/s]"
     ]
    },
    {
     "name": "stdout",
     "output_type": "stream",
     "text": [
      "Training World Model...\n",
      "Training Agent...\n",
      "init_imagine_buffer: 1024x16@torch.float32\n"
     ]
    },
    {
     "name": "stderr",
     "output_type": "stream",
     "text": [
      "  5%|▌         | 1363/25000 [03:28<3:59:52,  1.64it/s]"
     ]
    },
    {
     "name": "stdout",
     "output_type": "stream",
     "text": [
      "Training World Model...\n",
      "Training Agent...\n",
      "init_imagine_buffer: 1024x16@torch.float32\n"
     ]
    },
    {
     "name": "stderr",
     "output_type": "stream",
     "text": [
      "  5%|▌         | 1364/25000 [03:29<4:00:40,  1.64it/s]"
     ]
    },
    {
     "name": "stdout",
     "output_type": "stream",
     "text": [
      "Training World Model...\n",
      "Training Agent...\n",
      "init_imagine_buffer: 1024x16@torch.float32\n"
     ]
    },
    {
     "name": "stderr",
     "output_type": "stream",
     "text": [
      "  5%|▌         | 1365/25000 [03:30<4:00:58,  1.63it/s]"
     ]
    },
    {
     "name": "stdout",
     "output_type": "stream",
     "text": [
      "Training World Model...\n",
      "Training Agent...\n",
      "init_imagine_buffer: 1024x16@torch.float32\n"
     ]
    },
    {
     "name": "stderr",
     "output_type": "stream",
     "text": [
      "  5%|▌         | 1366/25000 [03:30<4:01:18,  1.63it/s]"
     ]
    },
    {
     "name": "stdout",
     "output_type": "stream",
     "text": [
      "Training World Model...\n",
      "Training Agent...\n",
      "init_imagine_buffer: 1024x16@torch.float32\n"
     ]
    },
    {
     "name": "stderr",
     "output_type": "stream",
     "text": [
      "  5%|▌         | 1367/25000 [03:31<4:01:36,  1.63it/s]"
     ]
    },
    {
     "name": "stdout",
     "output_type": "stream",
     "text": [
      "Training World Model...\n",
      "Training Agent...\n",
      "init_imagine_buffer: 1024x16@torch.float32\n"
     ]
    },
    {
     "name": "stderr",
     "output_type": "stream",
     "text": [
      "  5%|▌         | 1368/25000 [03:31<4:01:31,  1.63it/s]"
     ]
    },
    {
     "name": "stdout",
     "output_type": "stream",
     "text": [
      "Training World Model...\n",
      "Training Agent...\n",
      "init_imagine_buffer: 1024x16@torch.float32\n"
     ]
    },
    {
     "name": "stderr",
     "output_type": "stream",
     "text": [
      "  5%|▌         | 1369/25000 [03:32<4:01:16,  1.63it/s]"
     ]
    },
    {
     "name": "stdout",
     "output_type": "stream",
     "text": [
      "Training World Model...\n",
      "Training Agent...\n",
      "init_imagine_buffer: 1024x16@torch.float32\n"
     ]
    },
    {
     "name": "stderr",
     "output_type": "stream",
     "text": [
      "  5%|▌         | 1370/25000 [03:33<4:00:56,  1.63it/s]"
     ]
    },
    {
     "name": "stdout",
     "output_type": "stream",
     "text": [
      "Training World Model...\n",
      "Training Agent...\n",
      "init_imagine_buffer: 1024x16@torch.float32\n"
     ]
    },
    {
     "name": "stderr",
     "output_type": "stream",
     "text": [
      "  5%|▌         | 1371/25000 [03:33<4:00:50,  1.64it/s]"
     ]
    },
    {
     "name": "stdout",
     "output_type": "stream",
     "text": [
      "Training World Model...\n",
      "Training Agent...\n",
      "init_imagine_buffer: 1024x16@torch.float32\n"
     ]
    },
    {
     "name": "stderr",
     "output_type": "stream",
     "text": [
      "  5%|▌         | 1372/25000 [03:34<4:00:31,  1.64it/s]"
     ]
    },
    {
     "name": "stdout",
     "output_type": "stream",
     "text": [
      "Training World Model...\n",
      "Training Agent...\n",
      "init_imagine_buffer: 1024x16@torch.float32\n"
     ]
    },
    {
     "name": "stderr",
     "output_type": "stream",
     "text": [
      "  5%|▌         | 1373/25000 [03:34<3:59:28,  1.64it/s]"
     ]
    },
    {
     "name": "stdout",
     "output_type": "stream",
     "text": [
      "Training World Model...\n",
      "Training Agent...\n",
      "init_imagine_buffer: 1024x16@torch.float32\n"
     ]
    },
    {
     "name": "stderr",
     "output_type": "stream",
     "text": [
      "  5%|▌         | 1374/25000 [03:35<3:58:36,  1.65it/s]"
     ]
    },
    {
     "name": "stdout",
     "output_type": "stream",
     "text": [
      "Training World Model...\n",
      "Training Agent...\n",
      "init_imagine_buffer: 1024x16@torch.float32\n"
     ]
    },
    {
     "name": "stderr",
     "output_type": "stream",
     "text": [
      "  6%|▌         | 1375/25000 [03:36<3:58:11,  1.65it/s]"
     ]
    },
    {
     "name": "stdout",
     "output_type": "stream",
     "text": [
      "Training World Model...\n",
      "Training Agent...\n",
      "init_imagine_buffer: 1024x16@torch.float32\n"
     ]
    },
    {
     "name": "stderr",
     "output_type": "stream",
     "text": [
      "  6%|▌         | 1376/25000 [03:36<3:58:50,  1.65it/s]"
     ]
    },
    {
     "name": "stdout",
     "output_type": "stream",
     "text": [
      "Training World Model...\n",
      "Training Agent...\n",
      "init_imagine_buffer: 1024x16@torch.float32\n"
     ]
    },
    {
     "name": "stderr",
     "output_type": "stream",
     "text": [
      "  6%|▌         | 1377/25000 [03:37<3:58:56,  1.65it/s]"
     ]
    },
    {
     "name": "stdout",
     "output_type": "stream",
     "text": [
      "Training World Model...\n",
      "Training Agent...\n",
      "init_imagine_buffer: 1024x16@torch.float32\n"
     ]
    },
    {
     "name": "stderr",
     "output_type": "stream",
     "text": [
      "  6%|▌         | 1378/25000 [03:38<3:59:58,  1.64it/s]"
     ]
    },
    {
     "name": "stdout",
     "output_type": "stream",
     "text": [
      "Training World Model...\n",
      "Training Agent...\n",
      "init_imagine_buffer: 1024x16@torch.float32\n"
     ]
    },
    {
     "name": "stderr",
     "output_type": "stream",
     "text": [
      "  6%|▌         | 1379/25000 [03:38<4:00:13,  1.64it/s]"
     ]
    },
    {
     "name": "stdout",
     "output_type": "stream",
     "text": [
      "Training World Model...\n",
      "Training Agent...\n",
      "init_imagine_buffer: 1024x16@torch.float32\n"
     ]
    },
    {
     "name": "stderr",
     "output_type": "stream",
     "text": [
      "  6%|▌         | 1380/25000 [03:39<3:59:56,  1.64it/s]"
     ]
    },
    {
     "name": "stdout",
     "output_type": "stream",
     "text": [
      "Training World Model...\n",
      "Training Agent...\n",
      "init_imagine_buffer: 1024x16@torch.float32\n"
     ]
    },
    {
     "name": "stderr",
     "output_type": "stream",
     "text": [
      "  6%|▌         | 1381/25000 [03:39<4:00:39,  1.64it/s]"
     ]
    },
    {
     "name": "stdout",
     "output_type": "stream",
     "text": [
      "Training World Model...\n",
      "Training Agent...\n",
      "init_imagine_buffer: 1024x16@torch.float32\n"
     ]
    },
    {
     "name": "stderr",
     "output_type": "stream",
     "text": [
      "  6%|▌         | 1382/25000 [03:40<4:00:15,  1.64it/s]"
     ]
    },
    {
     "name": "stdout",
     "output_type": "stream",
     "text": [
      "Training World Model...\n",
      "Training Agent...\n",
      "init_imagine_buffer: 1024x16@torch.float32\n"
     ]
    },
    {
     "name": "stderr",
     "output_type": "stream",
     "text": [
      "  6%|▌         | 1383/25000 [03:41<3:59:41,  1.64it/s]"
     ]
    },
    {
     "name": "stdout",
     "output_type": "stream",
     "text": [
      "Training World Model...\n",
      "Training Agent...\n",
      "init_imagine_buffer: 1024x16@torch.float32\n"
     ]
    },
    {
     "name": "stderr",
     "output_type": "stream",
     "text": [
      "  6%|▌         | 1384/25000 [03:41<3:59:48,  1.64it/s]"
     ]
    },
    {
     "name": "stdout",
     "output_type": "stream",
     "text": [
      "Training World Model...\n",
      "Training Agent...\n",
      "init_imagine_buffer: 1024x16@torch.float32\n"
     ]
    },
    {
     "name": "stderr",
     "output_type": "stream",
     "text": [
      "  6%|▌         | 1385/25000 [03:42<3:59:26,  1.64it/s]"
     ]
    },
    {
     "name": "stdout",
     "output_type": "stream",
     "text": [
      "Training World Model...\n",
      "Training Agent...\n",
      "init_imagine_buffer: 1024x16@torch.float32\n"
     ]
    },
    {
     "name": "stderr",
     "output_type": "stream",
     "text": [
      "  6%|▌         | 1386/25000 [03:42<3:59:38,  1.64it/s]"
     ]
    },
    {
     "name": "stdout",
     "output_type": "stream",
     "text": [
      "Training World Model...\n",
      "Training Agent...\n",
      "init_imagine_buffer: 1024x16@torch.float32\n"
     ]
    },
    {
     "name": "stderr",
     "output_type": "stream",
     "text": [
      "  6%|▌         | 1387/25000 [03:43<4:00:21,  1.64it/s]"
     ]
    },
    {
     "name": "stdout",
     "output_type": "stream",
     "text": [
      "Training World Model...\n",
      "Training Agent...\n",
      "init_imagine_buffer: 1024x16@torch.float32\n"
     ]
    },
    {
     "name": "stderr",
     "output_type": "stream",
     "text": [
      "  6%|▌         | 1388/25000 [03:44<4:00:20,  1.64it/s]"
     ]
    },
    {
     "name": "stdout",
     "output_type": "stream",
     "text": [
      "Training World Model...\n",
      "Training Agent...\n",
      "init_imagine_buffer: 1024x16@torch.float32\n"
     ]
    },
    {
     "name": "stderr",
     "output_type": "stream",
     "text": [
      "  6%|▌         | 1389/25000 [03:44<4:00:12,  1.64it/s]"
     ]
    },
    {
     "name": "stdout",
     "output_type": "stream",
     "text": [
      "Training World Model...\n",
      "Training Agent...\n",
      "init_imagine_buffer: 1024x16@torch.float32\n"
     ]
    },
    {
     "name": "stderr",
     "output_type": "stream",
     "text": [
      "  6%|▌         | 1390/25000 [03:45<4:00:07,  1.64it/s]"
     ]
    },
    {
     "name": "stdout",
     "output_type": "stream",
     "text": [
      "Training World Model...\n",
      "Training Agent...\n",
      "init_imagine_buffer: 1024x16@torch.float32\n"
     ]
    },
    {
     "name": "stderr",
     "output_type": "stream",
     "text": [
      "  6%|▌         | 1391/25000 [03:45<4:00:03,  1.64it/s]"
     ]
    },
    {
     "name": "stdout",
     "output_type": "stream",
     "text": [
      "Training World Model...\n",
      "Training Agent...\n",
      "init_imagine_buffer: 1024x16@torch.float32\n"
     ]
    },
    {
     "name": "stderr",
     "output_type": "stream",
     "text": [
      "  6%|▌         | 1392/25000 [03:46<4:00:26,  1.64it/s]"
     ]
    },
    {
     "name": "stdout",
     "output_type": "stream",
     "text": [
      "Training World Model...\n",
      "Training Agent...\n",
      "init_imagine_buffer: 1024x16@torch.float32\n"
     ]
    },
    {
     "name": "stderr",
     "output_type": "stream",
     "text": [
      "  6%|▌         | 1393/25000 [03:47<4:00:29,  1.64it/s]"
     ]
    },
    {
     "name": "stdout",
     "output_type": "stream",
     "text": [
      "Training World Model...\n",
      "Training Agent...\n",
      "init_imagine_buffer: 1024x16@torch.float32\n"
     ]
    },
    {
     "name": "stderr",
     "output_type": "stream",
     "text": [
      "  6%|▌         | 1394/25000 [03:47<4:00:39,  1.63it/s]"
     ]
    },
    {
     "name": "stdout",
     "output_type": "stream",
     "text": [
      "Training World Model...\n",
      "Training Agent...\n",
      "init_imagine_buffer: 1024x16@torch.float32\n"
     ]
    },
    {
     "name": "stderr",
     "output_type": "stream",
     "text": [
      "  6%|▌         | 1395/25000 [03:48<3:59:25,  1.64it/s]"
     ]
    },
    {
     "name": "stdout",
     "output_type": "stream",
     "text": [
      "Training World Model...\n",
      "Training Agent...\n",
      "init_imagine_buffer: 1024x16@torch.float32\n"
     ]
    },
    {
     "name": "stderr",
     "output_type": "stream",
     "text": [
      "  6%|▌         | 1396/25000 [03:49<3:58:27,  1.65it/s]"
     ]
    },
    {
     "name": "stdout",
     "output_type": "stream",
     "text": [
      "Training World Model...\n",
      "Training Agent...\n",
      "init_imagine_buffer: 1024x16@torch.float32\n"
     ]
    },
    {
     "name": "stderr",
     "output_type": "stream",
     "text": [
      "  6%|▌         | 1397/25000 [03:49<3:57:45,  1.65it/s]"
     ]
    },
    {
     "name": "stdout",
     "output_type": "stream",
     "text": [
      "Training World Model...\n",
      "Training Agent...\n",
      "init_imagine_buffer: 1024x16@torch.float32\n"
     ]
    },
    {
     "name": "stderr",
     "output_type": "stream",
     "text": [
      "  6%|▌         | 1398/25000 [03:50<3:57:50,  1.65it/s]"
     ]
    },
    {
     "name": "stdout",
     "output_type": "stream",
     "text": [
      "Training World Model...\n",
      "Training Agent...\n",
      "init_imagine_buffer: 1024x16@torch.float32\n"
     ]
    },
    {
     "name": "stderr",
     "output_type": "stream",
     "text": [
      "  6%|▌         | 1399/25000 [03:50<3:58:31,  1.65it/s]"
     ]
    },
    {
     "name": "stdout",
     "output_type": "stream",
     "text": [
      "Training World Model...\n",
      "Training Agent...\n",
      "init_imagine_buffer: 1024x16@torch.float32\n"
     ]
    },
    {
     "name": "stderr",
     "output_type": "stream",
     "text": [
      "  6%|▌         | 1400/25000 [03:51<3:58:55,  1.65it/s]"
     ]
    },
    {
     "name": "stdout",
     "output_type": "stream",
     "text": [
      "Training World Model...\n",
      "Training Agent...\n",
      "init_imagine_buffer: 1024x16@torch.float32\n"
     ]
    },
    {
     "name": "stderr",
     "output_type": "stream",
     "text": [
      "  6%|▌         | 1401/25000 [03:52<3:59:17,  1.64it/s]"
     ]
    },
    {
     "name": "stdout",
     "output_type": "stream",
     "text": [
      "Training World Model...\n",
      "Training Agent...\n",
      "init_imagine_buffer: 1024x16@torch.float32\n"
     ]
    },
    {
     "name": "stderr",
     "output_type": "stream",
     "text": [
      "  6%|▌         | 1402/25000 [03:52<3:59:46,  1.64it/s]"
     ]
    },
    {
     "name": "stdout",
     "output_type": "stream",
     "text": [
      "Training World Model...\n",
      "Training Agent...\n",
      "init_imagine_buffer: 1024x16@torch.float32\n"
     ]
    },
    {
     "name": "stderr",
     "output_type": "stream",
     "text": [
      "  6%|▌         | 1403/25000 [03:53<4:00:11,  1.64it/s]"
     ]
    },
    {
     "name": "stdout",
     "output_type": "stream",
     "text": [
      "Training World Model...\n",
      "Training Agent...\n",
      "init_imagine_buffer: 1024x16@torch.float32\n"
     ]
    },
    {
     "name": "stderr",
     "output_type": "stream",
     "text": [
      "  6%|▌         | 1404/25000 [03:53<4:00:53,  1.63it/s]"
     ]
    },
    {
     "name": "stdout",
     "output_type": "stream",
     "text": [
      "Training World Model...\n",
      "Training Agent...\n",
      "init_imagine_buffer: 1024x16@torch.float32\n"
     ]
    },
    {
     "name": "stderr",
     "output_type": "stream",
     "text": [
      "  6%|▌         | 1405/25000 [03:54<4:00:36,  1.63it/s]"
     ]
    },
    {
     "name": "stdout",
     "output_type": "stream",
     "text": [
      "Training World Model...\n",
      "Training Agent...\n",
      "init_imagine_buffer: 1024x16@torch.float32\n"
     ]
    },
    {
     "name": "stderr",
     "output_type": "stream",
     "text": [
      "  6%|▌         | 1406/25000 [03:55<4:00:52,  1.63it/s]"
     ]
    },
    {
     "name": "stdout",
     "output_type": "stream",
     "text": [
      "Training World Model...\n",
      "Training Agent...\n",
      "init_imagine_buffer: 1024x16@torch.float32\n"
     ]
    },
    {
     "name": "stderr",
     "output_type": "stream",
     "text": [
      "  6%|▌         | 1407/25000 [03:55<4:00:46,  1.63it/s]"
     ]
    },
    {
     "name": "stdout",
     "output_type": "stream",
     "text": [
      "Training World Model...\n",
      "Training Agent...\n",
      "init_imagine_buffer: 1024x16@torch.float32\n"
     ]
    },
    {
     "name": "stderr",
     "output_type": "stream",
     "text": [
      "  6%|▌         | 1408/25000 [03:56<4:00:42,  1.63it/s]"
     ]
    },
    {
     "name": "stdout",
     "output_type": "stream",
     "text": [
      "Training World Model...\n",
      "Training Agent...\n",
      "init_imagine_buffer: 1024x16@torch.float32\n"
     ]
    },
    {
     "name": "stderr",
     "output_type": "stream",
     "text": [
      "  6%|▌         | 1409/25000 [03:56<4:00:14,  1.64it/s]"
     ]
    },
    {
     "name": "stdout",
     "output_type": "stream",
     "text": [
      "Training World Model...\n",
      "Training Agent...\n",
      "init_imagine_buffer: 1024x16@torch.float32\n"
     ]
    },
    {
     "name": "stderr",
     "output_type": "stream",
     "text": [
      "  6%|▌         | 1410/25000 [03:57<3:59:55,  1.64it/s]"
     ]
    },
    {
     "name": "stdout",
     "output_type": "stream",
     "text": [
      "Training World Model...\n",
      "Training Agent...\n",
      "init_imagine_buffer: 1024x16@torch.float32\n"
     ]
    },
    {
     "name": "stderr",
     "output_type": "stream",
     "text": [
      "  6%|▌         | 1411/25000 [03:58<4:00:33,  1.63it/s]"
     ]
    },
    {
     "name": "stdout",
     "output_type": "stream",
     "text": [
      "Training World Model...\n",
      "Training Agent...\n",
      "init_imagine_buffer: 1024x16@torch.float32\n"
     ]
    },
    {
     "name": "stderr",
     "output_type": "stream",
     "text": [
      "  6%|▌         | 1412/25000 [03:58<4:00:29,  1.63it/s]"
     ]
    },
    {
     "name": "stdout",
     "output_type": "stream",
     "text": [
      "Training World Model...\n",
      "Training Agent...\n",
      "init_imagine_buffer: 1024x16@torch.float32\n"
     ]
    },
    {
     "name": "stderr",
     "output_type": "stream",
     "text": [
      "  6%|▌         | 1413/25000 [03:59<4:00:05,  1.64it/s]"
     ]
    },
    {
     "name": "stdout",
     "output_type": "stream",
     "text": [
      "Training World Model...\n",
      "Training Agent...\n",
      "init_imagine_buffer: 1024x16@torch.float32\n"
     ]
    },
    {
     "name": "stderr",
     "output_type": "stream",
     "text": [
      "  6%|▌         | 1414/25000 [03:59<3:59:32,  1.64it/s]"
     ]
    },
    {
     "name": "stdout",
     "output_type": "stream",
     "text": [
      "Training World Model...\n",
      "Training Agent...\n",
      "init_imagine_buffer: 1024x16@torch.float32\n"
     ]
    },
    {
     "name": "stderr",
     "output_type": "stream",
     "text": [
      "  6%|▌         | 1415/25000 [04:00<4:00:15,  1.64it/s]"
     ]
    },
    {
     "name": "stdout",
     "output_type": "stream",
     "text": [
      "Training World Model...\n",
      "Training Agent...\n",
      "init_imagine_buffer: 1024x16@torch.float32\n"
     ]
    },
    {
     "name": "stderr",
     "output_type": "stream",
     "text": [
      "  6%|▌         | 1416/25000 [04:01<3:59:19,  1.64it/s]"
     ]
    },
    {
     "name": "stdout",
     "output_type": "stream",
     "text": [
      "Training World Model...\n",
      "Training Agent...\n",
      "init_imagine_buffer: 1024x16@torch.float32\n"
     ]
    },
    {
     "name": "stderr",
     "output_type": "stream",
     "text": [
      "  6%|▌         | 1417/25000 [04:01<3:58:28,  1.65it/s]"
     ]
    },
    {
     "name": "stdout",
     "output_type": "stream",
     "text": [
      "Training World Model...\n",
      "Training Agent...\n",
      "init_imagine_buffer: 1024x16@torch.float32\n"
     ]
    },
    {
     "name": "stderr",
     "output_type": "stream",
     "text": [
      "  6%|▌         | 1418/25000 [04:02<3:57:54,  1.65it/s]"
     ]
    },
    {
     "name": "stdout",
     "output_type": "stream",
     "text": [
      "Training World Model...\n",
      "Training Agent...\n",
      "init_imagine_buffer: 1024x16@torch.float32\n"
     ]
    },
    {
     "name": "stderr",
     "output_type": "stream",
     "text": [
      "  6%|▌         | 1419/25000 [04:03<3:57:27,  1.66it/s]"
     ]
    },
    {
     "name": "stdout",
     "output_type": "stream",
     "text": [
      "Training World Model...\n",
      "Training Agent...\n",
      "init_imagine_buffer: 1024x16@torch.float32\n"
     ]
    },
    {
     "name": "stderr",
     "output_type": "stream",
     "text": [
      "  6%|▌         | 1420/25000 [04:03<3:58:07,  1.65it/s]"
     ]
    },
    {
     "name": "stdout",
     "output_type": "stream",
     "text": [
      "Training World Model...\n",
      "Training Agent...\n",
      "init_imagine_buffer: 1024x16@torch.float32\n"
     ]
    },
    {
     "name": "stderr",
     "output_type": "stream",
     "text": [
      "  6%|▌         | 1421/25000 [04:04<3:58:49,  1.65it/s]"
     ]
    },
    {
     "name": "stdout",
     "output_type": "stream",
     "text": [
      "Training World Model...\n",
      "Training Agent...\n",
      "init_imagine_buffer: 1024x16@torch.float32\n"
     ]
    },
    {
     "name": "stderr",
     "output_type": "stream",
     "text": [
      "  6%|▌         | 1422/25000 [04:04<3:58:32,  1.65it/s]"
     ]
    },
    {
     "name": "stdout",
     "output_type": "stream",
     "text": [
      "Training World Model...\n",
      "Training Agent...\n",
      "init_imagine_buffer: 1024x16@torch.float32\n"
     ]
    },
    {
     "name": "stderr",
     "output_type": "stream",
     "text": [
      "  6%|▌         | 1423/25000 [04:05<3:58:53,  1.64it/s]"
     ]
    },
    {
     "name": "stdout",
     "output_type": "stream",
     "text": [
      "Training World Model...\n",
      "Training Agent...\n",
      "init_imagine_buffer: 1024x16@torch.float32\n"
     ]
    },
    {
     "name": "stderr",
     "output_type": "stream",
     "text": [
      "  6%|▌         | 1424/25000 [04:06<3:59:31,  1.64it/s]"
     ]
    },
    {
     "name": "stdout",
     "output_type": "stream",
     "text": [
      "Training World Model...\n",
      "Training Agent...\n",
      "init_imagine_buffer: 1024x16@torch.float32\n"
     ]
    },
    {
     "name": "stderr",
     "output_type": "stream",
     "text": [
      "  6%|▌         | 1425/25000 [04:06<3:59:44,  1.64it/s]"
     ]
    },
    {
     "name": "stdout",
     "output_type": "stream",
     "text": [
      "Training World Model...\n",
      "Training Agent...\n",
      "init_imagine_buffer: 1024x16@torch.float32\n"
     ]
    },
    {
     "name": "stderr",
     "output_type": "stream",
     "text": [
      "  6%|▌         | 1426/25000 [04:07<3:59:48,  1.64it/s]"
     ]
    },
    {
     "name": "stdout",
     "output_type": "stream",
     "text": [
      "Training World Model...\n",
      "Training Agent...\n",
      "init_imagine_buffer: 1024x16@torch.float32\n"
     ]
    },
    {
     "name": "stderr",
     "output_type": "stream",
     "text": [
      "  6%|▌         | 1427/25000 [04:07<4:00:20,  1.63it/s]"
     ]
    },
    {
     "name": "stdout",
     "output_type": "stream",
     "text": [
      "Training World Model...\n",
      "Training Agent...\n",
      "init_imagine_buffer: 1024x16@torch.float32\n"
     ]
    },
    {
     "name": "stderr",
     "output_type": "stream",
     "text": [
      "  6%|▌         | 1428/25000 [04:08<3:59:40,  1.64it/s]"
     ]
    },
    {
     "name": "stdout",
     "output_type": "stream",
     "text": [
      "Training World Model...\n",
      "Training Agent...\n",
      "init_imagine_buffer: 1024x16@torch.float32\n"
     ]
    },
    {
     "name": "stderr",
     "output_type": "stream",
     "text": [
      "  6%|▌         | 1429/25000 [04:09<3:59:36,  1.64it/s]"
     ]
    },
    {
     "name": "stdout",
     "output_type": "stream",
     "text": [
      "Training World Model...\n",
      "Training Agent...\n",
      "init_imagine_buffer: 1024x16@torch.float32\n"
     ]
    },
    {
     "name": "stderr",
     "output_type": "stream",
     "text": [
      "  6%|▌         | 1430/25000 [04:09<3:59:36,  1.64it/s]"
     ]
    },
    {
     "name": "stdout",
     "output_type": "stream",
     "text": [
      "Training World Model...\n",
      "Training Agent...\n",
      "init_imagine_buffer: 1024x16@torch.float32\n"
     ]
    },
    {
     "name": "stderr",
     "output_type": "stream",
     "text": [
      "  6%|▌         | 1431/25000 [04:10<3:59:26,  1.64it/s]"
     ]
    },
    {
     "name": "stdout",
     "output_type": "stream",
     "text": [
      "Training World Model...\n",
      "Training Agent...\n",
      "init_imagine_buffer: 1024x16@torch.float32\n"
     ]
    },
    {
     "name": "stderr",
     "output_type": "stream",
     "text": [
      "  6%|▌         | 1432/25000 [04:10<3:59:39,  1.64it/s]"
     ]
    },
    {
     "name": "stdout",
     "output_type": "stream",
     "text": [
      "Training World Model...\n",
      "Training Agent...\n",
      "init_imagine_buffer: 1024x16@torch.float32\n"
     ]
    },
    {
     "name": "stderr",
     "output_type": "stream",
     "text": [
      "  6%|▌         | 1433/25000 [04:11<3:59:37,  1.64it/s]"
     ]
    },
    {
     "name": "stdout",
     "output_type": "stream",
     "text": [
      "Training World Model...\n",
      "Training Agent...\n",
      "init_imagine_buffer: 1024x16@torch.float32\n"
     ]
    },
    {
     "name": "stderr",
     "output_type": "stream",
     "text": [
      "  6%|▌         | 1434/25000 [04:12<4:00:10,  1.64it/s]"
     ]
    },
    {
     "name": "stdout",
     "output_type": "stream",
     "text": [
      "Training World Model...\n",
      "Training Agent...\n",
      "init_imagine_buffer: 1024x16@torch.float32\n"
     ]
    },
    {
     "name": "stderr",
     "output_type": "stream",
     "text": [
      "  6%|▌         | 1435/25000 [04:12<4:00:44,  1.63it/s]"
     ]
    },
    {
     "name": "stdout",
     "output_type": "stream",
     "text": [
      "Training World Model...\n",
      "Training Agent...\n",
      "init_imagine_buffer: 1024x16@torch.float32\n"
     ]
    },
    {
     "name": "stderr",
     "output_type": "stream",
     "text": [
      "  6%|▌         | 1436/25000 [04:13<3:59:55,  1.64it/s]"
     ]
    },
    {
     "name": "stdout",
     "output_type": "stream",
     "text": [
      "Training World Model...\n",
      "Training Agent...\n",
      "init_imagine_buffer: 1024x16@torch.float32\n"
     ]
    },
    {
     "name": "stderr",
     "output_type": "stream",
     "text": [
      "  6%|▌         | 1437/25000 [04:14<4:00:24,  1.63it/s]"
     ]
    },
    {
     "name": "stdout",
     "output_type": "stream",
     "text": [
      "Training World Model...\n",
      "Training Agent...\n",
      "init_imagine_buffer: 1024x16@torch.float32\n"
     ]
    },
    {
     "name": "stderr",
     "output_type": "stream",
     "text": [
      "  6%|▌         | 1438/25000 [04:14<3:59:07,  1.64it/s]"
     ]
    },
    {
     "name": "stdout",
     "output_type": "stream",
     "text": [
      "Training World Model...\n",
      "Training Agent...\n",
      "init_imagine_buffer: 1024x16@torch.float32\n"
     ]
    },
    {
     "name": "stderr",
     "output_type": "stream",
     "text": [
      "  6%|▌         | 1439/25000 [04:15<3:58:05,  1.65it/s]"
     ]
    },
    {
     "name": "stdout",
     "output_type": "stream",
     "text": [
      "Training World Model...\n",
      "Training Agent...\n",
      "init_imagine_buffer: 1024x16@torch.float32\n"
     ]
    },
    {
     "name": "stderr",
     "output_type": "stream",
     "text": [
      "  6%|▌         | 1440/25000 [04:15<3:57:19,  1.65it/s]"
     ]
    },
    {
     "name": "stdout",
     "output_type": "stream",
     "text": [
      "Training World Model...\n",
      "Training Agent...\n",
      "init_imagine_buffer: 1024x16@torch.float32\n"
     ]
    },
    {
     "name": "stderr",
     "output_type": "stream",
     "text": [
      "  6%|▌         | 1441/25000 [04:16<3:58:33,  1.65it/s]"
     ]
    },
    {
     "name": "stdout",
     "output_type": "stream",
     "text": [
      "Training World Model...\n",
      "Training Agent...\n",
      "init_imagine_buffer: 1024x16@torch.float32\n"
     ]
    },
    {
     "name": "stderr",
     "output_type": "stream",
     "text": [
      "  6%|▌         | 1442/25000 [04:17<3:58:59,  1.64it/s]"
     ]
    },
    {
     "name": "stdout",
     "output_type": "stream",
     "text": [
      "Training World Model...\n",
      "Training Agent...\n",
      "init_imagine_buffer: 1024x16@torch.float32\n"
     ]
    },
    {
     "name": "stderr",
     "output_type": "stream",
     "text": [
      "  6%|▌         | 1443/25000 [04:17<3:58:47,  1.64it/s]"
     ]
    },
    {
     "name": "stdout",
     "output_type": "stream",
     "text": [
      "Training World Model...\n",
      "Training Agent...\n",
      "init_imagine_buffer: 1024x16@torch.float32\n"
     ]
    },
    {
     "name": "stderr",
     "output_type": "stream",
     "text": [
      "  6%|▌         | 1444/25000 [04:18<3:59:19,  1.64it/s]"
     ]
    },
    {
     "name": "stdout",
     "output_type": "stream",
     "text": [
      "Training World Model...\n",
      "Training Agent...\n",
      "init_imagine_buffer: 1024x16@torch.float32\n"
     ]
    },
    {
     "name": "stderr",
     "output_type": "stream",
     "text": [
      "  6%|▌         | 1445/25000 [04:18<3:59:32,  1.64it/s]"
     ]
    },
    {
     "name": "stdout",
     "output_type": "stream",
     "text": [
      "Training World Model...\n",
      "Training Agent...\n",
      "init_imagine_buffer: 1024x16@torch.float32\n"
     ]
    },
    {
     "name": "stderr",
     "output_type": "stream",
     "text": [
      "  6%|▌         | 1446/25000 [04:19<4:00:23,  1.63it/s]"
     ]
    },
    {
     "name": "stdout",
     "output_type": "stream",
     "text": [
      "Training World Model...\n",
      "Training Agent...\n",
      "init_imagine_buffer: 1024x16@torch.float32\n"
     ]
    },
    {
     "name": "stderr",
     "output_type": "stream",
     "text": [
      "  6%|▌         | 1447/25000 [04:20<4:00:05,  1.63it/s]"
     ]
    },
    {
     "name": "stdout",
     "output_type": "stream",
     "text": [
      "Training World Model...\n",
      "Training Agent...\n",
      "init_imagine_buffer: 1024x16@torch.float32\n"
     ]
    },
    {
     "name": "stderr",
     "output_type": "stream",
     "text": [
      "  6%|▌         | 1448/25000 [04:20<4:00:03,  1.64it/s]"
     ]
    },
    {
     "name": "stdout",
     "output_type": "stream",
     "text": [
      "Training World Model...\n",
      "Training Agent...\n",
      "init_imagine_buffer: 1024x16@torch.float32\n"
     ]
    },
    {
     "name": "stderr",
     "output_type": "stream",
     "text": [
      "  6%|▌         | 1449/25000 [04:21<4:00:21,  1.63it/s]"
     ]
    },
    {
     "name": "stdout",
     "output_type": "stream",
     "text": [
      "Training World Model...\n",
      "Training Agent...\n",
      "init_imagine_buffer: 1024x16@torch.float32\n"
     ]
    },
    {
     "name": "stderr",
     "output_type": "stream",
     "text": [
      "  6%|▌         | 1450/25000 [04:21<3:59:42,  1.64it/s]"
     ]
    },
    {
     "name": "stdout",
     "output_type": "stream",
     "text": [
      "Training World Model...\n",
      "Training Agent...\n",
      "init_imagine_buffer: 1024x16@torch.float32\n"
     ]
    },
    {
     "name": "stderr",
     "output_type": "stream",
     "text": [
      "  6%|▌         | 1451/25000 [04:22<3:59:23,  1.64it/s]"
     ]
    },
    {
     "name": "stdout",
     "output_type": "stream",
     "text": [
      "Training World Model...\n",
      "Training Agent...\n",
      "init_imagine_buffer: 1024x16@torch.float32\n"
     ]
    },
    {
     "name": "stderr",
     "output_type": "stream",
     "text": [
      "  6%|▌         | 1452/25000 [04:23<3:59:27,  1.64it/s]"
     ]
    },
    {
     "name": "stdout",
     "output_type": "stream",
     "text": [
      "Training World Model...\n",
      "Training Agent...\n",
      "init_imagine_buffer: 1024x16@torch.float32\n"
     ]
    },
    {
     "name": "stderr",
     "output_type": "stream",
     "text": [
      "  6%|▌         | 1453/25000 [04:23<3:59:27,  1.64it/s]"
     ]
    },
    {
     "name": "stdout",
     "output_type": "stream",
     "text": [
      "Training World Model...\n",
      "Training Agent...\n",
      "init_imagine_buffer: 1024x16@torch.float32\n"
     ]
    },
    {
     "name": "stderr",
     "output_type": "stream",
     "text": [
      "  6%|▌         | 1454/25000 [04:24<3:59:51,  1.64it/s]"
     ]
    },
    {
     "name": "stdout",
     "output_type": "stream",
     "text": [
      "Training World Model...\n",
      "Training Agent...\n",
      "init_imagine_buffer: 1024x16@torch.float32\n"
     ]
    },
    {
     "name": "stderr",
     "output_type": "stream",
     "text": [
      "  6%|▌         | 1455/25000 [04:24<4:00:03,  1.63it/s]"
     ]
    },
    {
     "name": "stdout",
     "output_type": "stream",
     "text": [
      "Training World Model...\n",
      "Training Agent...\n",
      "init_imagine_buffer: 1024x16@torch.float32\n"
     ]
    },
    {
     "name": "stderr",
     "output_type": "stream",
     "text": [
      "  6%|▌         | 1456/25000 [04:25<4:00:50,  1.63it/s]"
     ]
    },
    {
     "name": "stdout",
     "output_type": "stream",
     "text": [
      "Training World Model...\n",
      "Training Agent...\n",
      "init_imagine_buffer: 1024x16@torch.float32\n"
     ]
    },
    {
     "name": "stderr",
     "output_type": "stream",
     "text": [
      "  6%|▌         | 1457/25000 [04:26<4:00:44,  1.63it/s]"
     ]
    },
    {
     "name": "stdout",
     "output_type": "stream",
     "text": [
      "Training World Model...\n",
      "Training Agent...\n",
      "init_imagine_buffer: 1024x16@torch.float32\n"
     ]
    },
    {
     "name": "stderr",
     "output_type": "stream",
     "text": [
      "  6%|▌         | 1458/25000 [04:26<4:00:35,  1.63it/s]"
     ]
    },
    {
     "name": "stdout",
     "output_type": "stream",
     "text": [
      "Training World Model...\n",
      "Training Agent...\n",
      "init_imagine_buffer: 1024x16@torch.float32\n"
     ]
    },
    {
     "name": "stderr",
     "output_type": "stream",
     "text": [
      "  6%|▌         | 1459/25000 [04:27<4:00:10,  1.63it/s]"
     ]
    },
    {
     "name": "stdout",
     "output_type": "stream",
     "text": [
      "Training World Model...\n",
      "Training Agent...\n",
      "init_imagine_buffer: 1024x16@torch.float32\n"
     ]
    },
    {
     "name": "stderr",
     "output_type": "stream",
     "text": [
      "  6%|▌         | 1460/25000 [04:28<3:58:45,  1.64it/s]"
     ]
    },
    {
     "name": "stdout",
     "output_type": "stream",
     "text": [
      "Training World Model...\n",
      "Training Agent...\n",
      "init_imagine_buffer: 1024x16@torch.float32\n"
     ]
    },
    {
     "name": "stderr",
     "output_type": "stream",
     "text": [
      "  6%|▌         | 1461/25000 [04:28<3:57:53,  1.65it/s]"
     ]
    },
    {
     "name": "stdout",
     "output_type": "stream",
     "text": [
      "Training World Model...\n",
      "Training Agent...\n",
      "init_imagine_buffer: 1024x16@torch.float32\n"
     ]
    },
    {
     "name": "stderr",
     "output_type": "stream",
     "text": [
      "  6%|▌         | 1462/25000 [04:29<3:57:22,  1.65it/s]"
     ]
    },
    {
     "name": "stdout",
     "output_type": "stream",
     "text": [
      "Training World Model...\n",
      "Training Agent...\n",
      "init_imagine_buffer: 1024x16@torch.float32\n"
     ]
    },
    {
     "name": "stderr",
     "output_type": "stream",
     "text": [
      "  6%|▌         | 1463/25000 [04:29<3:57:18,  1.65it/s]"
     ]
    },
    {
     "name": "stdout",
     "output_type": "stream",
     "text": [
      "Training World Model...\n",
      "Training Agent...\n",
      "init_imagine_buffer: 1024x16@torch.float32\n"
     ]
    },
    {
     "name": "stderr",
     "output_type": "stream",
     "text": [
      "  6%|▌         | 1464/25000 [04:30<3:57:17,  1.65it/s]"
     ]
    },
    {
     "name": "stdout",
     "output_type": "stream",
     "text": [
      "Training World Model...\n",
      "Training Agent...\n",
      "init_imagine_buffer: 1024x16@torch.float32\n"
     ]
    },
    {
     "name": "stderr",
     "output_type": "stream",
     "text": [
      "  6%|▌         | 1465/25000 [04:31<3:57:22,  1.65it/s]"
     ]
    },
    {
     "name": "stdout",
     "output_type": "stream",
     "text": [
      "Training World Model...\n",
      "Training Agent...\n",
      "init_imagine_buffer: 1024x16@torch.float32\n"
     ]
    },
    {
     "name": "stderr",
     "output_type": "stream",
     "text": [
      "  6%|▌         | 1466/25000 [04:31<3:57:34,  1.65it/s]"
     ]
    },
    {
     "name": "stdout",
     "output_type": "stream",
     "text": [
      "Training World Model...\n",
      "Training Agent...\n",
      "init_imagine_buffer: 1024x16@torch.float32\n"
     ]
    },
    {
     "name": "stderr",
     "output_type": "stream",
     "text": [
      "  6%|▌         | 1467/25000 [04:32<3:58:13,  1.65it/s]"
     ]
    },
    {
     "name": "stdout",
     "output_type": "stream",
     "text": [
      "Training World Model...\n",
      "Training Agent...\n",
      "init_imagine_buffer: 1024x16@torch.float32\n"
     ]
    },
    {
     "name": "stderr",
     "output_type": "stream",
     "text": [
      "  6%|▌         | 1468/25000 [04:32<3:58:33,  1.64it/s]"
     ]
    },
    {
     "name": "stdout",
     "output_type": "stream",
     "text": [
      "Training World Model...\n",
      "Training Agent...\n",
      "init_imagine_buffer: 1024x16@torch.float32\n"
     ]
    },
    {
     "name": "stderr",
     "output_type": "stream",
     "text": [
      "  6%|▌         | 1469/25000 [04:33<3:58:16,  1.65it/s]"
     ]
    },
    {
     "name": "stdout",
     "output_type": "stream",
     "text": [
      "Training World Model...\n",
      "Training Agent...\n",
      "init_imagine_buffer: 1024x16@torch.float32\n"
     ]
    },
    {
     "name": "stderr",
     "output_type": "stream",
     "text": [
      "  6%|▌         | 1470/25000 [04:34<3:58:32,  1.64it/s]"
     ]
    },
    {
     "name": "stdout",
     "output_type": "stream",
     "text": [
      "Training World Model...\n",
      "Training Agent...\n",
      "init_imagine_buffer: 1024x16@torch.float32\n"
     ]
    },
    {
     "name": "stderr",
     "output_type": "stream",
     "text": [
      "  6%|▌         | 1471/25000 [04:34<3:59:06,  1.64it/s]"
     ]
    },
    {
     "name": "stdout",
     "output_type": "stream",
     "text": [
      "Training World Model...\n",
      "Training Agent...\n",
      "init_imagine_buffer: 1024x16@torch.float32\n"
     ]
    },
    {
     "name": "stderr",
     "output_type": "stream",
     "text": [
      "  6%|▌         | 1472/25000 [04:35<3:59:07,  1.64it/s]"
     ]
    },
    {
     "name": "stdout",
     "output_type": "stream",
     "text": [
      "Training World Model...\n",
      "Training Agent...\n",
      "init_imagine_buffer: 1024x16@torch.float32\n"
     ]
    },
    {
     "name": "stderr",
     "output_type": "stream",
     "text": [
      "  6%|▌         | 1473/25000 [04:35<3:59:32,  1.64it/s]"
     ]
    },
    {
     "name": "stdout",
     "output_type": "stream",
     "text": [
      "Training World Model...\n",
      "Training Agent...\n",
      "init_imagine_buffer: 1024x16@torch.float32\n"
     ]
    },
    {
     "name": "stderr",
     "output_type": "stream",
     "text": [
      "  6%|▌         | 1474/25000 [04:36<3:59:45,  1.64it/s]"
     ]
    },
    {
     "name": "stdout",
     "output_type": "stream",
     "text": [
      "Training World Model...\n",
      "Training Agent...\n",
      "init_imagine_buffer: 1024x16@torch.float32\n"
     ]
    },
    {
     "name": "stderr",
     "output_type": "stream",
     "text": [
      "  6%|▌         | 1475/25000 [04:37<3:59:08,  1.64it/s]"
     ]
    },
    {
     "name": "stdout",
     "output_type": "stream",
     "text": [
      "Training World Model...\n",
      "Training Agent...\n",
      "init_imagine_buffer: 1024x16@torch.float32\n"
     ]
    },
    {
     "name": "stderr",
     "output_type": "stream",
     "text": [
      "  6%|▌         | 1476/25000 [04:37<3:59:00,  1.64it/s]"
     ]
    },
    {
     "name": "stdout",
     "output_type": "stream",
     "text": [
      "Training World Model...\n",
      "Training Agent...\n",
      "init_imagine_buffer: 1024x16@torch.float32\n"
     ]
    },
    {
     "name": "stderr",
     "output_type": "stream",
     "text": [
      "  6%|▌         | 1477/25000 [04:38<3:58:55,  1.64it/s]"
     ]
    },
    {
     "name": "stdout",
     "output_type": "stream",
     "text": [
      "Training World Model...\n",
      "Training Agent...\n",
      "init_imagine_buffer: 1024x16@torch.float32\n"
     ]
    },
    {
     "name": "stderr",
     "output_type": "stream",
     "text": [
      "  6%|▌         | 1478/25000 [04:38<3:58:46,  1.64it/s]"
     ]
    },
    {
     "name": "stdout",
     "output_type": "stream",
     "text": [
      "Training World Model...\n",
      "Training Agent...\n",
      "init_imagine_buffer: 1024x16@torch.float32\n"
     ]
    },
    {
     "name": "stderr",
     "output_type": "stream",
     "text": [
      "  6%|▌         | 1479/25000 [04:39<3:59:55,  1.63it/s]"
     ]
    },
    {
     "name": "stdout",
     "output_type": "stream",
     "text": [
      "Training World Model...\n",
      "Training Agent...\n",
      "init_imagine_buffer: 1024x16@torch.float32\n"
     ]
    },
    {
     "name": "stderr",
     "output_type": "stream",
     "text": [
      "  6%|▌         | 1480/25000 [04:40<4:00:10,  1.63it/s]"
     ]
    },
    {
     "name": "stdout",
     "output_type": "stream",
     "text": [
      "Training World Model...\n",
      "Training Agent...\n",
      "init_imagine_buffer: 1024x16@torch.float32\n"
     ]
    },
    {
     "name": "stderr",
     "output_type": "stream",
     "text": [
      "  6%|▌         | 1481/25000 [04:40<3:58:57,  1.64it/s]"
     ]
    },
    {
     "name": "stdout",
     "output_type": "stream",
     "text": [
      "Training World Model...\n",
      "Training Agent...\n",
      "init_imagine_buffer: 1024x16@torch.float32\n"
     ]
    },
    {
     "name": "stderr",
     "output_type": "stream",
     "text": [
      "  6%|▌         | 1482/25000 [04:41<3:57:59,  1.65it/s]"
     ]
    },
    {
     "name": "stdout",
     "output_type": "stream",
     "text": [
      "Training World Model...\n",
      "Training Agent...\n",
      "init_imagine_buffer: 1024x16@torch.float32\n"
     ]
    },
    {
     "name": "stderr",
     "output_type": "stream",
     "text": [
      "  6%|▌         | 1483/25000 [04:42<3:57:31,  1.65it/s]"
     ]
    },
    {
     "name": "stdout",
     "output_type": "stream",
     "text": [
      "Training World Model...\n",
      "Training Agent...\n",
      "init_imagine_buffer: 1024x16@torch.float32\n"
     ]
    },
    {
     "name": "stderr",
     "output_type": "stream",
     "text": [
      "  6%|▌         | 1484/25000 [04:42<3:57:44,  1.65it/s]"
     ]
    },
    {
     "name": "stdout",
     "output_type": "stream",
     "text": [
      "Training World Model...\n",
      "Training Agent...\n",
      "init_imagine_buffer: 1024x16@torch.float32\n"
     ]
    },
    {
     "name": "stderr",
     "output_type": "stream",
     "text": [
      "  6%|▌         | 1485/25000 [04:43<3:58:43,  1.64it/s]"
     ]
    },
    {
     "name": "stdout",
     "output_type": "stream",
     "text": [
      "Training World Model...\n",
      "Training Agent...\n",
      "init_imagine_buffer: 1024x16@torch.float32\n"
     ]
    },
    {
     "name": "stderr",
     "output_type": "stream",
     "text": [
      "  6%|▌         | 1486/25000 [04:43<3:58:57,  1.64it/s]"
     ]
    },
    {
     "name": "stdout",
     "output_type": "stream",
     "text": [
      "Training World Model...\n",
      "Training Agent...\n",
      "init_imagine_buffer: 1024x16@torch.float32\n"
     ]
    },
    {
     "name": "stderr",
     "output_type": "stream",
     "text": [
      "  6%|▌         | 1487/25000 [04:44<3:59:53,  1.63it/s]"
     ]
    },
    {
     "name": "stdout",
     "output_type": "stream",
     "text": [
      "Training World Model...\n",
      "Training Agent...\n",
      "init_imagine_buffer: 1024x16@torch.float32\n"
     ]
    },
    {
     "name": "stderr",
     "output_type": "stream",
     "text": [
      "  6%|▌         | 1488/25000 [04:45<3:59:02,  1.64it/s]"
     ]
    },
    {
     "name": "stdout",
     "output_type": "stream",
     "text": [
      "Training World Model...\n",
      "Training Agent...\n",
      "init_imagine_buffer: 1024x16@torch.float32\n"
     ]
    },
    {
     "name": "stderr",
     "output_type": "stream",
     "text": [
      "  6%|▌         | 1489/25000 [04:45<3:59:02,  1.64it/s]"
     ]
    },
    {
     "name": "stdout",
     "output_type": "stream",
     "text": [
      "Training World Model...\n",
      "Training Agent...\n",
      "init_imagine_buffer: 1024x16@torch.float32\n"
     ]
    },
    {
     "name": "stderr",
     "output_type": "stream",
     "text": [
      "  6%|▌         | 1490/25000 [04:46<3:59:11,  1.64it/s]"
     ]
    },
    {
     "name": "stdout",
     "output_type": "stream",
     "text": [
      "Training World Model...\n",
      "Training Agent...\n",
      "init_imagine_buffer: 1024x16@torch.float32\n"
     ]
    },
    {
     "name": "stderr",
     "output_type": "stream",
     "text": [
      "  6%|▌         | 1491/25000 [04:46<3:59:24,  1.64it/s]"
     ]
    },
    {
     "name": "stdout",
     "output_type": "stream",
     "text": [
      "Training World Model...\n",
      "Training Agent...\n",
      "init_imagine_buffer: 1024x16@torch.float32\n"
     ]
    },
    {
     "name": "stderr",
     "output_type": "stream",
     "text": [
      "  6%|▌         | 1492/25000 [04:47<3:58:51,  1.64it/s]"
     ]
    },
    {
     "name": "stdout",
     "output_type": "stream",
     "text": [
      "Training World Model...\n",
      "Training Agent...\n",
      "init_imagine_buffer: 1024x16@torch.float32\n"
     ]
    },
    {
     "name": "stderr",
     "output_type": "stream",
     "text": [
      "  6%|▌         | 1493/25000 [04:48<3:59:06,  1.64it/s]"
     ]
    },
    {
     "name": "stdout",
     "output_type": "stream",
     "text": [
      "Training World Model...\n",
      "Training Agent...\n",
      "init_imagine_buffer: 1024x16@torch.float32\n"
     ]
    },
    {
     "name": "stderr",
     "output_type": "stream",
     "text": [
      "  6%|▌         | 1494/25000 [04:48<3:59:11,  1.64it/s]"
     ]
    },
    {
     "name": "stdout",
     "output_type": "stream",
     "text": [
      "Training World Model...\n",
      "Training Agent...\n",
      "init_imagine_buffer: 1024x16@torch.float32\n"
     ]
    },
    {
     "name": "stderr",
     "output_type": "stream",
     "text": [
      "  6%|▌         | 1495/25000 [04:49<3:58:34,  1.64it/s]"
     ]
    },
    {
     "name": "stdout",
     "output_type": "stream",
     "text": [
      "Training World Model...\n",
      "Training Agent...\n",
      "init_imagine_buffer: 1024x16@torch.float32\n"
     ]
    },
    {
     "name": "stderr",
     "output_type": "stream",
     "text": [
      "  6%|▌         | 1496/25000 [04:49<3:58:33,  1.64it/s]"
     ]
    },
    {
     "name": "stdout",
     "output_type": "stream",
     "text": [
      "Training World Model...\n",
      "Training Agent...\n",
      "init_imagine_buffer: 1024x16@torch.float32\n"
     ]
    },
    {
     "name": "stderr",
     "output_type": "stream",
     "text": [
      "  6%|▌         | 1497/25000 [04:50<3:58:41,  1.64it/s]"
     ]
    },
    {
     "name": "stdout",
     "output_type": "stream",
     "text": [
      "Training World Model...\n",
      "Training Agent...\n",
      "init_imagine_buffer: 1024x16@torch.float32\n"
     ]
    },
    {
     "name": "stderr",
     "output_type": "stream",
     "text": [
      "  6%|▌         | 1498/25000 [04:51<3:59:00,  1.64it/s]"
     ]
    },
    {
     "name": "stdout",
     "output_type": "stream",
     "text": [
      "Training World Model...\n",
      "Training Agent...\n",
      "init_imagine_buffer: 1024x16@torch.float32\n"
     ]
    },
    {
     "name": "stderr",
     "output_type": "stream",
     "text": [
      "  6%|▌         | 1499/25000 [04:51<3:59:17,  1.64it/s]"
     ]
    },
    {
     "name": "stdout",
     "output_type": "stream",
     "text": [
      "Training World Model...\n",
      "Training Agent...\n",
      "init_imagine_buffer: 1024x16@torch.float32\n"
     ]
    },
    {
     "name": "stderr",
     "output_type": "stream",
     "text": [
      "  6%|▌         | 1500/25000 [04:52<3:59:21,  1.64it/s]"
     ]
    },
    {
     "name": "stdout",
     "output_type": "stream",
     "text": [
      "Training World Model...\n",
      "Training Agent...\n",
      "init_imagine_buffer: 1024x16@torch.float32\n"
     ]
    },
    {
     "name": "stderr",
     "output_type": "stream",
     "text": [
      "  6%|▌         | 1501/25000 [04:53<4:00:07,  1.63it/s]"
     ]
    },
    {
     "name": "stdout",
     "output_type": "stream",
     "text": [
      "Training World Model...\n",
      "Training Agent...\n",
      "init_imagine_buffer: 1024x16@torch.float32\n"
     ]
    },
    {
     "name": "stderr",
     "output_type": "stream",
     "text": [
      "  6%|▌         | 1502/25000 [04:53<3:58:56,  1.64it/s]"
     ]
    },
    {
     "name": "stdout",
     "output_type": "stream",
     "text": [
      "Training World Model...\n",
      "Training Agent...\n",
      "init_imagine_buffer: 1024x16@torch.float32\n"
     ]
    },
    {
     "name": "stderr",
     "output_type": "stream",
     "text": [
      "  6%|▌         | 1503/25000 [04:54<3:57:59,  1.65it/s]"
     ]
    },
    {
     "name": "stdout",
     "output_type": "stream",
     "text": [
      "Training World Model...\n",
      "Training Agent...\n",
      "init_imagine_buffer: 1024x16@torch.float32\n"
     ]
    },
    {
     "name": "stderr",
     "output_type": "stream",
     "text": [
      "  6%|▌         | 1504/25000 [04:54<3:57:19,  1.65it/s]"
     ]
    },
    {
     "name": "stdout",
     "output_type": "stream",
     "text": [
      "Training World Model...\n",
      "Training Agent...\n",
      "init_imagine_buffer: 1024x16@torch.float32\n"
     ]
    },
    {
     "name": "stderr",
     "output_type": "stream",
     "text": [
      "  6%|▌         | 1505/25000 [04:55<3:57:40,  1.65it/s]"
     ]
    },
    {
     "name": "stdout",
     "output_type": "stream",
     "text": [
      "Training World Model...\n",
      "Training Agent...\n",
      "init_imagine_buffer: 1024x16@torch.float32\n"
     ]
    },
    {
     "name": "stderr",
     "output_type": "stream",
     "text": [
      "  6%|▌         | 1506/25000 [04:56<3:57:06,  1.65it/s]"
     ]
    },
    {
     "name": "stdout",
     "output_type": "stream",
     "text": [
      "Training World Model...\n",
      "Training Agent...\n",
      "init_imagine_buffer: 1024x16@torch.float32\n"
     ]
    },
    {
     "name": "stderr",
     "output_type": "stream",
     "text": [
      "  6%|▌         | 1507/25000 [04:56<3:57:20,  1.65it/s]"
     ]
    },
    {
     "name": "stdout",
     "output_type": "stream",
     "text": [
      "Training World Model...\n",
      "Training Agent...\n",
      "init_imagine_buffer: 1024x16@torch.float32\n"
     ]
    },
    {
     "name": "stderr",
     "output_type": "stream",
     "text": [
      "  6%|▌         | 1508/25000 [04:57<3:57:59,  1.65it/s]"
     ]
    },
    {
     "name": "stdout",
     "output_type": "stream",
     "text": [
      "Training World Model...\n",
      "Training Agent...\n",
      "init_imagine_buffer: 1024x16@torch.float32\n"
     ]
    },
    {
     "name": "stderr",
     "output_type": "stream",
     "text": [
      "  6%|▌         | 1509/25000 [04:57<3:58:45,  1.64it/s]"
     ]
    },
    {
     "name": "stdout",
     "output_type": "stream",
     "text": [
      "Training World Model...\n",
      "Training Agent...\n",
      "init_imagine_buffer: 1024x16@torch.float32\n"
     ]
    },
    {
     "name": "stderr",
     "output_type": "stream",
     "text": [
      "  6%|▌         | 1510/25000 [04:58<3:59:12,  1.64it/s]"
     ]
    },
    {
     "name": "stdout",
     "output_type": "stream",
     "text": [
      "Training World Model...\n",
      "Training Agent...\n",
      "init_imagine_buffer: 1024x16@torch.float32\n"
     ]
    },
    {
     "name": "stderr",
     "output_type": "stream",
     "text": [
      "  6%|▌         | 1511/25000 [04:59<3:59:00,  1.64it/s]"
     ]
    },
    {
     "name": "stdout",
     "output_type": "stream",
     "text": [
      "Training World Model...\n",
      "Training Agent...\n",
      "init_imagine_buffer: 1024x16@torch.float32\n"
     ]
    },
    {
     "name": "stderr",
     "output_type": "stream",
     "text": [
      "  6%|▌         | 1512/25000 [04:59<4:00:02,  1.63it/s]"
     ]
    },
    {
     "name": "stdout",
     "output_type": "stream",
     "text": [
      "Training World Model...\n",
      "Training Agent...\n",
      "init_imagine_buffer: 1024x16@torch.float32\n"
     ]
    },
    {
     "name": "stderr",
     "output_type": "stream",
     "text": [
      "  6%|▌         | 1513/25000 [05:00<4:00:15,  1.63it/s]"
     ]
    },
    {
     "name": "stdout",
     "output_type": "stream",
     "text": [
      "Training World Model...\n",
      "Training Agent...\n",
      "init_imagine_buffer: 1024x16@torch.float32\n"
     ]
    },
    {
     "name": "stderr",
     "output_type": "stream",
     "text": [
      "  6%|▌         | 1514/25000 [05:00<4:00:02,  1.63it/s]"
     ]
    },
    {
     "name": "stdout",
     "output_type": "stream",
     "text": [
      "Training World Model...\n",
      "Training Agent...\n",
      "init_imagine_buffer: 1024x16@torch.float32\n"
     ]
    },
    {
     "name": "stderr",
     "output_type": "stream",
     "text": [
      "  6%|▌         | 1515/25000 [05:01<3:59:32,  1.63it/s]"
     ]
    },
    {
     "name": "stdout",
     "output_type": "stream",
     "text": [
      "Training World Model...\n",
      "Training Agent...\n",
      "init_imagine_buffer: 1024x16@torch.float32\n"
     ]
    },
    {
     "name": "stderr",
     "output_type": "stream",
     "text": [
      "  6%|▌         | 1516/25000 [05:02<3:59:39,  1.63it/s]"
     ]
    },
    {
     "name": "stdout",
     "output_type": "stream",
     "text": [
      "Training World Model...\n",
      "Training Agent...\n",
      "init_imagine_buffer: 1024x16@torch.float32\n"
     ]
    },
    {
     "name": "stderr",
     "output_type": "stream",
     "text": [
      "  6%|▌         | 1517/25000 [05:02<3:59:35,  1.63it/s]"
     ]
    },
    {
     "name": "stdout",
     "output_type": "stream",
     "text": [
      "Training World Model...\n",
      "Training Agent...\n",
      "init_imagine_buffer: 1024x16@torch.float32\n"
     ]
    },
    {
     "name": "stderr",
     "output_type": "stream",
     "text": [
      "  6%|▌         | 1518/25000 [05:03<3:59:31,  1.63it/s]"
     ]
    },
    {
     "name": "stdout",
     "output_type": "stream",
     "text": [
      "Training World Model...\n",
      "Training Agent...\n",
      "init_imagine_buffer: 1024x16@torch.float32\n"
     ]
    },
    {
     "name": "stderr",
     "output_type": "stream",
     "text": [
      "  6%|▌         | 1519/25000 [05:04<3:59:40,  1.63it/s]"
     ]
    },
    {
     "name": "stdout",
     "output_type": "stream",
     "text": [
      "Training World Model...\n",
      "Training Agent...\n",
      "init_imagine_buffer: 1024x16@torch.float32\n"
     ]
    },
    {
     "name": "stderr",
     "output_type": "stream",
     "text": [
      "  6%|▌         | 1520/25000 [05:04<3:59:31,  1.63it/s]"
     ]
    },
    {
     "name": "stdout",
     "output_type": "stream",
     "text": [
      "Training World Model...\n",
      "Training Agent...\n",
      "init_imagine_buffer: 1024x16@torch.float32\n"
     ]
    },
    {
     "name": "stderr",
     "output_type": "stream",
     "text": [
      "  6%|▌         | 1521/25000 [05:05<3:59:55,  1.63it/s]"
     ]
    },
    {
     "name": "stdout",
     "output_type": "stream",
     "text": [
      "Training World Model...\n",
      "Training Agent...\n",
      "init_imagine_buffer: 1024x16@torch.float32\n"
     ]
    },
    {
     "name": "stderr",
     "output_type": "stream",
     "text": [
      "  6%|▌         | 1522/25000 [05:05<3:59:24,  1.63it/s]"
     ]
    },
    {
     "name": "stdout",
     "output_type": "stream",
     "text": [
      "Training World Model...\n",
      "Training Agent...\n",
      "init_imagine_buffer: 1024x16@torch.float32\n"
     ]
    },
    {
     "name": "stderr",
     "output_type": "stream",
     "text": [
      "  6%|▌         | 1523/25000 [05:06<3:59:10,  1.64it/s]"
     ]
    },
    {
     "name": "stdout",
     "output_type": "stream",
     "text": [
      "Training World Model...\n",
      "Training Agent...\n",
      "init_imagine_buffer: 1024x16@torch.float32\n"
     ]
    },
    {
     "name": "stderr",
     "output_type": "stream",
     "text": [
      "  6%|▌         | 1524/25000 [05:07<3:58:07,  1.64it/s]"
     ]
    },
    {
     "name": "stdout",
     "output_type": "stream",
     "text": [
      "Training World Model...\n",
      "Training Agent...\n",
      "init_imagine_buffer: 1024x16@torch.float32\n"
     ]
    },
    {
     "name": "stderr",
     "output_type": "stream",
     "text": [
      "  6%|▌         | 1525/25000 [05:07<3:57:25,  1.65it/s]"
     ]
    },
    {
     "name": "stdout",
     "output_type": "stream",
     "text": [
      "Training World Model...\n",
      "Training Agent...\n",
      "init_imagine_buffer: 1024x16@torch.float32\n"
     ]
    },
    {
     "name": "stderr",
     "output_type": "stream",
     "text": [
      "  6%|▌         | 1526/25000 [05:08<3:56:51,  1.65it/s]"
     ]
    },
    {
     "name": "stdout",
     "output_type": "stream",
     "text": [
      "Training World Model...\n",
      "Training Agent...\n",
      "init_imagine_buffer: 1024x16@torch.float32\n"
     ]
    },
    {
     "name": "stderr",
     "output_type": "stream",
     "text": [
      "  6%|▌         | 1527/25000 [05:08<3:57:14,  1.65it/s]"
     ]
    },
    {
     "name": "stdout",
     "output_type": "stream",
     "text": [
      "Training World Model...\n",
      "Training Agent...\n",
      "init_imagine_buffer: 1024x16@torch.float32\n"
     ]
    },
    {
     "name": "stderr",
     "output_type": "stream",
     "text": [
      "  6%|▌         | 1528/25000 [05:09<3:58:13,  1.64it/s]"
     ]
    },
    {
     "name": "stdout",
     "output_type": "stream",
     "text": [
      "Training World Model...\n",
      "Training Agent...\n",
      "init_imagine_buffer: 1024x16@torch.float32\n"
     ]
    },
    {
     "name": "stderr",
     "output_type": "stream",
     "text": [
      "  6%|▌         | 1529/25000 [05:10<3:58:33,  1.64it/s]"
     ]
    },
    {
     "name": "stdout",
     "output_type": "stream",
     "text": [
      "Training World Model...\n",
      "Training Agent...\n",
      "init_imagine_buffer: 1024x16@torch.float32\n"
     ]
    },
    {
     "name": "stderr",
     "output_type": "stream",
     "text": [
      "  6%|▌         | 1530/25000 [05:10<3:59:00,  1.64it/s]"
     ]
    },
    {
     "name": "stdout",
     "output_type": "stream",
     "text": [
      "Training World Model...\n",
      "Training Agent...\n",
      "init_imagine_buffer: 1024x16@torch.float32\n"
     ]
    },
    {
     "name": "stderr",
     "output_type": "stream",
     "text": [
      "  6%|▌         | 1531/25000 [05:11<3:58:38,  1.64it/s]"
     ]
    },
    {
     "name": "stdout",
     "output_type": "stream",
     "text": [
      "Training World Model...\n",
      "Training Agent...\n",
      "init_imagine_buffer: 1024x16@torch.float32\n"
     ]
    },
    {
     "name": "stderr",
     "output_type": "stream",
     "text": [
      "  6%|▌         | 1532/25000 [05:11<3:59:02,  1.64it/s]"
     ]
    },
    {
     "name": "stdout",
     "output_type": "stream",
     "text": [
      "Training World Model...\n",
      "Training Agent...\n",
      "init_imagine_buffer: 1024x16@torch.float32\n"
     ]
    },
    {
     "name": "stderr",
     "output_type": "stream",
     "text": [
      "  6%|▌         | 1533/25000 [05:12<3:58:41,  1.64it/s]"
     ]
    },
    {
     "name": "stdout",
     "output_type": "stream",
     "text": [
      "Training World Model...\n",
      "Training Agent...\n",
      "init_imagine_buffer: 1024x16@torch.float32\n"
     ]
    },
    {
     "name": "stderr",
     "output_type": "stream",
     "text": [
      "  6%|▌         | 1534/25000 [05:13<3:59:17,  1.63it/s]"
     ]
    },
    {
     "name": "stdout",
     "output_type": "stream",
     "text": [
      "Training World Model...\n",
      "Training Agent...\n",
      "init_imagine_buffer: 1024x16@torch.float32\n"
     ]
    },
    {
     "name": "stderr",
     "output_type": "stream",
     "text": [
      "  6%|▌         | 1535/25000 [05:13<3:59:45,  1.63it/s]"
     ]
    },
    {
     "name": "stdout",
     "output_type": "stream",
     "text": [
      "Training World Model...\n",
      "Training Agent...\n",
      "init_imagine_buffer: 1024x16@torch.float32\n"
     ]
    },
    {
     "name": "stderr",
     "output_type": "stream",
     "text": [
      "  6%|▌         | 1536/25000 [05:14<4:13:04,  1.55it/s]"
     ]
    },
    {
     "name": "stdout",
     "output_type": "stream",
     "text": [
      "Training World Model...\n",
      "Training Agent...\n",
      "init_imagine_buffer: 1024x16@torch.float32\n"
     ]
    },
    {
     "name": "stderr",
     "output_type": "stream",
     "text": [
      "  6%|▌         | 1537/25000 [05:15<4:08:54,  1.57it/s]"
     ]
    },
    {
     "name": "stdout",
     "output_type": "stream",
     "text": [
      "Training World Model...\n",
      "Training Agent...\n",
      "init_imagine_buffer: 1024x16@torch.float32\n"
     ]
    },
    {
     "name": "stderr",
     "output_type": "stream",
     "text": [
      "  6%|▌         | 1538/25000 [05:15<4:05:31,  1.59it/s]"
     ]
    },
    {
     "name": "stdout",
     "output_type": "stream",
     "text": [
      "Training World Model...\n",
      "Training Agent...\n",
      "init_imagine_buffer: 1024x16@torch.float32\n"
     ]
    },
    {
     "name": "stderr",
     "output_type": "stream",
     "text": [
      "  6%|▌         | 1539/25000 [05:16<4:02:59,  1.61it/s]"
     ]
    },
    {
     "name": "stdout",
     "output_type": "stream",
     "text": [
      "Training World Model...\n",
      "Training Agent...\n",
      "init_imagine_buffer: 1024x16@torch.float32\n"
     ]
    },
    {
     "name": "stderr",
     "output_type": "stream",
     "text": [
      "  6%|▌         | 1540/25000 [05:16<4:02:04,  1.62it/s]"
     ]
    },
    {
     "name": "stdout",
     "output_type": "stream",
     "text": [
      "Training World Model...\n",
      "Training Agent...\n",
      "init_imagine_buffer: 1024x16@torch.float32\n"
     ]
    },
    {
     "name": "stderr",
     "output_type": "stream",
     "text": [
      "  6%|▌         | 1541/25000 [05:17<4:01:41,  1.62it/s]"
     ]
    },
    {
     "name": "stdout",
     "output_type": "stream",
     "text": [
      "Training World Model...\n",
      "Training Agent...\n",
      "init_imagine_buffer: 1024x16@torch.float32\n"
     ]
    },
    {
     "name": "stderr",
     "output_type": "stream",
     "text": [
      "  6%|▌         | 1542/25000 [05:18<4:00:35,  1.63it/s]"
     ]
    },
    {
     "name": "stdout",
     "output_type": "stream",
     "text": [
      "Training World Model...\n",
      "Training Agent...\n",
      "init_imagine_buffer: 1024x16@torch.float32\n"
     ]
    },
    {
     "name": "stderr",
     "output_type": "stream",
     "text": [
      "  6%|▌         | 1543/25000 [05:18<3:59:40,  1.63it/s]"
     ]
    },
    {
     "name": "stdout",
     "output_type": "stream",
     "text": [
      "Training World Model...\n",
      "Training Agent...\n",
      "init_imagine_buffer: 1024x16@torch.float32\n"
     ]
    },
    {
     "name": "stderr",
     "output_type": "stream",
     "text": [
      "  6%|▌         | 1544/25000 [05:19<3:59:02,  1.64it/s]"
     ]
    },
    {
     "name": "stdout",
     "output_type": "stream",
     "text": [
      "Training World Model...\n",
      "Training Agent...\n",
      "init_imagine_buffer: 1024x16@torch.float32\n"
     ]
    },
    {
     "name": "stderr",
     "output_type": "stream",
     "text": [
      "  6%|▌         | 1545/25000 [05:19<3:57:52,  1.64it/s]"
     ]
    },
    {
     "name": "stdout",
     "output_type": "stream",
     "text": [
      "Training World Model...\n",
      "Training Agent...\n",
      "init_imagine_buffer: 1024x16@torch.float32\n"
     ]
    },
    {
     "name": "stderr",
     "output_type": "stream",
     "text": [
      "  6%|▌         | 1546/25000 [05:20<3:56:58,  1.65it/s]"
     ]
    },
    {
     "name": "stdout",
     "output_type": "stream",
     "text": [
      "Training World Model...\n",
      "Training Agent...\n",
      "init_imagine_buffer: 1024x16@torch.float32\n"
     ]
    },
    {
     "name": "stderr",
     "output_type": "stream",
     "text": [
      "  6%|▌         | 1547/25000 [05:21<3:56:20,  1.65it/s]"
     ]
    },
    {
     "name": "stdout",
     "output_type": "stream",
     "text": [
      "Training World Model...\n",
      "Training Agent...\n",
      "init_imagine_buffer: 1024x16@torch.float32\n"
     ]
    },
    {
     "name": "stderr",
     "output_type": "stream",
     "text": [
      "  6%|▌         | 1548/25000 [05:21<3:56:24,  1.65it/s]"
     ]
    },
    {
     "name": "stdout",
     "output_type": "stream",
     "text": [
      "Training World Model...\n",
      "Training Agent...\n",
      "init_imagine_buffer: 1024x16@torch.float32\n"
     ]
    },
    {
     "name": "stderr",
     "output_type": "stream",
     "text": [
      "  6%|▌         | 1549/25000 [05:22<3:56:37,  1.65it/s]"
     ]
    },
    {
     "name": "stdout",
     "output_type": "stream",
     "text": [
      "Training World Model...\n",
      "Training Agent...\n",
      "init_imagine_buffer: 1024x16@torch.float32\n"
     ]
    },
    {
     "name": "stderr",
     "output_type": "stream",
     "text": [
      "  6%|▌         | 1550/25000 [05:23<3:57:25,  1.65it/s]"
     ]
    },
    {
     "name": "stdout",
     "output_type": "stream",
     "text": [
      "Training World Model...\n",
      "Training Agent...\n",
      "init_imagine_buffer: 1024x16@torch.float32\n"
     ]
    },
    {
     "name": "stderr",
     "output_type": "stream",
     "text": [
      "  6%|▌         | 1551/25000 [05:23<3:58:07,  1.64it/s]"
     ]
    },
    {
     "name": "stdout",
     "output_type": "stream",
     "text": [
      "Training World Model...\n",
      "Training Agent...\n",
      "init_imagine_buffer: 1024x16@torch.float32\n"
     ]
    },
    {
     "name": "stderr",
     "output_type": "stream",
     "text": [
      "  6%|▌         | 1552/25000 [05:24<3:58:16,  1.64it/s]"
     ]
    },
    {
     "name": "stdout",
     "output_type": "stream",
     "text": [
      "Training World Model...\n",
      "Training Agent...\n",
      "init_imagine_buffer: 1024x16@torch.float32\n"
     ]
    },
    {
     "name": "stderr",
     "output_type": "stream",
     "text": [
      "  6%|▌         | 1553/25000 [05:24<3:59:14,  1.63it/s]"
     ]
    },
    {
     "name": "stdout",
     "output_type": "stream",
     "text": [
      "Training World Model...\n",
      "Training Agent...\n",
      "init_imagine_buffer: 1024x16@torch.float32\n"
     ]
    },
    {
     "name": "stderr",
     "output_type": "stream",
     "text": [
      "  6%|▌         | 1554/25000 [05:25<3:59:02,  1.63it/s]"
     ]
    },
    {
     "name": "stdout",
     "output_type": "stream",
     "text": [
      "Training World Model...\n",
      "Training Agent...\n",
      "init_imagine_buffer: 1024x16@torch.float32\n"
     ]
    },
    {
     "name": "stderr",
     "output_type": "stream",
     "text": [
      "  6%|▌         | 1555/25000 [05:26<3:58:35,  1.64it/s]"
     ]
    },
    {
     "name": "stdout",
     "output_type": "stream",
     "text": [
      "Training World Model...\n",
      "Training Agent...\n",
      "init_imagine_buffer: 1024x16@torch.float32\n"
     ]
    },
    {
     "name": "stderr",
     "output_type": "stream",
     "text": [
      "  6%|▌         | 1556/25000 [05:26<3:59:14,  1.63it/s]"
     ]
    },
    {
     "name": "stdout",
     "output_type": "stream",
     "text": [
      "Training World Model...\n",
      "Training Agent...\n",
      "init_imagine_buffer: 1024x16@torch.float32\n"
     ]
    },
    {
     "name": "stderr",
     "output_type": "stream",
     "text": [
      "  6%|▌         | 1557/25000 [05:27<3:59:27,  1.63it/s]"
     ]
    },
    {
     "name": "stdout",
     "output_type": "stream",
     "text": [
      "Training World Model...\n",
      "Training Agent...\n",
      "init_imagine_buffer: 1024x16@torch.float32\n"
     ]
    },
    {
     "name": "stderr",
     "output_type": "stream",
     "text": [
      "  6%|▌         | 1558/25000 [05:27<3:59:26,  1.63it/s]"
     ]
    },
    {
     "name": "stdout",
     "output_type": "stream",
     "text": [
      "Training World Model...\n",
      "Training Agent...\n",
      "init_imagine_buffer: 1024x16@torch.float32\n"
     ]
    },
    {
     "name": "stderr",
     "output_type": "stream",
     "text": [
      "  6%|▌         | 1559/25000 [05:28<3:59:25,  1.63it/s]"
     ]
    },
    {
     "name": "stdout",
     "output_type": "stream",
     "text": [
      "Training World Model...\n",
      "Training Agent...\n",
      "init_imagine_buffer: 1024x16@torch.float32\n"
     ]
    },
    {
     "name": "stderr",
     "output_type": "stream",
     "text": [
      "  6%|▌         | 1560/25000 [05:29<3:59:39,  1.63it/s]"
     ]
    },
    {
     "name": "stdout",
     "output_type": "stream",
     "text": [
      "Training World Model...\n",
      "Training Agent...\n",
      "init_imagine_buffer: 1024x16@torch.float32\n"
     ]
    },
    {
     "name": "stderr",
     "output_type": "stream",
     "text": [
      "  6%|▌         | 1561/25000 [05:29<3:59:59,  1.63it/s]"
     ]
    },
    {
     "name": "stdout",
     "output_type": "stream",
     "text": [
      "Training World Model...\n",
      "Training Agent...\n",
      "init_imagine_buffer: 1024x16@torch.float32\n"
     ]
    },
    {
     "name": "stderr",
     "output_type": "stream",
     "text": [
      "  6%|▌         | 1562/25000 [05:30<3:59:40,  1.63it/s]"
     ]
    },
    {
     "name": "stdout",
     "output_type": "stream",
     "text": [
      "Training World Model...\n",
      "Training Agent...\n",
      "init_imagine_buffer: 1024x16@torch.float32\n"
     ]
    },
    {
     "name": "stderr",
     "output_type": "stream",
     "text": [
      "  6%|▋         | 1563/25000 [05:30<3:59:46,  1.63it/s]"
     ]
    },
    {
     "name": "stdout",
     "output_type": "stream",
     "text": [
      "Training World Model...\n",
      "Training Agent...\n",
      "init_imagine_buffer: 1024x16@torch.float32\n"
     ]
    },
    {
     "name": "stderr",
     "output_type": "stream",
     "text": [
      "  6%|▋         | 1564/25000 [05:31<3:59:03,  1.63it/s]"
     ]
    },
    {
     "name": "stdout",
     "output_type": "stream",
     "text": [
      "Training World Model...\n",
      "Training Agent...\n",
      "init_imagine_buffer: 1024x16@torch.float32\n"
     ]
    },
    {
     "name": "stderr",
     "output_type": "stream",
     "text": [
      "  6%|▋         | 1565/25000 [05:32<3:59:10,  1.63it/s]"
     ]
    },
    {
     "name": "stdout",
     "output_type": "stream",
     "text": [
      "Training World Model...\n",
      "Training Agent...\n",
      "init_imagine_buffer: 1024x16@torch.float32\n"
     ]
    },
    {
     "name": "stderr",
     "output_type": "stream",
     "text": [
      "  6%|▋         | 1566/25000 [05:32<3:58:11,  1.64it/s]"
     ]
    },
    {
     "name": "stdout",
     "output_type": "stream",
     "text": [
      "Training World Model...\n",
      "Training Agent...\n",
      "init_imagine_buffer: 1024x16@torch.float32\n"
     ]
    },
    {
     "name": "stderr",
     "output_type": "stream",
     "text": [
      "  6%|▋         | 1567/25000 [05:33<3:56:57,  1.65it/s]"
     ]
    },
    {
     "name": "stdout",
     "output_type": "stream",
     "text": [
      "Training World Model...\n",
      "Training Agent...\n",
      "init_imagine_buffer: 1024x16@torch.float32\n"
     ]
    },
    {
     "name": "stderr",
     "output_type": "stream",
     "text": [
      "  6%|▋         | 1568/25000 [05:33<3:56:05,  1.65it/s]"
     ]
    },
    {
     "name": "stdout",
     "output_type": "stream",
     "text": [
      "Training World Model...\n",
      "Training Agent...\n",
      "init_imagine_buffer: 1024x16@torch.float32\n"
     ]
    },
    {
     "name": "stderr",
     "output_type": "stream",
     "text": [
      "  6%|▋         | 1569/25000 [05:34<3:55:34,  1.66it/s]"
     ]
    },
    {
     "name": "stdout",
     "output_type": "stream",
     "text": [
      "Training World Model...\n",
      "Training Agent...\n",
      "init_imagine_buffer: 1024x16@torch.float32\n"
     ]
    },
    {
     "name": "stderr",
     "output_type": "stream",
     "text": [
      "  6%|▋         | 1570/25000 [05:35<3:56:03,  1.65it/s]"
     ]
    },
    {
     "name": "stdout",
     "output_type": "stream",
     "text": [
      "Training World Model...\n",
      "Training Agent...\n",
      "init_imagine_buffer: 1024x16@torch.float32\n"
     ]
    },
    {
     "name": "stderr",
     "output_type": "stream",
     "text": [
      "  6%|▋         | 1571/25000 [05:35<3:56:38,  1.65it/s]"
     ]
    },
    {
     "name": "stdout",
     "output_type": "stream",
     "text": [
      "Training World Model...\n",
      "Training Agent...\n",
      "init_imagine_buffer: 1024x16@torch.float32\n"
     ]
    },
    {
     "name": "stderr",
     "output_type": "stream",
     "text": [
      "  6%|▋         | 1572/25000 [05:36<3:57:06,  1.65it/s]"
     ]
    },
    {
     "name": "stdout",
     "output_type": "stream",
     "text": [
      "Training World Model...\n",
      "Training Agent...\n",
      "init_imagine_buffer: 1024x16@torch.float32\n"
     ]
    },
    {
     "name": "stderr",
     "output_type": "stream",
     "text": [
      "  6%|▋         | 1573/25000 [05:37<3:57:48,  1.64it/s]"
     ]
    },
    {
     "name": "stdout",
     "output_type": "stream",
     "text": [
      "Training World Model...\n",
      "Training Agent...\n",
      "init_imagine_buffer: 1024x16@torch.float32\n"
     ]
    },
    {
     "name": "stderr",
     "output_type": "stream",
     "text": [
      "  6%|▋         | 1574/25000 [05:37<3:58:09,  1.64it/s]"
     ]
    },
    {
     "name": "stdout",
     "output_type": "stream",
     "text": [
      "Training World Model...\n",
      "Training Agent...\n",
      "init_imagine_buffer: 1024x16@torch.float32\n"
     ]
    },
    {
     "name": "stderr",
     "output_type": "stream",
     "text": [
      "  6%|▋         | 1575/25000 [05:38<3:58:39,  1.64it/s]"
     ]
    },
    {
     "name": "stdout",
     "output_type": "stream",
     "text": [
      "Training World Model...\n",
      "Training Agent...\n",
      "init_imagine_buffer: 1024x16@torch.float32\n"
     ]
    },
    {
     "name": "stderr",
     "output_type": "stream",
     "text": [
      "  6%|▋         | 1576/25000 [05:38<3:58:15,  1.64it/s]"
     ]
    },
    {
     "name": "stdout",
     "output_type": "stream",
     "text": [
      "Training World Model...\n",
      "Training Agent...\n",
      "init_imagine_buffer: 1024x16@torch.float32\n"
     ]
    },
    {
     "name": "stderr",
     "output_type": "stream",
     "text": [
      "  6%|▋         | 1577/25000 [05:39<3:58:43,  1.64it/s]"
     ]
    },
    {
     "name": "stdout",
     "output_type": "stream",
     "text": [
      "Training World Model...\n",
      "Training Agent...\n",
      "init_imagine_buffer: 1024x16@torch.float32\n"
     ]
    },
    {
     "name": "stderr",
     "output_type": "stream",
     "text": [
      "  6%|▋         | 1578/25000 [05:40<3:58:15,  1.64it/s]"
     ]
    },
    {
     "name": "stdout",
     "output_type": "stream",
     "text": [
      "Training World Model...\n",
      "Training Agent...\n",
      "init_imagine_buffer: 1024x16@torch.float32\n"
     ]
    },
    {
     "name": "stderr",
     "output_type": "stream",
     "text": [
      "  6%|▋         | 1579/25000 [05:40<3:57:59,  1.64it/s]"
     ]
    },
    {
     "name": "stdout",
     "output_type": "stream",
     "text": [
      "Training World Model...\n",
      "Training Agent...\n",
      "init_imagine_buffer: 1024x16@torch.float32\n"
     ]
    },
    {
     "name": "stderr",
     "output_type": "stream",
     "text": [
      "  6%|▋         | 1580/25000 [05:41<3:58:08,  1.64it/s]"
     ]
    },
    {
     "name": "stdout",
     "output_type": "stream",
     "text": [
      "Training World Model...\n",
      "Training Agent...\n",
      "init_imagine_buffer: 1024x16@torch.float32\n"
     ]
    },
    {
     "name": "stderr",
     "output_type": "stream",
     "text": [
      "  6%|▋         | 1581/25000 [05:41<3:58:10,  1.64it/s]"
     ]
    },
    {
     "name": "stdout",
     "output_type": "stream",
     "text": [
      "Training World Model...\n",
      "Training Agent...\n",
      "init_imagine_buffer: 1024x16@torch.float32\n"
     ]
    },
    {
     "name": "stderr",
     "output_type": "stream",
     "text": [
      "  6%|▋         | 1582/25000 [05:42<3:58:35,  1.64it/s]"
     ]
    },
    {
     "name": "stdout",
     "output_type": "stream",
     "text": [
      "Training World Model...\n",
      "Training Agent...\n",
      "init_imagine_buffer: 1024x16@torch.float32\n"
     ]
    },
    {
     "name": "stderr",
     "output_type": "stream",
     "text": [
      "  6%|▋         | 1583/25000 [05:43<3:58:22,  1.64it/s]"
     ]
    },
    {
     "name": "stdout",
     "output_type": "stream",
     "text": [
      "Training World Model...\n",
      "Training Agent...\n",
      "init_imagine_buffer: 1024x16@torch.float32\n"
     ]
    },
    {
     "name": "stderr",
     "output_type": "stream",
     "text": [
      "  6%|▋         | 1584/25000 [05:43<3:58:35,  1.64it/s]"
     ]
    },
    {
     "name": "stdout",
     "output_type": "stream",
     "text": [
      "Training World Model...\n",
      "Training Agent...\n",
      "init_imagine_buffer: 1024x16@torch.float32\n"
     ]
    },
    {
     "name": "stderr",
     "output_type": "stream",
     "text": [
      "  6%|▋         | 1585/25000 [05:44<3:58:39,  1.64it/s]"
     ]
    },
    {
     "name": "stdout",
     "output_type": "stream",
     "text": [
      "Training World Model...\n",
      "Training Agent...\n",
      "init_imagine_buffer: 1024x16@torch.float32\n"
     ]
    },
    {
     "name": "stderr",
     "output_type": "stream",
     "text": [
      "  6%|▋         | 1586/25000 [05:44<3:58:01,  1.64it/s]"
     ]
    },
    {
     "name": "stdout",
     "output_type": "stream",
     "text": [
      "Training World Model...\n",
      "Training Agent...\n",
      "init_imagine_buffer: 1024x16@torch.float32\n"
     ]
    },
    {
     "name": "stderr",
     "output_type": "stream",
     "text": [
      "  6%|▋         | 1587/25000 [05:45<3:58:01,  1.64it/s]"
     ]
    },
    {
     "name": "stdout",
     "output_type": "stream",
     "text": [
      "Training World Model...\n",
      "Training Agent...\n",
      "init_imagine_buffer: 1024x16@torch.float32\n"
     ]
    },
    {
     "name": "stderr",
     "output_type": "stream",
     "text": [
      "  6%|▋         | 1588/25000 [05:46<3:57:15,  1.64it/s]"
     ]
    },
    {
     "name": "stdout",
     "output_type": "stream",
     "text": [
      "Training World Model...\n",
      "Training Agent...\n",
      "init_imagine_buffer: 1024x16@torch.float32\n"
     ]
    },
    {
     "name": "stderr",
     "output_type": "stream",
     "text": [
      "  6%|▋         | 1589/25000 [05:46<3:56:21,  1.65it/s]"
     ]
    },
    {
     "name": "stdout",
     "output_type": "stream",
     "text": [
      "Training World Model...\n",
      "Training Agent...\n",
      "init_imagine_buffer: 1024x16@torch.float32\n"
     ]
    },
    {
     "name": "stderr",
     "output_type": "stream",
     "text": [
      "  6%|▋         | 1590/25000 [05:47<3:55:46,  1.65it/s]"
     ]
    },
    {
     "name": "stdout",
     "output_type": "stream",
     "text": [
      "Training World Model...\n",
      "Training Agent...\n",
      "init_imagine_buffer: 1024x16@torch.float32\n"
     ]
    },
    {
     "name": "stderr",
     "output_type": "stream",
     "text": [
      "  6%|▋         | 1591/25000 [05:48<3:56:29,  1.65it/s]"
     ]
    },
    {
     "name": "stdout",
     "output_type": "stream",
     "text": [
      "Training World Model...\n",
      "Training Agent...\n",
      "init_imagine_buffer: 1024x16@torch.float32\n"
     ]
    },
    {
     "name": "stderr",
     "output_type": "stream",
     "text": [
      "  6%|▋         | 1592/25000 [05:48<3:56:44,  1.65it/s]"
     ]
    },
    {
     "name": "stdout",
     "output_type": "stream",
     "text": [
      "Training World Model...\n",
      "Training Agent...\n",
      "init_imagine_buffer: 1024x16@torch.float32\n"
     ]
    },
    {
     "name": "stderr",
     "output_type": "stream",
     "text": [
      "  6%|▋         | 1593/25000 [05:49<3:57:10,  1.64it/s]"
     ]
    },
    {
     "name": "stdout",
     "output_type": "stream",
     "text": [
      "Training World Model...\n",
      "Training Agent...\n",
      "init_imagine_buffer: 1024x16@torch.float32\n"
     ]
    },
    {
     "name": "stderr",
     "output_type": "stream",
     "text": [
      "  6%|▋         | 1594/25000 [05:49<3:57:38,  1.64it/s]"
     ]
    },
    {
     "name": "stdout",
     "output_type": "stream",
     "text": [
      "Training World Model...\n",
      "Training Agent...\n",
      "init_imagine_buffer: 1024x16@torch.float32\n"
     ]
    },
    {
     "name": "stderr",
     "output_type": "stream",
     "text": [
      "  6%|▋         | 1595/25000 [05:50<3:57:27,  1.64it/s]"
     ]
    },
    {
     "name": "stdout",
     "output_type": "stream",
     "text": [
      "Training World Model...\n",
      "Training Agent...\n",
      "init_imagine_buffer: 1024x16@torch.float32\n"
     ]
    },
    {
     "name": "stderr",
     "output_type": "stream",
     "text": [
      "  6%|▋         | 1596/25000 [05:51<3:58:00,  1.64it/s]"
     ]
    },
    {
     "name": "stdout",
     "output_type": "stream",
     "text": [
      "Training World Model...\n",
      "Training Agent...\n",
      "init_imagine_buffer: 1024x16@torch.float32\n"
     ]
    },
    {
     "name": "stderr",
     "output_type": "stream",
     "text": [
      "  6%|▋         | 1597/25000 [05:51<3:58:49,  1.63it/s]"
     ]
    },
    {
     "name": "stdout",
     "output_type": "stream",
     "text": [
      "Training World Model...\n",
      "Training Agent...\n",
      "init_imagine_buffer: 1024x16@torch.float32\n"
     ]
    },
    {
     "name": "stderr",
     "output_type": "stream",
     "text": [
      "  6%|▋         | 1598/25000 [05:52<3:58:51,  1.63it/s]"
     ]
    },
    {
     "name": "stdout",
     "output_type": "stream",
     "text": [
      "Training World Model...\n",
      "Training Agent...\n",
      "init_imagine_buffer: 1024x16@torch.float32\n"
     ]
    },
    {
     "name": "stderr",
     "output_type": "stream",
     "text": [
      "  6%|▋         | 1599/25000 [05:52<3:58:04,  1.64it/s]"
     ]
    },
    {
     "name": "stdout",
     "output_type": "stream",
     "text": [
      "Training World Model...\n",
      "Training Agent...\n",
      "init_imagine_buffer: 1024x16@torch.float32\n"
     ]
    },
    {
     "name": "stderr",
     "output_type": "stream",
     "text": [
      "  6%|▋         | 1600/25000 [05:53<3:57:49,  1.64it/s]"
     ]
    },
    {
     "name": "stdout",
     "output_type": "stream",
     "text": [
      "Training World Model...\n",
      "Training Agent...\n",
      "init_imagine_buffer: 1024x16@torch.float32\n"
     ]
    },
    {
     "name": "stderr",
     "output_type": "stream",
     "text": [
      "  6%|▋         | 1601/25000 [05:54<3:57:38,  1.64it/s]"
     ]
    },
    {
     "name": "stdout",
     "output_type": "stream",
     "text": [
      "Training World Model...\n",
      "Training Agent...\n",
      "init_imagine_buffer: 1024x16@torch.float32\n"
     ]
    },
    {
     "name": "stderr",
     "output_type": "stream",
     "text": [
      "  6%|▋         | 1602/25000 [05:54<3:57:35,  1.64it/s]"
     ]
    },
    {
     "name": "stdout",
     "output_type": "stream",
     "text": [
      "Training World Model...\n",
      "Training Agent...\n",
      "init_imagine_buffer: 1024x16@torch.float32\n"
     ]
    },
    {
     "name": "stderr",
     "output_type": "stream",
     "text": [
      "  6%|▋         | 1603/25000 [05:55<3:57:53,  1.64it/s]"
     ]
    },
    {
     "name": "stdout",
     "output_type": "stream",
     "text": [
      "Training World Model...\n",
      "Training Agent...\n",
      "init_imagine_buffer: 1024x16@torch.float32\n"
     ]
    },
    {
     "name": "stderr",
     "output_type": "stream",
     "text": [
      "  6%|▋         | 1604/25000 [05:55<3:57:40,  1.64it/s]"
     ]
    },
    {
     "name": "stdout",
     "output_type": "stream",
     "text": [
      "Training World Model...\n",
      "Training Agent...\n",
      "init_imagine_buffer: 1024x16@torch.float32\n"
     ]
    },
    {
     "name": "stderr",
     "output_type": "stream",
     "text": [
      "  6%|▋         | 1605/25000 [05:56<3:58:11,  1.64it/s]"
     ]
    },
    {
     "name": "stdout",
     "output_type": "stream",
     "text": [
      "Training World Model...\n",
      "Training Agent...\n",
      "init_imagine_buffer: 1024x16@torch.float32\n"
     ]
    },
    {
     "name": "stderr",
     "output_type": "stream",
     "text": [
      "  6%|▋         | 1606/25000 [05:57<3:58:36,  1.63it/s]"
     ]
    },
    {
     "name": "stdout",
     "output_type": "stream",
     "text": [
      "Training World Model...\n",
      "Training Agent...\n",
      "init_imagine_buffer: 1024x16@torch.float32\n"
     ]
    },
    {
     "name": "stderr",
     "output_type": "stream",
     "text": [
      "  6%|▋         | 1607/25000 [05:57<3:58:00,  1.64it/s]"
     ]
    },
    {
     "name": "stdout",
     "output_type": "stream",
     "text": [
      "Training World Model...\n",
      "Training Agent...\n",
      "init_imagine_buffer: 1024x16@torch.float32\n"
     ]
    },
    {
     "name": "stderr",
     "output_type": "stream",
     "text": [
      "  6%|▋         | 1608/25000 [05:58<3:58:06,  1.64it/s]"
     ]
    },
    {
     "name": "stdout",
     "output_type": "stream",
     "text": [
      "Training World Model...\n",
      "Training Agent...\n",
      "init_imagine_buffer: 1024x16@torch.float32\n"
     ]
    },
    {
     "name": "stderr",
     "output_type": "stream",
     "text": [
      "  6%|▋         | 1609/25000 [05:58<3:57:12,  1.64it/s]"
     ]
    },
    {
     "name": "stdout",
     "output_type": "stream",
     "text": [
      "Training World Model...\n",
      "Training Agent...\n",
      "init_imagine_buffer: 1024x16@torch.float32\n"
     ]
    },
    {
     "name": "stderr",
     "output_type": "stream",
     "text": [
      "  6%|▋         | 1610/25000 [05:59<3:56:14,  1.65it/s]"
     ]
    },
    {
     "name": "stdout",
     "output_type": "stream",
     "text": [
      "Training World Model...\n",
      "Training Agent...\n",
      "init_imagine_buffer: 1024x16@torch.float32\n"
     ]
    },
    {
     "name": "stderr",
     "output_type": "stream",
     "text": [
      "  6%|▋         | 1611/25000 [06:00<3:55:50,  1.65it/s]"
     ]
    },
    {
     "name": "stdout",
     "output_type": "stream",
     "text": [
      "Training World Model...\n",
      "Training Agent...\n",
      "init_imagine_buffer: 1024x16@torch.float32\n"
     ]
    },
    {
     "name": "stderr",
     "output_type": "stream",
     "text": [
      "  6%|▋         | 1612/25000 [06:00<3:55:30,  1.66it/s]"
     ]
    },
    {
     "name": "stdout",
     "output_type": "stream",
     "text": [
      "Training World Model...\n",
      "Training Agent...\n",
      "init_imagine_buffer: 1024x16@torch.float32\n"
     ]
    },
    {
     "name": "stderr",
     "output_type": "stream",
     "text": [
      "  6%|▋         | 1613/25000 [06:01<3:55:48,  1.65it/s]"
     ]
    },
    {
     "name": "stdout",
     "output_type": "stream",
     "text": [
      "Training World Model...\n",
      "Training Agent...\n",
      "init_imagine_buffer: 1024x16@torch.float32\n"
     ]
    },
    {
     "name": "stderr",
     "output_type": "stream",
     "text": [
      "  6%|▋         | 1614/25000 [06:02<3:55:57,  1.65it/s]"
     ]
    },
    {
     "name": "stdout",
     "output_type": "stream",
     "text": [
      "Training World Model...\n",
      "Training Agent...\n",
      "init_imagine_buffer: 1024x16@torch.float32\n"
     ]
    },
    {
     "name": "stderr",
     "output_type": "stream",
     "text": [
      "  6%|▋         | 1615/25000 [06:02<3:56:24,  1.65it/s]"
     ]
    },
    {
     "name": "stdout",
     "output_type": "stream",
     "text": [
      "Training World Model...\n",
      "Training Agent...\n",
      "init_imagine_buffer: 1024x16@torch.float32\n"
     ]
    },
    {
     "name": "stderr",
     "output_type": "stream",
     "text": [
      "  6%|▋         | 1616/25000 [06:03<3:57:12,  1.64it/s]"
     ]
    },
    {
     "name": "stdout",
     "output_type": "stream",
     "text": [
      "Training World Model...\n",
      "Training Agent...\n",
      "init_imagine_buffer: 1024x16@torch.float32\n"
     ]
    },
    {
     "name": "stderr",
     "output_type": "stream",
     "text": [
      "  6%|▋         | 1617/25000 [06:03<3:57:18,  1.64it/s]"
     ]
    },
    {
     "name": "stdout",
     "output_type": "stream",
     "text": [
      "Training World Model...\n",
      "Training Agent...\n",
      "init_imagine_buffer: 1024x16@torch.float32\n"
     ]
    },
    {
     "name": "stderr",
     "output_type": "stream",
     "text": [
      "  6%|▋         | 1618/25000 [06:04<3:57:16,  1.64it/s]"
     ]
    },
    {
     "name": "stdout",
     "output_type": "stream",
     "text": [
      "Training World Model...\n",
      "Training Agent...\n",
      "init_imagine_buffer: 1024x16@torch.float32\n"
     ]
    },
    {
     "name": "stderr",
     "output_type": "stream",
     "text": [
      "  6%|▋         | 1619/25000 [06:05<3:57:01,  1.64it/s]"
     ]
    },
    {
     "name": "stdout",
     "output_type": "stream",
     "text": [
      "Training World Model...\n",
      "Training Agent...\n",
      "init_imagine_buffer: 1024x16@torch.float32\n"
     ]
    },
    {
     "name": "stderr",
     "output_type": "stream",
     "text": [
      "  6%|▋         | 1620/25000 [06:05<3:57:38,  1.64it/s]"
     ]
    },
    {
     "name": "stdout",
     "output_type": "stream",
     "text": [
      "Training World Model...\n",
      "Training Agent...\n",
      "init_imagine_buffer: 1024x16@torch.float32\n"
     ]
    },
    {
     "name": "stderr",
     "output_type": "stream",
     "text": [
      "  6%|▋         | 1621/25000 [06:06<3:58:09,  1.64it/s]"
     ]
    },
    {
     "name": "stdout",
     "output_type": "stream",
     "text": [
      "Training World Model...\n",
      "Training Agent...\n",
      "init_imagine_buffer: 1024x16@torch.float32\n"
     ]
    },
    {
     "name": "stderr",
     "output_type": "stream",
     "text": [
      "  6%|▋         | 1622/25000 [06:06<3:57:50,  1.64it/s]"
     ]
    },
    {
     "name": "stdout",
     "output_type": "stream",
     "text": [
      "Training World Model...\n",
      "Training Agent...\n",
      "init_imagine_buffer: 1024x16@torch.float32\n"
     ]
    },
    {
     "name": "stderr",
     "output_type": "stream",
     "text": [
      "  6%|▋         | 1623/25000 [06:07<3:58:13,  1.64it/s]"
     ]
    },
    {
     "name": "stdout",
     "output_type": "stream",
     "text": [
      "Training World Model...\n",
      "Training Agent...\n",
      "init_imagine_buffer: 1024x16@torch.float32\n"
     ]
    },
    {
     "name": "stderr",
     "output_type": "stream",
     "text": [
      "  6%|▋         | 1624/25000 [06:08<3:58:11,  1.64it/s]"
     ]
    },
    {
     "name": "stdout",
     "output_type": "stream",
     "text": [
      "Training World Model...\n",
      "Training Agent...\n",
      "init_imagine_buffer: 1024x16@torch.float32\n"
     ]
    },
    {
     "name": "stderr",
     "output_type": "stream",
     "text": [
      "  6%|▋         | 1625/25000 [06:08<3:57:53,  1.64it/s]"
     ]
    },
    {
     "name": "stdout",
     "output_type": "stream",
     "text": [
      "Training World Model...\n",
      "Training Agent...\n",
      "init_imagine_buffer: 1024x16@torch.float32\n"
     ]
    },
    {
     "name": "stderr",
     "output_type": "stream",
     "text": [
      "  7%|▋         | 1626/25000 [06:09<3:58:29,  1.63it/s]"
     ]
    },
    {
     "name": "stdout",
     "output_type": "stream",
     "text": [
      "Training World Model...\n",
      "Training Agent...\n",
      "init_imagine_buffer: 1024x16@torch.float32\n"
     ]
    },
    {
     "name": "stderr",
     "output_type": "stream",
     "text": [
      "  7%|▋         | 1627/25000 [06:09<3:58:53,  1.63it/s]"
     ]
    },
    {
     "name": "stdout",
     "output_type": "stream",
     "text": [
      "Training World Model...\n",
      "Training Agent...\n",
      "init_imagine_buffer: 1024x16@torch.float32\n"
     ]
    },
    {
     "name": "stderr",
     "output_type": "stream",
     "text": [
      "  7%|▋         | 1628/25000 [06:10<3:58:24,  1.63it/s]"
     ]
    },
    {
     "name": "stdout",
     "output_type": "stream",
     "text": [
      "Training World Model...\n",
      "Training Agent...\n",
      "init_imagine_buffer: 1024x16@torch.float32\n"
     ]
    },
    {
     "name": "stderr",
     "output_type": "stream",
     "text": [
      "  7%|▋         | 1629/25000 [06:11<3:58:13,  1.64it/s]"
     ]
    },
    {
     "name": "stdout",
     "output_type": "stream",
     "text": [
      "Training World Model...\n",
      "Training Agent...\n",
      "init_imagine_buffer: 1024x16@torch.float32\n"
     ]
    },
    {
     "name": "stderr",
     "output_type": "stream",
     "text": [
      "  7%|▋         | 1630/25000 [06:11<3:59:03,  1.63it/s]"
     ]
    },
    {
     "name": "stdout",
     "output_type": "stream",
     "text": [
      "Training World Model...\n",
      "Training Agent...\n",
      "init_imagine_buffer: 1024x16@torch.float32\n"
     ]
    },
    {
     "name": "stderr",
     "output_type": "stream",
     "text": [
      "  7%|▋         | 1631/25000 [06:12<3:57:38,  1.64it/s]"
     ]
    },
    {
     "name": "stdout",
     "output_type": "stream",
     "text": [
      "Training World Model...\n",
      "Training Agent...\n",
      "init_imagine_buffer: 1024x16@torch.float32\n"
     ]
    },
    {
     "name": "stderr",
     "output_type": "stream",
     "text": [
      "  7%|▋         | 1632/25000 [06:12<3:56:28,  1.65it/s]"
     ]
    },
    {
     "name": "stdout",
     "output_type": "stream",
     "text": [
      "Training World Model...\n",
      "Training Agent...\n",
      "init_imagine_buffer: 1024x16@torch.float32\n"
     ]
    },
    {
     "name": "stderr",
     "output_type": "stream",
     "text": [
      "  7%|▋         | 1633/25000 [06:13<3:55:35,  1.65it/s]"
     ]
    },
    {
     "name": "stdout",
     "output_type": "stream",
     "text": [
      "Training World Model...\n",
      "Training Agent...\n",
      "init_imagine_buffer: 1024x16@torch.float32\n"
     ]
    },
    {
     "name": "stderr",
     "output_type": "stream",
     "text": [
      "  7%|▋         | 1634/25000 [06:14<3:55:34,  1.65it/s]"
     ]
    },
    {
     "name": "stdout",
     "output_type": "stream",
     "text": [
      "Training World Model...\n",
      "Training Agent...\n",
      "init_imagine_buffer: 1024x16@torch.float32\n"
     ]
    },
    {
     "name": "stderr",
     "output_type": "stream",
     "text": [
      "  7%|▋         | 1635/25000 [06:14<3:55:24,  1.65it/s]"
     ]
    },
    {
     "name": "stdout",
     "output_type": "stream",
     "text": [
      "Training World Model...\n",
      "Training Agent...\n",
      "init_imagine_buffer: 1024x16@torch.float32\n"
     ]
    },
    {
     "name": "stderr",
     "output_type": "stream",
     "text": [
      "  7%|▋         | 1636/25000 [06:15<3:55:51,  1.65it/s]"
     ]
    },
    {
     "name": "stdout",
     "output_type": "stream",
     "text": [
      "Training World Model...\n",
      "Training Agent...\n",
      "init_imagine_buffer: 1024x16@torch.float32\n"
     ]
    },
    {
     "name": "stderr",
     "output_type": "stream",
     "text": [
      "  7%|▋         | 1637/25000 [06:16<3:55:54,  1.65it/s]"
     ]
    },
    {
     "name": "stdout",
     "output_type": "stream",
     "text": [
      "Training World Model...\n",
      "Training Agent...\n",
      "init_imagine_buffer: 1024x16@torch.float32\n"
     ]
    },
    {
     "name": "stderr",
     "output_type": "stream",
     "text": [
      "  7%|▋         | 1638/25000 [06:16<3:56:58,  1.64it/s]"
     ]
    },
    {
     "name": "stdout",
     "output_type": "stream",
     "text": [
      "Training World Model...\n",
      "Training Agent...\n",
      "init_imagine_buffer: 1024x16@torch.float32\n"
     ]
    },
    {
     "name": "stderr",
     "output_type": "stream",
     "text": [
      "  7%|▋         | 1639/25000 [06:17<3:56:56,  1.64it/s]"
     ]
    },
    {
     "name": "stdout",
     "output_type": "stream",
     "text": [
      "Training World Model...\n",
      "Training Agent...\n",
      "init_imagine_buffer: 1024x16@torch.float32\n"
     ]
    },
    {
     "name": "stderr",
     "output_type": "stream",
     "text": [
      "  7%|▋         | 1640/25000 [06:17<3:57:22,  1.64it/s]"
     ]
    },
    {
     "name": "stdout",
     "output_type": "stream",
     "text": [
      "Training World Model...\n",
      "Training Agent...\n",
      "init_imagine_buffer: 1024x16@torch.float32\n"
     ]
    },
    {
     "name": "stderr",
     "output_type": "stream",
     "text": [
      "  7%|▋         | 1641/25000 [06:18<3:58:12,  1.63it/s]"
     ]
    },
    {
     "name": "stdout",
     "output_type": "stream",
     "text": [
      "Training World Model...\n",
      "Training Agent...\n",
      "init_imagine_buffer: 1024x16@torch.float32\n"
     ]
    },
    {
     "name": "stderr",
     "output_type": "stream",
     "text": [
      "  7%|▋         | 1642/25000 [06:19<3:57:36,  1.64it/s]"
     ]
    },
    {
     "name": "stdout",
     "output_type": "stream",
     "text": [
      "Training World Model...\n",
      "Training Agent...\n",
      "init_imagine_buffer: 1024x16@torch.float32\n"
     ]
    },
    {
     "name": "stderr",
     "output_type": "stream",
     "text": [
      "  7%|▋         | 1643/25000 [06:19<3:57:18,  1.64it/s]"
     ]
    },
    {
     "name": "stdout",
     "output_type": "stream",
     "text": [
      "Training World Model...\n",
      "Training Agent...\n",
      "init_imagine_buffer: 1024x16@torch.float32\n"
     ]
    },
    {
     "name": "stderr",
     "output_type": "stream",
     "text": [
      "  7%|▋         | 1644/25000 [06:20<3:57:45,  1.64it/s]"
     ]
    },
    {
     "name": "stdout",
     "output_type": "stream",
     "text": [
      "Training World Model...\n",
      "Training Agent...\n",
      "init_imagine_buffer: 1024x16@torch.float32\n"
     ]
    },
    {
     "name": "stderr",
     "output_type": "stream",
     "text": [
      "  7%|▋         | 1645/25000 [06:20<3:58:23,  1.63it/s]"
     ]
    },
    {
     "name": "stdout",
     "output_type": "stream",
     "text": [
      "Training World Model...\n",
      "Training Agent...\n",
      "init_imagine_buffer: 1024x16@torch.float32\n"
     ]
    },
    {
     "name": "stderr",
     "output_type": "stream",
     "text": [
      "  7%|▋         | 1646/25000 [06:21<3:57:27,  1.64it/s]"
     ]
    },
    {
     "name": "stdout",
     "output_type": "stream",
     "text": [
      "Training World Model...\n",
      "Training Agent...\n",
      "init_imagine_buffer: 1024x16@torch.float32\n"
     ]
    },
    {
     "name": "stderr",
     "output_type": "stream",
     "text": [
      "  7%|▋         | 1647/25000 [06:22<3:57:06,  1.64it/s]"
     ]
    },
    {
     "name": "stdout",
     "output_type": "stream",
     "text": [
      "Training World Model...\n",
      "Training Agent...\n",
      "init_imagine_buffer: 1024x16@torch.float32\n"
     ]
    },
    {
     "name": "stderr",
     "output_type": "stream",
     "text": [
      "  7%|▋         | 1648/25000 [06:22<3:56:33,  1.65it/s]"
     ]
    },
    {
     "name": "stdout",
     "output_type": "stream",
     "text": [
      "Training World Model...\n",
      "Training Agent...\n",
      "init_imagine_buffer: 1024x16@torch.float32\n"
     ]
    },
    {
     "name": "stderr",
     "output_type": "stream",
     "text": [
      "  7%|▋         | 1649/25000 [06:23<3:56:53,  1.64it/s]"
     ]
    },
    {
     "name": "stdout",
     "output_type": "stream",
     "text": [
      "Training World Model...\n",
      "Training Agent...\n",
      "init_imagine_buffer: 1024x16@torch.float32\n"
     ]
    },
    {
     "name": "stderr",
     "output_type": "stream",
     "text": [
      "  7%|▋         | 1650/25000 [06:23<3:57:33,  1.64it/s]"
     ]
    },
    {
     "name": "stdout",
     "output_type": "stream",
     "text": [
      "Training World Model...\n",
      "Training Agent...\n",
      "init_imagine_buffer: 1024x16@torch.float32\n"
     ]
    },
    {
     "name": "stderr",
     "output_type": "stream",
     "text": [
      "  7%|▋         | 1651/25000 [06:24<3:57:12,  1.64it/s]"
     ]
    },
    {
     "name": "stdout",
     "output_type": "stream",
     "text": [
      "Training World Model...\n",
      "Training Agent...\n",
      "init_imagine_buffer: 1024x16@torch.float32\n"
     ]
    },
    {
     "name": "stderr",
     "output_type": "stream",
     "text": [
      "  7%|▋         | 1652/25000 [06:25<3:57:22,  1.64it/s]"
     ]
    },
    {
     "name": "stdout",
     "output_type": "stream",
     "text": [
      "Training World Model...\n",
      "Training Agent...\n",
      "init_imagine_buffer: 1024x16@torch.float32\n"
     ]
    },
    {
     "name": "stderr",
     "output_type": "stream",
     "text": [
      "  7%|▋         | 1653/25000 [06:25<3:56:38,  1.64it/s]"
     ]
    },
    {
     "name": "stdout",
     "output_type": "stream",
     "text": [
      "Training World Model...\n",
      "Training Agent...\n",
      "init_imagine_buffer: 1024x16@torch.float32\n"
     ]
    },
    {
     "name": "stderr",
     "output_type": "stream",
     "text": [
      "  7%|▋         | 1654/25000 [06:26<3:55:47,  1.65it/s]"
     ]
    },
    {
     "name": "stdout",
     "output_type": "stream",
     "text": [
      "Training World Model...\n",
      "Training Agent...\n",
      "init_imagine_buffer: 1024x16@torch.float32\n"
     ]
    },
    {
     "name": "stderr",
     "output_type": "stream",
     "text": [
      "  7%|▋         | 1655/25000 [06:26<3:55:16,  1.65it/s]"
     ]
    },
    {
     "name": "stdout",
     "output_type": "stream",
     "text": [
      "Training World Model...\n",
      "Training Agent...\n",
      "init_imagine_buffer: 1024x16@torch.float32\n"
     ]
    },
    {
     "name": "stderr",
     "output_type": "stream",
     "text": [
      "  7%|▋         | 1656/25000 [06:27<3:55:34,  1.65it/s]"
     ]
    },
    {
     "name": "stdout",
     "output_type": "stream",
     "text": [
      "Training World Model...\n",
      "Training Agent...\n",
      "init_imagine_buffer: 1024x16@torch.float32\n"
     ]
    },
    {
     "name": "stderr",
     "output_type": "stream",
     "text": [
      "  7%|▋         | 1657/25000 [06:28<3:56:31,  1.64it/s]"
     ]
    },
    {
     "name": "stdout",
     "output_type": "stream",
     "text": [
      "Training World Model...\n",
      "Training Agent...\n",
      "init_imagine_buffer: 1024x16@torch.float32\n"
     ]
    },
    {
     "name": "stderr",
     "output_type": "stream",
     "text": [
      "  7%|▋         | 1658/25000 [06:28<3:56:14,  1.65it/s]"
     ]
    },
    {
     "name": "stdout",
     "output_type": "stream",
     "text": [
      "Training World Model...\n",
      "Training Agent...\n",
      "init_imagine_buffer: 1024x16@torch.float32\n"
     ]
    },
    {
     "name": "stderr",
     "output_type": "stream",
     "text": [
      "  7%|▋         | 1659/25000 [06:29<3:56:06,  1.65it/s]"
     ]
    },
    {
     "name": "stdout",
     "output_type": "stream",
     "text": [
      "Training World Model...\n",
      "Training Agent...\n",
      "init_imagine_buffer: 1024x16@torch.float32\n"
     ]
    },
    {
     "name": "stderr",
     "output_type": "stream",
     "text": [
      "  7%|▋         | 1660/25000 [06:30<3:56:24,  1.65it/s]"
     ]
    },
    {
     "name": "stdout",
     "output_type": "stream",
     "text": [
      "Training World Model...\n",
      "Training Agent...\n",
      "init_imagine_buffer: 1024x16@torch.float32\n"
     ]
    },
    {
     "name": "stderr",
     "output_type": "stream",
     "text": [
      "  7%|▋         | 1661/25000 [06:30<3:57:27,  1.64it/s]"
     ]
    },
    {
     "name": "stdout",
     "output_type": "stream",
     "text": [
      "Training World Model...\n",
      "Training Agent...\n",
      "init_imagine_buffer: 1024x16@torch.float32\n"
     ]
    },
    {
     "name": "stderr",
     "output_type": "stream",
     "text": [
      "  7%|▋         | 1662/25000 [06:31<3:56:52,  1.64it/s]"
     ]
    },
    {
     "name": "stdout",
     "output_type": "stream",
     "text": [
      "Training World Model...\n",
      "Training Agent...\n",
      "init_imagine_buffer: 1024x16@torch.float32\n"
     ]
    },
    {
     "name": "stderr",
     "output_type": "stream",
     "text": [
      "  7%|▋         | 1663/25000 [06:31<3:56:50,  1.64it/s]"
     ]
    },
    {
     "name": "stdout",
     "output_type": "stream",
     "text": [
      "Training World Model...\n",
      "Training Agent...\n",
      "init_imagine_buffer: 1024x16@torch.float32\n"
     ]
    },
    {
     "name": "stderr",
     "output_type": "stream",
     "text": [
      "  7%|▋         | 1664/25000 [06:32<3:56:55,  1.64it/s]"
     ]
    },
    {
     "name": "stdout",
     "output_type": "stream",
     "text": [
      "Training World Model...\n",
      "Training Agent...\n",
      "init_imagine_buffer: 1024x16@torch.float32\n"
     ]
    },
    {
     "name": "stderr",
     "output_type": "stream",
     "text": [
      "  7%|▋         | 1665/25000 [06:33<3:57:28,  1.64it/s]"
     ]
    },
    {
     "name": "stdout",
     "output_type": "stream",
     "text": [
      "Training World Model...\n",
      "Training Agent...\n",
      "init_imagine_buffer: 1024x16@torch.float32\n"
     ]
    },
    {
     "name": "stderr",
     "output_type": "stream",
     "text": [
      "  7%|▋         | 1666/25000 [06:33<3:56:59,  1.64it/s]"
     ]
    },
    {
     "name": "stdout",
     "output_type": "stream",
     "text": [
      "Training World Model...\n",
      "Training Agent...\n",
      "init_imagine_buffer: 1024x16@torch.float32\n"
     ]
    },
    {
     "name": "stderr",
     "output_type": "stream",
     "text": [
      "  7%|▋         | 1667/25000 [06:34<3:57:05,  1.64it/s]"
     ]
    },
    {
     "name": "stdout",
     "output_type": "stream",
     "text": [
      "Training World Model...\n",
      "Training Agent...\n",
      "init_imagine_buffer: 1024x16@torch.float32\n"
     ]
    },
    {
     "name": "stderr",
     "output_type": "stream",
     "text": [
      "  7%|▋         | 1668/25000 [06:34<3:56:58,  1.64it/s]"
     ]
    },
    {
     "name": "stdout",
     "output_type": "stream",
     "text": [
      "Training World Model...\n",
      "Training Agent...\n",
      "init_imagine_buffer: 1024x16@torch.float32\n"
     ]
    },
    {
     "name": "stderr",
     "output_type": "stream",
     "text": [
      "  7%|▋         | 1669/25000 [06:35<3:56:51,  1.64it/s]"
     ]
    },
    {
     "name": "stdout",
     "output_type": "stream",
     "text": [
      "Training World Model...\n",
      "Training Agent...\n",
      "init_imagine_buffer: 1024x16@torch.float32\n"
     ]
    },
    {
     "name": "stderr",
     "output_type": "stream",
     "text": [
      "  7%|▋         | 1670/25000 [06:36<3:56:31,  1.64it/s]"
     ]
    },
    {
     "name": "stdout",
     "output_type": "stream",
     "text": [
      "Training World Model...\n",
      "Training Agent...\n",
      "init_imagine_buffer: 1024x16@torch.float32\n"
     ]
    },
    {
     "name": "stderr",
     "output_type": "stream",
     "text": [
      "  7%|▋         | 1671/25000 [06:36<3:56:54,  1.64it/s]"
     ]
    },
    {
     "name": "stdout",
     "output_type": "stream",
     "text": [
      "Training World Model...\n",
      "Training Agent...\n",
      "init_imagine_buffer: 1024x16@torch.float32\n"
     ]
    },
    {
     "name": "stderr",
     "output_type": "stream",
     "text": [
      "  7%|▋         | 1672/25000 [06:37<3:56:57,  1.64it/s]"
     ]
    },
    {
     "name": "stdout",
     "output_type": "stream",
     "text": [
      "Training World Model...\n",
      "Training Agent...\n",
      "init_imagine_buffer: 1024x16@torch.float32\n"
     ]
    },
    {
     "name": "stderr",
     "output_type": "stream",
     "text": [
      "  7%|▋         | 1673/25000 [06:37<3:56:45,  1.64it/s]"
     ]
    },
    {
     "name": "stdout",
     "output_type": "stream",
     "text": [
      "Training World Model...\n",
      "Training Agent...\n",
      "init_imagine_buffer: 1024x16@torch.float32\n"
     ]
    },
    {
     "name": "stderr",
     "output_type": "stream",
     "text": [
      "  7%|▋         | 1674/25000 [06:38<3:56:27,  1.64it/s]"
     ]
    },
    {
     "name": "stdout",
     "output_type": "stream",
     "text": [
      "Training World Model...\n",
      "Training Agent...\n",
      "init_imagine_buffer: 1024x16@torch.float32\n"
     ]
    },
    {
     "name": "stderr",
     "output_type": "stream",
     "text": [
      "  7%|▋         | 1675/25000 [06:39<3:55:48,  1.65it/s]"
     ]
    },
    {
     "name": "stdout",
     "output_type": "stream",
     "text": [
      "Training World Model...\n",
      "Training Agent...\n",
      "init_imagine_buffer: 1024x16@torch.float32\n"
     ]
    },
    {
     "name": "stderr",
     "output_type": "stream",
     "text": [
      "  7%|▋         | 1676/25000 [06:39<3:55:25,  1.65it/s]"
     ]
    },
    {
     "name": "stdout",
     "output_type": "stream",
     "text": [
      "Training World Model...\n",
      "Training Agent...\n",
      "init_imagine_buffer: 1024x16@torch.float32\n"
     ]
    },
    {
     "name": "stderr",
     "output_type": "stream",
     "text": [
      "  7%|▋         | 1677/25000 [06:40<3:54:57,  1.65it/s]"
     ]
    },
    {
     "name": "stdout",
     "output_type": "stream",
     "text": [
      "Training World Model...\n",
      "Training Agent...\n",
      "init_imagine_buffer: 1024x16@torch.float32\n"
     ]
    },
    {
     "name": "stderr",
     "output_type": "stream",
     "text": [
      "  7%|▋         | 1678/25000 [06:40<3:55:16,  1.65it/s]"
     ]
    },
    {
     "name": "stdout",
     "output_type": "stream",
     "text": [
      "Training World Model...\n",
      "Training Agent...\n",
      "init_imagine_buffer: 1024x16@torch.float32\n"
     ]
    },
    {
     "name": "stderr",
     "output_type": "stream",
     "text": [
      "  7%|▋         | 1679/25000 [06:41<3:55:35,  1.65it/s]"
     ]
    },
    {
     "name": "stdout",
     "output_type": "stream",
     "text": [
      "Training World Model...\n",
      "Training Agent...\n",
      "init_imagine_buffer: 1024x16@torch.float32\n"
     ]
    },
    {
     "name": "stderr",
     "output_type": "stream",
     "text": [
      "  7%|▋         | 1680/25000 [06:42<3:55:46,  1.65it/s]"
     ]
    },
    {
     "name": "stdout",
     "output_type": "stream",
     "text": [
      "Training World Model...\n",
      "Training Agent...\n",
      "init_imagine_buffer: 1024x16@torch.float32\n"
     ]
    },
    {
     "name": "stderr",
     "output_type": "stream",
     "text": [
      "  7%|▋         | 1681/25000 [06:42<3:55:42,  1.65it/s]"
     ]
    },
    {
     "name": "stdout",
     "output_type": "stream",
     "text": [
      "Training World Model...\n",
      "Training Agent...\n",
      "init_imagine_buffer: 1024x16@torch.float32\n"
     ]
    },
    {
     "name": "stderr",
     "output_type": "stream",
     "text": [
      "  7%|▋         | 1682/25000 [06:43<3:56:29,  1.64it/s]"
     ]
    },
    {
     "name": "stdout",
     "output_type": "stream",
     "text": [
      "Training World Model...\n",
      "Training Agent...\n",
      "init_imagine_buffer: 1024x16@torch.float32\n"
     ]
    },
    {
     "name": "stderr",
     "output_type": "stream",
     "text": [
      "  7%|▋         | 1683/25000 [06:44<3:57:36,  1.64it/s]"
     ]
    },
    {
     "name": "stdout",
     "output_type": "stream",
     "text": [
      "Training World Model...\n",
      "Training Agent...\n",
      "init_imagine_buffer: 1024x16@torch.float32\n"
     ]
    },
    {
     "name": "stderr",
     "output_type": "stream",
     "text": [
      "  7%|▋         | 1684/25000 [06:44<3:57:25,  1.64it/s]"
     ]
    },
    {
     "name": "stdout",
     "output_type": "stream",
     "text": [
      "Training World Model...\n",
      "Training Agent...\n",
      "init_imagine_buffer: 1024x16@torch.float32\n"
     ]
    },
    {
     "name": "stderr",
     "output_type": "stream",
     "text": [
      "  7%|▋         | 1685/25000 [06:45<3:57:34,  1.64it/s]"
     ]
    },
    {
     "name": "stdout",
     "output_type": "stream",
     "text": [
      "Training World Model...\n",
      "Training Agent...\n",
      "init_imagine_buffer: 1024x16@torch.float32\n"
     ]
    },
    {
     "name": "stderr",
     "output_type": "stream",
     "text": [
      "  7%|▋         | 1686/25000 [06:45<3:58:08,  1.63it/s]"
     ]
    },
    {
     "name": "stdout",
     "output_type": "stream",
     "text": [
      "Training World Model...\n",
      "Training Agent...\n",
      "init_imagine_buffer: 1024x16@torch.float32\n"
     ]
    },
    {
     "name": "stderr",
     "output_type": "stream",
     "text": [
      "  7%|▋         | 1687/25000 [06:46<3:58:02,  1.63it/s]"
     ]
    },
    {
     "name": "stdout",
     "output_type": "stream",
     "text": [
      "Training World Model...\n",
      "Training Agent...\n",
      "init_imagine_buffer: 1024x16@torch.float32\n"
     ]
    },
    {
     "name": "stderr",
     "output_type": "stream",
     "text": [
      "  7%|▋         | 1688/25000 [06:47<3:58:12,  1.63it/s]"
     ]
    },
    {
     "name": "stdout",
     "output_type": "stream",
     "text": [
      "Training World Model...\n",
      "Training Agent...\n",
      "init_imagine_buffer: 1024x16@torch.float32\n"
     ]
    },
    {
     "name": "stderr",
     "output_type": "stream",
     "text": [
      "  7%|▋         | 1689/25000 [06:47<3:57:32,  1.64it/s]"
     ]
    },
    {
     "name": "stdout",
     "output_type": "stream",
     "text": [
      "Training World Model...\n",
      "Training Agent...\n",
      "init_imagine_buffer: 1024x16@torch.float32\n"
     ]
    },
    {
     "name": "stderr",
     "output_type": "stream",
     "text": [
      "  7%|▋         | 1690/25000 [06:48<3:56:53,  1.64it/s]"
     ]
    },
    {
     "name": "stdout",
     "output_type": "stream",
     "text": [
      "Training World Model...\n",
      "Training Agent...\n",
      "init_imagine_buffer: 1024x16@torch.float32\n"
     ]
    },
    {
     "name": "stderr",
     "output_type": "stream",
     "text": [
      "  7%|▋         | 1691/25000 [06:48<3:55:56,  1.65it/s]"
     ]
    },
    {
     "name": "stdout",
     "output_type": "stream",
     "text": [
      "Training World Model...\n",
      "Training Agent...\n",
      "init_imagine_buffer: 1024x16@torch.float32\n"
     ]
    },
    {
     "name": "stderr",
     "output_type": "stream",
     "text": [
      "  7%|▋         | 1692/25000 [06:49<3:55:18,  1.65it/s]"
     ]
    },
    {
     "name": "stdout",
     "output_type": "stream",
     "text": [
      "Training World Model...\n",
      "Training Agent...\n",
      "init_imagine_buffer: 1024x16@torch.float32\n"
     ]
    },
    {
     "name": "stderr",
     "output_type": "stream",
     "text": [
      "  7%|▋         | 1693/25000 [06:50<3:56:06,  1.65it/s]"
     ]
    },
    {
     "name": "stdout",
     "output_type": "stream",
     "text": [
      "Training World Model...\n",
      "Training Agent...\n",
      "init_imagine_buffer: 1024x16@torch.float32\n"
     ]
    },
    {
     "name": "stderr",
     "output_type": "stream",
     "text": [
      "  7%|▋         | 1694/25000 [06:50<3:56:32,  1.64it/s]"
     ]
    },
    {
     "name": "stdout",
     "output_type": "stream",
     "text": [
      "Training World Model...\n",
      "Training Agent...\n",
      "init_imagine_buffer: 1024x16@torch.float32\n"
     ]
    },
    {
     "name": "stderr",
     "output_type": "stream",
     "text": [
      "  7%|▋         | 1695/25000 [06:51<3:57:12,  1.64it/s]"
     ]
    },
    {
     "name": "stdout",
     "output_type": "stream",
     "text": [
      "Training World Model...\n",
      "Training Agent...\n",
      "init_imagine_buffer: 1024x16@torch.float32\n"
     ]
    },
    {
     "name": "stderr",
     "output_type": "stream",
     "text": [
      "  7%|▋         | 1696/25000 [06:51<3:56:10,  1.64it/s]"
     ]
    },
    {
     "name": "stdout",
     "output_type": "stream",
     "text": [
      "Training World Model...\n",
      "Training Agent...\n",
      "init_imagine_buffer: 1024x16@torch.float32\n"
     ]
    },
    {
     "name": "stderr",
     "output_type": "stream",
     "text": [
      "  7%|▋         | 1697/25000 [06:52<3:55:09,  1.65it/s]"
     ]
    },
    {
     "name": "stdout",
     "output_type": "stream",
     "text": [
      "Training World Model...\n",
      "Training Agent...\n",
      "init_imagine_buffer: 1024x16@torch.float32\n"
     ]
    },
    {
     "name": "stderr",
     "output_type": "stream",
     "text": [
      "  7%|▋         | 1698/25000 [06:53<3:54:39,  1.66it/s]"
     ]
    },
    {
     "name": "stdout",
     "output_type": "stream",
     "text": [
      "Training World Model...\n",
      "Training Agent...\n",
      "init_imagine_buffer: 1024x16@torch.float32\n"
     ]
    },
    {
     "name": "stderr",
     "output_type": "stream",
     "text": [
      "  7%|▋         | 1699/25000 [06:53<3:54:16,  1.66it/s]"
     ]
    },
    {
     "name": "stdout",
     "output_type": "stream",
     "text": [
      "Training World Model...\n",
      "Training Agent...\n",
      "init_imagine_buffer: 1024x16@torch.float32\n"
     ]
    },
    {
     "name": "stderr",
     "output_type": "stream",
     "text": [
      "  7%|▋         | 1700/25000 [06:54<3:54:58,  1.65it/s]"
     ]
    },
    {
     "name": "stdout",
     "output_type": "stream",
     "text": [
      "Training World Model...\n",
      "Training Agent...\n",
      "init_imagine_buffer: 1024x16@torch.float32\n"
     ]
    },
    {
     "name": "stderr",
     "output_type": "stream",
     "text": [
      "  7%|▋         | 1701/25000 [06:54<3:55:31,  1.65it/s]"
     ]
    },
    {
     "name": "stdout",
     "output_type": "stream",
     "text": [
      "Training World Model...\n",
      "Training Agent...\n",
      "init_imagine_buffer: 1024x16@torch.float32\n"
     ]
    },
    {
     "name": "stderr",
     "output_type": "stream",
     "text": [
      "  7%|▋         | 1702/25000 [06:55<3:55:45,  1.65it/s]"
     ]
    },
    {
     "name": "stdout",
     "output_type": "stream",
     "text": [
      "Training World Model...\n",
      "Training Agent...\n",
      "init_imagine_buffer: 1024x16@torch.float32\n"
     ]
    },
    {
     "name": "stderr",
     "output_type": "stream",
     "text": [
      "  7%|▋         | 1703/25000 [06:56<3:55:32,  1.65it/s]"
     ]
    },
    {
     "name": "stdout",
     "output_type": "stream",
     "text": [
      "Training World Model...\n",
      "Training Agent...\n",
      "init_imagine_buffer: 1024x16@torch.float32\n"
     ]
    },
    {
     "name": "stderr",
     "output_type": "stream",
     "text": [
      "  7%|▋         | 1704/25000 [06:56<3:55:53,  1.65it/s]"
     ]
    },
    {
     "name": "stdout",
     "output_type": "stream",
     "text": [
      "Training World Model...\n",
      "Training Agent...\n",
      "init_imagine_buffer: 1024x16@torch.float32\n"
     ]
    },
    {
     "name": "stderr",
     "output_type": "stream",
     "text": [
      "  7%|▋         | 1705/25000 [06:57<3:55:59,  1.65it/s]"
     ]
    },
    {
     "name": "stdout",
     "output_type": "stream",
     "text": [
      "Training World Model...\n",
      "Training Agent...\n",
      "init_imagine_buffer: 1024x16@torch.float32\n"
     ]
    },
    {
     "name": "stderr",
     "output_type": "stream",
     "text": [
      "  7%|▋         | 1706/25000 [06:58<3:55:50,  1.65it/s]"
     ]
    },
    {
     "name": "stdout",
     "output_type": "stream",
     "text": [
      "Training World Model...\n",
      "Training Agent...\n",
      "init_imagine_buffer: 1024x16@torch.float32\n"
     ]
    },
    {
     "name": "stderr",
     "output_type": "stream",
     "text": [
      "  7%|▋         | 1707/25000 [06:58<3:56:25,  1.64it/s]"
     ]
    },
    {
     "name": "stdout",
     "output_type": "stream",
     "text": [
      "Training World Model...\n",
      "Training Agent...\n",
      "init_imagine_buffer: 1024x16@torch.float32\n"
     ]
    },
    {
     "name": "stderr",
     "output_type": "stream",
     "text": [
      "  7%|▋         | 1708/25000 [06:59<3:56:15,  1.64it/s]"
     ]
    },
    {
     "name": "stdout",
     "output_type": "stream",
     "text": [
      "Training World Model...\n",
      "Training Agent...\n",
      "init_imagine_buffer: 1024x16@torch.float32\n"
     ]
    },
    {
     "name": "stderr",
     "output_type": "stream",
     "text": [
      "  7%|▋         | 1709/25000 [06:59<3:56:49,  1.64it/s]"
     ]
    },
    {
     "name": "stdout",
     "output_type": "stream",
     "text": [
      "Training World Model...\n",
      "Training Agent...\n",
      "init_imagine_buffer: 1024x16@torch.float32\n"
     ]
    },
    {
     "name": "stderr",
     "output_type": "stream",
     "text": [
      "  7%|▋         | 1710/25000 [07:00<3:57:04,  1.64it/s]"
     ]
    },
    {
     "name": "stdout",
     "output_type": "stream",
     "text": [
      "Training World Model...\n",
      "Training Agent...\n",
      "init_imagine_buffer: 1024x16@torch.float32\n"
     ]
    },
    {
     "name": "stderr",
     "output_type": "stream",
     "text": [
      "  7%|▋         | 1711/25000 [07:01<3:57:30,  1.63it/s]"
     ]
    },
    {
     "name": "stdout",
     "output_type": "stream",
     "text": [
      "Training World Model...\n",
      "Training Agent...\n",
      "init_imagine_buffer: 1024x16@torch.float32\n"
     ]
    },
    {
     "name": "stderr",
     "output_type": "stream",
     "text": [
      "  7%|▋         | 1712/25000 [07:01<3:58:26,  1.63it/s]"
     ]
    },
    {
     "name": "stdout",
     "output_type": "stream",
     "text": [
      "Training World Model...\n",
      "Training Agent...\n",
      "init_imagine_buffer: 1024x16@torch.float32\n"
     ]
    },
    {
     "name": "stderr",
     "output_type": "stream",
     "text": [
      "  7%|▋         | 1713/25000 [07:02<3:58:03,  1.63it/s]"
     ]
    },
    {
     "name": "stdout",
     "output_type": "stream",
     "text": [
      "Training World Model...\n",
      "Training Agent...\n",
      "init_imagine_buffer: 1024x16@torch.float32\n"
     ]
    },
    {
     "name": "stderr",
     "output_type": "stream",
     "text": [
      "  7%|▋         | 1714/25000 [07:02<3:58:06,  1.63it/s]"
     ]
    },
    {
     "name": "stdout",
     "output_type": "stream",
     "text": [
      "Training World Model...\n",
      "Training Agent...\n",
      "init_imagine_buffer: 1024x16@torch.float32\n"
     ]
    },
    {
     "name": "stderr",
     "output_type": "stream",
     "text": [
      "  7%|▋         | 1715/25000 [07:03<3:57:03,  1.64it/s]"
     ]
    },
    {
     "name": "stdout",
     "output_type": "stream",
     "text": [
      "Training World Model...\n",
      "Training Agent...\n",
      "init_imagine_buffer: 1024x16@torch.float32\n"
     ]
    },
    {
     "name": "stderr",
     "output_type": "stream",
     "text": [
      "  7%|▋         | 1716/25000 [07:04<3:57:09,  1.64it/s]"
     ]
    },
    {
     "name": "stdout",
     "output_type": "stream",
     "text": [
      "Training World Model...\n",
      "Training Agent...\n",
      "init_imagine_buffer: 1024x16@torch.float32\n"
     ]
    },
    {
     "name": "stderr",
     "output_type": "stream",
     "text": [
      "  7%|▋         | 1717/25000 [07:04<3:57:13,  1.64it/s]"
     ]
    },
    {
     "name": "stdout",
     "output_type": "stream",
     "text": [
      "Training World Model...\n",
      "Training Agent...\n",
      "init_imagine_buffer: 1024x16@torch.float32\n"
     ]
    },
    {
     "name": "stderr",
     "output_type": "stream",
     "text": [
      "  7%|▋         | 1718/25000 [07:05<3:56:27,  1.64it/s]"
     ]
    },
    {
     "name": "stdout",
     "output_type": "stream",
     "text": [
      "Training World Model...\n",
      "Training Agent...\n",
      "init_imagine_buffer: 1024x16@torch.float32\n"
     ]
    },
    {
     "name": "stderr",
     "output_type": "stream",
     "text": [
      "  7%|▋         | 1719/25000 [07:05<3:55:22,  1.65it/s]"
     ]
    },
    {
     "name": "stdout",
     "output_type": "stream",
     "text": [
      "Training World Model...\n",
      "Training Agent...\n",
      "init_imagine_buffer: 1024x16@torch.float32\n"
     ]
    },
    {
     "name": "stderr",
     "output_type": "stream",
     "text": [
      "  7%|▋         | 1720/25000 [07:06<3:54:33,  1.65it/s]"
     ]
    },
    {
     "name": "stdout",
     "output_type": "stream",
     "text": [
      "Training World Model...\n",
      "Training Agent...\n",
      "init_imagine_buffer: 1024x16@torch.float32\n"
     ]
    },
    {
     "name": "stderr",
     "output_type": "stream",
     "text": [
      "  7%|▋         | 1721/25000 [07:07<3:54:25,  1.66it/s]"
     ]
    },
    {
     "name": "stdout",
     "output_type": "stream",
     "text": [
      "Training World Model...\n",
      "Training Agent...\n",
      "init_imagine_buffer: 1024x16@torch.float32\n"
     ]
    },
    {
     "name": "stderr",
     "output_type": "stream",
     "text": [
      "  7%|▋         | 1722/25000 [07:07<3:54:37,  1.65it/s]"
     ]
    },
    {
     "name": "stdout",
     "output_type": "stream",
     "text": [
      "Training World Model...\n",
      "Training Agent...\n",
      "init_imagine_buffer: 1024x16@torch.float32\n"
     ]
    },
    {
     "name": "stderr",
     "output_type": "stream",
     "text": [
      "  7%|▋         | 1723/25000 [07:08<3:55:14,  1.65it/s]"
     ]
    },
    {
     "name": "stdout",
     "output_type": "stream",
     "text": [
      "Training World Model...\n",
      "Training Agent...\n",
      "init_imagine_buffer: 1024x16@torch.float32\n"
     ]
    },
    {
     "name": "stderr",
     "output_type": "stream",
     "text": [
      "  7%|▋         | 1724/25000 [07:08<3:55:37,  1.65it/s]"
     ]
    },
    {
     "name": "stdout",
     "output_type": "stream",
     "text": [
      "Training World Model...\n",
      "Training Agent...\n",
      "init_imagine_buffer: 1024x16@torch.float32\n"
     ]
    },
    {
     "name": "stderr",
     "output_type": "stream",
     "text": [
      "  7%|▋         | 1725/25000 [07:09<3:56:40,  1.64it/s]"
     ]
    },
    {
     "name": "stdout",
     "output_type": "stream",
     "text": [
      "Training World Model...\n",
      "Training Agent...\n",
      "init_imagine_buffer: 1024x16@torch.float32\n"
     ]
    },
    {
     "name": "stderr",
     "output_type": "stream",
     "text": [
      "  7%|▋         | 1726/25000 [07:10<3:57:29,  1.63it/s]"
     ]
    },
    {
     "name": "stdout",
     "output_type": "stream",
     "text": [
      "Training World Model...\n",
      "Training Agent...\n",
      "init_imagine_buffer: 1024x16@torch.float32\n"
     ]
    },
    {
     "name": "stderr",
     "output_type": "stream",
     "text": [
      "  7%|▋         | 1727/25000 [07:10<3:57:00,  1.64it/s]"
     ]
    },
    {
     "name": "stdout",
     "output_type": "stream",
     "text": [
      "Training World Model...\n",
      "Training Agent...\n",
      "init_imagine_buffer: 1024x16@torch.float32\n"
     ]
    },
    {
     "name": "stderr",
     "output_type": "stream",
     "text": [
      "  7%|▋         | 1728/25000 [07:11<3:57:11,  1.64it/s]"
     ]
    },
    {
     "name": "stdout",
     "output_type": "stream",
     "text": [
      "Training World Model...\n",
      "Training Agent...\n",
      "init_imagine_buffer: 1024x16@torch.float32\n"
     ]
    },
    {
     "name": "stderr",
     "output_type": "stream",
     "text": [
      "  7%|▋         | 1729/25000 [07:12<3:57:02,  1.64it/s]"
     ]
    },
    {
     "name": "stdout",
     "output_type": "stream",
     "text": [
      "Training World Model...\n",
      "Training Agent...\n",
      "init_imagine_buffer: 1024x16@torch.float32\n"
     ]
    },
    {
     "name": "stderr",
     "output_type": "stream",
     "text": [
      "  7%|▋         | 1730/25000 [07:12<3:56:59,  1.64it/s]"
     ]
    },
    {
     "name": "stdout",
     "output_type": "stream",
     "text": [
      "Training World Model...\n",
      "Training Agent...\n",
      "init_imagine_buffer: 1024x16@torch.float32\n"
     ]
    },
    {
     "name": "stderr",
     "output_type": "stream",
     "text": [
      "  7%|▋         | 1731/25000 [07:13<3:57:08,  1.64it/s]"
     ]
    },
    {
     "name": "stdout",
     "output_type": "stream",
     "text": [
      "Training World Model...\n",
      "Training Agent...\n",
      "init_imagine_buffer: 1024x16@torch.float32\n"
     ]
    },
    {
     "name": "stderr",
     "output_type": "stream",
     "text": [
      "  7%|▋         | 1732/25000 [07:13<3:57:19,  1.63it/s]"
     ]
    },
    {
     "name": "stdout",
     "output_type": "stream",
     "text": [
      "Training World Model...\n",
      "Training Agent...\n",
      "init_imagine_buffer: 1024x16@torch.float32\n"
     ]
    },
    {
     "name": "stderr",
     "output_type": "stream",
     "text": [
      "  7%|▋         | 1733/25000 [07:14<3:57:23,  1.63it/s]"
     ]
    },
    {
     "name": "stdout",
     "output_type": "stream",
     "text": [
      "Training World Model...\n",
      "Training Agent...\n",
      "init_imagine_buffer: 1024x16@torch.float32\n"
     ]
    },
    {
     "name": "stderr",
     "output_type": "stream",
     "text": [
      "  7%|▋         | 1734/25000 [07:15<3:58:00,  1.63it/s]"
     ]
    },
    {
     "name": "stdout",
     "output_type": "stream",
     "text": [
      "Training World Model...\n",
      "Training Agent...\n",
      "init_imagine_buffer: 1024x16@torch.float32\n"
     ]
    },
    {
     "name": "stderr",
     "output_type": "stream",
     "text": [
      "  7%|▋         | 1735/25000 [07:15<3:57:56,  1.63it/s]"
     ]
    },
    {
     "name": "stdout",
     "output_type": "stream",
     "text": [
      "Training World Model...\n",
      "Training Agent...\n",
      "init_imagine_buffer: 1024x16@torch.float32\n"
     ]
    },
    {
     "name": "stderr",
     "output_type": "stream",
     "text": [
      "  7%|▋         | 1736/25000 [07:16<3:58:11,  1.63it/s]"
     ]
    },
    {
     "name": "stdout",
     "output_type": "stream",
     "text": [
      "Training World Model...\n",
      "Training Agent...\n",
      "init_imagine_buffer: 1024x16@torch.float32\n"
     ]
    },
    {
     "name": "stderr",
     "output_type": "stream",
     "text": [
      "  7%|▋         | 1737/25000 [07:16<3:57:36,  1.63it/s]"
     ]
    },
    {
     "name": "stdout",
     "output_type": "stream",
     "text": [
      "Training World Model...\n",
      "Training Agent...\n",
      "init_imagine_buffer: 1024x16@torch.float32\n"
     ]
    },
    {
     "name": "stderr",
     "output_type": "stream",
     "text": [
      "  7%|▋         | 1738/25000 [07:17<3:57:20,  1.63it/s]"
     ]
    },
    {
     "name": "stdout",
     "output_type": "stream",
     "text": [
      "Training World Model...\n",
      "Training Agent...\n",
      "init_imagine_buffer: 1024x16@torch.float32\n"
     ]
    },
    {
     "name": "stderr",
     "output_type": "stream",
     "text": [
      "  7%|▋         | 1739/25000 [07:18<3:56:36,  1.64it/s]"
     ]
    },
    {
     "name": "stdout",
     "output_type": "stream",
     "text": [
      "Training World Model...\n",
      "Training Agent...\n",
      "init_imagine_buffer: 1024x16@torch.float32\n"
     ]
    },
    {
     "name": "stderr",
     "output_type": "stream",
     "text": [
      "  7%|▋         | 1740/25000 [07:18<3:55:22,  1.65it/s]"
     ]
    },
    {
     "name": "stdout",
     "output_type": "stream",
     "text": [
      "Training World Model...\n",
      "Training Agent...\n",
      "init_imagine_buffer: 1024x16@torch.float32\n"
     ]
    },
    {
     "name": "stderr",
     "output_type": "stream",
     "text": [
      "  7%|▋         | 1741/25000 [07:19<3:54:31,  1.65it/s]"
     ]
    },
    {
     "name": "stdout",
     "output_type": "stream",
     "text": [
      "Training World Model...\n",
      "Training Agent...\n",
      "init_imagine_buffer: 1024x16@torch.float32\n"
     ]
    },
    {
     "name": "stderr",
     "output_type": "stream",
     "text": [
      "  7%|▋         | 1742/25000 [07:19<3:53:53,  1.66it/s]"
     ]
    },
    {
     "name": "stdout",
     "output_type": "stream",
     "text": [
      "Training World Model...\n",
      "Training Agent...\n",
      "init_imagine_buffer: 1024x16@torch.float32\n"
     ]
    },
    {
     "name": "stderr",
     "output_type": "stream",
     "text": [
      "  7%|▋         | 1743/25000 [07:20<3:54:48,  1.65it/s]"
     ]
    },
    {
     "name": "stdout",
     "output_type": "stream",
     "text": [
      "Training World Model...\n",
      "Training Agent...\n",
      "init_imagine_buffer: 1024x16@torch.float32\n"
     ]
    },
    {
     "name": "stderr",
     "output_type": "stream",
     "text": [
      "  7%|▋         | 1744/25000 [07:21<3:55:22,  1.65it/s]"
     ]
    },
    {
     "name": "stdout",
     "output_type": "stream",
     "text": [
      "Training World Model...\n",
      "Training Agent...\n",
      "init_imagine_buffer: 1024x16@torch.float32\n"
     ]
    },
    {
     "name": "stderr",
     "output_type": "stream",
     "text": [
      "  7%|▋         | 1745/25000 [07:21<3:55:45,  1.64it/s]"
     ]
    },
    {
     "name": "stdout",
     "output_type": "stream",
     "text": [
      "Training World Model...\n",
      "Training Agent...\n",
      "init_imagine_buffer: 1024x16@torch.float32\n"
     ]
    },
    {
     "name": "stderr",
     "output_type": "stream",
     "text": [
      "  7%|▋         | 1746/25000 [07:22<3:56:03,  1.64it/s]"
     ]
    },
    {
     "name": "stdout",
     "output_type": "stream",
     "text": [
      "Training World Model...\n",
      "Training Agent...\n",
      "init_imagine_buffer: 1024x16@torch.float32\n"
     ]
    },
    {
     "name": "stderr",
     "output_type": "stream",
     "text": [
      "  7%|▋         | 1747/25000 [07:23<3:56:17,  1.64it/s]"
     ]
    },
    {
     "name": "stdout",
     "output_type": "stream",
     "text": [
      "Training World Model...\n",
      "Training Agent...\n",
      "init_imagine_buffer: 1024x16@torch.float32\n"
     ]
    },
    {
     "name": "stderr",
     "output_type": "stream",
     "text": [
      "  7%|▋         | 1748/25000 [07:23<3:56:20,  1.64it/s]"
     ]
    },
    {
     "name": "stdout",
     "output_type": "stream",
     "text": [
      "Training World Model...\n",
      "Training Agent...\n",
      "init_imagine_buffer: 1024x16@torch.float32\n"
     ]
    },
    {
     "name": "stderr",
     "output_type": "stream",
     "text": [
      "  7%|▋         | 1749/25000 [07:24<3:56:27,  1.64it/s]"
     ]
    },
    {
     "name": "stdout",
     "output_type": "stream",
     "text": [
      "Training World Model...\n",
      "Training Agent...\n",
      "init_imagine_buffer: 1024x16@torch.float32\n"
     ]
    },
    {
     "name": "stderr",
     "output_type": "stream",
     "text": [
      "  7%|▋         | 1750/25000 [07:24<3:56:10,  1.64it/s]"
     ]
    },
    {
     "name": "stdout",
     "output_type": "stream",
     "text": [
      "Training World Model...\n",
      "Training Agent...\n",
      "init_imagine_buffer: 1024x16@torch.float32\n"
     ]
    },
    {
     "name": "stderr",
     "output_type": "stream",
     "text": [
      "  7%|▋         | 1751/25000 [07:25<3:57:39,  1.63it/s]"
     ]
    },
    {
     "name": "stdout",
     "output_type": "stream",
     "text": [
      "Training World Model...\n",
      "Training Agent...\n",
      "init_imagine_buffer: 1024x16@torch.float32\n"
     ]
    },
    {
     "name": "stderr",
     "output_type": "stream",
     "text": [
      "  7%|▋         | 1752/25000 [07:26<3:57:48,  1.63it/s]"
     ]
    },
    {
     "name": "stdout",
     "output_type": "stream",
     "text": [
      "Training World Model...\n",
      "Training Agent...\n",
      "init_imagine_buffer: 1024x16@torch.float32\n"
     ]
    },
    {
     "name": "stderr",
     "output_type": "stream",
     "text": [
      "  7%|▋         | 1753/25000 [07:26<3:57:27,  1.63it/s]"
     ]
    },
    {
     "name": "stdout",
     "output_type": "stream",
     "text": [
      "Training World Model...\n",
      "Training Agent...\n",
      "init_imagine_buffer: 1024x16@torch.float32\n"
     ]
    },
    {
     "name": "stderr",
     "output_type": "stream",
     "text": [
      "  7%|▋         | 1754/25000 [07:27<3:57:53,  1.63it/s]"
     ]
    },
    {
     "name": "stdout",
     "output_type": "stream",
     "text": [
      "Training World Model...\n",
      "Training Agent...\n",
      "init_imagine_buffer: 1024x16@torch.float32\n"
     ]
    },
    {
     "name": "stderr",
     "output_type": "stream",
     "text": [
      "  7%|▋         | 1755/25000 [07:27<3:58:23,  1.63it/s]"
     ]
    },
    {
     "name": "stdout",
     "output_type": "stream",
     "text": [
      "Training World Model...\n",
      "Training Agent...\n",
      "init_imagine_buffer: 1024x16@torch.float32\n"
     ]
    },
    {
     "name": "stderr",
     "output_type": "stream",
     "text": [
      "  7%|▋         | 1756/25000 [07:28<3:58:08,  1.63it/s]"
     ]
    },
    {
     "name": "stdout",
     "output_type": "stream",
     "text": [
      "Training World Model...\n",
      "Training Agent...\n",
      "init_imagine_buffer: 1024x16@torch.float32\n"
     ]
    },
    {
     "name": "stderr",
     "output_type": "stream",
     "text": [
      "  7%|▋         | 1757/25000 [07:29<3:57:50,  1.63it/s]"
     ]
    },
    {
     "name": "stdout",
     "output_type": "stream",
     "text": [
      "Training World Model...\n",
      "Training Agent...\n",
      "init_imagine_buffer: 1024x16@torch.float32\n"
     ]
    },
    {
     "name": "stderr",
     "output_type": "stream",
     "text": [
      "  7%|▋         | 1758/25000 [07:29<3:57:36,  1.63it/s]"
     ]
    },
    {
     "name": "stdout",
     "output_type": "stream",
     "text": [
      "Training World Model...\n",
      "Training Agent...\n",
      "init_imagine_buffer: 1024x16@torch.float32\n"
     ]
    },
    {
     "name": "stderr",
     "output_type": "stream",
     "text": [
      "  7%|▋         | 1759/25000 [07:30<3:57:44,  1.63it/s]"
     ]
    },
    {
     "name": "stdout",
     "output_type": "stream",
     "text": [
      "Training World Model...\n",
      "Training Agent...\n",
      "init_imagine_buffer: 1024x16@torch.float32\n"
     ]
    },
    {
     "name": "stderr",
     "output_type": "stream",
     "text": [
      "  7%|▋         | 1760/25000 [07:30<3:57:21,  1.63it/s]"
     ]
    },
    {
     "name": "stdout",
     "output_type": "stream",
     "text": [
      "Training World Model...\n",
      "Training Agent...\n",
      "init_imagine_buffer: 1024x16@torch.float32\n"
     ]
    },
    {
     "name": "stderr",
     "output_type": "stream",
     "text": [
      "  7%|▋         | 1761/25000 [07:31<3:56:04,  1.64it/s]"
     ]
    },
    {
     "name": "stdout",
     "output_type": "stream",
     "text": [
      "Training World Model...\n",
      "Training Agent...\n",
      "init_imagine_buffer: 1024x16@torch.float32\n"
     ]
    },
    {
     "name": "stderr",
     "output_type": "stream",
     "text": [
      "  7%|▋         | 1762/25000 [07:32<3:55:03,  1.65it/s]"
     ]
    },
    {
     "name": "stdout",
     "output_type": "stream",
     "text": [
      "Training World Model...\n",
      "Training Agent...\n",
      "init_imagine_buffer: 1024x16@torch.float32\n"
     ]
    },
    {
     "name": "stderr",
     "output_type": "stream",
     "text": [
      "  7%|▋         | 1763/25000 [07:32<3:54:19,  1.65it/s]"
     ]
    },
    {
     "name": "stdout",
     "output_type": "stream",
     "text": [
      "Training World Model...\n",
      "Training Agent...\n",
      "init_imagine_buffer: 1024x16@torch.float32\n"
     ]
    },
    {
     "name": "stderr",
     "output_type": "stream",
     "text": [
      "  7%|▋         | 1764/25000 [07:33<3:54:15,  1.65it/s]"
     ]
    },
    {
     "name": "stdout",
     "output_type": "stream",
     "text": [
      "Training World Model...\n",
      "Training Agent...\n",
      "init_imagine_buffer: 1024x16@torch.float32\n"
     ]
    },
    {
     "name": "stderr",
     "output_type": "stream",
     "text": [
      "  7%|▋         | 1765/25000 [07:34<3:54:20,  1.65it/s]"
     ]
    },
    {
     "name": "stdout",
     "output_type": "stream",
     "text": [
      "Training World Model...\n",
      "Training Agent...\n",
      "init_imagine_buffer: 1024x16@torch.float32\n"
     ]
    },
    {
     "name": "stderr",
     "output_type": "stream",
     "text": [
      "  7%|▋         | 1766/25000 [07:34<3:54:49,  1.65it/s]"
     ]
    },
    {
     "name": "stdout",
     "output_type": "stream",
     "text": [
      "Training World Model...\n",
      "Training Agent...\n",
      "init_imagine_buffer: 1024x16@torch.float32\n"
     ]
    },
    {
     "name": "stderr",
     "output_type": "stream",
     "text": [
      "  7%|▋         | 1767/25000 [07:35<3:55:33,  1.64it/s]"
     ]
    },
    {
     "name": "stdout",
     "output_type": "stream",
     "text": [
      "Training World Model...\n",
      "Training Agent...\n",
      "init_imagine_buffer: 1024x16@torch.float32\n"
     ]
    },
    {
     "name": "stderr",
     "output_type": "stream",
     "text": [
      "  7%|▋         | 1768/25000 [07:35<3:56:18,  1.64it/s]"
     ]
    },
    {
     "name": "stdout",
     "output_type": "stream",
     "text": [
      "Training World Model...\n",
      "Training Agent...\n",
      "init_imagine_buffer: 1024x16@torch.float32\n"
     ]
    },
    {
     "name": "stderr",
     "output_type": "stream",
     "text": [
      "  7%|▋         | 1769/25000 [07:36<3:56:26,  1.64it/s]"
     ]
    },
    {
     "name": "stdout",
     "output_type": "stream",
     "text": [
      "Training World Model...\n",
      "Training Agent...\n",
      "init_imagine_buffer: 1024x16@torch.float32\n"
     ]
    },
    {
     "name": "stderr",
     "output_type": "stream",
     "text": [
      "  7%|▋         | 1770/25000 [07:37<3:56:31,  1.64it/s]"
     ]
    },
    {
     "name": "stdout",
     "output_type": "stream",
     "text": [
      "Training World Model...\n",
      "Training Agent...\n",
      "init_imagine_buffer: 1024x16@torch.float32\n"
     ]
    },
    {
     "name": "stderr",
     "output_type": "stream",
     "text": [
      "  7%|▋         | 1771/25000 [07:37<3:56:00,  1.64it/s]"
     ]
    },
    {
     "name": "stdout",
     "output_type": "stream",
     "text": [
      "Training World Model...\n",
      "Training Agent...\n",
      "init_imagine_buffer: 1024x16@torch.float32\n"
     ]
    },
    {
     "name": "stderr",
     "output_type": "stream",
     "text": [
      "  7%|▋         | 1772/25000 [07:38<3:55:40,  1.64it/s]"
     ]
    },
    {
     "name": "stdout",
     "output_type": "stream",
     "text": [
      "Training World Model...\n",
      "Training Agent...\n",
      "init_imagine_buffer: 1024x16@torch.float32\n"
     ]
    },
    {
     "name": "stderr",
     "output_type": "stream",
     "text": [
      "  7%|▋         | 1773/25000 [07:38<3:55:22,  1.64it/s]"
     ]
    },
    {
     "name": "stdout",
     "output_type": "stream",
     "text": [
      "Training World Model...\n",
      "Training Agent...\n",
      "init_imagine_buffer: 1024x16@torch.float32\n"
     ]
    },
    {
     "name": "stderr",
     "output_type": "stream",
     "text": [
      "  7%|▋         | 1774/25000 [07:39<3:55:29,  1.64it/s]"
     ]
    },
    {
     "name": "stdout",
     "output_type": "stream",
     "text": [
      "Training World Model...\n",
      "Training Agent...\n",
      "init_imagine_buffer: 1024x16@torch.float32\n"
     ]
    },
    {
     "name": "stderr",
     "output_type": "stream",
     "text": [
      "  7%|▋         | 1775/25000 [07:40<3:56:22,  1.64it/s]"
     ]
    },
    {
     "name": "stdout",
     "output_type": "stream",
     "text": [
      "Training World Model...\n",
      "Training Agent...\n",
      "init_imagine_buffer: 1024x16@torch.float32\n"
     ]
    },
    {
     "name": "stderr",
     "output_type": "stream",
     "text": [
      "  7%|▋         | 1776/25000 [07:40<3:56:31,  1.64it/s]"
     ]
    },
    {
     "name": "stdout",
     "output_type": "stream",
     "text": [
      "Training World Model...\n",
      "Training Agent...\n",
      "init_imagine_buffer: 1024x16@torch.float32\n"
     ]
    },
    {
     "name": "stderr",
     "output_type": "stream",
     "text": [
      "  7%|▋         | 1777/25000 [07:41<3:56:48,  1.63it/s]"
     ]
    },
    {
     "name": "stdout",
     "output_type": "stream",
     "text": [
      "Training World Model...\n",
      "Training Agent...\n",
      "init_imagine_buffer: 1024x16@torch.float32\n"
     ]
    },
    {
     "name": "stderr",
     "output_type": "stream",
     "text": [
      "  7%|▋         | 1778/25000 [07:41<3:56:55,  1.63it/s]"
     ]
    },
    {
     "name": "stdout",
     "output_type": "stream",
     "text": [
      "Training World Model...\n",
      "Training Agent...\n",
      "init_imagine_buffer: 1024x16@torch.float32\n"
     ]
    },
    {
     "name": "stderr",
     "output_type": "stream",
     "text": [
      "  7%|▋         | 1779/25000 [07:42<3:56:55,  1.63it/s]"
     ]
    },
    {
     "name": "stdout",
     "output_type": "stream",
     "text": [
      "Training World Model...\n",
      "Training Agent...\n",
      "init_imagine_buffer: 1024x16@torch.float32\n"
     ]
    },
    {
     "name": "stderr",
     "output_type": "stream",
     "text": [
      "  7%|▋         | 1780/25000 [07:43<3:57:15,  1.63it/s]"
     ]
    },
    {
     "name": "stdout",
     "output_type": "stream",
     "text": [
      "Training World Model...\n",
      "Training Agent...\n",
      "init_imagine_buffer: 1024x16@torch.float32\n"
     ]
    },
    {
     "name": "stderr",
     "output_type": "stream",
     "text": [
      "  7%|▋         | 1781/25000 [07:43<3:56:31,  1.64it/s]"
     ]
    },
    {
     "name": "stdout",
     "output_type": "stream",
     "text": [
      "Training World Model...\n",
      "Training Agent...\n",
      "init_imagine_buffer: 1024x16@torch.float32\n"
     ]
    },
    {
     "name": "stderr",
     "output_type": "stream",
     "text": [
      "  7%|▋         | 1782/25000 [07:44<3:56:26,  1.64it/s]"
     ]
    },
    {
     "name": "stdout",
     "output_type": "stream",
     "text": [
      "Training World Model...\n",
      "Training Agent...\n",
      "init_imagine_buffer: 1024x16@torch.float32\n"
     ]
    },
    {
     "name": "stderr",
     "output_type": "stream",
     "text": [
      "  7%|▋         | 1783/25000 [07:44<3:55:23,  1.64it/s]"
     ]
    },
    {
     "name": "stdout",
     "output_type": "stream",
     "text": [
      "Training World Model...\n",
      "Training Agent...\n",
      "init_imagine_buffer: 1024x16@torch.float32\n"
     ]
    },
    {
     "name": "stderr",
     "output_type": "stream",
     "text": [
      "  7%|▋         | 1784/25000 [07:45<3:54:22,  1.65it/s]"
     ]
    },
    {
     "name": "stdout",
     "output_type": "stream",
     "text": [
      "Training World Model...\n",
      "Training Agent...\n",
      "init_imagine_buffer: 1024x16@torch.float32\n"
     ]
    },
    {
     "name": "stderr",
     "output_type": "stream",
     "text": [
      "  7%|▋         | 1785/25000 [07:46<3:53:42,  1.66it/s]"
     ]
    },
    {
     "name": "stdout",
     "output_type": "stream",
     "text": [
      "Training World Model...\n",
      "Training Agent...\n",
      "init_imagine_buffer: 1024x16@torch.float32\n"
     ]
    },
    {
     "name": "stderr",
     "output_type": "stream",
     "text": [
      "  7%|▋         | 1786/25000 [07:46<3:54:02,  1.65it/s]"
     ]
    },
    {
     "name": "stdout",
     "output_type": "stream",
     "text": [
      "Training World Model...\n",
      "Training Agent...\n",
      "init_imagine_buffer: 1024x16@torch.float32\n"
     ]
    },
    {
     "name": "stderr",
     "output_type": "stream",
     "text": [
      "  7%|▋         | 1787/25000 [07:47<3:55:31,  1.64it/s]"
     ]
    },
    {
     "name": "stdout",
     "output_type": "stream",
     "text": [
      "Training World Model...\n",
      "Training Agent...\n",
      "init_imagine_buffer: 1024x16@torch.float32\n"
     ]
    },
    {
     "name": "stderr",
     "output_type": "stream",
     "text": [
      "  7%|▋         | 1788/25000 [07:48<3:55:26,  1.64it/s]"
     ]
    },
    {
     "name": "stdout",
     "output_type": "stream",
     "text": [
      "Training World Model...\n",
      "Training Agent...\n",
      "init_imagine_buffer: 1024x16@torch.float32\n"
     ]
    },
    {
     "name": "stderr",
     "output_type": "stream",
     "text": [
      "  7%|▋         | 1789/25000 [07:48<3:56:12,  1.64it/s]"
     ]
    },
    {
     "name": "stdout",
     "output_type": "stream",
     "text": [
      "Training World Model...\n",
      "Training Agent...\n",
      "init_imagine_buffer: 1024x16@torch.float32\n"
     ]
    },
    {
     "name": "stderr",
     "output_type": "stream",
     "text": [
      "  7%|▋         | 1790/25000 [07:49<3:56:00,  1.64it/s]"
     ]
    },
    {
     "name": "stdout",
     "output_type": "stream",
     "text": [
      "Training World Model...\n",
      "Training Agent...\n",
      "init_imagine_buffer: 1024x16@torch.float32\n"
     ]
    },
    {
     "name": "stderr",
     "output_type": "stream",
     "text": [
      "  7%|▋         | 1791/25000 [07:49<3:56:43,  1.63it/s]"
     ]
    },
    {
     "name": "stdout",
     "output_type": "stream",
     "text": [
      "Training World Model...\n",
      "Training Agent...\n",
      "init_imagine_buffer: 1024x16@torch.float32\n"
     ]
    },
    {
     "name": "stderr",
     "output_type": "stream",
     "text": [
      "  7%|▋         | 1792/25000 [07:50<3:56:16,  1.64it/s]"
     ]
    },
    {
     "name": "stdout",
     "output_type": "stream",
     "text": [
      "Training World Model...\n",
      "Training Agent...\n",
      "init_imagine_buffer: 1024x16@torch.float32\n"
     ]
    },
    {
     "name": "stderr",
     "output_type": "stream",
     "text": [
      "  7%|▋         | 1793/25000 [07:51<3:56:32,  1.64it/s]"
     ]
    },
    {
     "name": "stdout",
     "output_type": "stream",
     "text": [
      "Training World Model...\n",
      "Training Agent...\n",
      "init_imagine_buffer: 1024x16@torch.float32\n"
     ]
    },
    {
     "name": "stderr",
     "output_type": "stream",
     "text": [
      "  7%|▋         | 1794/25000 [07:51<3:55:57,  1.64it/s]"
     ]
    },
    {
     "name": "stdout",
     "output_type": "stream",
     "text": [
      "Training World Model...\n",
      "Training Agent...\n",
      "init_imagine_buffer: 1024x16@torch.float32\n"
     ]
    },
    {
     "name": "stderr",
     "output_type": "stream",
     "text": [
      "  7%|▋         | 1795/25000 [07:52<3:56:11,  1.64it/s]"
     ]
    },
    {
     "name": "stdout",
     "output_type": "stream",
     "text": [
      "Training World Model...\n",
      "Training Agent...\n",
      "init_imagine_buffer: 1024x16@torch.float32\n"
     ]
    },
    {
     "name": "stderr",
     "output_type": "stream",
     "text": [
      "  7%|▋         | 1796/25000 [07:52<3:55:52,  1.64it/s]"
     ]
    },
    {
     "name": "stdout",
     "output_type": "stream",
     "text": [
      "Training World Model...\n",
      "Training Agent...\n",
      "init_imagine_buffer: 1024x16@torch.float32\n"
     ]
    },
    {
     "name": "stderr",
     "output_type": "stream",
     "text": [
      "  7%|▋         | 1797/25000 [07:53<3:56:07,  1.64it/s]"
     ]
    },
    {
     "name": "stdout",
     "output_type": "stream",
     "text": [
      "Training World Model...\n",
      "Training Agent...\n",
      "init_imagine_buffer: 1024x16@torch.float32\n"
     ]
    },
    {
     "name": "stderr",
     "output_type": "stream",
     "text": [
      "  7%|▋         | 1798/25000 [07:54<3:56:06,  1.64it/s]"
     ]
    },
    {
     "name": "stdout",
     "output_type": "stream",
     "text": [
      "Training World Model...\n",
      "Training Agent...\n",
      "init_imagine_buffer: 1024x16@torch.float32\n"
     ]
    },
    {
     "name": "stderr",
     "output_type": "stream",
     "text": [
      "  7%|▋         | 1799/25000 [07:54<3:56:27,  1.64it/s]"
     ]
    },
    {
     "name": "stdout",
     "output_type": "stream",
     "text": [
      "Training World Model...\n",
      "Training Agent...\n",
      "init_imagine_buffer: 1024x16@torch.float32\n"
     ]
    },
    {
     "name": "stderr",
     "output_type": "stream",
     "text": [
      "  7%|▋         | 1800/25000 [07:55<3:56:32,  1.63it/s]"
     ]
    },
    {
     "name": "stdout",
     "output_type": "stream",
     "text": [
      "Training World Model...\n",
      "Training Agent...\n",
      "init_imagine_buffer: 1024x16@torch.float32\n"
     ]
    },
    {
     "name": "stderr",
     "output_type": "stream",
     "text": [
      "  7%|▋         | 1801/25000 [07:55<3:56:18,  1.64it/s]"
     ]
    },
    {
     "name": "stdout",
     "output_type": "stream",
     "text": [
      "Training World Model...\n",
      "Training Agent...\n",
      "init_imagine_buffer: 1024x16@torch.float32\n"
     ]
    },
    {
     "name": "stderr",
     "output_type": "stream",
     "text": [
      "  7%|▋         | 1802/25000 [07:56<3:56:58,  1.63it/s]"
     ]
    },
    {
     "name": "stdout",
     "output_type": "stream",
     "text": [
      "Training World Model...\n",
      "Training Agent...\n",
      "init_imagine_buffer: 1024x16@torch.float32\n"
     ]
    },
    {
     "name": "stderr",
     "output_type": "stream",
     "text": [
      "  7%|▋         | 1803/25000 [07:57<3:56:16,  1.64it/s]"
     ]
    },
    {
     "name": "stdout",
     "output_type": "stream",
     "text": [
      "Training World Model...\n",
      "Training Agent...\n",
      "init_imagine_buffer: 1024x16@torch.float32\n"
     ]
    },
    {
     "name": "stderr",
     "output_type": "stream",
     "text": [
      "  7%|▋         | 1804/25000 [07:57<3:55:37,  1.64it/s]"
     ]
    },
    {
     "name": "stdout",
     "output_type": "stream",
     "text": [
      "Training World Model...\n",
      "Training Agent...\n",
      "init_imagine_buffer: 1024x16@torch.float32\n"
     ]
    },
    {
     "name": "stderr",
     "output_type": "stream",
     "text": [
      "  7%|▋         | 1805/25000 [07:58<3:54:33,  1.65it/s]"
     ]
    },
    {
     "name": "stdout",
     "output_type": "stream",
     "text": [
      "Training World Model...\n",
      "Training Agent...\n",
      "init_imagine_buffer: 1024x16@torch.float32\n"
     ]
    },
    {
     "name": "stderr",
     "output_type": "stream",
     "text": [
      "  7%|▋         | 1806/25000 [07:59<3:53:45,  1.65it/s]"
     ]
    },
    {
     "name": "stdout",
     "output_type": "stream",
     "text": [
      "Training World Model...\n",
      "Training Agent...\n",
      "init_imagine_buffer: 1024x16@torch.float32\n"
     ]
    },
    {
     "name": "stderr",
     "output_type": "stream",
     "text": [
      "  7%|▋         | 1807/25000 [07:59<3:53:24,  1.66it/s]"
     ]
    },
    {
     "name": "stdout",
     "output_type": "stream",
     "text": [
      "Training World Model...\n",
      "Training Agent...\n",
      "init_imagine_buffer: 1024x16@torch.float32\n"
     ]
    },
    {
     "name": "stderr",
     "output_type": "stream",
     "text": [
      "  7%|▋         | 1808/25000 [08:00<3:54:29,  1.65it/s]"
     ]
    },
    {
     "name": "stdout",
     "output_type": "stream",
     "text": [
      "Training World Model...\n",
      "Training Agent...\n",
      "init_imagine_buffer: 1024x16@torch.float32\n"
     ]
    },
    {
     "name": "stderr",
     "output_type": "stream",
     "text": [
      "  7%|▋         | 1809/25000 [08:00<3:54:32,  1.65it/s]"
     ]
    },
    {
     "name": "stdout",
     "output_type": "stream",
     "text": [
      "Training World Model...\n",
      "Training Agent...\n",
      "init_imagine_buffer: 1024x16@torch.float32\n"
     ]
    },
    {
     "name": "stderr",
     "output_type": "stream",
     "text": [
      "  7%|▋         | 1810/25000 [08:01<3:55:41,  1.64it/s]"
     ]
    },
    {
     "name": "stdout",
     "output_type": "stream",
     "text": [
      "Training World Model...\n",
      "Training Agent...\n",
      "init_imagine_buffer: 1024x16@torch.float32\n"
     ]
    },
    {
     "name": "stderr",
     "output_type": "stream",
     "text": [
      "  7%|▋         | 1811/25000 [08:02<3:55:09,  1.64it/s]"
     ]
    },
    {
     "name": "stdout",
     "output_type": "stream",
     "text": [
      "Training World Model...\n",
      "Training Agent...\n",
      "init_imagine_buffer: 1024x16@torch.float32\n"
     ]
    },
    {
     "name": "stderr",
     "output_type": "stream",
     "text": [
      "  7%|▋         | 1812/25000 [08:02<3:55:29,  1.64it/s]"
     ]
    },
    {
     "name": "stdout",
     "output_type": "stream",
     "text": [
      "Training World Model...\n",
      "Training Agent...\n",
      "init_imagine_buffer: 1024x16@torch.float32\n"
     ]
    },
    {
     "name": "stderr",
     "output_type": "stream",
     "text": [
      "  7%|▋         | 1813/25000 [08:03<3:55:36,  1.64it/s]"
     ]
    },
    {
     "name": "stdout",
     "output_type": "stream",
     "text": [
      "Training World Model...\n",
      "Training Agent...\n",
      "init_imagine_buffer: 1024x16@torch.float32\n"
     ]
    },
    {
     "name": "stderr",
     "output_type": "stream",
     "text": [
      "  7%|▋         | 1814/25000 [08:03<3:55:06,  1.64it/s]"
     ]
    },
    {
     "name": "stdout",
     "output_type": "stream",
     "text": [
      "Training World Model...\n",
      "Training Agent...\n",
      "init_imagine_buffer: 1024x16@torch.float32\n"
     ]
    },
    {
     "name": "stderr",
     "output_type": "stream",
     "text": [
      "  7%|▋         | 1815/25000 [08:04<3:55:14,  1.64it/s]"
     ]
    },
    {
     "name": "stdout",
     "output_type": "stream",
     "text": [
      "Training World Model...\n",
      "Training Agent...\n",
      "init_imagine_buffer: 1024x16@torch.float32\n"
     ]
    },
    {
     "name": "stderr",
     "output_type": "stream",
     "text": [
      "  7%|▋         | 1816/25000 [08:05<3:55:24,  1.64it/s]"
     ]
    },
    {
     "name": "stdout",
     "output_type": "stream",
     "text": [
      "Training World Model...\n",
      "Training Agent...\n",
      "init_imagine_buffer: 1024x16@torch.float32\n"
     ]
    },
    {
     "name": "stderr",
     "output_type": "stream",
     "text": [
      "  7%|▋         | 1817/25000 [08:05<3:55:32,  1.64it/s]"
     ]
    },
    {
     "name": "stdout",
     "output_type": "stream",
     "text": [
      "Training World Model...\n",
      "Training Agent...\n",
      "init_imagine_buffer: 1024x16@torch.float32\n"
     ]
    },
    {
     "name": "stderr",
     "output_type": "stream",
     "text": [
      "  7%|▋         | 1818/25000 [08:06<3:55:34,  1.64it/s]"
     ]
    },
    {
     "name": "stdout",
     "output_type": "stream",
     "text": [
      "Training World Model...\n",
      "Training Agent...\n",
      "init_imagine_buffer: 1024x16@torch.float32\n"
     ]
    },
    {
     "name": "stderr",
     "output_type": "stream",
     "text": [
      "  7%|▋         | 1819/25000 [08:06<3:56:20,  1.63it/s]"
     ]
    },
    {
     "name": "stdout",
     "output_type": "stream",
     "text": [
      "Training World Model...\n",
      "Training Agent...\n",
      "init_imagine_buffer: 1024x16@torch.float32\n"
     ]
    },
    {
     "name": "stderr",
     "output_type": "stream",
     "text": [
      "  7%|▋         | 1820/25000 [08:07<3:56:18,  1.63it/s]"
     ]
    },
    {
     "name": "stdout",
     "output_type": "stream",
     "text": [
      "Training World Model...\n",
      "Training Agent...\n",
      "init_imagine_buffer: 1024x16@torch.float32\n"
     ]
    },
    {
     "name": "stderr",
     "output_type": "stream",
     "text": [
      "  7%|▋         | 1821/25000 [08:08<3:56:11,  1.64it/s]"
     ]
    },
    {
     "name": "stdout",
     "output_type": "stream",
     "text": [
      "Training World Model...\n",
      "Training Agent...\n",
      "init_imagine_buffer: 1024x16@torch.float32\n"
     ]
    },
    {
     "name": "stderr",
     "output_type": "stream",
     "text": [
      "  7%|▋         | 1822/25000 [08:08<3:55:47,  1.64it/s]"
     ]
    },
    {
     "name": "stdout",
     "output_type": "stream",
     "text": [
      "Training World Model...\n",
      "Training Agent...\n",
      "init_imagine_buffer: 1024x16@torch.float32\n"
     ]
    },
    {
     "name": "stderr",
     "output_type": "stream",
     "text": [
      "  7%|▋         | 1823/25000 [08:09<3:56:37,  1.63it/s]"
     ]
    },
    {
     "name": "stdout",
     "output_type": "stream",
     "text": [
      "Training World Model...\n",
      "Training Agent...\n",
      "init_imagine_buffer: 1024x16@torch.float32\n"
     ]
    },
    {
     "name": "stderr",
     "output_type": "stream",
     "text": [
      "  7%|▋         | 1824/25000 [08:09<3:56:00,  1.64it/s]"
     ]
    },
    {
     "name": "stdout",
     "output_type": "stream",
     "text": [
      "Training World Model...\n",
      "Training Agent...\n",
      "init_imagine_buffer: 1024x16@torch.float32\n"
     ]
    },
    {
     "name": "stderr",
     "output_type": "stream",
     "text": [
      "  7%|▋         | 1825/25000 [08:10<3:56:15,  1.63it/s]"
     ]
    },
    {
     "name": "stdout",
     "output_type": "stream",
     "text": [
      "Training World Model...\n",
      "Training Agent...\n",
      "init_imagine_buffer: 1024x16@torch.float32\n"
     ]
    },
    {
     "name": "stderr",
     "output_type": "stream",
     "text": [
      "  7%|▋         | 1826/25000 [08:11<3:55:14,  1.64it/s]"
     ]
    },
    {
     "name": "stdout",
     "output_type": "stream",
     "text": [
      "Training World Model...\n",
      "Training Agent...\n",
      "init_imagine_buffer: 1024x16@torch.float32\n"
     ]
    },
    {
     "name": "stderr",
     "output_type": "stream",
     "text": [
      "  7%|▋         | 1827/25000 [08:11<3:54:17,  1.65it/s]"
     ]
    },
    {
     "name": "stdout",
     "output_type": "stream",
     "text": [
      "Training World Model...\n",
      "Training Agent...\n",
      "init_imagine_buffer: 1024x16@torch.float32\n"
     ]
    },
    {
     "name": "stderr",
     "output_type": "stream",
     "text": [
      "  7%|▋         | 1828/25000 [08:12<3:53:52,  1.65it/s]"
     ]
    },
    {
     "name": "stdout",
     "output_type": "stream",
     "text": [
      "Training World Model...\n",
      "Training Agent...\n",
      "init_imagine_buffer: 1024x16@torch.float32\n"
     ]
    },
    {
     "name": "stderr",
     "output_type": "stream",
     "text": [
      "  7%|▋         | 1829/25000 [08:13<3:54:15,  1.65it/s]"
     ]
    },
    {
     "name": "stdout",
     "output_type": "stream",
     "text": [
      "Training World Model...\n",
      "Training Agent...\n",
      "init_imagine_buffer: 1024x16@torch.float32\n"
     ]
    },
    {
     "name": "stderr",
     "output_type": "stream",
     "text": [
      "  7%|▋         | 1830/25000 [08:13<3:54:52,  1.64it/s]"
     ]
    },
    {
     "name": "stdout",
     "output_type": "stream",
     "text": [
      "Training World Model...\n",
      "Training Agent...\n",
      "init_imagine_buffer: 1024x16@torch.float32\n"
     ]
    },
    {
     "name": "stderr",
     "output_type": "stream",
     "text": [
      "  7%|▋         | 1831/25000 [08:14<3:55:21,  1.64it/s]"
     ]
    },
    {
     "name": "stdout",
     "output_type": "stream",
     "text": [
      "Training World Model...\n",
      "Training Agent...\n",
      "init_imagine_buffer: 1024x16@torch.float32\n"
     ]
    },
    {
     "name": "stderr",
     "output_type": "stream",
     "text": [
      "  7%|▋         | 1832/25000 [08:14<3:55:50,  1.64it/s]"
     ]
    },
    {
     "name": "stdout",
     "output_type": "stream",
     "text": [
      "Training World Model...\n",
      "Training Agent...\n",
      "init_imagine_buffer: 1024x16@torch.float32\n"
     ]
    },
    {
     "name": "stderr",
     "output_type": "stream",
     "text": [
      "  7%|▋         | 1833/25000 [08:15<3:55:20,  1.64it/s]"
     ]
    },
    {
     "name": "stdout",
     "output_type": "stream",
     "text": [
      "Training World Model...\n",
      "Training Agent...\n",
      "init_imagine_buffer: 1024x16@torch.float32\n"
     ]
    },
    {
     "name": "stderr",
     "output_type": "stream",
     "text": [
      "  7%|▋         | 1834/25000 [08:16<3:55:29,  1.64it/s]"
     ]
    },
    {
     "name": "stdout",
     "output_type": "stream",
     "text": [
      "Training World Model...\n",
      "Training Agent...\n",
      "init_imagine_buffer: 1024x16@torch.float32\n"
     ]
    },
    {
     "name": "stderr",
     "output_type": "stream",
     "text": [
      "  7%|▋         | 1835/25000 [08:16<3:55:52,  1.64it/s]"
     ]
    },
    {
     "name": "stdout",
     "output_type": "stream",
     "text": [
      "Training World Model...\n",
      "Training Agent...\n",
      "init_imagine_buffer: 1024x16@torch.float32\n"
     ]
    },
    {
     "name": "stderr",
     "output_type": "stream",
     "text": [
      "  7%|▋         | 1836/25000 [08:17<3:55:46,  1.64it/s]"
     ]
    },
    {
     "name": "stdout",
     "output_type": "stream",
     "text": [
      "Training World Model...\n",
      "Training Agent...\n",
      "init_imagine_buffer: 1024x16@torch.float32\n"
     ]
    },
    {
     "name": "stderr",
     "output_type": "stream",
     "text": [
      "  7%|▋         | 1837/25000 [08:17<3:55:16,  1.64it/s]"
     ]
    },
    {
     "name": "stdout",
     "output_type": "stream",
     "text": [
      "Training World Model...\n",
      "Training Agent...\n",
      "init_imagine_buffer: 1024x16@torch.float32\n"
     ]
    },
    {
     "name": "stderr",
     "output_type": "stream",
     "text": [
      "  7%|▋         | 1838/25000 [08:18<3:55:06,  1.64it/s]"
     ]
    },
    {
     "name": "stdout",
     "output_type": "stream",
     "text": [
      "Training World Model...\n",
      "Training Agent...\n",
      "init_imagine_buffer: 1024x16@torch.float32\n"
     ]
    },
    {
     "name": "stderr",
     "output_type": "stream",
     "text": [
      "  7%|▋         | 1839/25000 [08:19<3:55:04,  1.64it/s]"
     ]
    },
    {
     "name": "stdout",
     "output_type": "stream",
     "text": [
      "Training World Model...\n",
      "Training Agent...\n",
      "init_imagine_buffer: 1024x16@torch.float32\n"
     ]
    },
    {
     "name": "stderr",
     "output_type": "stream",
     "text": [
      "  7%|▋         | 1840/25000 [08:19<3:55:37,  1.64it/s]"
     ]
    },
    {
     "name": "stdout",
     "output_type": "stream",
     "text": [
      "Training World Model...\n",
      "Training Agent...\n",
      "init_imagine_buffer: 1024x16@torch.float32\n"
     ]
    },
    {
     "name": "stderr",
     "output_type": "stream",
     "text": [
      "  7%|▋         | 1841/25000 [08:20<3:55:26,  1.64it/s]"
     ]
    },
    {
     "name": "stdout",
     "output_type": "stream",
     "text": [
      "Training World Model...\n",
      "Training Agent...\n",
      "init_imagine_buffer: 1024x16@torch.float32\n"
     ]
    },
    {
     "name": "stderr",
     "output_type": "stream",
     "text": [
      "  7%|▋         | 1842/25000 [08:20<3:55:03,  1.64it/s]"
     ]
    },
    {
     "name": "stdout",
     "output_type": "stream",
     "text": [
      "Training World Model...\n",
      "Training Agent...\n",
      "init_imagine_buffer: 1024x16@torch.float32\n"
     ]
    },
    {
     "name": "stderr",
     "output_type": "stream",
     "text": [
      "  7%|▋         | 1843/25000 [08:21<3:55:25,  1.64it/s]"
     ]
    },
    {
     "name": "stdout",
     "output_type": "stream",
     "text": [
      "Training World Model...\n",
      "Training Agent...\n",
      "init_imagine_buffer: 1024x16@torch.float32\n"
     ]
    },
    {
     "name": "stderr",
     "output_type": "stream",
     "text": [
      "  7%|▋         | 1844/25000 [08:22<3:55:33,  1.64it/s]"
     ]
    },
    {
     "name": "stdout",
     "output_type": "stream",
     "text": [
      "Training World Model...\n",
      "Training Agent...\n",
      "init_imagine_buffer: 1024x16@torch.float32\n"
     ]
    },
    {
     "name": "stderr",
     "output_type": "stream",
     "text": [
      "  7%|▋         | 1845/25000 [08:22<3:55:41,  1.64it/s]"
     ]
    },
    {
     "name": "stdout",
     "output_type": "stream",
     "text": [
      "Training World Model...\n",
      "Training Agent...\n",
      "init_imagine_buffer: 1024x16@torch.float32\n"
     ]
    },
    {
     "name": "stderr",
     "output_type": "stream",
     "text": [
      "  7%|▋         | 1846/25000 [08:23<3:56:50,  1.63it/s]"
     ]
    },
    {
     "name": "stdout",
     "output_type": "stream",
     "text": [
      "Training World Model...\n",
      "Training Agent...\n",
      "init_imagine_buffer: 1024x16@torch.float32\n"
     ]
    },
    {
     "name": "stderr",
     "output_type": "stream",
     "text": [
      "  7%|▋         | 1847/25000 [08:24<3:55:59,  1.64it/s]"
     ]
    },
    {
     "name": "stdout",
     "output_type": "stream",
     "text": [
      "Training World Model...\n",
      "Training Agent...\n",
      "init_imagine_buffer: 1024x16@torch.float32\n"
     ]
    },
    {
     "name": "stderr",
     "output_type": "stream",
     "text": [
      "  7%|▋         | 1848/25000 [08:24<3:54:56,  1.64it/s]"
     ]
    },
    {
     "name": "stdout",
     "output_type": "stream",
     "text": [
      "Training World Model...\n",
      "Training Agent...\n",
      "init_imagine_buffer: 1024x16@torch.float32\n"
     ]
    },
    {
     "name": "stderr",
     "output_type": "stream",
     "text": [
      "  7%|▋         | 1849/25000 [08:25<3:54:11,  1.65it/s]"
     ]
    },
    {
     "name": "stdout",
     "output_type": "stream",
     "text": [
      "Training World Model...\n",
      "Training Agent...\n",
      "init_imagine_buffer: 1024x16@torch.float32\n"
     ]
    },
    {
     "name": "stderr",
     "output_type": "stream",
     "text": [
      "  7%|▋         | 1850/25000 [08:25<3:53:29,  1.65it/s]"
     ]
    },
    {
     "name": "stdout",
     "output_type": "stream",
     "text": [
      "Training World Model...\n",
      "Training Agent...\n",
      "init_imagine_buffer: 1024x16@torch.float32\n"
     ]
    },
    {
     "name": "stderr",
     "output_type": "stream",
     "text": [
      "  7%|▋         | 1851/25000 [08:26<3:53:51,  1.65it/s]"
     ]
    },
    {
     "name": "stdout",
     "output_type": "stream",
     "text": [
      "Training World Model...\n",
      "Training Agent...\n",
      "init_imagine_buffer: 1024x16@torch.float32\n"
     ]
    },
    {
     "name": "stderr",
     "output_type": "stream",
     "text": [
      "  7%|▋         | 1852/25000 [08:27<3:54:14,  1.65it/s]"
     ]
    },
    {
     "name": "stdout",
     "output_type": "stream",
     "text": [
      "Training World Model...\n",
      "Training Agent...\n",
      "init_imagine_buffer: 1024x16@torch.float32\n"
     ]
    },
    {
     "name": "stderr",
     "output_type": "stream",
     "text": [
      "  7%|▋         | 1853/25000 [08:27<3:55:06,  1.64it/s]"
     ]
    },
    {
     "name": "stdout",
     "output_type": "stream",
     "text": [
      "Training World Model...\n",
      "Training Agent...\n",
      "init_imagine_buffer: 1024x16@torch.float32\n"
     ]
    },
    {
     "name": "stderr",
     "output_type": "stream",
     "text": [
      "  7%|▋         | 1854/25000 [08:28<3:55:22,  1.64it/s]"
     ]
    },
    {
     "name": "stdout",
     "output_type": "stream",
     "text": [
      "Training World Model...\n",
      "Training Agent...\n",
      "init_imagine_buffer: 1024x16@torch.float32\n"
     ]
    },
    {
     "name": "stderr",
     "output_type": "stream",
     "text": [
      "  7%|▋         | 1855/25000 [08:28<3:55:44,  1.64it/s]"
     ]
    },
    {
     "name": "stdout",
     "output_type": "stream",
     "text": [
      "Training World Model...\n",
      "Training Agent...\n",
      "init_imagine_buffer: 1024x16@torch.float32\n"
     ]
    },
    {
     "name": "stderr",
     "output_type": "stream",
     "text": [
      "  7%|▋         | 1856/25000 [08:29<3:55:42,  1.64it/s]"
     ]
    },
    {
     "name": "stdout",
     "output_type": "stream",
     "text": [
      "Training World Model...\n",
      "Training Agent...\n",
      "init_imagine_buffer: 1024x16@torch.float32\n"
     ]
    },
    {
     "name": "stderr",
     "output_type": "stream",
     "text": [
      "  7%|▋         | 1857/25000 [08:30<3:56:22,  1.63it/s]"
     ]
    },
    {
     "name": "stdout",
     "output_type": "stream",
     "text": [
      "Training World Model...\n",
      "Training Agent...\n",
      "init_imagine_buffer: 1024x16@torch.float32\n"
     ]
    },
    {
     "name": "stderr",
     "output_type": "stream",
     "text": [
      "  7%|▋         | 1858/25000 [08:30<3:55:34,  1.64it/s]"
     ]
    },
    {
     "name": "stdout",
     "output_type": "stream",
     "text": [
      "Training World Model...\n",
      "Training Agent...\n",
      "init_imagine_buffer: 1024x16@torch.float32\n"
     ]
    },
    {
     "name": "stderr",
     "output_type": "stream",
     "text": [
      "  7%|▋         | 1859/25000 [08:31<3:55:20,  1.64it/s]"
     ]
    },
    {
     "name": "stdout",
     "output_type": "stream",
     "text": [
      "Training World Model...\n",
      "Training Agent...\n",
      "init_imagine_buffer: 1024x16@torch.float32\n"
     ]
    },
    {
     "name": "stderr",
     "output_type": "stream",
     "text": [
      "  7%|▋         | 1860/25000 [08:31<3:55:52,  1.64it/s]"
     ]
    },
    {
     "name": "stdout",
     "output_type": "stream",
     "text": [
      "Training World Model...\n",
      "Training Agent...\n",
      "init_imagine_buffer: 1024x16@torch.float32\n"
     ]
    },
    {
     "name": "stderr",
     "output_type": "stream",
     "text": [
      "  7%|▋         | 1861/25000 [08:32<3:55:53,  1.63it/s]"
     ]
    },
    {
     "name": "stdout",
     "output_type": "stream",
     "text": [
      "Training World Model...\n",
      "Training Agent...\n",
      "init_imagine_buffer: 1024x16@torch.float32\n"
     ]
    },
    {
     "name": "stderr",
     "output_type": "stream",
     "text": [
      "  7%|▋         | 1862/25000 [08:33<3:56:14,  1.63it/s]"
     ]
    },
    {
     "name": "stdout",
     "output_type": "stream",
     "text": [
      "Training World Model...\n",
      "Training Agent...\n",
      "init_imagine_buffer: 1024x16@torch.float32\n"
     ]
    },
    {
     "name": "stderr",
     "output_type": "stream",
     "text": [
      "  7%|▋         | 1863/25000 [08:33<3:55:51,  1.63it/s]"
     ]
    },
    {
     "name": "stdout",
     "output_type": "stream",
     "text": [
      "Training World Model...\n",
      "Training Agent...\n",
      "init_imagine_buffer: 1024x16@torch.float32\n"
     ]
    },
    {
     "name": "stderr",
     "output_type": "stream",
     "text": [
      "  7%|▋         | 1864/25000 [08:34<3:55:22,  1.64it/s]"
     ]
    },
    {
     "name": "stdout",
     "output_type": "stream",
     "text": [
      "Training World Model...\n",
      "Training Agent...\n",
      "init_imagine_buffer: 1024x16@torch.float32\n"
     ]
    },
    {
     "name": "stderr",
     "output_type": "stream",
     "text": [
      "  7%|▋         | 1865/25000 [08:34<3:55:44,  1.64it/s]"
     ]
    },
    {
     "name": "stdout",
     "output_type": "stream",
     "text": [
      "Training World Model...\n",
      "Training Agent...\n",
      "init_imagine_buffer: 1024x16@torch.float32\n"
     ]
    },
    {
     "name": "stderr",
     "output_type": "stream",
     "text": [
      "  7%|▋         | 1866/25000 [08:35<3:55:54,  1.63it/s]"
     ]
    },
    {
     "name": "stdout",
     "output_type": "stream",
     "text": [
      "Training World Model...\n",
      "Training Agent...\n",
      "init_imagine_buffer: 1024x16@torch.float32\n"
     ]
    },
    {
     "name": "stderr",
     "output_type": "stream",
     "text": [
      "  7%|▋         | 1867/25000 [08:36<3:55:42,  1.64it/s]"
     ]
    },
    {
     "name": "stdout",
     "output_type": "stream",
     "text": [
      "Training World Model...\n",
      "Training Agent...\n",
      "init_imagine_buffer: 1024x16@torch.float32\n"
     ]
    },
    {
     "name": "stderr",
     "output_type": "stream",
     "text": [
      "  7%|▋         | 1868/25000 [08:36<3:56:06,  1.63it/s]"
     ]
    },
    {
     "name": "stdout",
     "output_type": "stream",
     "text": [
      "Training World Model...\n",
      "Training Agent...\n",
      "init_imagine_buffer: 1024x16@torch.float32\n"
     ]
    },
    {
     "name": "stderr",
     "output_type": "stream",
     "text": [
      "  7%|▋         | 1869/25000 [08:37<3:55:12,  1.64it/s]"
     ]
    },
    {
     "name": "stdout",
     "output_type": "stream",
     "text": [
      "Training World Model...\n",
      "Training Agent...\n",
      "init_imagine_buffer: 1024x16@torch.float32\n"
     ]
    },
    {
     "name": "stderr",
     "output_type": "stream",
     "text": [
      "  7%|▋         | 1870/25000 [08:38<3:54:11,  1.65it/s]"
     ]
    },
    {
     "name": "stdout",
     "output_type": "stream",
     "text": [
      "Training World Model...\n",
      "Training Agent...\n",
      "init_imagine_buffer: 1024x16@torch.float32\n"
     ]
    },
    {
     "name": "stderr",
     "output_type": "stream",
     "text": [
      "  7%|▋         | 1871/25000 [08:38<3:53:34,  1.65it/s]"
     ]
    },
    {
     "name": "stdout",
     "output_type": "stream",
     "text": [
      "Training World Model...\n",
      "Training Agent...\n",
      "init_imagine_buffer: 1024x16@torch.float32\n"
     ]
    },
    {
     "name": "stderr",
     "output_type": "stream",
     "text": [
      "  7%|▋         | 1872/25000 [08:39<3:53:35,  1.65it/s]"
     ]
    },
    {
     "name": "stdout",
     "output_type": "stream",
     "text": [
      "Training World Model...\n",
      "Training Agent...\n",
      "init_imagine_buffer: 1024x16@torch.float32\n"
     ]
    },
    {
     "name": "stderr",
     "output_type": "stream",
     "text": [
      "  7%|▋         | 1873/25000 [08:39<3:54:13,  1.65it/s]"
     ]
    },
    {
     "name": "stdout",
     "output_type": "stream",
     "text": [
      "Training World Model...\n",
      "Training Agent...\n",
      "init_imagine_buffer: 1024x16@torch.float32\n"
     ]
    },
    {
     "name": "stderr",
     "output_type": "stream",
     "text": [
      "  7%|▋         | 1874/25000 [08:40<3:53:38,  1.65it/s]"
     ]
    },
    {
     "name": "stdout",
     "output_type": "stream",
     "text": [
      "Training World Model...\n",
      "Training Agent...\n",
      "init_imagine_buffer: 1024x16@torch.float32\n"
     ]
    },
    {
     "name": "stderr",
     "output_type": "stream",
     "text": [
      "  8%|▊         | 1875/25000 [08:41<3:53:59,  1.65it/s]"
     ]
    },
    {
     "name": "stdout",
     "output_type": "stream",
     "text": [
      "Training World Model...\n",
      "Training Agent...\n",
      "init_imagine_buffer: 1024x16@torch.float32\n"
     ]
    },
    {
     "name": "stderr",
     "output_type": "stream",
     "text": [
      "  8%|▊         | 1876/25000 [08:41<3:54:08,  1.65it/s]"
     ]
    },
    {
     "name": "stdout",
     "output_type": "stream",
     "text": [
      "Training World Model...\n",
      "Training Agent...\n",
      "init_imagine_buffer: 1024x16@torch.float32\n"
     ]
    },
    {
     "name": "stderr",
     "output_type": "stream",
     "text": [
      "  8%|▊         | 1877/25000 [08:42<3:54:19,  1.64it/s]"
     ]
    },
    {
     "name": "stdout",
     "output_type": "stream",
     "text": [
      "Training World Model...\n",
      "Training Agent...\n",
      "init_imagine_buffer: 1024x16@torch.float32\n"
     ]
    },
    {
     "name": "stderr",
     "output_type": "stream",
     "text": [
      "  8%|▊         | 1878/25000 [08:42<3:55:00,  1.64it/s]"
     ]
    },
    {
     "name": "stdout",
     "output_type": "stream",
     "text": [
      "Training World Model...\n",
      "Training Agent...\n",
      "init_imagine_buffer: 1024x16@torch.float32\n"
     ]
    },
    {
     "name": "stderr",
     "output_type": "stream",
     "text": [
      "  8%|▊         | 1879/25000 [08:43<3:54:37,  1.64it/s]"
     ]
    },
    {
     "name": "stdout",
     "output_type": "stream",
     "text": [
      "Training World Model...\n",
      "Training Agent...\n",
      "init_imagine_buffer: 1024x16@torch.float32\n"
     ]
    },
    {
     "name": "stderr",
     "output_type": "stream",
     "text": [
      "  8%|▊         | 1880/25000 [08:44<3:54:34,  1.64it/s]"
     ]
    },
    {
     "name": "stdout",
     "output_type": "stream",
     "text": [
      "Training World Model...\n",
      "Training Agent...\n",
      "init_imagine_buffer: 1024x16@torch.float32\n"
     ]
    },
    {
     "name": "stderr",
     "output_type": "stream",
     "text": [
      "  8%|▊         | 1881/25000 [08:44<3:55:10,  1.64it/s]"
     ]
    },
    {
     "name": "stdout",
     "output_type": "stream",
     "text": [
      "Training World Model...\n",
      "Training Agent...\n",
      "init_imagine_buffer: 1024x16@torch.float32\n"
     ]
    },
    {
     "name": "stderr",
     "output_type": "stream",
     "text": [
      "  8%|▊         | 1882/25000 [08:45<3:55:16,  1.64it/s]"
     ]
    },
    {
     "name": "stdout",
     "output_type": "stream",
     "text": [
      "Training World Model...\n",
      "Training Agent...\n",
      "init_imagine_buffer: 1024x16@torch.float32\n"
     ]
    },
    {
     "name": "stderr",
     "output_type": "stream",
     "text": [
      "  8%|▊         | 1883/25000 [08:45<3:55:02,  1.64it/s]"
     ]
    },
    {
     "name": "stdout",
     "output_type": "stream",
     "text": [
      "Training World Model...\n",
      "Training Agent...\n",
      "init_imagine_buffer: 1024x16@torch.float32\n"
     ]
    },
    {
     "name": "stderr",
     "output_type": "stream",
     "text": [
      "  8%|▊         | 1884/25000 [08:46<3:56:10,  1.63it/s]"
     ]
    },
    {
     "name": "stdout",
     "output_type": "stream",
     "text": [
      "Training World Model...\n",
      "Training Agent...\n",
      "init_imagine_buffer: 1024x16@torch.float32\n"
     ]
    },
    {
     "name": "stderr",
     "output_type": "stream",
     "text": [
      "  8%|▊         | 1885/25000 [08:47<3:55:55,  1.63it/s]"
     ]
    },
    {
     "name": "stdout",
     "output_type": "stream",
     "text": [
      "Training World Model...\n",
      "Training Agent...\n",
      "init_imagine_buffer: 1024x16@torch.float32\n"
     ]
    },
    {
     "name": "stderr",
     "output_type": "stream",
     "text": [
      "  8%|▊         | 1886/25000 [08:47<3:56:05,  1.63it/s]"
     ]
    },
    {
     "name": "stdout",
     "output_type": "stream",
     "text": [
      "Training World Model...\n",
      "Training Agent...\n",
      "init_imagine_buffer: 1024x16@torch.float32\n"
     ]
    },
    {
     "name": "stderr",
     "output_type": "stream",
     "text": [
      "  8%|▊         | 1887/25000 [08:48<3:56:24,  1.63it/s]"
     ]
    },
    {
     "name": "stdout",
     "output_type": "stream",
     "text": [
      "Training World Model...\n",
      "Training Agent...\n",
      "init_imagine_buffer: 1024x16@torch.float32\n"
     ]
    },
    {
     "name": "stderr",
     "output_type": "stream",
     "text": [
      "  8%|▊         | 1888/25000 [08:49<3:56:00,  1.63it/s]"
     ]
    },
    {
     "name": "stdout",
     "output_type": "stream",
     "text": [
      "Training World Model...\n",
      "Training Agent...\n",
      "init_imagine_buffer: 1024x16@torch.float32\n"
     ]
    },
    {
     "name": "stderr",
     "output_type": "stream",
     "text": [
      "  8%|▊         | 1889/25000 [08:49<3:55:13,  1.64it/s]"
     ]
    },
    {
     "name": "stdout",
     "output_type": "stream",
     "text": [
      "Training World Model...\n",
      "Training Agent...\n",
      "init_imagine_buffer: 1024x16@torch.float32\n"
     ]
    },
    {
     "name": "stderr",
     "output_type": "stream",
     "text": [
      "  8%|▊         | 1890/25000 [08:50<3:55:06,  1.64it/s]"
     ]
    },
    {
     "name": "stdout",
     "output_type": "stream",
     "text": [
      "Training World Model...\n",
      "Training Agent...\n",
      "init_imagine_buffer: 1024x16@torch.float32\n"
     ]
    },
    {
     "name": "stderr",
     "output_type": "stream",
     "text": [
      "  8%|▊         | 1891/25000 [08:50<3:54:04,  1.65it/s]"
     ]
    },
    {
     "name": "stdout",
     "output_type": "stream",
     "text": [
      "Training World Model...\n",
      "Training Agent...\n",
      "init_imagine_buffer: 1024x16@torch.float32\n"
     ]
    },
    {
     "name": "stderr",
     "output_type": "stream",
     "text": [
      "  8%|▊         | 1892/25000 [08:51<3:53:19,  1.65it/s]"
     ]
    },
    {
     "name": "stdout",
     "output_type": "stream",
     "text": [
      "Training World Model...\n",
      "Training Agent...\n",
      "init_imagine_buffer: 1024x16@torch.float32\n"
     ]
    },
    {
     "name": "stderr",
     "output_type": "stream",
     "text": [
      "  8%|▊         | 1893/25000 [08:52<3:52:46,  1.65it/s]"
     ]
    },
    {
     "name": "stdout",
     "output_type": "stream",
     "text": [
      "Training World Model...\n",
      "Training Agent...\n",
      "init_imagine_buffer: 1024x16@torch.float32\n"
     ]
    },
    {
     "name": "stderr",
     "output_type": "stream",
     "text": [
      "  8%|▊         | 1894/25000 [08:52<3:53:21,  1.65it/s]"
     ]
    },
    {
     "name": "stdout",
     "output_type": "stream",
     "text": [
      "Training World Model...\n",
      "Training Agent...\n",
      "init_imagine_buffer: 1024x16@torch.float32\n"
     ]
    },
    {
     "name": "stderr",
     "output_type": "stream",
     "text": [
      "  8%|▊         | 1895/25000 [08:53<3:54:05,  1.65it/s]"
     ]
    },
    {
     "name": "stdout",
     "output_type": "stream",
     "text": [
      "Training World Model...\n",
      "Training Agent...\n",
      "init_imagine_buffer: 1024x16@torch.float32\n"
     ]
    },
    {
     "name": "stderr",
     "output_type": "stream",
     "text": [
      "  8%|▊         | 1896/25000 [08:53<3:54:34,  1.64it/s]"
     ]
    },
    {
     "name": "stdout",
     "output_type": "stream",
     "text": [
      "Training World Model...\n",
      "Training Agent...\n",
      "init_imagine_buffer: 1024x16@torch.float32\n"
     ]
    },
    {
     "name": "stderr",
     "output_type": "stream",
     "text": [
      "  8%|▊         | 1897/25000 [08:54<3:54:36,  1.64it/s]"
     ]
    },
    {
     "name": "stdout",
     "output_type": "stream",
     "text": [
      "Training World Model...\n",
      "Training Agent...\n",
      "init_imagine_buffer: 1024x16@torch.float32\n"
     ]
    },
    {
     "name": "stderr",
     "output_type": "stream",
     "text": [
      "  8%|▊         | 1898/25000 [08:55<3:54:46,  1.64it/s]"
     ]
    },
    {
     "name": "stdout",
     "output_type": "stream",
     "text": [
      "Training World Model...\n",
      "Training Agent...\n",
      "init_imagine_buffer: 1024x16@torch.float32\n"
     ]
    },
    {
     "name": "stderr",
     "output_type": "stream",
     "text": [
      "  8%|▊         | 1899/25000 [08:55<3:54:18,  1.64it/s]"
     ]
    },
    {
     "name": "stdout",
     "output_type": "stream",
     "text": [
      "Training World Model...\n",
      "Training Agent...\n",
      "init_imagine_buffer: 1024x16@torch.float32\n"
     ]
    },
    {
     "name": "stderr",
     "output_type": "stream",
     "text": [
      "  8%|▊         | 1900/25000 [08:56<3:54:47,  1.64it/s]"
     ]
    },
    {
     "name": "stdout",
     "output_type": "stream",
     "text": [
      "Training World Model...\n",
      "Training Agent...\n",
      "init_imagine_buffer: 1024x16@torch.float32\n"
     ]
    },
    {
     "name": "stderr",
     "output_type": "stream",
     "text": [
      "  8%|▊         | 1901/25000 [08:56<3:54:20,  1.64it/s]"
     ]
    },
    {
     "name": "stdout",
     "output_type": "stream",
     "text": [
      "Training World Model...\n",
      "Training Agent...\n",
      "init_imagine_buffer: 1024x16@torch.float32\n"
     ]
    },
    {
     "name": "stderr",
     "output_type": "stream",
     "text": [
      "  8%|▊         | 1902/25000 [08:57<3:55:16,  1.64it/s]"
     ]
    },
    {
     "name": "stdout",
     "output_type": "stream",
     "text": [
      "Training World Model...\n",
      "Training Agent...\n",
      "init_imagine_buffer: 1024x16@torch.float32\n"
     ]
    },
    {
     "name": "stderr",
     "output_type": "stream",
     "text": [
      "  8%|▊         | 1903/25000 [08:58<3:55:10,  1.64it/s]"
     ]
    },
    {
     "name": "stdout",
     "output_type": "stream",
     "text": [
      "Training World Model...\n",
      "Training Agent...\n",
      "init_imagine_buffer: 1024x16@torch.float32\n"
     ]
    },
    {
     "name": "stderr",
     "output_type": "stream",
     "text": [
      "  8%|▊         | 1904/25000 [08:58<3:55:54,  1.63it/s]"
     ]
    },
    {
     "name": "stdout",
     "output_type": "stream",
     "text": [
      "Training World Model...\n",
      "Training Agent...\n",
      "init_imagine_buffer: 1024x16@torch.float32\n"
     ]
    },
    {
     "name": "stderr",
     "output_type": "stream",
     "text": [
      "  8%|▊         | 1905/25000 [08:59<3:55:29,  1.63it/s]"
     ]
    },
    {
     "name": "stdout",
     "output_type": "stream",
     "text": [
      "Training World Model...\n",
      "Training Agent...\n",
      "init_imagine_buffer: 1024x16@torch.float32\n"
     ]
    },
    {
     "name": "stderr",
     "output_type": "stream",
     "text": [
      "  8%|▊         | 1906/25000 [08:59<3:55:23,  1.64it/s]"
     ]
    },
    {
     "name": "stdout",
     "output_type": "stream",
     "text": [
      "Training World Model...\n",
      "Training Agent...\n",
      "init_imagine_buffer: 1024x16@torch.float32\n"
     ]
    },
    {
     "name": "stderr",
     "output_type": "stream",
     "text": [
      "  8%|▊         | 1907/25000 [09:00<3:54:59,  1.64it/s]"
     ]
    },
    {
     "name": "stdout",
     "output_type": "stream",
     "text": [
      "Training World Model...\n",
      "Training Agent...\n",
      "init_imagine_buffer: 1024x16@torch.float32\n"
     ]
    },
    {
     "name": "stderr",
     "output_type": "stream",
     "text": [
      "  8%|▊         | 1908/25000 [09:01<3:56:01,  1.63it/s]"
     ]
    },
    {
     "name": "stdout",
     "output_type": "stream",
     "text": [
      "Training World Model...\n",
      "Training Agent...\n",
      "init_imagine_buffer: 1024x16@torch.float32\n"
     ]
    },
    {
     "name": "stderr",
     "output_type": "stream",
     "text": [
      "  8%|▊         | 1909/25000 [09:01<3:55:33,  1.63it/s]"
     ]
    },
    {
     "name": "stdout",
     "output_type": "stream",
     "text": [
      "Training World Model...\n",
      "Training Agent...\n",
      "init_imagine_buffer: 1024x16@torch.float32\n"
     ]
    },
    {
     "name": "stderr",
     "output_type": "stream",
     "text": [
      "  8%|▊         | 1910/25000 [09:02<3:55:12,  1.64it/s]"
     ]
    },
    {
     "name": "stdout",
     "output_type": "stream",
     "text": [
      "Training World Model...\n",
      "Training Agent...\n",
      "init_imagine_buffer: 1024x16@torch.float32\n"
     ]
    },
    {
     "name": "stderr",
     "output_type": "stream",
     "text": [
      "  8%|▊         | 1911/25000 [09:03<3:55:18,  1.64it/s]"
     ]
    },
    {
     "name": "stdout",
     "output_type": "stream",
     "text": [
      "Training World Model...\n",
      "Training Agent...\n",
      "init_imagine_buffer: 1024x16@torch.float32\n"
     ]
    },
    {
     "name": "stderr",
     "output_type": "stream",
     "text": [
      "  8%|▊         | 1912/25000 [09:03<3:54:24,  1.64it/s]"
     ]
    },
    {
     "name": "stdout",
     "output_type": "stream",
     "text": [
      "Training World Model...\n",
      "Training Agent...\n",
      "init_imagine_buffer: 1024x16@torch.float32\n"
     ]
    },
    {
     "name": "stderr",
     "output_type": "stream",
     "text": [
      "  8%|▊         | 1913/25000 [09:04<3:53:25,  1.65it/s]"
     ]
    },
    {
     "name": "stdout",
     "output_type": "stream",
     "text": [
      "Training World Model...\n",
      "Training Agent...\n",
      "init_imagine_buffer: 1024x16@torch.float32\n"
     ]
    },
    {
     "name": "stderr",
     "output_type": "stream",
     "text": [
      "  8%|▊         | 1914/25000 [09:04<3:52:46,  1.65it/s]"
     ]
    },
    {
     "name": "stdout",
     "output_type": "stream",
     "text": [
      "Training World Model...\n",
      "Training Agent...\n",
      "init_imagine_buffer: 1024x16@torch.float32\n"
     ]
    },
    {
     "name": "stderr",
     "output_type": "stream",
     "text": [
      "  8%|▊         | 1915/25000 [09:05<3:52:27,  1.66it/s]"
     ]
    },
    {
     "name": "stdout",
     "output_type": "stream",
     "text": [
      "Training World Model...\n",
      "Training Agent...\n",
      "init_imagine_buffer: 1024x16@torch.float32\n"
     ]
    },
    {
     "name": "stderr",
     "output_type": "stream",
     "text": [
      "  8%|▊         | 1916/25000 [09:06<3:53:32,  1.65it/s]"
     ]
    },
    {
     "name": "stdout",
     "output_type": "stream",
     "text": [
      "Training World Model...\n",
      "Training Agent...\n",
      "init_imagine_buffer: 1024x16@torch.float32\n"
     ]
    },
    {
     "name": "stderr",
     "output_type": "stream",
     "text": [
      "  8%|▊         | 1917/25000 [09:06<3:54:56,  1.64it/s]"
     ]
    },
    {
     "name": "stdout",
     "output_type": "stream",
     "text": [
      "Training World Model...\n",
      "Training Agent...\n",
      "init_imagine_buffer: 1024x16@torch.float32\n"
     ]
    },
    {
     "name": "stderr",
     "output_type": "stream",
     "text": [
      "  8%|▊         | 1918/25000 [09:07<3:54:28,  1.64it/s]"
     ]
    },
    {
     "name": "stdout",
     "output_type": "stream",
     "text": [
      "Training World Model...\n",
      "Training Agent...\n",
      "init_imagine_buffer: 1024x16@torch.float32\n"
     ]
    },
    {
     "name": "stderr",
     "output_type": "stream",
     "text": [
      "  8%|▊         | 1919/25000 [09:07<3:54:05,  1.64it/s]"
     ]
    },
    {
     "name": "stdout",
     "output_type": "stream",
     "text": [
      "Training World Model...\n",
      "Training Agent...\n",
      "init_imagine_buffer: 1024x16@torch.float32\n"
     ]
    },
    {
     "name": "stderr",
     "output_type": "stream",
     "text": [
      "  8%|▊         | 1920/25000 [09:08<3:54:36,  1.64it/s]"
     ]
    },
    {
     "name": "stdout",
     "output_type": "stream",
     "text": [
      "Training World Model...\n",
      "Training Agent...\n",
      "init_imagine_buffer: 1024x16@torch.float32\n"
     ]
    },
    {
     "name": "stderr",
     "output_type": "stream",
     "text": [
      "  8%|▊         | 1921/25000 [09:09<3:54:27,  1.64it/s]"
     ]
    },
    {
     "name": "stdout",
     "output_type": "stream",
     "text": [
      "Training World Model...\n",
      "Training Agent...\n",
      "init_imagine_buffer: 1024x16@torch.float32\n"
     ]
    },
    {
     "name": "stderr",
     "output_type": "stream",
     "text": [
      "  8%|▊         | 1922/25000 [09:09<3:54:05,  1.64it/s]"
     ]
    },
    {
     "name": "stdout",
     "output_type": "stream",
     "text": [
      "Training World Model...\n",
      "Training Agent...\n",
      "init_imagine_buffer: 1024x16@torch.float32\n"
     ]
    },
    {
     "name": "stderr",
     "output_type": "stream",
     "text": [
      "  8%|▊         | 1923/25000 [09:10<3:54:45,  1.64it/s]"
     ]
    },
    {
     "name": "stdout",
     "output_type": "stream",
     "text": [
      "Training World Model...\n",
      "Training Agent...\n",
      "init_imagine_buffer: 1024x16@torch.float32\n"
     ]
    },
    {
     "name": "stderr",
     "output_type": "stream",
     "text": [
      "  8%|▊         | 1924/25000 [09:10<3:54:39,  1.64it/s]"
     ]
    },
    {
     "name": "stdout",
     "output_type": "stream",
     "text": [
      "Training World Model...\n",
      "Training Agent...\n",
      "init_imagine_buffer: 1024x16@torch.float32\n"
     ]
    },
    {
     "name": "stderr",
     "output_type": "stream",
     "text": [
      "  8%|▊         | 1925/25000 [09:11<3:54:47,  1.64it/s]"
     ]
    },
    {
     "name": "stdout",
     "output_type": "stream",
     "text": [
      "Training World Model...\n",
      "Training Agent...\n",
      "init_imagine_buffer: 1024x16@torch.float32\n"
     ]
    },
    {
     "name": "stderr",
     "output_type": "stream",
     "text": [
      "  8%|▊         | 1926/25000 [09:12<3:54:40,  1.64it/s]"
     ]
    },
    {
     "name": "stdout",
     "output_type": "stream",
     "text": [
      "Training World Model...\n",
      "Training Agent...\n",
      "init_imagine_buffer: 1024x16@torch.float32\n"
     ]
    },
    {
     "name": "stderr",
     "output_type": "stream",
     "text": [
      "  8%|▊         | 1927/25000 [09:12<3:54:05,  1.64it/s]"
     ]
    },
    {
     "name": "stdout",
     "output_type": "stream",
     "text": [
      "Training World Model...\n",
      "Training Agent...\n",
      "init_imagine_buffer: 1024x16@torch.float32\n"
     ]
    },
    {
     "name": "stderr",
     "output_type": "stream",
     "text": [
      "  8%|▊         | 1928/25000 [09:13<3:53:52,  1.64it/s]"
     ]
    },
    {
     "name": "stdout",
     "output_type": "stream",
     "text": [
      "Training World Model...\n",
      "Training Agent...\n",
      "init_imagine_buffer: 1024x16@torch.float32\n"
     ]
    },
    {
     "name": "stderr",
     "output_type": "stream",
     "text": [
      "  8%|▊         | 1929/25000 [09:13<3:53:33,  1.65it/s]"
     ]
    },
    {
     "name": "stdout",
     "output_type": "stream",
     "text": [
      "Training World Model...\n",
      "Training Agent...\n",
      "init_imagine_buffer: 1024x16@torch.float32\n"
     ]
    },
    {
     "name": "stderr",
     "output_type": "stream",
     "text": [
      "  8%|▊         | 1930/25000 [09:14<3:53:46,  1.64it/s]"
     ]
    },
    {
     "name": "stdout",
     "output_type": "stream",
     "text": [
      "Training World Model...\n",
      "Training Agent...\n",
      "init_imagine_buffer: 1024x16@torch.float32\n"
     ]
    },
    {
     "name": "stderr",
     "output_type": "stream",
     "text": [
      "  8%|▊         | 1931/25000 [09:15<3:54:48,  1.64it/s]"
     ]
    },
    {
     "name": "stdout",
     "output_type": "stream",
     "text": [
      "Training World Model...\n",
      "Training Agent...\n",
      "init_imagine_buffer: 1024x16@torch.float32\n"
     ]
    },
    {
     "name": "stderr",
     "output_type": "stream",
     "text": [
      "  8%|▊         | 1932/25000 [09:15<3:54:41,  1.64it/s]"
     ]
    },
    {
     "name": "stdout",
     "output_type": "stream",
     "text": [
      "Training World Model...\n",
      "Training Agent...\n",
      "init_imagine_buffer: 1024x16@torch.float32\n"
     ]
    },
    {
     "name": "stderr",
     "output_type": "stream",
     "text": [
      "  8%|▊         | 1933/25000 [09:16<3:54:57,  1.64it/s]"
     ]
    },
    {
     "name": "stdout",
     "output_type": "stream",
     "text": [
      "Training World Model...\n",
      "Training Agent...\n",
      "init_imagine_buffer: 1024x16@torch.float32\n"
     ]
    },
    {
     "name": "stderr",
     "output_type": "stream",
     "text": [
      "  8%|▊         | 1934/25000 [09:17<3:54:21,  1.64it/s]"
     ]
    },
    {
     "name": "stdout",
     "output_type": "stream",
     "text": [
      "Training World Model...\n",
      "Training Agent...\n",
      "init_imagine_buffer: 1024x16@torch.float32\n"
     ]
    },
    {
     "name": "stderr",
     "output_type": "stream",
     "text": [
      "  8%|▊         | 1935/25000 [09:17<3:53:20,  1.65it/s]"
     ]
    },
    {
     "name": "stdout",
     "output_type": "stream",
     "text": [
      "Training World Model...\n",
      "Training Agent...\n",
      "init_imagine_buffer: 1024x16@torch.float32\n"
     ]
    },
    {
     "name": "stderr",
     "output_type": "stream",
     "text": [
      "  8%|▊         | 1936/25000 [09:18<3:52:33,  1.65it/s]"
     ]
    },
    {
     "name": "stdout",
     "output_type": "stream",
     "text": [
      "Training World Model...\n",
      "Training Agent...\n",
      "init_imagine_buffer: 1024x16@torch.float32\n"
     ]
    },
    {
     "name": "stderr",
     "output_type": "stream",
     "text": [
      "  8%|▊         | 1937/25000 [09:18<3:53:04,  1.65it/s]"
     ]
    },
    {
     "name": "stdout",
     "output_type": "stream",
     "text": [
      "Training World Model...\n",
      "Training Agent...\n",
      "init_imagine_buffer: 1024x16@torch.float32\n"
     ]
    },
    {
     "name": "stderr",
     "output_type": "stream",
     "text": [
      "  8%|▊         | 1938/25000 [09:19<3:52:59,  1.65it/s]"
     ]
    },
    {
     "name": "stdout",
     "output_type": "stream",
     "text": [
      "Training World Model...\n",
      "Training Agent...\n",
      "init_imagine_buffer: 1024x16@torch.float32\n"
     ]
    },
    {
     "name": "stderr",
     "output_type": "stream",
     "text": [
      "  8%|▊         | 1939/25000 [09:20<3:53:20,  1.65it/s]"
     ]
    },
    {
     "name": "stdout",
     "output_type": "stream",
     "text": [
      "Training World Model...\n",
      "Training Agent...\n",
      "init_imagine_buffer: 1024x16@torch.float32\n"
     ]
    },
    {
     "name": "stderr",
     "output_type": "stream",
     "text": [
      "  8%|▊         | 1940/25000 [09:20<3:54:25,  1.64it/s]"
     ]
    },
    {
     "name": "stdout",
     "output_type": "stream",
     "text": [
      "Training World Model...\n",
      "Training Agent...\n",
      "init_imagine_buffer: 1024x16@torch.float32\n"
     ]
    },
    {
     "name": "stderr",
     "output_type": "stream",
     "text": [
      "  8%|▊         | 1941/25000 [09:21<3:54:27,  1.64it/s]"
     ]
    },
    {
     "name": "stdout",
     "output_type": "stream",
     "text": [
      "Training World Model...\n",
      "Training Agent...\n",
      "init_imagine_buffer: 1024x16@torch.float32\n"
     ]
    },
    {
     "name": "stderr",
     "output_type": "stream",
     "text": [
      "  8%|▊         | 1942/25000 [09:21<3:54:30,  1.64it/s]"
     ]
    },
    {
     "name": "stdout",
     "output_type": "stream",
     "text": [
      "Training World Model...\n",
      "Training Agent...\n",
      "init_imagine_buffer: 1024x16@torch.float32\n"
     ]
    },
    {
     "name": "stderr",
     "output_type": "stream",
     "text": [
      "  8%|▊         | 1943/25000 [09:22<3:55:12,  1.63it/s]"
     ]
    },
    {
     "name": "stdout",
     "output_type": "stream",
     "text": [
      "Training World Model...\n",
      "Training Agent...\n",
      "init_imagine_buffer: 1024x16@torch.float32\n"
     ]
    },
    {
     "name": "stderr",
     "output_type": "stream",
     "text": [
      "  8%|▊         | 1944/25000 [09:23<3:54:38,  1.64it/s]"
     ]
    },
    {
     "name": "stdout",
     "output_type": "stream",
     "text": [
      "Training World Model...\n",
      "Training Agent...\n",
      "init_imagine_buffer: 1024x16@torch.float32\n"
     ]
    },
    {
     "name": "stderr",
     "output_type": "stream",
     "text": [
      "  8%|▊         | 1945/25000 [09:23<3:54:45,  1.64it/s]"
     ]
    },
    {
     "name": "stdout",
     "output_type": "stream",
     "text": [
      "Training World Model...\n",
      "Training Agent...\n",
      "init_imagine_buffer: 1024x16@torch.float32\n"
     ]
    },
    {
     "name": "stderr",
     "output_type": "stream",
     "text": [
      "  8%|▊         | 1946/25000 [09:24<3:54:13,  1.64it/s]"
     ]
    },
    {
     "name": "stdout",
     "output_type": "stream",
     "text": [
      "Training World Model...\n",
      "Training Agent...\n",
      "init_imagine_buffer: 1024x16@torch.float32\n"
     ]
    },
    {
     "name": "stderr",
     "output_type": "stream",
     "text": [
      "  8%|▊         | 1947/25000 [09:24<3:54:20,  1.64it/s]"
     ]
    },
    {
     "name": "stdout",
     "output_type": "stream",
     "text": [
      "Training World Model...\n",
      "Training Agent...\n",
      "init_imagine_buffer: 1024x16@torch.float32\n"
     ]
    },
    {
     "name": "stderr",
     "output_type": "stream",
     "text": [
      "  8%|▊         | 1948/25000 [09:25<3:54:53,  1.64it/s]"
     ]
    },
    {
     "name": "stdout",
     "output_type": "stream",
     "text": [
      "Training World Model...\n",
      "Training Agent...\n",
      "init_imagine_buffer: 1024x16@torch.float32\n"
     ]
    },
    {
     "name": "stderr",
     "output_type": "stream",
     "text": [
      "  8%|▊         | 1949/25000 [09:26<3:54:35,  1.64it/s]"
     ]
    },
    {
     "name": "stdout",
     "output_type": "stream",
     "text": [
      "Training World Model...\n",
      "Training Agent...\n",
      "init_imagine_buffer: 1024x16@torch.float32\n"
     ]
    },
    {
     "name": "stderr",
     "output_type": "stream",
     "text": [
      "  8%|▊         | 1950/25000 [09:26<3:54:16,  1.64it/s]"
     ]
    },
    {
     "name": "stdout",
     "output_type": "stream",
     "text": [
      "Training World Model...\n",
      "Training Agent...\n",
      "init_imagine_buffer: 1024x16@torch.float32\n"
     ]
    },
    {
     "name": "stderr",
     "output_type": "stream",
     "text": [
      "  8%|▊         | 1951/25000 [09:27<3:54:12,  1.64it/s]"
     ]
    },
    {
     "name": "stdout",
     "output_type": "stream",
     "text": [
      "Training World Model...\n",
      "Training Agent...\n",
      "init_imagine_buffer: 1024x16@torch.float32\n"
     ]
    },
    {
     "name": "stderr",
     "output_type": "stream",
     "text": [
      "  8%|▊         | 1952/25000 [09:28<3:54:12,  1.64it/s]"
     ]
    },
    {
     "name": "stdout",
     "output_type": "stream",
     "text": [
      "Training World Model...\n",
      "Training Agent...\n",
      "init_imagine_buffer: 1024x16@torch.float32\n"
     ]
    },
    {
     "name": "stderr",
     "output_type": "stream",
     "text": [
      "  8%|▊         | 1953/25000 [09:28<3:54:42,  1.64it/s]"
     ]
    },
    {
     "name": "stdout",
     "output_type": "stream",
     "text": [
      "Training World Model...\n",
      "Training Agent...\n",
      "init_imagine_buffer: 1024x16@torch.float32\n"
     ]
    },
    {
     "name": "stderr",
     "output_type": "stream",
     "text": [
      "  8%|▊         | 1954/25000 [09:29<3:55:04,  1.63it/s]"
     ]
    },
    {
     "name": "stdout",
     "output_type": "stream",
     "text": [
      "Training World Model...\n",
      "Training Agent...\n",
      "init_imagine_buffer: 1024x16@torch.float32\n"
     ]
    },
    {
     "name": "stderr",
     "output_type": "stream",
     "text": [
      "  8%|▊         | 1955/25000 [09:29<3:55:05,  1.63it/s]"
     ]
    },
    {
     "name": "stdout",
     "output_type": "stream",
     "text": [
      "Training World Model...\n",
      "Training Agent...\n",
      "init_imagine_buffer: 1024x16@torch.float32\n"
     ]
    },
    {
     "name": "stderr",
     "output_type": "stream",
     "text": [
      "  8%|▊         | 1956/25000 [09:30<3:53:45,  1.64it/s]"
     ]
    },
    {
     "name": "stdout",
     "output_type": "stream",
     "text": [
      "Training World Model...\n",
      "Training Agent...\n",
      "init_imagine_buffer: 1024x16@torch.float32\n"
     ]
    },
    {
     "name": "stderr",
     "output_type": "stream",
     "text": [
      "  8%|▊         | 1957/25000 [09:31<3:52:48,  1.65it/s]"
     ]
    },
    {
     "name": "stdout",
     "output_type": "stream",
     "text": [
      "Training World Model...\n",
      "Training Agent...\n",
      "init_imagine_buffer: 1024x16@torch.float32\n"
     ]
    },
    {
     "name": "stderr",
     "output_type": "stream",
     "text": [
      "  8%|▊         | 1958/25000 [09:31<3:52:11,  1.65it/s]"
     ]
    },
    {
     "name": "stdout",
     "output_type": "stream",
     "text": [
      "Training World Model...\n",
      "Training Agent...\n",
      "init_imagine_buffer: 1024x16@torch.float32\n"
     ]
    },
    {
     "name": "stderr",
     "output_type": "stream",
     "text": [
      "  8%|▊         | 1959/25000 [09:32<3:52:30,  1.65it/s]"
     ]
    },
    {
     "name": "stdout",
     "output_type": "stream",
     "text": [
      "Training World Model...\n",
      "Training Agent...\n",
      "init_imagine_buffer: 1024x16@torch.float32\n"
     ]
    },
    {
     "name": "stderr",
     "output_type": "stream",
     "text": [
      "  8%|▊         | 1960/25000 [09:32<3:52:54,  1.65it/s]"
     ]
    },
    {
     "name": "stdout",
     "output_type": "stream",
     "text": [
      "Training World Model...\n",
      "Training Agent...\n",
      "init_imagine_buffer: 1024x16@torch.float32\n"
     ]
    },
    {
     "name": "stderr",
     "output_type": "stream",
     "text": [
      "  8%|▊         | 1961/25000 [09:33<3:53:00,  1.65it/s]"
     ]
    },
    {
     "name": "stdout",
     "output_type": "stream",
     "text": [
      "Training World Model...\n",
      "Training Agent...\n",
      "init_imagine_buffer: 1024x16@torch.float32\n"
     ]
    },
    {
     "name": "stderr",
     "output_type": "stream",
     "text": [
      "  8%|▊         | 1962/25000 [09:34<3:52:58,  1.65it/s]"
     ]
    },
    {
     "name": "stdout",
     "output_type": "stream",
     "text": [
      "Training World Model...\n",
      "Training Agent...\n",
      "init_imagine_buffer: 1024x16@torch.float32\n"
     ]
    },
    {
     "name": "stderr",
     "output_type": "stream",
     "text": [
      "  8%|▊         | 1963/25000 [09:34<3:53:06,  1.65it/s]"
     ]
    },
    {
     "name": "stdout",
     "output_type": "stream",
     "text": [
      "Training World Model...\n",
      "Training Agent...\n",
      "init_imagine_buffer: 1024x16@torch.float32\n"
     ]
    },
    {
     "name": "stderr",
     "output_type": "stream",
     "text": [
      "  8%|▊         | 1964/25000 [09:35<3:53:31,  1.64it/s]"
     ]
    },
    {
     "name": "stdout",
     "output_type": "stream",
     "text": [
      "Training World Model...\n",
      "Training Agent...\n",
      "init_imagine_buffer: 1024x16@torch.float32\n"
     ]
    },
    {
     "name": "stderr",
     "output_type": "stream",
     "text": [
      "  8%|▊         | 1965/25000 [09:35<3:53:47,  1.64it/s]"
     ]
    },
    {
     "name": "stdout",
     "output_type": "stream",
     "text": [
      "Training World Model...\n",
      "Training Agent...\n",
      "init_imagine_buffer: 1024x16@torch.float32\n"
     ]
    },
    {
     "name": "stderr",
     "output_type": "stream",
     "text": [
      "  8%|▊         | 1966/25000 [09:36<3:54:45,  1.64it/s]"
     ]
    },
    {
     "name": "stdout",
     "output_type": "stream",
     "text": [
      "Training World Model...\n",
      "Training Agent...\n",
      "init_imagine_buffer: 1024x16@torch.float32\n"
     ]
    },
    {
     "name": "stderr",
     "output_type": "stream",
     "text": [
      "  8%|▊         | 1967/25000 [09:37<3:54:27,  1.64it/s]"
     ]
    },
    {
     "name": "stdout",
     "output_type": "stream",
     "text": [
      "Training World Model...\n",
      "Training Agent...\n",
      "init_imagine_buffer: 1024x16@torch.float32\n"
     ]
    },
    {
     "name": "stderr",
     "output_type": "stream",
     "text": [
      "  8%|▊         | 1968/25000 [09:37<3:54:57,  1.63it/s]"
     ]
    },
    {
     "name": "stdout",
     "output_type": "stream",
     "text": [
      "Training World Model...\n",
      "Training Agent...\n",
      "init_imagine_buffer: 1024x16@torch.float32\n"
     ]
    },
    {
     "name": "stderr",
     "output_type": "stream",
     "text": [
      "  8%|▊         | 1969/25000 [09:38<3:55:16,  1.63it/s]"
     ]
    },
    {
     "name": "stdout",
     "output_type": "stream",
     "text": [
      "Training World Model...\n",
      "Training Agent...\n",
      "init_imagine_buffer: 1024x16@torch.float32\n"
     ]
    },
    {
     "name": "stderr",
     "output_type": "stream",
     "text": [
      "  8%|▊         | 1970/25000 [09:38<3:55:18,  1.63it/s]"
     ]
    },
    {
     "name": "stdout",
     "output_type": "stream",
     "text": [
      "Training World Model...\n",
      "Training Agent...\n",
      "init_imagine_buffer: 1024x16@torch.float32\n"
     ]
    },
    {
     "name": "stderr",
     "output_type": "stream",
     "text": [
      "  8%|▊         | 1971/25000 [09:39<3:55:02,  1.63it/s]"
     ]
    },
    {
     "name": "stdout",
     "output_type": "stream",
     "text": [
      "Training World Model...\n",
      "Training Agent...\n",
      "init_imagine_buffer: 1024x16@torch.float32\n"
     ]
    },
    {
     "name": "stderr",
     "output_type": "stream",
     "text": [
      "  8%|▊         | 1972/25000 [09:40<3:54:38,  1.64it/s]"
     ]
    },
    {
     "name": "stdout",
     "output_type": "stream",
     "text": [
      "Training World Model...\n",
      "Training Agent...\n",
      "init_imagine_buffer: 1024x16@torch.float32\n"
     ]
    },
    {
     "name": "stderr",
     "output_type": "stream",
     "text": [
      "  8%|▊         | 1973/25000 [09:40<3:54:38,  1.64it/s]"
     ]
    },
    {
     "name": "stdout",
     "output_type": "stream",
     "text": [
      "Training World Model...\n",
      "Training Agent...\n",
      "init_imagine_buffer: 1024x16@torch.float32\n"
     ]
    },
    {
     "name": "stderr",
     "output_type": "stream",
     "text": [
      "  8%|▊         | 1974/25000 [09:41<3:55:15,  1.63it/s]"
     ]
    },
    {
     "name": "stdout",
     "output_type": "stream",
     "text": [
      "Training World Model...\n",
      "Training Agent...\n",
      "init_imagine_buffer: 1024x16@torch.float32\n"
     ]
    },
    {
     "name": "stderr",
     "output_type": "stream",
     "text": [
      "  8%|▊         | 1975/25000 [09:42<3:55:37,  1.63it/s]"
     ]
    },
    {
     "name": "stdout",
     "output_type": "stream",
     "text": [
      "Training World Model...\n",
      "Training Agent...\n",
      "init_imagine_buffer: 1024x16@torch.float32\n"
     ]
    },
    {
     "name": "stderr",
     "output_type": "stream",
     "text": [
      "  8%|▊         | 1976/25000 [09:42<3:55:20,  1.63it/s]"
     ]
    },
    {
     "name": "stdout",
     "output_type": "stream",
     "text": [
      "Training World Model...\n",
      "Training Agent...\n",
      "init_imagine_buffer: 1024x16@torch.float32\n"
     ]
    },
    {
     "name": "stderr",
     "output_type": "stream",
     "text": [
      "  8%|▊         | 1977/25000 [09:43<3:54:22,  1.64it/s]"
     ]
    },
    {
     "name": "stdout",
     "output_type": "stream",
     "text": [
      "Training World Model...\n",
      "Training Agent...\n",
      "init_imagine_buffer: 1024x16@torch.float32\n"
     ]
    },
    {
     "name": "stderr",
     "output_type": "stream",
     "text": [
      "  8%|▊         | 1978/25000 [09:43<3:53:16,  1.64it/s]"
     ]
    },
    {
     "name": "stdout",
     "output_type": "stream",
     "text": [
      "Training World Model...\n",
      "Training Agent...\n",
      "init_imagine_buffer: 1024x16@torch.float32\n"
     ]
    },
    {
     "name": "stderr",
     "output_type": "stream",
     "text": [
      "  8%|▊         | 1979/25000 [09:44<3:52:35,  1.65it/s]"
     ]
    },
    {
     "name": "stdout",
     "output_type": "stream",
     "text": [
      "Training World Model...\n",
      "Training Agent...\n",
      "init_imagine_buffer: 1024x16@torch.float32\n"
     ]
    },
    {
     "name": "stderr",
     "output_type": "stream",
     "text": [
      "  8%|▊         | 1980/25000 [09:45<3:52:05,  1.65it/s]"
     ]
    },
    {
     "name": "stdout",
     "output_type": "stream",
     "text": [
      "Training World Model...\n",
      "Training Agent...\n",
      "init_imagine_buffer: 1024x16@torch.float32\n"
     ]
    },
    {
     "name": "stderr",
     "output_type": "stream",
     "text": [
      "  8%|▊         | 1981/25000 [09:45<3:53:13,  1.65it/s]"
     ]
    },
    {
     "name": "stdout",
     "output_type": "stream",
     "text": [
      "Training World Model...\n",
      "Training Agent...\n",
      "init_imagine_buffer: 1024x16@torch.float32\n"
     ]
    },
    {
     "name": "stderr",
     "output_type": "stream",
     "text": [
      "  8%|▊         | 1982/25000 [09:46<3:54:09,  1.64it/s]"
     ]
    },
    {
     "name": "stdout",
     "output_type": "stream",
     "text": [
      "Training World Model...\n",
      "Training Agent...\n",
      "init_imagine_buffer: 1024x16@torch.float32\n"
     ]
    },
    {
     "name": "stderr",
     "output_type": "stream",
     "text": [
      "  8%|▊         | 1983/25000 [09:46<3:54:21,  1.64it/s]"
     ]
    },
    {
     "name": "stdout",
     "output_type": "stream",
     "text": [
      "Training World Model...\n",
      "Training Agent...\n",
      "init_imagine_buffer: 1024x16@torch.float32\n"
     ]
    },
    {
     "name": "stderr",
     "output_type": "stream",
     "text": [
      "  8%|▊         | 1984/25000 [09:47<3:55:07,  1.63it/s]"
     ]
    },
    {
     "name": "stdout",
     "output_type": "stream",
     "text": [
      "Training World Model...\n",
      "Training Agent...\n",
      "init_imagine_buffer: 1024x16@torch.float32\n"
     ]
    },
    {
     "name": "stderr",
     "output_type": "stream",
     "text": [
      "  8%|▊         | 1985/25000 [09:48<3:54:37,  1.63it/s]"
     ]
    },
    {
     "name": "stdout",
     "output_type": "stream",
     "text": [
      "Training World Model...\n",
      "Training Agent...\n",
      "init_imagine_buffer: 1024x16@torch.float32\n"
     ]
    },
    {
     "name": "stderr",
     "output_type": "stream",
     "text": [
      "  8%|▊         | 1986/25000 [09:48<3:54:32,  1.64it/s]"
     ]
    },
    {
     "name": "stdout",
     "output_type": "stream",
     "text": [
      "Training World Model...\n",
      "Training Agent...\n",
      "init_imagine_buffer: 1024x16@torch.float32\n"
     ]
    },
    {
     "name": "stderr",
     "output_type": "stream",
     "text": [
      "  8%|▊         | 1987/25000 [09:49<3:54:30,  1.64it/s]"
     ]
    },
    {
     "name": "stdout",
     "output_type": "stream",
     "text": [
      "Training World Model...\n",
      "Training Agent...\n",
      "init_imagine_buffer: 1024x16@torch.float32\n"
     ]
    },
    {
     "name": "stderr",
     "output_type": "stream",
     "text": [
      "  8%|▊         | 1988/25000 [09:49<3:54:06,  1.64it/s]"
     ]
    },
    {
     "name": "stdout",
     "output_type": "stream",
     "text": [
      "Training World Model...\n",
      "Training Agent...\n",
      "init_imagine_buffer: 1024x16@torch.float32\n"
     ]
    },
    {
     "name": "stderr",
     "output_type": "stream",
     "text": [
      "  8%|▊         | 1989/25000 [09:50<3:54:02,  1.64it/s]"
     ]
    },
    {
     "name": "stdout",
     "output_type": "stream",
     "text": [
      "Training World Model...\n",
      "Training Agent...\n",
      "init_imagine_buffer: 1024x16@torch.float32\n"
     ]
    },
    {
     "name": "stderr",
     "output_type": "stream",
     "text": [
      "  8%|▊         | 1990/25000 [09:51<3:53:29,  1.64it/s]"
     ]
    },
    {
     "name": "stdout",
     "output_type": "stream",
     "text": [
      "Training World Model...\n",
      "Training Agent...\n",
      "init_imagine_buffer: 1024x16@torch.float32\n"
     ]
    },
    {
     "name": "stderr",
     "output_type": "stream",
     "text": [
      "  8%|▊         | 1991/25000 [09:51<3:54:17,  1.64it/s]"
     ]
    },
    {
     "name": "stdout",
     "output_type": "stream",
     "text": [
      "Training World Model...\n",
      "Training Agent...\n",
      "init_imagine_buffer: 1024x16@torch.float32\n"
     ]
    },
    {
     "name": "stderr",
     "output_type": "stream",
     "text": [
      "  8%|▊         | 1992/25000 [09:52<3:54:15,  1.64it/s]"
     ]
    },
    {
     "name": "stdout",
     "output_type": "stream",
     "text": [
      "Training World Model...\n",
      "Training Agent...\n",
      "init_imagine_buffer: 1024x16@torch.float32\n"
     ]
    },
    {
     "name": "stderr",
     "output_type": "stream",
     "text": [
      "  8%|▊         | 1993/25000 [09:53<3:54:43,  1.63it/s]"
     ]
    },
    {
     "name": "stdout",
     "output_type": "stream",
     "text": [
      "Training World Model...\n",
      "Training Agent...\n",
      "init_imagine_buffer: 1024x16@torch.float32\n"
     ]
    },
    {
     "name": "stderr",
     "output_type": "stream",
     "text": [
      "  8%|▊         | 1994/25000 [09:53<3:54:42,  1.63it/s]"
     ]
    },
    {
     "name": "stdout",
     "output_type": "stream",
     "text": [
      "Training World Model...\n",
      "Training Agent...\n",
      "init_imagine_buffer: 1024x16@torch.float32\n"
     ]
    },
    {
     "name": "stderr",
     "output_type": "stream",
     "text": [
      "  8%|▊         | 1995/25000 [09:54<3:54:57,  1.63it/s]"
     ]
    },
    {
     "name": "stdout",
     "output_type": "stream",
     "text": [
      "Training World Model...\n",
      "Training Agent...\n",
      "init_imagine_buffer: 1024x16@torch.float32\n"
     ]
    },
    {
     "name": "stderr",
     "output_type": "stream",
     "text": [
      "  8%|▊         | 1996/25000 [09:54<3:55:12,  1.63it/s]"
     ]
    },
    {
     "name": "stdout",
     "output_type": "stream",
     "text": [
      "Training World Model...\n",
      "Training Agent...\n",
      "init_imagine_buffer: 1024x16@torch.float32\n"
     ]
    },
    {
     "name": "stderr",
     "output_type": "stream",
     "text": [
      "  8%|▊         | 1997/25000 [09:55<3:54:04,  1.64it/s]"
     ]
    },
    {
     "name": "stdout",
     "output_type": "stream",
     "text": [
      "Training World Model...\n",
      "Training Agent...\n",
      "init_imagine_buffer: 1024x16@torch.float32\n"
     ]
    },
    {
     "name": "stderr",
     "output_type": "stream",
     "text": [
      "  8%|▊         | 1998/25000 [09:56<3:53:48,  1.64it/s]"
     ]
    },
    {
     "name": "stdout",
     "output_type": "stream",
     "text": [
      "Training World Model...\n",
      "Training Agent...\n",
      "init_imagine_buffer: 1024x16@torch.float32\n"
     ]
    },
    {
     "name": "stderr",
     "output_type": "stream",
     "text": [
      "  8%|▊         | 1999/25000 [09:56<3:53:50,  1.64it/s]"
     ]
    },
    {
     "name": "stdout",
     "output_type": "stream",
     "text": [
      "Training World Model...\n",
      "Training Agent...\n",
      "init_imagine_buffer: 1024x16@torch.float32\n"
     ]
    },
    {
     "name": "stderr",
     "output_type": "stream",
     "text": [
      "  8%|▊         | 2000/25000 [09:57<3:52:42,  1.65it/s]"
     ]
    },
    {
     "name": "stdout",
     "output_type": "stream",
     "text": [
      "Training World Model...\n",
      "Training Agent...\n",
      "init_imagine_buffer: 1024x16@torch.float32\n"
     ]
    },
    {
     "name": "stderr",
     "output_type": "stream",
     "text": [
      "  8%|▊         | 2001/25000 [09:57<3:51:51,  1.65it/s]"
     ]
    },
    {
     "name": "stdout",
     "output_type": "stream",
     "text": [
      "Training World Model...\n",
      "Training Agent...\n",
      "init_imagine_buffer: 1024x16@torch.float32\n"
     ]
    },
    {
     "name": "stderr",
     "output_type": "stream",
     "text": [
      "  8%|▊         | 2002/25000 [09:58<3:51:18,  1.66it/s]"
     ]
    },
    {
     "name": "stdout",
     "output_type": "stream",
     "text": [
      "Training World Model...\n",
      "Training Agent...\n",
      "init_imagine_buffer: 1024x16@torch.float32\n"
     ]
    },
    {
     "name": "stderr",
     "output_type": "stream",
     "text": [
      "  8%|▊         | 2003/25000 [09:59<3:52:22,  1.65it/s]"
     ]
    },
    {
     "name": "stdout",
     "output_type": "stream",
     "text": [
      "Training World Model...\n",
      "Training Agent...\n",
      "init_imagine_buffer: 1024x16@torch.float32\n"
     ]
    },
    {
     "name": "stderr",
     "output_type": "stream",
     "text": [
      "  8%|▊         | 2004/25000 [09:59<3:53:20,  1.64it/s]"
     ]
    },
    {
     "name": "stdout",
     "output_type": "stream",
     "text": [
      "Training World Model...\n",
      "Training Agent...\n",
      "init_imagine_buffer: 1024x16@torch.float32\n"
     ]
    },
    {
     "name": "stderr",
     "output_type": "stream",
     "text": [
      "  8%|▊         | 2005/25000 [10:00<3:53:50,  1.64it/s]"
     ]
    },
    {
     "name": "stdout",
     "output_type": "stream",
     "text": [
      "Training World Model...\n",
      "Training Agent...\n",
      "init_imagine_buffer: 1024x16@torch.float32\n"
     ]
    },
    {
     "name": "stderr",
     "output_type": "stream",
     "text": [
      "  8%|▊         | 2006/25000 [10:00<3:53:13,  1.64it/s]"
     ]
    },
    {
     "name": "stdout",
     "output_type": "stream",
     "text": [
      "Training World Model...\n",
      "Training Agent...\n",
      "init_imagine_buffer: 1024x16@torch.float32\n"
     ]
    },
    {
     "name": "stderr",
     "output_type": "stream",
     "text": [
      "  8%|▊         | 2007/25000 [10:01<3:52:56,  1.65it/s]"
     ]
    },
    {
     "name": "stdout",
     "output_type": "stream",
     "text": [
      "Training World Model...\n",
      "Training Agent...\n",
      "init_imagine_buffer: 1024x16@torch.float32\n"
     ]
    },
    {
     "name": "stderr",
     "output_type": "stream",
     "text": [
      "  8%|▊         | 2008/25000 [10:02<3:52:49,  1.65it/s]"
     ]
    },
    {
     "name": "stdout",
     "output_type": "stream",
     "text": [
      "Training World Model...\n",
      "Training Agent...\n",
      "init_imagine_buffer: 1024x16@torch.float32\n"
     ]
    },
    {
     "name": "stderr",
     "output_type": "stream",
     "text": [
      "  8%|▊         | 2009/25000 [10:02<3:53:51,  1.64it/s]"
     ]
    },
    {
     "name": "stdout",
     "output_type": "stream",
     "text": [
      "Training World Model...\n",
      "Training Agent...\n",
      "init_imagine_buffer: 1024x16@torch.float32\n"
     ]
    },
    {
     "name": "stderr",
     "output_type": "stream",
     "text": [
      "  8%|▊         | 2010/25000 [10:03<3:54:33,  1.63it/s]"
     ]
    },
    {
     "name": "stdout",
     "output_type": "stream",
     "text": [
      "Training World Model...\n",
      "Training Agent...\n",
      "init_imagine_buffer: 1024x16@torch.float32\n"
     ]
    },
    {
     "name": "stderr",
     "output_type": "stream",
     "text": [
      "  8%|▊         | 2011/25000 [10:03<3:53:59,  1.64it/s]"
     ]
    },
    {
     "name": "stdout",
     "output_type": "stream",
     "text": [
      "Training World Model...\n",
      "Training Agent...\n",
      "init_imagine_buffer: 1024x16@torch.float32\n"
     ]
    },
    {
     "name": "stderr",
     "output_type": "stream",
     "text": [
      "  8%|▊         | 2012/25000 [10:04<3:54:42,  1.63it/s]"
     ]
    },
    {
     "name": "stdout",
     "output_type": "stream",
     "text": [
      "Training World Model...\n",
      "Training Agent...\n",
      "init_imagine_buffer: 1024x16@torch.float32\n"
     ]
    },
    {
     "name": "stderr",
     "output_type": "stream",
     "text": [
      "  8%|▊         | 2013/25000 [10:05<3:54:34,  1.63it/s]"
     ]
    },
    {
     "name": "stdout",
     "output_type": "stream",
     "text": [
      "Training World Model...\n",
      "Training Agent...\n",
      "init_imagine_buffer: 1024x16@torch.float32\n"
     ]
    },
    {
     "name": "stderr",
     "output_type": "stream",
     "text": [
      "  8%|▊         | 2014/25000 [10:05<3:54:22,  1.63it/s]"
     ]
    },
    {
     "name": "stdout",
     "output_type": "stream",
     "text": [
      "Training World Model...\n",
      "Training Agent...\n",
      "init_imagine_buffer: 1024x16@torch.float32\n"
     ]
    },
    {
     "name": "stderr",
     "output_type": "stream",
     "text": [
      "  8%|▊         | 2015/25000 [10:06<3:53:59,  1.64it/s]"
     ]
    },
    {
     "name": "stdout",
     "output_type": "stream",
     "text": [
      "Training World Model...\n",
      "Training Agent...\n",
      "init_imagine_buffer: 1024x16@torch.float32\n"
     ]
    },
    {
     "name": "stderr",
     "output_type": "stream",
     "text": [
      "  8%|▊         | 2016/25000 [10:07<3:54:24,  1.63it/s]"
     ]
    },
    {
     "name": "stdout",
     "output_type": "stream",
     "text": [
      "Training World Model...\n",
      "Training Agent...\n",
      "init_imagine_buffer: 1024x16@torch.float32\n"
     ]
    },
    {
     "name": "stderr",
     "output_type": "stream",
     "text": [
      "  8%|▊         | 2017/25000 [10:07<3:53:46,  1.64it/s]"
     ]
    },
    {
     "name": "stdout",
     "output_type": "stream",
     "text": [
      "Training World Model...\n",
      "Training Agent...\n",
      "init_imagine_buffer: 1024x16@torch.float32\n"
     ]
    },
    {
     "name": "stderr",
     "output_type": "stream",
     "text": [
      "  8%|▊         | 2018/25000 [10:08<3:53:59,  1.64it/s]"
     ]
    },
    {
     "name": "stdout",
     "output_type": "stream",
     "text": [
      "Training World Model...\n",
      "Training Agent...\n",
      "init_imagine_buffer: 1024x16@torch.float32\n"
     ]
    },
    {
     "name": "stderr",
     "output_type": "stream",
     "text": [
      "  8%|▊         | 2019/25000 [10:08<3:53:38,  1.64it/s]"
     ]
    },
    {
     "name": "stdout",
     "output_type": "stream",
     "text": [
      "Training World Model...\n",
      "Training Agent...\n",
      "init_imagine_buffer: 1024x16@torch.float32\n"
     ]
    },
    {
     "name": "stderr",
     "output_type": "stream",
     "text": [
      "  8%|▊         | 2020/25000 [10:09<3:53:22,  1.64it/s]"
     ]
    },
    {
     "name": "stdout",
     "output_type": "stream",
     "text": [
      "Training World Model...\n",
      "Training Agent...\n",
      "init_imagine_buffer: 1024x16@torch.float32\n"
     ]
    },
    {
     "name": "stderr",
     "output_type": "stream",
     "text": [
      "  8%|▊         | 2021/25000 [10:10<3:53:16,  1.64it/s]"
     ]
    },
    {
     "name": "stdout",
     "output_type": "stream",
     "text": [
      "Training World Model...\n",
      "Training Agent...\n",
      "init_imagine_buffer: 1024x16@torch.float32\n"
     ]
    },
    {
     "name": "stderr",
     "output_type": "stream",
     "text": [
      "  8%|▊         | 2022/25000 [10:10<3:52:22,  1.65it/s]"
     ]
    },
    {
     "name": "stdout",
     "output_type": "stream",
     "text": [
      "Training World Model...\n",
      "Training Agent...\n",
      "init_imagine_buffer: 1024x16@torch.float32\n"
     ]
    },
    {
     "name": "stderr",
     "output_type": "stream",
     "text": [
      "  8%|▊         | 2023/25000 [10:11<3:51:49,  1.65it/s]"
     ]
    },
    {
     "name": "stdout",
     "output_type": "stream",
     "text": [
      "Training World Model...\n",
      "Training Agent...\n",
      "init_imagine_buffer: 1024x16@torch.float32\n"
     ]
    },
    {
     "name": "stderr",
     "output_type": "stream",
     "text": [
      "  8%|▊         | 2024/25000 [10:11<3:51:23,  1.65it/s]"
     ]
    },
    {
     "name": "stdout",
     "output_type": "stream",
     "text": [
      "Training World Model...\n",
      "Training Agent...\n",
      "init_imagine_buffer: 1024x16@torch.float32\n"
     ]
    },
    {
     "name": "stderr",
     "output_type": "stream",
     "text": [
      "  8%|▊         | 2025/25000 [10:12<3:52:09,  1.65it/s]"
     ]
    },
    {
     "name": "stdout",
     "output_type": "stream",
     "text": [
      "Training World Model...\n",
      "Training Agent...\n",
      "init_imagine_buffer: 1024x16@torch.float32\n"
     ]
    },
    {
     "name": "stderr",
     "output_type": "stream",
     "text": [
      "  8%|▊         | 2026/25000 [10:13<3:52:25,  1.65it/s]"
     ]
    },
    {
     "name": "stdout",
     "output_type": "stream",
     "text": [
      "Training World Model...\n",
      "Training Agent...\n",
      "init_imagine_buffer: 1024x16@torch.float32\n"
     ]
    },
    {
     "name": "stderr",
     "output_type": "stream",
     "text": [
      "  8%|▊         | 2027/25000 [10:13<3:52:23,  1.65it/s]"
     ]
    },
    {
     "name": "stdout",
     "output_type": "stream",
     "text": [
      "Training World Model...\n",
      "Training Agent...\n",
      "init_imagine_buffer: 1024x16@torch.float32\n"
     ]
    },
    {
     "name": "stderr",
     "output_type": "stream",
     "text": [
      "  8%|▊         | 2028/25000 [10:14<3:53:08,  1.64it/s]"
     ]
    },
    {
     "name": "stdout",
     "output_type": "stream",
     "text": [
      "Training World Model...\n",
      "Training Agent...\n",
      "init_imagine_buffer: 1024x16@torch.float32\n"
     ]
    },
    {
     "name": "stderr",
     "output_type": "stream",
     "text": [
      "  8%|▊         | 2029/25000 [10:14<3:52:39,  1.65it/s]"
     ]
    },
    {
     "name": "stdout",
     "output_type": "stream",
     "text": [
      "Training World Model...\n",
      "Training Agent...\n",
      "init_imagine_buffer: 1024x16@torch.float32\n"
     ]
    },
    {
     "name": "stderr",
     "output_type": "stream",
     "text": [
      "  8%|▊         | 2030/25000 [10:15<3:52:51,  1.64it/s]"
     ]
    },
    {
     "name": "stdout",
     "output_type": "stream",
     "text": [
      "Training World Model...\n",
      "Training Agent...\n",
      "init_imagine_buffer: 1024x16@torch.float32\n"
     ]
    },
    {
     "name": "stderr",
     "output_type": "stream",
     "text": [
      "  8%|▊         | 2031/25000 [10:16<3:53:09,  1.64it/s]"
     ]
    },
    {
     "name": "stdout",
     "output_type": "stream",
     "text": [
      "Training World Model...\n",
      "Training Agent...\n",
      "init_imagine_buffer: 1024x16@torch.float32\n"
     ]
    },
    {
     "name": "stderr",
     "output_type": "stream",
     "text": [
      "  8%|▊         | 2032/25000 [10:16<3:53:49,  1.64it/s]"
     ]
    },
    {
     "name": "stdout",
     "output_type": "stream",
     "text": [
      "Training World Model...\n",
      "Training Agent...\n",
      "init_imagine_buffer: 1024x16@torch.float32\n"
     ]
    },
    {
     "name": "stderr",
     "output_type": "stream",
     "text": [
      "  8%|▊         | 2033/25000 [10:17<3:53:47,  1.64it/s]"
     ]
    },
    {
     "name": "stdout",
     "output_type": "stream",
     "text": [
      "Training World Model...\n",
      "Training Agent...\n",
      "init_imagine_buffer: 1024x16@torch.float32\n"
     ]
    },
    {
     "name": "stderr",
     "output_type": "stream",
     "text": [
      "  8%|▊         | 2034/25000 [10:18<3:53:53,  1.64it/s]"
     ]
    },
    {
     "name": "stdout",
     "output_type": "stream",
     "text": [
      "Training World Model...\n",
      "Training Agent...\n",
      "init_imagine_buffer: 1024x16@torch.float32\n"
     ]
    },
    {
     "name": "stderr",
     "output_type": "stream",
     "text": [
      "  8%|▊         | 2035/25000 [10:18<3:53:37,  1.64it/s]"
     ]
    },
    {
     "name": "stdout",
     "output_type": "stream",
     "text": [
      "Training World Model...\n",
      "Training Agent...\n",
      "init_imagine_buffer: 1024x16@torch.float32\n"
     ]
    },
    {
     "name": "stderr",
     "output_type": "stream",
     "text": [
      "  8%|▊         | 2036/25000 [10:19<3:54:20,  1.63it/s]"
     ]
    },
    {
     "name": "stdout",
     "output_type": "stream",
     "text": [
      "Training World Model...\n",
      "Training Agent...\n",
      "init_imagine_buffer: 1024x16@torch.float32\n"
     ]
    },
    {
     "name": "stderr",
     "output_type": "stream",
     "text": [
      "  8%|▊         | 2037/25000 [10:19<3:54:13,  1.63it/s]"
     ]
    },
    {
     "name": "stdout",
     "output_type": "stream",
     "text": [
      "Training World Model...\n",
      "Training Agent...\n",
      "init_imagine_buffer: 1024x16@torch.float32\n"
     ]
    },
    {
     "name": "stderr",
     "output_type": "stream",
     "text": [
      "  8%|▊         | 2038/25000 [10:20<3:54:29,  1.63it/s]"
     ]
    },
    {
     "name": "stdout",
     "output_type": "stream",
     "text": [
      "Training World Model...\n",
      "Training Agent...\n",
      "init_imagine_buffer: 1024x16@torch.float32\n"
     ]
    },
    {
     "name": "stderr",
     "output_type": "stream",
     "text": [
      "  8%|▊         | 2039/25000 [10:21<3:54:45,  1.63it/s]"
     ]
    },
    {
     "name": "stdout",
     "output_type": "stream",
     "text": [
      "Training World Model...\n",
      "Training Agent...\n",
      "init_imagine_buffer: 1024x16@torch.float32\n"
     ]
    },
    {
     "name": "stderr",
     "output_type": "stream",
     "text": [
      "  8%|▊         | 2040/25000 [10:21<3:55:03,  1.63it/s]"
     ]
    },
    {
     "name": "stdout",
     "output_type": "stream",
     "text": [
      "Training World Model...\n",
      "Training Agent...\n",
      "init_imagine_buffer: 1024x16@torch.float32\n"
     ]
    },
    {
     "name": "stderr",
     "output_type": "stream",
     "text": [
      "  8%|▊         | 2041/25000 [10:22<3:55:01,  1.63it/s]"
     ]
    },
    {
     "name": "stdout",
     "output_type": "stream",
     "text": [
      "Training World Model...\n",
      "Training Agent...\n",
      "init_imagine_buffer: 1024x16@torch.float32\n"
     ]
    },
    {
     "name": "stderr",
     "output_type": "stream",
     "text": [
      "  8%|▊         | 2042/25000 [10:22<3:54:42,  1.63it/s]"
     ]
    },
    {
     "name": "stdout",
     "output_type": "stream",
     "text": [
      "Training World Model...\n",
      "Training Agent...\n",
      "init_imagine_buffer: 1024x16@torch.float32\n"
     ]
    },
    {
     "name": "stderr",
     "output_type": "stream",
     "text": [
      "  8%|▊         | 2043/25000 [10:23<3:53:28,  1.64it/s]"
     ]
    },
    {
     "name": "stdout",
     "output_type": "stream",
     "text": [
      "Training World Model...\n",
      "Training Agent...\n",
      "init_imagine_buffer: 1024x16@torch.float32\n"
     ]
    },
    {
     "name": "stderr",
     "output_type": "stream",
     "text": [
      "  8%|▊         | 2044/25000 [10:24<3:52:34,  1.65it/s]"
     ]
    },
    {
     "name": "stdout",
     "output_type": "stream",
     "text": [
      "Training World Model...\n",
      "Training Agent...\n",
      "init_imagine_buffer: 1024x16@torch.float32\n"
     ]
    },
    {
     "name": "stderr",
     "output_type": "stream",
     "text": [
      "  8%|▊         | 2045/25000 [10:24<3:51:47,  1.65it/s]"
     ]
    },
    {
     "name": "stdout",
     "output_type": "stream",
     "text": [
      "Training World Model...\n",
      "Training Agent...\n",
      "init_imagine_buffer: 1024x16@torch.float32\n"
     ]
    },
    {
     "name": "stderr",
     "output_type": "stream",
     "text": [
      "  8%|▊         | 2046/25000 [10:25<3:52:10,  1.65it/s]"
     ]
    },
    {
     "name": "stdout",
     "output_type": "stream",
     "text": [
      "Training World Model...\n",
      "Training Agent...\n",
      "init_imagine_buffer: 1024x16@torch.float32\n"
     ]
    },
    {
     "name": "stderr",
     "output_type": "stream",
     "text": [
      "  8%|▊         | 2047/25000 [10:25<3:53:02,  1.64it/s]"
     ]
    },
    {
     "name": "stdout",
     "output_type": "stream",
     "text": [
      "Training World Model...\n",
      "Training Agent...\n",
      "init_imagine_buffer: 1024x16@torch.float32\n"
     ]
    },
    {
     "name": "stderr",
     "output_type": "stream",
     "text": [
      "  8%|▊         | 2048/25000 [10:26<3:52:48,  1.64it/s]"
     ]
    },
    {
     "name": "stdout",
     "output_type": "stream",
     "text": [
      "Training World Model...\n",
      "Training Agent...\n",
      "init_imagine_buffer: 1024x16@torch.float32\n"
     ]
    },
    {
     "name": "stderr",
     "output_type": "stream",
     "text": [
      "  8%|▊         | 2049/25000 [10:27<3:52:28,  1.65it/s]"
     ]
    },
    {
     "name": "stdout",
     "output_type": "stream",
     "text": [
      "Training World Model...\n",
      "Training Agent...\n",
      "init_imagine_buffer: 1024x16@torch.float32\n"
     ]
    },
    {
     "name": "stderr",
     "output_type": "stream",
     "text": [
      "  8%|▊         | 2050/25000 [10:27<3:52:54,  1.64it/s]"
     ]
    },
    {
     "name": "stdout",
     "output_type": "stream",
     "text": [
      "Training World Model...\n",
      "Training Agent...\n",
      "init_imagine_buffer: 1024x16@torch.float32\n"
     ]
    },
    {
     "name": "stderr",
     "output_type": "stream",
     "text": [
      "  8%|▊         | 2051/25000 [10:28<3:52:37,  1.64it/s]"
     ]
    },
    {
     "name": "stdout",
     "output_type": "stream",
     "text": [
      "Training World Model...\n",
      "Training Agent...\n",
      "init_imagine_buffer: 1024x16@torch.float32\n"
     ]
    },
    {
     "name": "stderr",
     "output_type": "stream",
     "text": [
      "  8%|▊         | 2052/25000 [10:28<3:53:13,  1.64it/s]"
     ]
    },
    {
     "name": "stdout",
     "output_type": "stream",
     "text": [
      "Training World Model...\n",
      "Training Agent...\n",
      "init_imagine_buffer: 1024x16@torch.float32\n"
     ]
    },
    {
     "name": "stderr",
     "output_type": "stream",
     "text": [
      "  8%|▊         | 2053/25000 [10:29<3:53:49,  1.64it/s]"
     ]
    },
    {
     "name": "stdout",
     "output_type": "stream",
     "text": [
      "Training World Model...\n",
      "Training Agent...\n",
      "init_imagine_buffer: 1024x16@torch.float32\n"
     ]
    },
    {
     "name": "stderr",
     "output_type": "stream",
     "text": [
      "  8%|▊         | 2054/25000 [10:30<3:54:14,  1.63it/s]"
     ]
    },
    {
     "name": "stdout",
     "output_type": "stream",
     "text": [
      "Training World Model...\n",
      "Training Agent...\n",
      "init_imagine_buffer: 1024x16@torch.float32\n"
     ]
    },
    {
     "name": "stderr",
     "output_type": "stream",
     "text": [
      "  8%|▊         | 2055/25000 [10:30<3:54:11,  1.63it/s]"
     ]
    },
    {
     "name": "stdout",
     "output_type": "stream",
     "text": [
      "Training World Model...\n",
      "Training Agent...\n",
      "init_imagine_buffer: 1024x16@torch.float32\n"
     ]
    },
    {
     "name": "stderr",
     "output_type": "stream",
     "text": [
      "  8%|▊         | 2056/25000 [10:31<3:53:51,  1.64it/s]"
     ]
    },
    {
     "name": "stdout",
     "output_type": "stream",
     "text": [
      "Training World Model...\n",
      "Training Agent...\n",
      "init_imagine_buffer: 1024x16@torch.float32\n"
     ]
    },
    {
     "name": "stderr",
     "output_type": "stream",
     "text": [
      "  8%|▊         | 2057/25000 [10:32<3:53:47,  1.64it/s]"
     ]
    },
    {
     "name": "stdout",
     "output_type": "stream",
     "text": [
      "Training World Model...\n",
      "Training Agent...\n",
      "init_imagine_buffer: 1024x16@torch.float32\n"
     ]
    },
    {
     "name": "stderr",
     "output_type": "stream",
     "text": [
      "  8%|▊         | 2058/25000 [10:32<3:53:14,  1.64it/s]"
     ]
    },
    {
     "name": "stdout",
     "output_type": "stream",
     "text": [
      "Training World Model...\n",
      "Training Agent...\n",
      "init_imagine_buffer: 1024x16@torch.float32\n"
     ]
    },
    {
     "name": "stderr",
     "output_type": "stream",
     "text": [
      "  8%|▊         | 2059/25000 [10:33<3:53:25,  1.64it/s]"
     ]
    },
    {
     "name": "stdout",
     "output_type": "stream",
     "text": [
      "Training World Model...\n",
      "Training Agent...\n",
      "init_imagine_buffer: 1024x16@torch.float32\n"
     ]
    },
    {
     "name": "stderr",
     "output_type": "stream",
     "text": [
      "  8%|▊         | 2060/25000 [10:34<1:57:40,  3.25it/s]\n",
      "Traceback (most recent call last):\n",
      "  File \"/tmp/ipykernel_2362369/1378091378.py\", line 15, in <module>\n",
      "    joint_train_world_model_agent(\n",
      "    ~~~~~~~~~~~~~~~~~~~~~~~~~~~~~^\n",
      "        env_name=run_params.env_name,\n",
      "        ^^^^^^^^^^^^^^^^^^^^^^^^^^^^^\n",
      "    ...<26 lines>...\n",
      "        args=run_params,\n",
      "        ^^^^^^^^^^^^^^^^\n",
      "    )\n",
      "    ^\n"
     ]
    },
    {
     "name": "stdout",
     "output_type": "stream",
     "text": [
      "Training World Model...\n"
     ]
    },
    {
     "name": "stderr",
     "output_type": "stream",
     "text": [
      "  File \"/data/I6347325/work_space/STORM/train.py\", line 275, in joint_train_world_model_agent\n",
      "    wm_train_metrics = train_world_model(\n",
      "        replay_buffer=replay_buffer,\n",
      "    ...<4 lines>...\n",
      "        # logger=logger,\n",
      "    )\n",
      "  File \"/data/I6347325/work_space/STORM/train.py\", line 108, in train_world_model\n",
      "    metrics = world_model.update(\n",
      "        buffer_sample[\"obs\"],\n",
      "    ...<3 lines>...\n",
      "        logger=None,\n",
      "    )\n",
      "  File \"/data/I6347325/work_space/STORM/sub_models/world_models.py\", line 601, in update\n",
      "    reward_loss = self.symlog_twohot_loss_func(reward_hat, reward)\n",
      "  File \"/home/I6347325/miniconda3/envs/env_RL/lib/python3.13/site-packages/torch/nn/modules/module.py\", line 1739, in _wrapped_call_impl\n",
      "    return self._call_impl(*args, **kwargs)\n",
      "           ~~~~~~~~~~~~~~~^^^^^^^^^^^^^^^^^\n",
      "  File \"/home/I6347325/miniconda3/envs/env_RL/lib/python3.13/site-packages/torch/nn/modules/module.py\", line 1750, in _call_impl\n",
      "    return forward_call(*args, **kwargs)\n",
      "  File \"/data/I6347325/work_space/STORM/sub_models/functions_losses.py\", line 40, in forward\n",
      "    assert target.min() >= self.lower_bound and target.max() <= self.upper_bound\n",
      "                                                ~~~~~~~~~~^^\n",
      "KeyboardInterrupt\n"
     ]
    },
    {
     "ename": "BrokenPipeError",
     "evalue": "[Errno 32] Broken pipe",
     "output_type": "error",
     "traceback": [
      "\u001b[31m---------------------------------------------------------------------------\u001b[39m",
      "\u001b[31mKeyboardInterrupt\u001b[39m                         Traceback (most recent call last)",
      "\u001b[36mCell\u001b[39m\u001b[36m \u001b[39m\u001b[32mIn[7]\u001b[39m\u001b[32m, line 15\u001b[39m\n\u001b[32m     14\u001b[39m \u001b[38;5;66;03m# train\u001b[39;00m\n\u001b[32m---> \u001b[39m\u001b[32m15\u001b[39m \u001b[43mjoint_train_world_model_agent\u001b[49m\u001b[43m(\u001b[49m\n\u001b[32m     16\u001b[39m \u001b[43m    \u001b[49m\u001b[43menv_name\u001b[49m\u001b[43m=\u001b[49m\u001b[43mrun_params\u001b[49m\u001b[43m.\u001b[49m\u001b[43menv_name\u001b[49m\u001b[43m,\u001b[49m\n\u001b[32m     17\u001b[39m \u001b[43m    \u001b[49m\u001b[43mnum_envs\u001b[49m\u001b[43m=\u001b[49m\u001b[43mrun_params\u001b[49m\u001b[43m.\u001b[49m\u001b[43mconf\u001b[49m\u001b[43m.\u001b[49m\u001b[43mJointTrainAgent\u001b[49m\u001b[43m.\u001b[49m\u001b[43mNumEnvs\u001b[49m\u001b[43m,\u001b[49m\n\u001b[32m     18\u001b[39m \u001b[43m    \u001b[49m\u001b[43mmax_steps\u001b[49m\u001b[43m=\u001b[49m\u001b[43mrun_params\u001b[49m\u001b[43m.\u001b[49m\u001b[43mconf\u001b[49m\u001b[43m.\u001b[49m\u001b[43mJointTrainAgent\u001b[49m\u001b[43m.\u001b[49m\u001b[43mSampleMaxSteps\u001b[49m\u001b[43m,\u001b[49m\n\u001b[32m     19\u001b[39m \u001b[43m    \u001b[49m\u001b[43mimage_size\u001b[49m\u001b[43m=\u001b[49m\u001b[43mrun_params\u001b[49m\u001b[43m.\u001b[49m\u001b[43mconf\u001b[49m\u001b[43m.\u001b[49m\u001b[43mBasicSettings\u001b[49m\u001b[43m.\u001b[49m\u001b[43mImageSize\u001b[49m\u001b[43m,\u001b[49m\n\u001b[32m     20\u001b[39m \u001b[43m    \u001b[49m\u001b[43mreplay_buffer\u001b[49m\u001b[43m=\u001b[49m\u001b[43mreplay_buffer\u001b[49m\u001b[43m,\u001b[49m\n\u001b[32m     21\u001b[39m \u001b[43m    \u001b[49m\u001b[43mworld_model\u001b[49m\u001b[43m=\u001b[49m\u001b[43mworld_model\u001b[49m\u001b[43m,\u001b[49m\n\u001b[32m     22\u001b[39m \u001b[43m    \u001b[49m\u001b[43magent\u001b[49m\u001b[43m=\u001b[49m\u001b[43magent\u001b[49m\u001b[43m,\u001b[49m\n\u001b[32m     23\u001b[39m \u001b[43m    \u001b[49m\u001b[43mtrain_dynamics_every_steps\u001b[49m\u001b[43m=\u001b[49m\u001b[43mrun_params\u001b[49m\u001b[43m.\u001b[49m\u001b[43mconf\u001b[49m\u001b[43m.\u001b[49m\u001b[43mJointTrainAgent\u001b[49m\u001b[43m.\u001b[49m\u001b[43mTrainDynamicsEverySteps\u001b[49m\u001b[43m,\u001b[49m\n\u001b[32m     24\u001b[39m \u001b[43m    \u001b[49m\u001b[43mtrain_agent_every_steps\u001b[49m\u001b[43m=\u001b[49m\u001b[43mrun_params\u001b[49m\u001b[43m.\u001b[49m\u001b[43mconf\u001b[49m\u001b[43m.\u001b[49m\u001b[43mJointTrainAgent\u001b[49m\u001b[43m.\u001b[49m\u001b[43mTrainAgentEverySteps\u001b[49m\u001b[43m,\u001b[49m\n\u001b[32m     25\u001b[39m \u001b[43m    \u001b[49m\u001b[43mbatch_size\u001b[49m\u001b[43m=\u001b[49m\u001b[43mrun_params\u001b[49m\u001b[43m.\u001b[49m\u001b[43mconf\u001b[49m\u001b[43m.\u001b[49m\u001b[43mJointTrainAgent\u001b[49m\u001b[43m.\u001b[49m\u001b[43mBatchSize\u001b[49m\u001b[43m,\u001b[49m\n\u001b[32m     26\u001b[39m \u001b[43m    \u001b[49m\u001b[43mdemonstration_batch_size\u001b[49m\u001b[43m=\u001b[49m\u001b[43m(\u001b[49m\n\u001b[32m     27\u001b[39m \u001b[43m        \u001b[49m\u001b[43mrun_params\u001b[49m\u001b[43m.\u001b[49m\u001b[43mconf\u001b[49m\u001b[43m.\u001b[49m\u001b[43mJointTrainAgent\u001b[49m\u001b[43m.\u001b[49m\u001b[43mDemonstrationBatchSize\u001b[49m\n\u001b[32m     28\u001b[39m \u001b[43m        \u001b[49m\u001b[38;5;28;43;01mif\u001b[39;49;00m\u001b[43m \u001b[49m\u001b[43mrun_params\u001b[49m\u001b[43m.\u001b[49m\u001b[43mconf\u001b[49m\u001b[43m.\u001b[49m\u001b[43mJointTrainAgent\u001b[49m\u001b[43m.\u001b[49m\u001b[43mUseDemonstration\u001b[49m\n\u001b[32m     29\u001b[39m \u001b[43m        \u001b[49m\u001b[38;5;28;43;01melse\u001b[39;49;00m\u001b[43m \u001b[49m\u001b[32;43m0\u001b[39;49m\n\u001b[32m     30\u001b[39m \u001b[43m    \u001b[49m\u001b[43m)\u001b[49m\u001b[43m,\u001b[49m\n\u001b[32m     31\u001b[39m \u001b[43m    \u001b[49m\u001b[43mbatch_length\u001b[49m\u001b[43m=\u001b[49m\u001b[43mrun_params\u001b[49m\u001b[43m.\u001b[49m\u001b[43mconf\u001b[49m\u001b[43m.\u001b[49m\u001b[43mJointTrainAgent\u001b[49m\u001b[43m.\u001b[49m\u001b[43mBatchLength\u001b[49m\u001b[43m,\u001b[49m\n\u001b[32m     32\u001b[39m \u001b[43m    \u001b[49m\u001b[43mimagine_batch_size\u001b[49m\u001b[43m=\u001b[49m\u001b[43mrun_params\u001b[49m\u001b[43m.\u001b[49m\u001b[43mconf\u001b[49m\u001b[43m.\u001b[49m\u001b[43mJointTrainAgent\u001b[49m\u001b[43m.\u001b[49m\u001b[43mImagineBatchSize\u001b[49m\u001b[43m,\u001b[49m\n\u001b[32m     33\u001b[39m \u001b[43m    \u001b[49m\u001b[43mimagine_demonstration_batch_size\u001b[49m\u001b[43m=\u001b[49m\u001b[43m(\u001b[49m\n\u001b[32m     34\u001b[39m \u001b[43m        \u001b[49m\u001b[43mrun_params\u001b[49m\u001b[43m.\u001b[49m\u001b[43mconf\u001b[49m\u001b[43m.\u001b[49m\u001b[43mJointTrainAgent\u001b[49m\u001b[43m.\u001b[49m\u001b[43mImagineDemonstrationBatchSize\u001b[49m\n\u001b[32m     35\u001b[39m \u001b[43m        \u001b[49m\u001b[38;5;28;43;01mif\u001b[39;49;00m\u001b[43m \u001b[49m\u001b[43mrun_params\u001b[49m\u001b[43m.\u001b[49m\u001b[43mconf\u001b[49m\u001b[43m.\u001b[49m\u001b[43mJointTrainAgent\u001b[49m\u001b[43m.\u001b[49m\u001b[43mUseDemonstration\u001b[49m\n\u001b[32m     36\u001b[39m \u001b[43m        \u001b[49m\u001b[38;5;28;43;01melse\u001b[39;49;00m\u001b[43m \u001b[49m\u001b[32;43m0\u001b[39;49m\n\u001b[32m     37\u001b[39m \u001b[43m    \u001b[49m\u001b[43m)\u001b[49m\u001b[43m,\u001b[49m\n\u001b[32m     38\u001b[39m \u001b[43m    \u001b[49m\u001b[43mimagine_context_length\u001b[49m\u001b[43m=\u001b[49m\u001b[43mrun_params\u001b[49m\u001b[43m.\u001b[49m\u001b[43mconf\u001b[49m\u001b[43m.\u001b[49m\u001b[43mJointTrainAgent\u001b[49m\u001b[43m.\u001b[49m\u001b[43mImagineContextLength\u001b[49m\u001b[43m,\u001b[49m\n\u001b[32m     39\u001b[39m \u001b[43m    \u001b[49m\u001b[43mimagine_batch_length\u001b[49m\u001b[43m=\u001b[49m\u001b[43mrun_params\u001b[49m\u001b[43m.\u001b[49m\u001b[43mconf\u001b[49m\u001b[43m.\u001b[49m\u001b[43mJointTrainAgent\u001b[49m\u001b[43m.\u001b[49m\u001b[43mImagineBatchLength\u001b[49m\u001b[43m,\u001b[49m\n\u001b[32m     40\u001b[39m \u001b[43m    \u001b[49m\u001b[43msave_every_steps\u001b[49m\u001b[43m=\u001b[49m\u001b[43mrun_params\u001b[49m\u001b[43m.\u001b[49m\u001b[43mconf\u001b[49m\u001b[43m.\u001b[49m\u001b[43mJointTrainAgent\u001b[49m\u001b[43m.\u001b[49m\u001b[43mSaveEverySteps\u001b[49m\u001b[43m,\u001b[49m\n\u001b[32m     41\u001b[39m \u001b[43m    \u001b[49m\u001b[43mseed\u001b[49m\u001b[43m=\u001b[49m\u001b[43mrun_params\u001b[49m\u001b[43m.\u001b[49m\u001b[43mseed\u001b[49m\u001b[43m,\u001b[49m\n\u001b[32m     42\u001b[39m \u001b[43m    \u001b[49m\u001b[43mlogger\u001b[49m\u001b[43m=\u001b[49m\u001b[43mlogger\u001b[49m\u001b[43m,\u001b[49m\n\u001b[32m     43\u001b[39m \u001b[43m    \u001b[49m\u001b[43margs\u001b[49m\u001b[43m=\u001b[49m\u001b[43mrun_params\u001b[49m\u001b[43m,\u001b[49m\n\u001b[32m     44\u001b[39m \u001b[43m\u001b[49m\u001b[43m)\u001b[49m\n",
      "\u001b[36mFile \u001b[39m\u001b[32m/data/I6347325/work_space/STORM/train.py:275\u001b[39m, in \u001b[36mjoint_train_world_model_agent\u001b[39m\u001b[34m(env_name, max_steps, num_envs, image_size, replay_buffer, world_model, agent, train_dynamics_every_steps, train_agent_every_steps, batch_size, demonstration_batch_size, batch_length, imagine_batch_size, imagine_demonstration_batch_size, imagine_context_length, imagine_batch_length, save_every_steps, seed, logger, args)\u001b[39m\n\u001b[32m    274\u001b[39m \u001b[38;5;28mprint\u001b[39m(\u001b[33m\"\u001b[39m\u001b[33mTraining World Model...\u001b[39m\u001b[33m\"\u001b[39m)\n\u001b[32m--> \u001b[39m\u001b[32m275\u001b[39m wm_train_metrics = \u001b[43mtrain_world_model\u001b[49m\u001b[43m(\u001b[49m\n\u001b[32m    276\u001b[39m \u001b[43m    \u001b[49m\u001b[43mreplay_buffer\u001b[49m\u001b[43m=\u001b[49m\u001b[43mreplay_buffer\u001b[49m\u001b[43m,\u001b[49m\n\u001b[32m    277\u001b[39m \u001b[43m    \u001b[49m\u001b[43mworld_model\u001b[49m\u001b[43m=\u001b[49m\u001b[43mworld_model\u001b[49m\u001b[43m,\u001b[49m\n\u001b[32m    278\u001b[39m \u001b[43m    \u001b[49m\u001b[43mbatch_size\u001b[49m\u001b[43m=\u001b[49m\u001b[43mbatch_size\u001b[49m\u001b[43m,\u001b[49m\n\u001b[32m    279\u001b[39m \u001b[43m    \u001b[49m\u001b[43mdemonstration_batch_size\u001b[49m\u001b[43m=\u001b[49m\u001b[43mdemonstration_batch_size\u001b[49m\u001b[43m,\u001b[49m\n\u001b[32m    280\u001b[39m \u001b[43m    \u001b[49m\u001b[43mbatch_length\u001b[49m\u001b[43m=\u001b[49m\u001b[43mbatch_length\u001b[49m\u001b[43m,\u001b[49m\n\u001b[32m    281\u001b[39m \u001b[43m    \u001b[49m\u001b[38;5;66;43;03m# logger=logger,\u001b[39;49;00m\n\u001b[32m    282\u001b[39m \u001b[43m\u001b[49m\u001b[43m)\u001b[49m\n\u001b[32m    283\u001b[39m \u001b[38;5;66;03m# update metrics\u001b[39;00m\n",
      "\u001b[36mFile \u001b[39m\u001b[32m/data/I6347325/work_space/STORM/train.py:108\u001b[39m, in \u001b[36mtrain_world_model\u001b[39m\u001b[34m(replay_buffer, world_model, batch_size, demonstration_batch_size, batch_length, logger)\u001b[39m\n\u001b[32m    106\u001b[39m \u001b[38;5;66;03m# obs: [B, L, 3, 64, 64], action: [B, L], reward: [B, L], termination: [B, L]\u001b[39;00m\n\u001b[32m    107\u001b[39m \u001b[38;5;66;03m# Train world model with the sampled data\u001b[39;00m\n\u001b[32m--> \u001b[39m\u001b[32m108\u001b[39m metrics = \u001b[43mworld_model\u001b[49m\u001b[43m.\u001b[49m\u001b[43mupdate\u001b[49m\u001b[43m(\u001b[49m\n\u001b[32m    109\u001b[39m \u001b[43m    \u001b[49m\u001b[43mbuffer_sample\u001b[49m\u001b[43m[\u001b[49m\u001b[33;43m\"\u001b[39;49m\u001b[33;43mobs\u001b[39;49m\u001b[33;43m\"\u001b[39;49m\u001b[43m]\u001b[49m\u001b[43m,\u001b[49m\n\u001b[32m    110\u001b[39m \u001b[43m    \u001b[49m\u001b[43mbuffer_sample\u001b[49m\u001b[43m[\u001b[49m\u001b[33;43m\"\u001b[39;49m\u001b[33;43maction\u001b[39;49m\u001b[33;43m\"\u001b[39;49m\u001b[43m]\u001b[49m\u001b[43m,\u001b[49m\n\u001b[32m    111\u001b[39m \u001b[43m    \u001b[49m\u001b[43mbuffer_sample\u001b[49m\u001b[43m[\u001b[49m\u001b[33;43m\"\u001b[39;49m\u001b[33;43mreward\u001b[39;49m\u001b[33;43m\"\u001b[39;49m\u001b[43m]\u001b[49m\u001b[43m,\u001b[49m\n\u001b[32m    112\u001b[39m \u001b[43m    \u001b[49m\u001b[43mbuffer_sample\u001b[49m\u001b[43m[\u001b[49m\u001b[33;43m\"\u001b[39;49m\u001b[33;43mtermination\u001b[39;49m\u001b[33;43m\"\u001b[39;49m\u001b[43m]\u001b[49m\u001b[43m,\u001b[49m\n\u001b[32m    113\u001b[39m \u001b[43m    \u001b[49m\u001b[43mlogger\u001b[49m\u001b[43m=\u001b[49m\u001b[38;5;28;43;01mNone\u001b[39;49;00m\u001b[43m,\u001b[49m\n\u001b[32m    114\u001b[39m \u001b[43m\u001b[49m\u001b[43m)\u001b[49m\n\u001b[32m    115\u001b[39m \u001b[38;5;28;01mreturn\u001b[39;00m metrics\n",
      "\u001b[36mFile \u001b[39m\u001b[32m/data/I6347325/work_space/STORM/sub_models/world_models.py:601\u001b[39m, in \u001b[36mWorldModel.update\u001b[39m\u001b[34m(self, obs, action, reward, termination, logger)\u001b[39m\n\u001b[32m    600\u001b[39m reconstruction_loss = \u001b[38;5;28mself\u001b[39m.mse_loss_func(obs_hat, obs)\n\u001b[32m--> \u001b[39m\u001b[32m601\u001b[39m reward_loss = \u001b[38;5;28;43mself\u001b[39;49m\u001b[43m.\u001b[49m\u001b[43msymlog_twohot_loss_func\u001b[49m\u001b[43m(\u001b[49m\u001b[43mreward_hat\u001b[49m\u001b[43m,\u001b[49m\u001b[43m \u001b[49m\u001b[43mreward\u001b[49m\u001b[43m)\u001b[49m\n\u001b[32m    602\u001b[39m termination_loss = \u001b[38;5;28mself\u001b[39m.bce_with_logits_loss_func(\n\u001b[32m    603\u001b[39m     termination_hat, termination\n\u001b[32m    604\u001b[39m )\n",
      "\u001b[36mFile \u001b[39m\u001b[32m~/miniconda3/envs/env_RL/lib/python3.13/site-packages/torch/nn/modules/module.py:1739\u001b[39m, in \u001b[36mModule._wrapped_call_impl\u001b[39m\u001b[34m(self, *args, **kwargs)\u001b[39m\n\u001b[32m   1738\u001b[39m \u001b[38;5;28;01melse\u001b[39;00m:\n\u001b[32m-> \u001b[39m\u001b[32m1739\u001b[39m     \u001b[38;5;28;01mreturn\u001b[39;00m \u001b[38;5;28;43mself\u001b[39;49m\u001b[43m.\u001b[49m\u001b[43m_call_impl\u001b[49m\u001b[43m(\u001b[49m\u001b[43m*\u001b[49m\u001b[43margs\u001b[49m\u001b[43m,\u001b[49m\u001b[43m \u001b[49m\u001b[43m*\u001b[49m\u001b[43m*\u001b[49m\u001b[43mkwargs\u001b[49m\u001b[43m)\u001b[49m\n",
      "\u001b[36mFile \u001b[39m\u001b[32m~/miniconda3/envs/env_RL/lib/python3.13/site-packages/torch/nn/modules/module.py:1750\u001b[39m, in \u001b[36mModule._call_impl\u001b[39m\u001b[34m(self, *args, **kwargs)\u001b[39m\n\u001b[32m   1747\u001b[39m \u001b[38;5;28;01mif\u001b[39;00m \u001b[38;5;129;01mnot\u001b[39;00m (\u001b[38;5;28mself\u001b[39m._backward_hooks \u001b[38;5;129;01mor\u001b[39;00m \u001b[38;5;28mself\u001b[39m._backward_pre_hooks \u001b[38;5;129;01mor\u001b[39;00m \u001b[38;5;28mself\u001b[39m._forward_hooks \u001b[38;5;129;01mor\u001b[39;00m \u001b[38;5;28mself\u001b[39m._forward_pre_hooks\n\u001b[32m   1748\u001b[39m         \u001b[38;5;129;01mor\u001b[39;00m _global_backward_pre_hooks \u001b[38;5;129;01mor\u001b[39;00m _global_backward_hooks\n\u001b[32m   1749\u001b[39m         \u001b[38;5;129;01mor\u001b[39;00m _global_forward_hooks \u001b[38;5;129;01mor\u001b[39;00m _global_forward_pre_hooks):\n\u001b[32m-> \u001b[39m\u001b[32m1750\u001b[39m     \u001b[38;5;28;01mreturn\u001b[39;00m \u001b[43mforward_call\u001b[49m\u001b[43m(\u001b[49m\u001b[43m*\u001b[49m\u001b[43margs\u001b[49m\u001b[43m,\u001b[49m\u001b[43m \u001b[49m\u001b[43m*\u001b[49m\u001b[43m*\u001b[49m\u001b[43mkwargs\u001b[49m\u001b[43m)\u001b[49m\n\u001b[32m   1752\u001b[39m result = \u001b[38;5;28;01mNone\u001b[39;00m\n",
      "\u001b[36mFile \u001b[39m\u001b[32m/data/I6347325/work_space/STORM/sub_models/functions_losses.py:40\u001b[39m, in \u001b[36mSymLogTwoHotLoss.forward\u001b[39m\u001b[34m(self, output, target)\u001b[39m\n\u001b[32m     39\u001b[39m target = symlog(target)\n\u001b[32m---> \u001b[39m\u001b[32m40\u001b[39m \u001b[38;5;28;01massert\u001b[39;00m target.min() >= \u001b[38;5;28mself\u001b[39m.lower_bound \u001b[38;5;129;01mand\u001b[39;00m \u001b[43mtarget\u001b[49m\u001b[43m.\u001b[49m\u001b[43mmax\u001b[49m\u001b[43m(\u001b[49m\u001b[43m)\u001b[49m <= \u001b[38;5;28mself\u001b[39m.upper_bound\n\u001b[32m     42\u001b[39m index = torch.bucketize(target, \u001b[38;5;28mself\u001b[39m.bins)\n",
      "\u001b[31mKeyboardInterrupt\u001b[39m: ",
      "\nDuring handling of the above exception, another exception occurred:\n",
      "\u001b[31mBrokenPipeError\u001b[39m                           Traceback (most recent call last)",
      "\u001b[36mCell\u001b[39m\u001b[36m \u001b[39m\u001b[32mIn[7]\u001b[39m\u001b[32m, line 2\u001b[39m\n\u001b[32m      1\u001b[39m \u001b[38;5;66;03m# Initialize wandb\u001b[39;00m\n\u001b[32m----> \u001b[39m\u001b[32m2\u001b[39m \u001b[38;5;28;01mwith\u001b[39;00m wandb.init(\n\u001b[32m      3\u001b[39m     project=\u001b[33m\"\u001b[39m\u001b[33mDirector\u001b[39m\u001b[33m\"\u001b[39m,  \u001b[38;5;66;03m# Replace with your project name\u001b[39;00m\n\u001b[32m      4\u001b[39m     name=run_params.exp_name,   \u001b[38;5;66;03m# Use the experiment name from RunParam\u001b[39;00m\n\u001b[32m      5\u001b[39m     config = {\n\u001b[32m      6\u001b[39m         \u001b[33m\"\u001b[39m\u001b[33menv_name\u001b[39m\u001b[33m\"\u001b[39m: run_params.env_name,\n\u001b[32m      7\u001b[39m         \u001b[33m\"\u001b[39m\u001b[33mseed\u001b[39m\u001b[33m\"\u001b[39m: run_params.seed,\n\u001b[32m      8\u001b[39m     }\n\u001b[32m      9\u001b[39m ) \u001b[38;5;28;01mas\u001b[39;00m run:\n\u001b[32m     10\u001b[39m     \u001b[38;5;66;03m# Log the configuration to wandb\u001b[39;00m\n\u001b[32m     11\u001b[39m     run.config.update(run_params.conf)\n\u001b[32m     12\u001b[39m     run.log({\u001b[33m\"\u001b[39m\u001b[33mWM_params\u001b[39m\u001b[33m\"\u001b[39m: \u001b[33mf\u001b[39m\u001b[33m\"\u001b[39m\u001b[38;5;132;01m{\u001b[39;00mworld_model_params\u001b[38;5;132;01m:\u001b[39;00m\u001b[33m.2e\u001b[39m\u001b[38;5;132;01m}\u001b[39;00m\u001b[33m\"\u001b[39m, \u001b[33m\"\u001b[39m\u001b[33mAgent_params\u001b[39m\u001b[33m\"\u001b[39m: \u001b[33mf\u001b[39m\u001b[33m\"\u001b[39m\u001b[38;5;132;01m{\u001b[39;00magent_params\u001b[38;5;132;01m:\u001b[39;00m\u001b[33m.2e\u001b[39m\u001b[38;5;132;01m}\u001b[39;00m\u001b[33m\"\u001b[39m})\n",
      "\u001b[36mFile \u001b[39m\u001b[32m~/miniconda3/envs/env_RL/lib/python3.13/site-packages/wandb/sdk/wandb_run.py:3719\u001b[39m, in \u001b[36mRun.__exit__\u001b[39m\u001b[34m(self, exc_type, exc_val, exc_tb)\u001b[39m\n\u001b[32m   3717\u001b[39m     traceback.print_exception(exc_type, exc_val, exc_tb)\n\u001b[32m   3718\u001b[39m exit_code = \u001b[32m1\u001b[39m \u001b[38;5;28;01mif\u001b[39;00m exception_raised \u001b[38;5;28;01melse\u001b[39;00m \u001b[32m0\u001b[39m\n\u001b[32m-> \u001b[39m\u001b[32m3719\u001b[39m \u001b[38;5;28;43mself\u001b[39;49m\u001b[43m.\u001b[49m\u001b[43m_finish\u001b[49m\u001b[43m(\u001b[49m\u001b[43mexit_code\u001b[49m\u001b[43m=\u001b[49m\u001b[43mexit_code\u001b[49m\u001b[43m)\u001b[49m\n\u001b[32m   3720\u001b[39m \u001b[38;5;28;01mreturn\u001b[39;00m \u001b[38;5;129;01mnot\u001b[39;00m exception_raised\n",
      "\u001b[36mFile \u001b[39m\u001b[32m~/miniconda3/envs/env_RL/lib/python3.13/site-packages/wandb/sdk/wandb_run.py:387\u001b[39m, in \u001b[36m_log_to_run.<locals>.wrapper\u001b[39m\u001b[34m(self, *args, **kwargs)\u001b[39m\n\u001b[32m    384\u001b[39m     run_id = \u001b[38;5;28mself\u001b[39m._attach_id\n\u001b[32m    386\u001b[39m \u001b[38;5;28;01mwith\u001b[39;00m wb_logging.log_to_run(run_id):\n\u001b[32m--> \u001b[39m\u001b[32m387\u001b[39m     \u001b[38;5;28;01mreturn\u001b[39;00m \u001b[43mfunc\u001b[49m\u001b[43m(\u001b[49m\u001b[38;5;28;43mself\u001b[39;49m\u001b[43m,\u001b[49m\u001b[43m \u001b[49m\u001b[43m*\u001b[49m\u001b[43margs\u001b[49m\u001b[43m,\u001b[49m\u001b[43m \u001b[49m\u001b[43m*\u001b[49m\u001b[43m*\u001b[49m\u001b[43mkwargs\u001b[49m\u001b[43m)\u001b[49m\n",
      "\u001b[36mFile \u001b[39m\u001b[32m~/miniconda3/envs/env_RL/lib/python3.13/site-packages/wandb/sdk/wandb_run.py:2190\u001b[39m, in \u001b[36mRun._finish\u001b[39m\u001b[34m(self, exit_code)\u001b[39m\n\u001b[32m   2184\u001b[39m \u001b[38;5;129m@_log_to_run\u001b[39m\n\u001b[32m   2185\u001b[39m \u001b[38;5;28;01mdef\u001b[39;00m\u001b[38;5;250m \u001b[39m\u001b[34m_finish\u001b[39m(\n\u001b[32m   2186\u001b[39m     \u001b[38;5;28mself\u001b[39m,\n\u001b[32m   2187\u001b[39m     exit_code: \u001b[38;5;28mint\u001b[39m | \u001b[38;5;28;01mNone\u001b[39;00m = \u001b[38;5;28;01mNone\u001b[39;00m,\n\u001b[32m   2188\u001b[39m ) -> \u001b[38;5;28;01mNone\u001b[39;00m:\n\u001b[32m   2189\u001b[39m     logger.info(\u001b[33mf\u001b[39m\u001b[33m\"\u001b[39m\u001b[33mfinishing run \u001b[39m\u001b[38;5;132;01m{\u001b[39;00m\u001b[38;5;28mself\u001b[39m._get_path()\u001b[38;5;132;01m}\u001b[39;00m\u001b[33m\"\u001b[39m)\n\u001b[32m-> \u001b[39m\u001b[32m2190\u001b[39m     \u001b[38;5;28;01mwith\u001b[39;00m \u001b[43mtelemetry\u001b[49m\u001b[43m.\u001b[49m\u001b[43mcontext\u001b[49m\u001b[43m(\u001b[49m\u001b[43mrun\u001b[49m\u001b[43m=\u001b[49m\u001b[38;5;28;43mself\u001b[39;49m\u001b[43m)\u001b[49m \u001b[38;5;28;01mas\u001b[39;00m tel:\n\u001b[32m   2191\u001b[39m         tel.feature.finish = \u001b[38;5;28;01mTrue\u001b[39;00m\n\u001b[32m   2193\u001b[39m     \u001b[38;5;66;03m# Run hooks that need to happen before the last messages to the\u001b[39;00m\n\u001b[32m   2194\u001b[39m     \u001b[38;5;66;03m# internal service, like Jupyter hooks.\u001b[39;00m\n",
      "\u001b[36mFile \u001b[39m\u001b[32m~/miniconda3/envs/env_RL/lib/python3.13/site-packages/wandb/sdk/lib/telemetry.py:42\u001b[39m, in \u001b[36m_TelemetryObject.__exit__\u001b[39m\u001b[34m(self, exctype, excinst, exctb)\u001b[39m\n\u001b[32m     40\u001b[39m \u001b[38;5;28;01mif\u001b[39;00m \u001b[38;5;129;01mnot\u001b[39;00m \u001b[38;5;28mself\u001b[39m._run:\n\u001b[32m     41\u001b[39m     \u001b[38;5;28;01mreturn\u001b[39;00m\n\u001b[32m---> \u001b[39m\u001b[32m42\u001b[39m \u001b[38;5;28;43mself\u001b[39;49m\u001b[43m.\u001b[49m\u001b[43m_run\u001b[49m\u001b[43m.\u001b[49m\u001b[43m_telemetry_callback\u001b[49m\u001b[43m(\u001b[49m\u001b[38;5;28;43mself\u001b[39;49m\u001b[43m.\u001b[49m\u001b[43m_obj\u001b[49m\u001b[43m)\u001b[49m\n",
      "\u001b[36mFile \u001b[39m\u001b[32m~/miniconda3/envs/env_RL/lib/python3.13/site-packages/wandb/sdk/wandb_run.py:783\u001b[39m, in \u001b[36mRun._telemetry_callback\u001b[39m\u001b[34m(self, telem_obj)\u001b[39m\n\u001b[32m    781\u001b[39m \u001b[38;5;28mself\u001b[39m._telemetry_obj.MergeFrom(telem_obj)\n\u001b[32m    782\u001b[39m \u001b[38;5;28mself\u001b[39m._telemetry_obj_dirty = \u001b[38;5;28;01mTrue\u001b[39;00m\n\u001b[32m--> \u001b[39m\u001b[32m783\u001b[39m \u001b[38;5;28;43mself\u001b[39;49m\u001b[43m.\u001b[49m\u001b[43m_telemetry_flush\u001b[49m\u001b[43m(\u001b[49m\u001b[43m)\u001b[49m\n",
      "\u001b[36mFile \u001b[39m\u001b[32m~/miniconda3/envs/env_RL/lib/python3.13/site-packages/wandb/sdk/wandb_run.py:796\u001b[39m, in \u001b[36mRun._telemetry_flush\u001b[39m\u001b[34m(self)\u001b[39m\n\u001b[32m    794\u001b[39m \u001b[38;5;28;01mif\u001b[39;00m serialized == \u001b[38;5;28mself\u001b[39m._telemetry_obj_flushed:\n\u001b[32m    795\u001b[39m     \u001b[38;5;28;01mreturn\u001b[39;00m\n\u001b[32m--> \u001b[39m\u001b[32m796\u001b[39m \u001b[38;5;28;43mself\u001b[39;49m\u001b[43m.\u001b[49m\u001b[43m_backend\u001b[49m\u001b[43m.\u001b[49m\u001b[43minterface\u001b[49m\u001b[43m.\u001b[49m\u001b[43m_publish_telemetry\u001b[49m\u001b[43m(\u001b[49m\u001b[38;5;28;43mself\u001b[39;49m\u001b[43m.\u001b[49m\u001b[43m_telemetry_obj\u001b[49m\u001b[43m)\u001b[49m\n\u001b[32m    797\u001b[39m \u001b[38;5;28mself\u001b[39m._telemetry_obj_flushed = serialized\n\u001b[32m    798\u001b[39m \u001b[38;5;28mself\u001b[39m._telemetry_obj_dirty = \u001b[38;5;28;01mFalse\u001b[39;00m\n",
      "\u001b[36mFile \u001b[39m\u001b[32m~/miniconda3/envs/env_RL/lib/python3.13/site-packages/wandb/sdk/interface/interface_shared.py:60\u001b[39m, in \u001b[36mInterfaceShared._publish_telemetry\u001b[39m\u001b[34m(self, telem)\u001b[39m\n\u001b[32m     58\u001b[39m \u001b[38;5;28;01mdef\u001b[39;00m\u001b[38;5;250m \u001b[39m\u001b[34m_publish_telemetry\u001b[39m(\u001b[38;5;28mself\u001b[39m, telem: tpb.TelemetryRecord) -> \u001b[38;5;28;01mNone\u001b[39;00m:\n\u001b[32m     59\u001b[39m     rec = \u001b[38;5;28mself\u001b[39m._make_record(telemetry=telem)\n\u001b[32m---> \u001b[39m\u001b[32m60\u001b[39m     \u001b[38;5;28;43mself\u001b[39;49m\u001b[43m.\u001b[49m\u001b[43m_publish\u001b[49m\u001b[43m(\u001b[49m\u001b[43mrec\u001b[49m\u001b[43m)\u001b[49m\n",
      "\u001b[36mFile \u001b[39m\u001b[32m~/miniconda3/envs/env_RL/lib/python3.13/site-packages/wandb/sdk/interface/interface_sock.py:39\u001b[39m, in \u001b[36mInterfaceSock._publish\u001b[39m\u001b[34m(self, record, local)\u001b[39m\n\u001b[32m     37\u001b[39m \u001b[38;5;28;01mdef\u001b[39;00m\u001b[38;5;250m \u001b[39m\u001b[34m_publish\u001b[39m(\u001b[38;5;28mself\u001b[39m, record: \u001b[33m\"\u001b[39m\u001b[33mpb.Record\u001b[39m\u001b[33m\"\u001b[39m, local: Optional[\u001b[38;5;28mbool\u001b[39m] = \u001b[38;5;28;01mNone\u001b[39;00m) -> \u001b[38;5;28;01mNone\u001b[39;00m:\n\u001b[32m     38\u001b[39m     \u001b[38;5;28mself\u001b[39m._assign(record)\n\u001b[32m---> \u001b[39m\u001b[32m39\u001b[39m     \u001b[38;5;28;43mself\u001b[39;49m\u001b[43m.\u001b[49m\u001b[43m_sock_client\u001b[49m\u001b[43m.\u001b[49m\u001b[43msend_record_publish\u001b[49m\u001b[43m(\u001b[49m\u001b[43mrecord\u001b[49m\u001b[43m)\u001b[49m\n",
      "\u001b[36mFile \u001b[39m\u001b[32m~/miniconda3/envs/env_RL/lib/python3.13/site-packages/wandb/sdk/lib/sock_client.py:174\u001b[39m, in \u001b[36mSockClient.send_record_publish\u001b[39m\u001b[34m(self, record)\u001b[39m\n\u001b[32m    172\u001b[39m server_req.request_id = record.control.mailbox_slot\n\u001b[32m    173\u001b[39m server_req.record_publish.CopyFrom(record)\n\u001b[32m--> \u001b[39m\u001b[32m174\u001b[39m \u001b[38;5;28;43mself\u001b[39;49m\u001b[43m.\u001b[49m\u001b[43msend_server_request\u001b[49m\u001b[43m(\u001b[49m\u001b[43mserver_req\u001b[49m\u001b[43m)\u001b[49m\n",
      "\u001b[36mFile \u001b[39m\u001b[32m~/miniconda3/envs/env_RL/lib/python3.13/site-packages/wandb/sdk/lib/sock_client.py:154\u001b[39m, in \u001b[36mSockClient.send_server_request\u001b[39m\u001b[34m(self, msg)\u001b[39m\n\u001b[32m    153\u001b[39m \u001b[38;5;28;01mdef\u001b[39;00m\u001b[38;5;250m \u001b[39m\u001b[34msend_server_request\u001b[39m(\u001b[38;5;28mself\u001b[39m, msg: spb.ServerRequest) -> \u001b[38;5;28;01mNone\u001b[39;00m:\n\u001b[32m--> \u001b[39m\u001b[32m154\u001b[39m     \u001b[38;5;28;43mself\u001b[39;49m\u001b[43m.\u001b[49m\u001b[43m_send_message\u001b[49m\u001b[43m(\u001b[49m\u001b[43mmsg\u001b[49m\u001b[43m)\u001b[49m\n",
      "\u001b[36mFile \u001b[39m\u001b[32m~/miniconda3/envs/env_RL/lib/python3.13/site-packages/wandb/sdk/lib/sock_client.py:151\u001b[39m, in \u001b[36mSockClient._send_message\u001b[39m\u001b[34m(self, msg)\u001b[39m\n\u001b[32m    149\u001b[39m header = struct.pack(\u001b[33m\"\u001b[39m\u001b[33m<BI\u001b[39m\u001b[33m\"\u001b[39m, \u001b[38;5;28mord\u001b[39m(\u001b[33m\"\u001b[39m\u001b[33mW\u001b[39m\u001b[33m\"\u001b[39m), raw_size)\n\u001b[32m    150\u001b[39m \u001b[38;5;28;01mwith\u001b[39;00m \u001b[38;5;28mself\u001b[39m._lock:\n\u001b[32m--> \u001b[39m\u001b[32m151\u001b[39m     \u001b[38;5;28;43mself\u001b[39;49m\u001b[43m.\u001b[49m\u001b[43m_sendall_with_error_handle\u001b[49m\u001b[43m(\u001b[49m\u001b[43mheader\u001b[49m\u001b[43m \u001b[49m\u001b[43m+\u001b[49m\u001b[43m \u001b[49m\u001b[43mdata\u001b[49m\u001b[43m)\u001b[49m\n",
      "\u001b[36mFile \u001b[39m\u001b[32m~/miniconda3/envs/env_RL/lib/python3.13/site-packages/wandb/sdk/lib/sock_client.py:130\u001b[39m, in \u001b[36mSockClient._sendall_with_error_handle\u001b[39m\u001b[34m(self, data)\u001b[39m\n\u001b[32m    128\u001b[39m start_time = time.monotonic()\n\u001b[32m    129\u001b[39m \u001b[38;5;28;01mtry\u001b[39;00m:\n\u001b[32m--> \u001b[39m\u001b[32m130\u001b[39m     sent = \u001b[38;5;28;43mself\u001b[39;49m\u001b[43m.\u001b[49m\u001b[43m_sock\u001b[49m\u001b[43m.\u001b[49m\u001b[43msend\u001b[49m\u001b[43m(\u001b[49m\u001b[43mdata\u001b[49m\u001b[43m)\u001b[49m\n\u001b[32m    131\u001b[39m     \u001b[38;5;66;03m# sent equal to 0 indicates a closed socket\u001b[39;00m\n\u001b[32m    132\u001b[39m     \u001b[38;5;28;01mif\u001b[39;00m sent == \u001b[32m0\u001b[39m:\n",
      "\u001b[31mBrokenPipeError\u001b[39m: [Errno 32] Broken pipe"
     ]
    },
    {
     "name": "stdout",
     "output_type": "stream",
     "text": [
      "Error in callback <bound method _WandbInit._pause_backend of <wandb.sdk.wandb_init._WandbInit object at 0x7f36b18234d0>> (for post_run_cell), with arguments args (<ExecutionResult object at 7f36b1869b50, execution_count=7 error_before_exec=None error_in_exec=[Errno 32] Broken pipe info=<ExecutionInfo object at 7f36b1869a50, raw_cell=\"# Initialize wandb\n",
      "with wandb.init(\n",
      "    project=\"D..\" store_history=True silent=False shell_futures=True cell_id=vscode-notebook-cell://ssh-remote%2Blabs03.dke.unimaas.nl/data/I6347325/work_space/STORM/run_exp.ipynb#W6sdnNjb2RlLXJlbW90ZQ%3D%3D> result=None>,),kwargs {}:\n"
     ]
    },
    {
     "ename": "BrokenPipeError",
     "evalue": "[Errno 32] Broken pipe",
     "output_type": "error",
     "traceback": [
      "\u001b[31m---------------------------------------------------------------------------\u001b[39m",
      "\u001b[31mBrokenPipeError\u001b[39m                           Traceback (most recent call last)",
      "\u001b[36mFile \u001b[39m\u001b[32m~/miniconda3/envs/env_RL/lib/python3.13/site-packages/wandb/sdk/wandb_init.py:547\u001b[39m, in \u001b[36m_WandbInit._pause_backend\u001b[39m\u001b[34m(self, *args, **kwargs)\u001b[39m\n\u001b[32m    545\u001b[39m \u001b[38;5;28;01mif\u001b[39;00m \u001b[38;5;28mself\u001b[39m.backend.interface \u001b[38;5;129;01mis\u001b[39;00m \u001b[38;5;129;01mnot\u001b[39;00m \u001b[38;5;28;01mNone\u001b[39;00m:\n\u001b[32m    546\u001b[39m     \u001b[38;5;28mself\u001b[39m._logger.info(\u001b[33m\"\u001b[39m\u001b[33mpausing backend\u001b[39m\u001b[33m\"\u001b[39m)  \u001b[38;5;66;03m# type: ignore\u001b[39;00m\n\u001b[32m--> \u001b[39m\u001b[32m547\u001b[39m     \u001b[38;5;28;43mself\u001b[39;49m\u001b[43m.\u001b[49m\u001b[43mbackend\u001b[49m\u001b[43m.\u001b[49m\u001b[43minterface\u001b[49m\u001b[43m.\u001b[49m\u001b[43mpublish_pause\u001b[49m\u001b[43m(\u001b[49m\u001b[43m)\u001b[49m\n",
      "\u001b[36mFile \u001b[39m\u001b[32m~/miniconda3/envs/env_RL/lib/python3.13/site-packages/wandb/sdk/interface/interface.py:769\u001b[39m, in \u001b[36mInterfaceBase.publish_pause\u001b[39m\u001b[34m(self)\u001b[39m\n\u001b[32m    767\u001b[39m \u001b[38;5;28;01mdef\u001b[39;00m\u001b[38;5;250m \u001b[39m\u001b[34mpublish_pause\u001b[39m(\u001b[38;5;28mself\u001b[39m) -> \u001b[38;5;28;01mNone\u001b[39;00m:\n\u001b[32m    768\u001b[39m     pause = pb.PauseRequest()\n\u001b[32m--> \u001b[39m\u001b[32m769\u001b[39m     \u001b[38;5;28;43mself\u001b[39;49m\u001b[43m.\u001b[49m\u001b[43m_publish_pause\u001b[49m\u001b[43m(\u001b[49m\u001b[43mpause\u001b[49m\u001b[43m)\u001b[49m\n",
      "\u001b[36mFile \u001b[39m\u001b[32m~/miniconda3/envs/env_RL/lib/python3.13/site-packages/wandb/sdk/interface/interface_shared.py:289\u001b[39m, in \u001b[36mInterfaceShared._publish_pause\u001b[39m\u001b[34m(self, pause)\u001b[39m\n\u001b[32m    287\u001b[39m \u001b[38;5;28;01mdef\u001b[39;00m\u001b[38;5;250m \u001b[39m\u001b[34m_publish_pause\u001b[39m(\u001b[38;5;28mself\u001b[39m, pause: pb.PauseRequest) -> \u001b[38;5;28;01mNone\u001b[39;00m:\n\u001b[32m    288\u001b[39m     rec = \u001b[38;5;28mself\u001b[39m._make_request(pause=pause)\n\u001b[32m--> \u001b[39m\u001b[32m289\u001b[39m     \u001b[38;5;28;43mself\u001b[39;49m\u001b[43m.\u001b[49m\u001b[43m_publish\u001b[49m\u001b[43m(\u001b[49m\u001b[43mrec\u001b[49m\u001b[43m)\u001b[49m\n",
      "\u001b[36mFile \u001b[39m\u001b[32m~/miniconda3/envs/env_RL/lib/python3.13/site-packages/wandb/sdk/interface/interface_sock.py:39\u001b[39m, in \u001b[36mInterfaceSock._publish\u001b[39m\u001b[34m(self, record, local)\u001b[39m\n\u001b[32m     37\u001b[39m \u001b[38;5;28;01mdef\u001b[39;00m\u001b[38;5;250m \u001b[39m\u001b[34m_publish\u001b[39m(\u001b[38;5;28mself\u001b[39m, record: \u001b[33m\"\u001b[39m\u001b[33mpb.Record\u001b[39m\u001b[33m\"\u001b[39m, local: Optional[\u001b[38;5;28mbool\u001b[39m] = \u001b[38;5;28;01mNone\u001b[39;00m) -> \u001b[38;5;28;01mNone\u001b[39;00m:\n\u001b[32m     38\u001b[39m     \u001b[38;5;28mself\u001b[39m._assign(record)\n\u001b[32m---> \u001b[39m\u001b[32m39\u001b[39m     \u001b[38;5;28;43mself\u001b[39;49m\u001b[43m.\u001b[49m\u001b[43m_sock_client\u001b[49m\u001b[43m.\u001b[49m\u001b[43msend_record_publish\u001b[49m\u001b[43m(\u001b[49m\u001b[43mrecord\u001b[49m\u001b[43m)\u001b[49m\n",
      "\u001b[36mFile \u001b[39m\u001b[32m~/miniconda3/envs/env_RL/lib/python3.13/site-packages/wandb/sdk/lib/sock_client.py:174\u001b[39m, in \u001b[36mSockClient.send_record_publish\u001b[39m\u001b[34m(self, record)\u001b[39m\n\u001b[32m    172\u001b[39m server_req.request_id = record.control.mailbox_slot\n\u001b[32m    173\u001b[39m server_req.record_publish.CopyFrom(record)\n\u001b[32m--> \u001b[39m\u001b[32m174\u001b[39m \u001b[38;5;28;43mself\u001b[39;49m\u001b[43m.\u001b[49m\u001b[43msend_server_request\u001b[49m\u001b[43m(\u001b[49m\u001b[43mserver_req\u001b[49m\u001b[43m)\u001b[49m\n",
      "\u001b[36mFile \u001b[39m\u001b[32m~/miniconda3/envs/env_RL/lib/python3.13/site-packages/wandb/sdk/lib/sock_client.py:154\u001b[39m, in \u001b[36mSockClient.send_server_request\u001b[39m\u001b[34m(self, msg)\u001b[39m\n\u001b[32m    153\u001b[39m \u001b[38;5;28;01mdef\u001b[39;00m\u001b[38;5;250m \u001b[39m\u001b[34msend_server_request\u001b[39m(\u001b[38;5;28mself\u001b[39m, msg: spb.ServerRequest) -> \u001b[38;5;28;01mNone\u001b[39;00m:\n\u001b[32m--> \u001b[39m\u001b[32m154\u001b[39m     \u001b[38;5;28;43mself\u001b[39;49m\u001b[43m.\u001b[49m\u001b[43m_send_message\u001b[49m\u001b[43m(\u001b[49m\u001b[43mmsg\u001b[49m\u001b[43m)\u001b[49m\n",
      "\u001b[36mFile \u001b[39m\u001b[32m~/miniconda3/envs/env_RL/lib/python3.13/site-packages/wandb/sdk/lib/sock_client.py:151\u001b[39m, in \u001b[36mSockClient._send_message\u001b[39m\u001b[34m(self, msg)\u001b[39m\n\u001b[32m    149\u001b[39m header = struct.pack(\u001b[33m\"\u001b[39m\u001b[33m<BI\u001b[39m\u001b[33m\"\u001b[39m, \u001b[38;5;28mord\u001b[39m(\u001b[33m\"\u001b[39m\u001b[33mW\u001b[39m\u001b[33m\"\u001b[39m), raw_size)\n\u001b[32m    150\u001b[39m \u001b[38;5;28;01mwith\u001b[39;00m \u001b[38;5;28mself\u001b[39m._lock:\n\u001b[32m--> \u001b[39m\u001b[32m151\u001b[39m     \u001b[38;5;28;43mself\u001b[39;49m\u001b[43m.\u001b[49m\u001b[43m_sendall_with_error_handle\u001b[49m\u001b[43m(\u001b[49m\u001b[43mheader\u001b[49m\u001b[43m \u001b[49m\u001b[43m+\u001b[49m\u001b[43m \u001b[49m\u001b[43mdata\u001b[49m\u001b[43m)\u001b[49m\n",
      "\u001b[36mFile \u001b[39m\u001b[32m~/miniconda3/envs/env_RL/lib/python3.13/site-packages/wandb/sdk/lib/sock_client.py:130\u001b[39m, in \u001b[36mSockClient._sendall_with_error_handle\u001b[39m\u001b[34m(self, data)\u001b[39m\n\u001b[32m    128\u001b[39m start_time = time.monotonic()\n\u001b[32m    129\u001b[39m \u001b[38;5;28;01mtry\u001b[39;00m:\n\u001b[32m--> \u001b[39m\u001b[32m130\u001b[39m     sent = \u001b[38;5;28;43mself\u001b[39;49m\u001b[43m.\u001b[49m\u001b[43m_sock\u001b[49m\u001b[43m.\u001b[49m\u001b[43msend\u001b[49m\u001b[43m(\u001b[49m\u001b[43mdata\u001b[49m\u001b[43m)\u001b[49m\n\u001b[32m    131\u001b[39m     \u001b[38;5;66;03m# sent equal to 0 indicates a closed socket\u001b[39;00m\n\u001b[32m    132\u001b[39m     \u001b[38;5;28;01mif\u001b[39;00m sent == \u001b[32m0\u001b[39m:\n",
      "\u001b[31mBrokenPipeError\u001b[39m: [Errno 32] Broken pipe"
     ]
    }
   ],
   "source": [
    "# Initialize wandb\n",
    "with wandb.init(\n",
    "    project=\"Director\",  # Replace with your project name\n",
    "    name=run_params.exp_name,   # Use the experiment name from RunParam\n",
    "    config = {\n",
    "        \"env_name\": run_params.env_name,\n",
    "        \"seed\": run_params.seed,\n",
    "    }\n",
    ") as run:\n",
    "    # Log the configuration to wandb\n",
    "    run.config.update(run_params.conf)\n",
    "    run.log({\"WM_params\": f\"{world_model_params:.2e}\", \"Agent_params\": f\"{agent_params:.2e}\"})\n",
    "    logger = WandbLogger(run)\n",
    "    # train\n",
    "    joint_train_world_model_agent(\n",
    "        env_name=run_params.env_name,\n",
    "        num_envs=run_params.conf.JointTrainAgent.NumEnvs,\n",
    "        max_steps=run_params.conf.JointTrainAgent.SampleMaxSteps,\n",
    "        image_size=run_params.conf.BasicSettings.ImageSize,\n",
    "        replay_buffer=replay_buffer,\n",
    "        world_model=world_model,\n",
    "        agent=agent,\n",
    "        train_dynamics_every_steps=run_params.conf.JointTrainAgent.TrainDynamicsEverySteps,\n",
    "        train_agent_every_steps=run_params.conf.JointTrainAgent.TrainAgentEverySteps,\n",
    "        batch_size=run_params.conf.JointTrainAgent.BatchSize,\n",
    "        demonstration_batch_size=(\n",
    "            run_params.conf.JointTrainAgent.DemonstrationBatchSize\n",
    "            if run_params.conf.JointTrainAgent.UseDemonstration\n",
    "            else 0\n",
    "        ),\n",
    "        batch_length=run_params.conf.JointTrainAgent.BatchLength,\n",
    "        imagine_batch_size=run_params.conf.JointTrainAgent.ImagineBatchSize,\n",
    "        imagine_demonstration_batch_size=(\n",
    "            run_params.conf.JointTrainAgent.ImagineDemonstrationBatchSize\n",
    "            if run_params.conf.JointTrainAgent.UseDemonstration\n",
    "            else 0\n",
    "        ),\n",
    "        imagine_context_length=run_params.conf.JointTrainAgent.ImagineContextLength,\n",
    "        imagine_batch_length=run_params.conf.JointTrainAgent.ImagineBatchLength,\n",
    "        save_every_steps=run_params.conf.JointTrainAgent.SaveEverySteps,\n",
    "        seed=run_params.seed,\n",
    "        logger=logger,\n",
    "        args=run_params,\n",
    "    )\n",
    "\n"
   ]
  },
  {
   "cell_type": "code",
   "execution_count": null,
   "metadata": {},
   "outputs": [],
   "source": []
  },
  {
   "cell_type": "code",
   "execution_count": null,
   "metadata": {},
   "outputs": [],
   "source": []
  }
 ],
 "metadata": {
  "kernelspec": {
   "display_name": "env_RL",
   "language": "python",
   "name": "python3"
  },
  "language_info": {
   "codemirror_mode": {
    "name": "ipython",
    "version": 3
   },
   "file_extension": ".py",
   "mimetype": "text/x-python",
   "name": "python",
   "nbconvert_exporter": "python",
   "pygments_lexer": "ipython3",
   "version": "3.13.2"
  }
 },
 "nbformat": 4,
 "nbformat_minor": 2
}
